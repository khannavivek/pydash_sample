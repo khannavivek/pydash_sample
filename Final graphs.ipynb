{
 "cells": [
  {
   "cell_type": "code",
   "execution_count": 1,
   "metadata": {},
   "outputs": [
    {
     "name": "stdout",
     "output_type": "stream",
     "text": [
      "Requirement already satisfied: plotly in /home/datascience/bin/Miniconda3/envs/datascience/lib/python3.6/site-packages (3.10.0)\n",
      "Requirement already satisfied: six in /home/datascience/bin/Miniconda3/envs/datascience/lib/python3.6/site-packages (from plotly) (1.14.0)\n",
      "Requirement already satisfied: decorator>=4.0.6 in /home/datascience/bin/Miniconda3/envs/datascience/lib/python3.6/site-packages (from plotly) (4.4.1)\n",
      "Requirement already satisfied: requests in /home/datascience/bin/Miniconda3/envs/datascience/lib/python3.6/site-packages (from plotly) (2.22.0)\n",
      "Requirement already satisfied: retrying>=1.3.3 in /home/datascience/bin/Miniconda3/envs/datascience/lib/python3.6/site-packages (from plotly) (1.3.3)\n",
      "Requirement already satisfied: pytz in /home/datascience/bin/Miniconda3/envs/datascience/lib/python3.6/site-packages (from plotly) (2019.3)\n",
      "Requirement already satisfied: nbformat>=4.2 in /home/datascience/bin/Miniconda3/envs/datascience/lib/python3.6/site-packages (from plotly) (5.0.4)\n",
      "Requirement already satisfied: urllib3!=1.25.0,!=1.25.1,<1.26,>=1.21.1 in /home/datascience/bin/Miniconda3/envs/datascience/lib/python3.6/site-packages (from requests->plotly) (1.25.7)\n",
      "Requirement already satisfied: idna<2.9,>=2.5 in /home/datascience/bin/Miniconda3/envs/datascience/lib/python3.6/site-packages (from requests->plotly) (2.8)\n",
      "Requirement already satisfied: chardet<3.1.0,>=3.0.2 in /home/datascience/bin/Miniconda3/envs/datascience/lib/python3.6/site-packages (from requests->plotly) (3.0.4)\n",
      "Requirement already satisfied: certifi>=2017.4.17 in /home/datascience/bin/Miniconda3/envs/datascience/lib/python3.6/site-packages (from requests->plotly) (2019.11.28)\n",
      "Requirement already satisfied: ipython-genutils in /home/datascience/bin/Miniconda3/envs/datascience/lib/python3.6/site-packages (from nbformat>=4.2->plotly) (0.2.0)\n",
      "Requirement already satisfied: jupyter-core in /home/datascience/bin/Miniconda3/envs/datascience/lib/python3.6/site-packages (from nbformat>=4.2->plotly) (4.6.2)\n",
      "Requirement already satisfied: traitlets>=4.1 in /home/datascience/bin/Miniconda3/envs/datascience/lib/python3.6/site-packages (from nbformat>=4.2->plotly) (4.3.3)\n",
      "Requirement already satisfied: jsonschema!=2.5.0,>=2.4 in /home/datascience/bin/Miniconda3/envs/datascience/lib/python3.6/site-packages (from nbformat>=4.2->plotly) (3.2.0)\n",
      "Requirement already satisfied: importlib-metadata; python_version < \"3.8\" in /home/datascience/bin/Miniconda3/envs/datascience/lib/python3.6/site-packages (from jsonschema!=2.5.0,>=2.4->nbformat>=4.2->plotly) (1.5.0)\n",
      "Requirement already satisfied: pyrsistent>=0.14.0 in /home/datascience/bin/Miniconda3/envs/datascience/lib/python3.6/site-packages (from jsonschema!=2.5.0,>=2.4->nbformat>=4.2->plotly) (0.15.7)\n",
      "Requirement already satisfied: attrs>=17.4.0 in /home/datascience/bin/Miniconda3/envs/datascience/lib/python3.6/site-packages (from jsonschema!=2.5.0,>=2.4->nbformat>=4.2->plotly) (19.3.0)\n",
      "Requirement already satisfied: setuptools in /home/datascience/bin/Miniconda3/envs/datascience/lib/python3.6/site-packages (from jsonschema!=2.5.0,>=2.4->nbformat>=4.2->plotly) (45.2.0.post20200209)\n",
      "Requirement already satisfied: zipp>=0.5 in /home/datascience/bin/Miniconda3/envs/datascience/lib/python3.6/site-packages (from importlib-metadata; python_version < \"3.8\"->jsonschema!=2.5.0,>=2.4->nbformat>=4.2->plotly) (2.2.0)\n",
      "Requirement already satisfied: dash in /home/datascience/bin/Miniconda3/envs/datascience/lib/python3.6/site-packages (1.9.0)\n",
      "Requirement already satisfied: dash-renderer==1.2.4 in /home/datascience/bin/Miniconda3/envs/datascience/lib/python3.6/site-packages (from dash) (1.2.4)\n",
      "Requirement already satisfied: plotly in /home/datascience/bin/Miniconda3/envs/datascience/lib/python3.6/site-packages (from dash) (3.10.0)\n",
      "Requirement already satisfied: future in /home/datascience/bin/Miniconda3/envs/datascience/lib/python3.6/site-packages (from dash) (0.18.2)\n",
      "Requirement already satisfied: Flask>=1.0.2 in /home/datascience/bin/Miniconda3/envs/datascience/lib/python3.6/site-packages (from dash) (1.1.1)\n",
      "Requirement already satisfied: dash-core-components==1.8.0 in /home/datascience/bin/Miniconda3/envs/datascience/lib/python3.6/site-packages (from dash) (1.8.0)\n",
      "Requirement already satisfied: flask-compress in /home/datascience/bin/Miniconda3/envs/datascience/lib/python3.6/site-packages (from dash) (1.4.0)\n",
      "Requirement already satisfied: dash-table==4.6.0 in /home/datascience/bin/Miniconda3/envs/datascience/lib/python3.6/site-packages (from dash) (4.6.0)\n",
      "Requirement already satisfied: dash-html-components==1.0.2 in /home/datascience/bin/Miniconda3/envs/datascience/lib/python3.6/site-packages (from dash) (1.0.2)\n",
      "Requirement already satisfied: six in /home/datascience/bin/Miniconda3/envs/datascience/lib/python3.6/site-packages (from plotly->dash) (1.14.0)\n",
      "Requirement already satisfied: decorator>=4.0.6 in /home/datascience/bin/Miniconda3/envs/datascience/lib/python3.6/site-packages (from plotly->dash) (4.4.1)\n",
      "Requirement already satisfied: requests in /home/datascience/bin/Miniconda3/envs/datascience/lib/python3.6/site-packages (from plotly->dash) (2.22.0)\n",
      "Requirement already satisfied: retrying>=1.3.3 in /home/datascience/bin/Miniconda3/envs/datascience/lib/python3.6/site-packages (from plotly->dash) (1.3.3)\n",
      "Requirement already satisfied: pytz in /home/datascience/bin/Miniconda3/envs/datascience/lib/python3.6/site-packages (from plotly->dash) (2019.3)\n",
      "Requirement already satisfied: nbformat>=4.2 in /home/datascience/bin/Miniconda3/envs/datascience/lib/python3.6/site-packages (from plotly->dash) (5.0.4)\n",
      "Requirement already satisfied: Werkzeug>=0.15 in /home/datascience/bin/Miniconda3/envs/datascience/lib/python3.6/site-packages (from Flask>=1.0.2->dash) (1.0.0)\n",
      "Requirement already satisfied: click>=5.1 in /home/datascience/bin/Miniconda3/envs/datascience/lib/python3.6/site-packages (from Flask>=1.0.2->dash) (7.0)\n",
      "Requirement already satisfied: itsdangerous>=0.24 in /home/datascience/bin/Miniconda3/envs/datascience/lib/python3.6/site-packages (from Flask>=1.0.2->dash) (1.1.0)\n",
      "Requirement already satisfied: Jinja2>=2.10.1 in /home/datascience/bin/Miniconda3/envs/datascience/lib/python3.6/site-packages (from Flask>=1.0.2->dash) (2.11.1)\n",
      "Requirement already satisfied: urllib3!=1.25.0,!=1.25.1,<1.26,>=1.21.1 in /home/datascience/bin/Miniconda3/envs/datascience/lib/python3.6/site-packages (from requests->plotly->dash) (1.25.7)\n",
      "Requirement already satisfied: idna<2.9,>=2.5 in /home/datascience/bin/Miniconda3/envs/datascience/lib/python3.6/site-packages (from requests->plotly->dash) (2.8)\n",
      "Requirement already satisfied: chardet<3.1.0,>=3.0.2 in /home/datascience/bin/Miniconda3/envs/datascience/lib/python3.6/site-packages (from requests->plotly->dash) (3.0.4)\n",
      "Requirement already satisfied: certifi>=2017.4.17 in /home/datascience/bin/Miniconda3/envs/datascience/lib/python3.6/site-packages (from requests->plotly->dash) (2019.11.28)\n",
      "Requirement already satisfied: ipython-genutils in /home/datascience/bin/Miniconda3/envs/datascience/lib/python3.6/site-packages (from nbformat>=4.2->plotly->dash) (0.2.0)\n",
      "Requirement already satisfied: jupyter-core in /home/datascience/bin/Miniconda3/envs/datascience/lib/python3.6/site-packages (from nbformat>=4.2->plotly->dash) (4.6.2)\n",
      "Requirement already satisfied: traitlets>=4.1 in /home/datascience/bin/Miniconda3/envs/datascience/lib/python3.6/site-packages (from nbformat>=4.2->plotly->dash) (4.3.3)\n",
      "Requirement already satisfied: jsonschema!=2.5.0,>=2.4 in /home/datascience/bin/Miniconda3/envs/datascience/lib/python3.6/site-packages (from nbformat>=4.2->plotly->dash) (3.2.0)\n",
      "Requirement already satisfied: MarkupSafe>=0.23 in /home/datascience/bin/Miniconda3/envs/datascience/lib/python3.6/site-packages (from Jinja2>=2.10.1->Flask>=1.0.2->dash) (1.1.1)\n",
      "Requirement already satisfied: importlib-metadata; python_version < \"3.8\" in /home/datascience/bin/Miniconda3/envs/datascience/lib/python3.6/site-packages (from jsonschema!=2.5.0,>=2.4->nbformat>=4.2->plotly->dash) (1.5.0)\n",
      "Requirement already satisfied: pyrsistent>=0.14.0 in /home/datascience/bin/Miniconda3/envs/datascience/lib/python3.6/site-packages (from jsonschema!=2.5.0,>=2.4->nbformat>=4.2->plotly->dash) (0.15.7)\n",
      "Requirement already satisfied: attrs>=17.4.0 in /home/datascience/bin/Miniconda3/envs/datascience/lib/python3.6/site-packages (from jsonschema!=2.5.0,>=2.4->nbformat>=4.2->plotly->dash) (19.3.0)\n"
     ]
    },
    {
     "name": "stdout",
     "output_type": "stream",
     "text": [
      "Requirement already satisfied: setuptools in /home/datascience/bin/Miniconda3/envs/datascience/lib/python3.6/site-packages (from jsonschema!=2.5.0,>=2.4->nbformat>=4.2->plotly->dash) (45.2.0.post20200209)\r\n",
      "Requirement already satisfied: zipp>=0.5 in /home/datascience/bin/Miniconda3/envs/datascience/lib/python3.6/site-packages (from importlib-metadata; python_version < \"3.8\"->jsonschema!=2.5.0,>=2.4->nbformat>=4.2->plotly->dash) (2.2.0)\r\n"
     ]
    }
   ],
   "source": [
    "!pip install plotly\n",
    "!pip install dash"
   ]
  },
  {
   "cell_type": "code",
   "execution_count": 2,
   "metadata": {},
   "outputs": [],
   "source": [
    "import numpy as np\n",
    "import plotly.offline as pyo\n",
    "import plotly.graph_objs as go\n",
    "import plotly.figure_factory as ff\n",
    "\n",
    "import dash\n",
    "import dash_core_components as dcc\n",
    "import dash_html_components as html"
   ]
  },
  {
   "cell_type": "markdown",
   "metadata": {},
   "source": [
    "# Scatter"
   ]
  },
  {
   "cell_type": "code",
   "execution_count": 5,
   "metadata": {},
   "outputs": [
    {
     "data": {
      "text/plain": [
       "Figure({\n",
       "    'data': [{'marker': {'size': 12, 'symbol': 'pentagon'},\n",
       "              'mode': 'markers',\n",
       "              'type': 'scatter',\n",
       "              'uid': 'fdf403a9-c004-4d11-805d-2784df7be0ba',\n",
       "              'x': array([ 52,  93,  15,  72,  61,  21,  83,  87,  75,  75,  88, 100,  24,   3,\n",
       "                           22,  53,   2,  88,  30,  38,   2,  64,  60,  21,  33,  76,  58,  22,\n",
       "                           89,  49,  91,  59,  42,  92,  60,  80,  15,  62,  62,  47,  62,  51,\n",
       "                           55,  64,   3,  51,   7,  21,  73,  39,  18,   4,  89,  60,  14,   9,\n",
       "                           90,  53,   2,  84,  92,  60,  71,  44,   8,  47,  35,  78,  81,  36,\n",
       "                           50,   4,   2,   6,  54,   4,  54,  93,  63,  18,  90,  44,  34,  74,\n",
       "                           62, 100,  14,  95,  48,  15,  72,  78,  87,  62,  40,  85,  80,  82,\n",
       "                           53,  24]),\n",
       "              'y': array([26, 89, 60, 41, 29, 15, 45, 65, 89, 71,  9, 88,  1,  8, 88, 63, 11, 81,\n",
       "                           8, 35, 35, 33,  5, 41, 28,  7, 73, 72, 12, 34, 33, 48, 23, 62, 88, 37,\n",
       "                          99, 44, 86, 91, 35, 65, 99, 47, 78,  3,  1,  5, 90, 14, 27,  9, 79, 15,\n",
       "                          90, 42, 77, 51, 63, 96, 52, 96,  4, 94, 23, 15, 43, 29, 36, 13, 32, 71,\n",
       "                          59, 86, 28, 66, 42, 45, 62, 57,  6, 28, 28, 44, 84, 30, 62, 75, 92, 89,\n",
       "                          62, 97,  1, 27, 62, 77,  3, 70, 72, 27])}],\n",
       "    'layout': {'hovermode': 'closest',\n",
       "               'title': {'text': 'first plot'},\n",
       "               'xaxis': {'title': {'text': 'xaxis'}},\n",
       "               'yaxis': {'title': {'text': 'Yaxis'}}}\n",
       "})"
      ]
     },
     "execution_count": 5,
     "metadata": {},
     "output_type": "execute_result"
    }
   ],
   "source": [
    "np.random.seed(42)\n",
    "random_x = np.random.randint(1,101,100)\n",
    "random_y = np.random.randint(1,101,100)\n",
    "data = [go.Scatter(x=random_x,y=random_y,mode='markers',marker=dict(size=12,symbol='pentagon'))]\n",
    "layout = go.Layout(title=\"first plot\",xaxis={\"title\":\"xaxis\"},yaxis=dict(title=\"Yaxis\"),hovermode='closest')\n",
    "fig = go.Figure(data=data,layout=layout)\n",
    "fig"
   ]
  },
  {
   "cell_type": "markdown",
   "metadata": {},
   "source": [
    "# Line Graph"
   ]
  },
  {
   "cell_type": "code",
   "execution_count": 6,
   "metadata": {},
   "outputs": [
    {
     "data": {
      "text/plain": [
       "Figure({\n",
       "    'data': [{'mode': 'markers',\n",
       "              'name': 'markers',\n",
       "              'type': 'scatter',\n",
       "              'uid': '74994f40-5663-4942-8310-cdc9645209b3',\n",
       "              'x': array([0.        , 0.01010101, 0.02020202, 0.03030303, 0.04040404, 0.05050505,\n",
       "                          0.06060606, 0.07070707, 0.08080808, 0.09090909, 0.1010101 , 0.11111111,\n",
       "                          0.12121212, 0.13131313, 0.14141414, 0.15151515, 0.16161616, 0.17171717,\n",
       "                          0.18181818, 0.19191919, 0.2020202 , 0.21212121, 0.22222222, 0.23232323,\n",
       "                          0.24242424, 0.25252525, 0.26262626, 0.27272727, 0.28282828, 0.29292929,\n",
       "                          0.3030303 , 0.31313131, 0.32323232, 0.33333333, 0.34343434, 0.35353535,\n",
       "                          0.36363636, 0.37373737, 0.38383838, 0.39393939, 0.4040404 , 0.41414141,\n",
       "                          0.42424242, 0.43434343, 0.44444444, 0.45454545, 0.46464646, 0.47474747,\n",
       "                          0.48484848, 0.49494949, 0.50505051, 0.51515152, 0.52525253, 0.53535354,\n",
       "                          0.54545455, 0.55555556, 0.56565657, 0.57575758, 0.58585859, 0.5959596 ,\n",
       "                          0.60606061, 0.61616162, 0.62626263, 0.63636364, 0.64646465, 0.65656566,\n",
       "                          0.66666667, 0.67676768, 0.68686869, 0.6969697 , 0.70707071, 0.71717172,\n",
       "                          0.72727273, 0.73737374, 0.74747475, 0.75757576, 0.76767677, 0.77777778,\n",
       "                          0.78787879, 0.7979798 , 0.80808081, 0.81818182, 0.82828283, 0.83838384,\n",
       "                          0.84848485, 0.85858586, 0.86868687, 0.87878788, 0.88888889, 0.8989899 ,\n",
       "                          0.90909091, 0.91919192, 0.92929293, 0.93939394, 0.94949495, 0.95959596,\n",
       "                          0.96969697, 0.97979798, 0.98989899, 1.        ]),\n",
       "              'y': array([3.96235682, 5.59365816, 6.10268062, 4.48782227, 4.73458014, 3.38299399,\n",
       "                          4.72848551, 5.94555425, 4.37300721, 4.73405272, 5.68729358, 7.04845691,\n",
       "                          4.53844105, 5.68784742, 6.00812262, 4.84349102, 5.90007753, 6.00047132,\n",
       "                          5.68837496, 3.11890424, 5.85995815, 5.92045268, 5.27060325, 5.02781914,\n",
       "                          2.81274239, 5.13474378, 4.31854435, 2.57760894, 5.42117375, 4.32266535,\n",
       "                          3.85978558, 5.28461596, 4.4577586 , 5.46351946, 4.13831194, 5.87454227,\n",
       "                          4.45574146, 5.36996606, 4.56505877, 6.11012305, 3.63863324, 4.86448632,\n",
       "                          4.4479778 , 4.95047078, 5.88730775, 6.15464672, 5.11576695, 3.83847967,\n",
       "                          4.81536846, 5.46698407, 2.99901447, 3.65224154, 4.77937185, 4.92103362,\n",
       "                          4.39215278, 3.75426612, 6.62979432, 5.17752857, 4.32801342, 5.33112814,\n",
       "                          7.00604277, 5.00614484, 3.46530939, 4.93033658, 5.22768782, 2.48738327,\n",
       "                          7.70271251, 5.58365058, 5.33878175, 5.68900141, 6.70034868, 4.55873276,\n",
       "                          5.3144938 , 5.63629759, 5.08677138, 4.88220837, 3.72412657, 5.90675596,\n",
       "                          5.00606262, 4.14789636, 5.49958744, 3.48719073, 7.00429063, 6.25882569,\n",
       "                          6.04015487, 6.0513821 , 5.97157016, 3.41360886, 4.48941815, 4.12102706,\n",
       "                          3.86447992, 5.49700678, 6.51022587, 5.92073364, 5.63941201, 6.21704039,\n",
       "                          5.15525236, 5.00922926, 4.82531825, 5.37383631])},\n",
       "             {'mode': 'lines',\n",
       "              'name': 'markers1',\n",
       "              'type': 'scatter',\n",
       "              'uid': '4e2da02a-2f38-4576-b5eb-b0bf47b6afbc',\n",
       "              'x': array([0.        , 0.01010101, 0.02020202, 0.03030303, 0.04040404, 0.05050505,\n",
       "                          0.06060606, 0.07070707, 0.08080808, 0.09090909, 0.1010101 , 0.11111111,\n",
       "                          0.12121212, 0.13131313, 0.14141414, 0.15151515, 0.16161616, 0.17171717,\n",
       "                          0.18181818, 0.19191919, 0.2020202 , 0.21212121, 0.22222222, 0.23232323,\n",
       "                          0.24242424, 0.25252525, 0.26262626, 0.27272727, 0.28282828, 0.29292929,\n",
       "                          0.3030303 , 0.31313131, 0.32323232, 0.33333333, 0.34343434, 0.35353535,\n",
       "                          0.36363636, 0.37373737, 0.38383838, 0.39393939, 0.4040404 , 0.41414141,\n",
       "                          0.42424242, 0.43434343, 0.44444444, 0.45454545, 0.46464646, 0.47474747,\n",
       "                          0.48484848, 0.49494949, 0.50505051, 0.51515152, 0.52525253, 0.53535354,\n",
       "                          0.54545455, 0.55555556, 0.56565657, 0.57575758, 0.58585859, 0.5959596 ,\n",
       "                          0.60606061, 0.61616162, 0.62626263, 0.63636364, 0.64646465, 0.65656566,\n",
       "                          0.66666667, 0.67676768, 0.68686869, 0.6969697 , 0.70707071, 0.71717172,\n",
       "                          0.72727273, 0.73737374, 0.74747475, 0.75757576, 0.76767677, 0.77777778,\n",
       "                          0.78787879, 0.7979798 , 0.80808081, 0.81818182, 0.82828283, 0.83838384,\n",
       "                          0.84848485, 0.85858586, 0.86868687, 0.87878788, 0.88888889, 0.8989899 ,\n",
       "                          0.90909091, 0.91919192, 0.92929293, 0.93939394, 0.94949495, 0.95959596,\n",
       "                          0.96969697, 0.97979798, 0.98989899, 1.        ]),\n",
       "              'y': array([-1.03764318,  0.59365816,  1.10268062, -0.51217773, -0.26541986,\n",
       "                          -1.61700601, -0.27151449,  0.94555425, -0.62699279, -0.26594728,\n",
       "                           0.68729358,  2.04845691, -0.46155895,  0.68784742,  1.00812262,\n",
       "                          -0.15650898,  0.90007753,  1.00047132,  0.68837496, -1.88109576,\n",
       "                           0.85995815,  0.92045268,  0.27060325,  0.02781914, -2.18725761,\n",
       "                           0.13474378, -0.68145565, -2.42239106,  0.42117375, -0.67733465,\n",
       "                          -1.14021442,  0.28461596, -0.5422414 ,  0.46351946, -0.86168806,\n",
       "                           0.87454227, -0.54425854,  0.36996606, -0.43494123,  1.11012305,\n",
       "                          -1.36136676, -0.13551368, -0.5520222 , -0.04952922,  0.88730775,\n",
       "                           1.15464672,  0.11576695, -1.16152033, -0.18463154,  0.46698407,\n",
       "                          -2.00098553, -1.34775846, -0.22062815, -0.07896638, -0.60784722,\n",
       "                          -1.24573388,  1.62979432,  0.17752857, -0.67198658,  0.33112814,\n",
       "                           2.00604277,  0.00614484, -1.53469061, -0.06966342,  0.22768782,\n",
       "                          -2.51261673,  2.70271251,  0.58365058,  0.33878175,  0.68900141,\n",
       "                           1.70034868, -0.44126724,  0.3144938 ,  0.63629759,  0.08677138,\n",
       "                          -0.11779163, -1.27587343,  0.90675596,  0.00606262, -0.85210364,\n",
       "                           0.49958744, -1.51280927,  2.00429063,  1.25882569,  1.04015487,\n",
       "                           1.0513821 ,  0.97157016, -1.58639114, -0.51058185, -0.87897294,\n",
       "                          -1.13552008,  0.49700678,  1.51022587,  0.92073364,  0.63941201,\n",
       "                           1.21704039,  0.15525236,  0.00922926, -0.17468175,  0.37383631])}],\n",
       "    'layout': {'title': {'text': 'Line Chart'}}\n",
       "})"
      ]
     },
     "execution_count": 6,
     "metadata": {},
     "output_type": "execute_result"
    }
   ],
   "source": [
    "np.random.seed(56)\n",
    "x_values=np.linspace(0,1,100)\n",
    "y_values=np.random.randn(100)\n",
    "trace0 =go.Scatter(x=x_values,y=y_values+5,mode='markers',name='markers')\n",
    "trace1= go.Scatter(x=x_values,y=y_values,mode='lines',name='markers1')\n",
    "\n",
    "data = [trace0,trace1]\n",
    "layout= go.Layout(title='Line Chart')\n",
    "fig = go.Figure(data=data,layout=layout)\n",
    "fig"
   ]
  },
  {
   "cell_type": "markdown",
   "metadata": {},
   "source": [
    "# Bubble"
   ]
  },
  {
   "cell_type": "code",
   "execution_count": 5,
   "metadata": {},
   "outputs": [
    {
     "data": {
      "application/vnd.plotly.v1+json": {
       "config": {
        "plotlyServerURL": "https://plot.ly"
       },
       "data": [
        {
         "marker": {
          "color": [
           26,
           89,
           60,
           41,
           29,
           15,
           45,
           65,
           89,
           71,
           9,
           88,
           1,
           8,
           88,
           63,
           11,
           81,
           8,
           35,
           35,
           33,
           5,
           41,
           28,
           7,
           73,
           72,
           12,
           34,
           33,
           48,
           23,
           62,
           88,
           37,
           99,
           44,
           86,
           91,
           35,
           65,
           99,
           47,
           78,
           3,
           1,
           5,
           90,
           14,
           27,
           9,
           79,
           15,
           90,
           42,
           77,
           51,
           63,
           96,
           52,
           96,
           4,
           94,
           23,
           15,
           43,
           29,
           36,
           13,
           32,
           71,
           59,
           86,
           28,
           66,
           42,
           45,
           62,
           57,
           6,
           28,
           28,
           44,
           84,
           30,
           62,
           75,
           92,
           89,
           62,
           97,
           1,
           27,
           62,
           77,
           3,
           70,
           72,
           27
          ],
          "showscale": true,
          "size": [
           52,
           93,
           15,
           72,
           61,
           21,
           83,
           87,
           75,
           75,
           88,
           100,
           24,
           3,
           22,
           53,
           2,
           88,
           30,
           38,
           2,
           64,
           60,
           21,
           33,
           76,
           58,
           22,
           89,
           49,
           91,
           59,
           42,
           92,
           60,
           80,
           15,
           62,
           62,
           47,
           62,
           51,
           55,
           64,
           3,
           51,
           7,
           21,
           73,
           39,
           18,
           4,
           89,
           60,
           14,
           9,
           90,
           53,
           2,
           84,
           92,
           60,
           71,
           44,
           8,
           47,
           35,
           78,
           81,
           36,
           50,
           4,
           2,
           6,
           54,
           4,
           54,
           93,
           63,
           18,
           90,
           44,
           34,
           74,
           62,
           100,
           14,
           95,
           48,
           15,
           72,
           78,
           87,
           62,
           40,
           85,
           80,
           82,
           53,
           24
          ]
         },
         "mode": "markers",
         "type": "scatter",
         "x": [
          52,
          93,
          15,
          72,
          61,
          21,
          83,
          87,
          75,
          75,
          88,
          100,
          24,
          3,
          22,
          53,
          2,
          88,
          30,
          38,
          2,
          64,
          60,
          21,
          33,
          76,
          58,
          22,
          89,
          49,
          91,
          59,
          42,
          92,
          60,
          80,
          15,
          62,
          62,
          47,
          62,
          51,
          55,
          64,
          3,
          51,
          7,
          21,
          73,
          39,
          18,
          4,
          89,
          60,
          14,
          9,
          90,
          53,
          2,
          84,
          92,
          60,
          71,
          44,
          8,
          47,
          35,
          78,
          81,
          36,
          50,
          4,
          2,
          6,
          54,
          4,
          54,
          93,
          63,
          18,
          90,
          44,
          34,
          74,
          62,
          100,
          14,
          95,
          48,
          15,
          72,
          78,
          87,
          62,
          40,
          85,
          80,
          82,
          53,
          24
         ],
         "y": [
          26,
          89,
          60,
          41,
          29,
          15,
          45,
          65,
          89,
          71,
          9,
          88,
          1,
          8,
          88,
          63,
          11,
          81,
          8,
          35,
          35,
          33,
          5,
          41,
          28,
          7,
          73,
          72,
          12,
          34,
          33,
          48,
          23,
          62,
          88,
          37,
          99,
          44,
          86,
          91,
          35,
          65,
          99,
          47,
          78,
          3,
          1,
          5,
          90,
          14,
          27,
          9,
          79,
          15,
          90,
          42,
          77,
          51,
          63,
          96,
          52,
          96,
          4,
          94,
          23,
          15,
          43,
          29,
          36,
          13,
          32,
          71,
          59,
          86,
          28,
          66,
          42,
          45,
          62,
          57,
          6,
          28,
          28,
          44,
          84,
          30,
          62,
          75,
          92,
          89,
          62,
          97,
          1,
          27,
          62,
          77,
          3,
          70,
          72,
          27
         ]
        }
       ],
       "layout": {
        "hovermode": "closest",
        "template": {
         "data": {
          "bar": [
           {
            "error_x": {
             "color": "#2a3f5f"
            },
            "error_y": {
             "color": "#2a3f5f"
            },
            "marker": {
             "line": {
              "color": "#E5ECF6",
              "width": 0.5
             }
            },
            "type": "bar"
           }
          ],
          "barpolar": [
           {
            "marker": {
             "line": {
              "color": "#E5ECF6",
              "width": 0.5
             }
            },
            "type": "barpolar"
           }
          ],
          "carpet": [
           {
            "aaxis": {
             "endlinecolor": "#2a3f5f",
             "gridcolor": "white",
             "linecolor": "white",
             "minorgridcolor": "white",
             "startlinecolor": "#2a3f5f"
            },
            "baxis": {
             "endlinecolor": "#2a3f5f",
             "gridcolor": "white",
             "linecolor": "white",
             "minorgridcolor": "white",
             "startlinecolor": "#2a3f5f"
            },
            "type": "carpet"
           }
          ],
          "choropleth": [
           {
            "colorbar": {
             "outlinewidth": 0,
             "ticks": ""
            },
            "type": "choropleth"
           }
          ],
          "contour": [
           {
            "colorbar": {
             "outlinewidth": 0,
             "ticks": ""
            },
            "colorscale": [
             [
              0,
              "#0d0887"
             ],
             [
              0.1111111111111111,
              "#46039f"
             ],
             [
              0.2222222222222222,
              "#7201a8"
             ],
             [
              0.3333333333333333,
              "#9c179e"
             ],
             [
              0.4444444444444444,
              "#bd3786"
             ],
             [
              0.5555555555555556,
              "#d8576b"
             ],
             [
              0.6666666666666666,
              "#ed7953"
             ],
             [
              0.7777777777777778,
              "#fb9f3a"
             ],
             [
              0.8888888888888888,
              "#fdca26"
             ],
             [
              1,
              "#f0f921"
             ]
            ],
            "type": "contour"
           }
          ],
          "contourcarpet": [
           {
            "colorbar": {
             "outlinewidth": 0,
             "ticks": ""
            },
            "type": "contourcarpet"
           }
          ],
          "heatmap": [
           {
            "colorbar": {
             "outlinewidth": 0,
             "ticks": ""
            },
            "colorscale": [
             [
              0,
              "#0d0887"
             ],
             [
              0.1111111111111111,
              "#46039f"
             ],
             [
              0.2222222222222222,
              "#7201a8"
             ],
             [
              0.3333333333333333,
              "#9c179e"
             ],
             [
              0.4444444444444444,
              "#bd3786"
             ],
             [
              0.5555555555555556,
              "#d8576b"
             ],
             [
              0.6666666666666666,
              "#ed7953"
             ],
             [
              0.7777777777777778,
              "#fb9f3a"
             ],
             [
              0.8888888888888888,
              "#fdca26"
             ],
             [
              1,
              "#f0f921"
             ]
            ],
            "type": "heatmap"
           }
          ],
          "heatmapgl": [
           {
            "colorbar": {
             "outlinewidth": 0,
             "ticks": ""
            },
            "colorscale": [
             [
              0,
              "#0d0887"
             ],
             [
              0.1111111111111111,
              "#46039f"
             ],
             [
              0.2222222222222222,
              "#7201a8"
             ],
             [
              0.3333333333333333,
              "#9c179e"
             ],
             [
              0.4444444444444444,
              "#bd3786"
             ],
             [
              0.5555555555555556,
              "#d8576b"
             ],
             [
              0.6666666666666666,
              "#ed7953"
             ],
             [
              0.7777777777777778,
              "#fb9f3a"
             ],
             [
              0.8888888888888888,
              "#fdca26"
             ],
             [
              1,
              "#f0f921"
             ]
            ],
            "type": "heatmapgl"
           }
          ],
          "histogram": [
           {
            "marker": {
             "colorbar": {
              "outlinewidth": 0,
              "ticks": ""
             }
            },
            "type": "histogram"
           }
          ],
          "histogram2d": [
           {
            "colorbar": {
             "outlinewidth": 0,
             "ticks": ""
            },
            "colorscale": [
             [
              0,
              "#0d0887"
             ],
             [
              0.1111111111111111,
              "#46039f"
             ],
             [
              0.2222222222222222,
              "#7201a8"
             ],
             [
              0.3333333333333333,
              "#9c179e"
             ],
             [
              0.4444444444444444,
              "#bd3786"
             ],
             [
              0.5555555555555556,
              "#d8576b"
             ],
             [
              0.6666666666666666,
              "#ed7953"
             ],
             [
              0.7777777777777778,
              "#fb9f3a"
             ],
             [
              0.8888888888888888,
              "#fdca26"
             ],
             [
              1,
              "#f0f921"
             ]
            ],
            "type": "histogram2d"
           }
          ],
          "histogram2dcontour": [
           {
            "colorbar": {
             "outlinewidth": 0,
             "ticks": ""
            },
            "colorscale": [
             [
              0,
              "#0d0887"
             ],
             [
              0.1111111111111111,
              "#46039f"
             ],
             [
              0.2222222222222222,
              "#7201a8"
             ],
             [
              0.3333333333333333,
              "#9c179e"
             ],
             [
              0.4444444444444444,
              "#bd3786"
             ],
             [
              0.5555555555555556,
              "#d8576b"
             ],
             [
              0.6666666666666666,
              "#ed7953"
             ],
             [
              0.7777777777777778,
              "#fb9f3a"
             ],
             [
              0.8888888888888888,
              "#fdca26"
             ],
             [
              1,
              "#f0f921"
             ]
            ],
            "type": "histogram2dcontour"
           }
          ],
          "mesh3d": [
           {
            "colorbar": {
             "outlinewidth": 0,
             "ticks": ""
            },
            "type": "mesh3d"
           }
          ],
          "parcoords": [
           {
            "line": {
             "colorbar": {
              "outlinewidth": 0,
              "ticks": ""
             }
            },
            "type": "parcoords"
           }
          ],
          "pie": [
           {
            "automargin": true,
            "type": "pie"
           }
          ],
          "scatter": [
           {
            "marker": {
             "colorbar": {
              "outlinewidth": 0,
              "ticks": ""
             }
            },
            "type": "scatter"
           }
          ],
          "scatter3d": [
           {
            "line": {
             "colorbar": {
              "outlinewidth": 0,
              "ticks": ""
             }
            },
            "marker": {
             "colorbar": {
              "outlinewidth": 0,
              "ticks": ""
             }
            },
            "type": "scatter3d"
           }
          ],
          "scattercarpet": [
           {
            "marker": {
             "colorbar": {
              "outlinewidth": 0,
              "ticks": ""
             }
            },
            "type": "scattercarpet"
           }
          ],
          "scattergeo": [
           {
            "marker": {
             "colorbar": {
              "outlinewidth": 0,
              "ticks": ""
             }
            },
            "type": "scattergeo"
           }
          ],
          "scattergl": [
           {
            "marker": {
             "colorbar": {
              "outlinewidth": 0,
              "ticks": ""
             }
            },
            "type": "scattergl"
           }
          ],
          "scattermapbox": [
           {
            "marker": {
             "colorbar": {
              "outlinewidth": 0,
              "ticks": ""
             }
            },
            "type": "scattermapbox"
           }
          ],
          "scatterpolar": [
           {
            "marker": {
             "colorbar": {
              "outlinewidth": 0,
              "ticks": ""
             }
            },
            "type": "scatterpolar"
           }
          ],
          "scatterpolargl": [
           {
            "marker": {
             "colorbar": {
              "outlinewidth": 0,
              "ticks": ""
             }
            },
            "type": "scatterpolargl"
           }
          ],
          "scatterternary": [
           {
            "marker": {
             "colorbar": {
              "outlinewidth": 0,
              "ticks": ""
             }
            },
            "type": "scatterternary"
           }
          ],
          "surface": [
           {
            "colorbar": {
             "outlinewidth": 0,
             "ticks": ""
            },
            "colorscale": [
             [
              0,
              "#0d0887"
             ],
             [
              0.1111111111111111,
              "#46039f"
             ],
             [
              0.2222222222222222,
              "#7201a8"
             ],
             [
              0.3333333333333333,
              "#9c179e"
             ],
             [
              0.4444444444444444,
              "#bd3786"
             ],
             [
              0.5555555555555556,
              "#d8576b"
             ],
             [
              0.6666666666666666,
              "#ed7953"
             ],
             [
              0.7777777777777778,
              "#fb9f3a"
             ],
             [
              0.8888888888888888,
              "#fdca26"
             ],
             [
              1,
              "#f0f921"
             ]
            ],
            "type": "surface"
           }
          ],
          "table": [
           {
            "cells": {
             "fill": {
              "color": "#EBF0F8"
             },
             "line": {
              "color": "white"
             }
            },
            "header": {
             "fill": {
              "color": "#C8D4E3"
             },
             "line": {
              "color": "white"
             }
            },
            "type": "table"
           }
          ]
         },
         "layout": {
          "annotationdefaults": {
           "arrowcolor": "#2a3f5f",
           "arrowhead": 0,
           "arrowwidth": 1
          },
          "coloraxis": {
           "colorbar": {
            "outlinewidth": 0,
            "ticks": ""
           }
          },
          "colorscale": {
           "diverging": [
            [
             0,
             "#8e0152"
            ],
            [
             0.1,
             "#c51b7d"
            ],
            [
             0.2,
             "#de77ae"
            ],
            [
             0.3,
             "#f1b6da"
            ],
            [
             0.4,
             "#fde0ef"
            ],
            [
             0.5,
             "#f7f7f7"
            ],
            [
             0.6,
             "#e6f5d0"
            ],
            [
             0.7,
             "#b8e186"
            ],
            [
             0.8,
             "#7fbc41"
            ],
            [
             0.9,
             "#4d9221"
            ],
            [
             1,
             "#276419"
            ]
           ],
           "sequential": [
            [
             0,
             "#0d0887"
            ],
            [
             0.1111111111111111,
             "#46039f"
            ],
            [
             0.2222222222222222,
             "#7201a8"
            ],
            [
             0.3333333333333333,
             "#9c179e"
            ],
            [
             0.4444444444444444,
             "#bd3786"
            ],
            [
             0.5555555555555556,
             "#d8576b"
            ],
            [
             0.6666666666666666,
             "#ed7953"
            ],
            [
             0.7777777777777778,
             "#fb9f3a"
            ],
            [
             0.8888888888888888,
             "#fdca26"
            ],
            [
             1,
             "#f0f921"
            ]
           ],
           "sequentialminus": [
            [
             0,
             "#0d0887"
            ],
            [
             0.1111111111111111,
             "#46039f"
            ],
            [
             0.2222222222222222,
             "#7201a8"
            ],
            [
             0.3333333333333333,
             "#9c179e"
            ],
            [
             0.4444444444444444,
             "#bd3786"
            ],
            [
             0.5555555555555556,
             "#d8576b"
            ],
            [
             0.6666666666666666,
             "#ed7953"
            ],
            [
             0.7777777777777778,
             "#fb9f3a"
            ],
            [
             0.8888888888888888,
             "#fdca26"
            ],
            [
             1,
             "#f0f921"
            ]
           ]
          },
          "colorway": [
           "#636efa",
           "#EF553B",
           "#00cc96",
           "#ab63fa",
           "#FFA15A",
           "#19d3f3",
           "#FF6692",
           "#B6E880",
           "#FF97FF",
           "#FECB52"
          ],
          "font": {
           "color": "#2a3f5f"
          },
          "geo": {
           "bgcolor": "white",
           "lakecolor": "white",
           "landcolor": "#E5ECF6",
           "showlakes": true,
           "showland": true,
           "subunitcolor": "white"
          },
          "hoverlabel": {
           "align": "left"
          },
          "hovermode": "closest",
          "mapbox": {
           "style": "light"
          },
          "paper_bgcolor": "white",
          "plot_bgcolor": "#E5ECF6",
          "polar": {
           "angularaxis": {
            "gridcolor": "white",
            "linecolor": "white",
            "ticks": ""
           },
           "bgcolor": "#E5ECF6",
           "radialaxis": {
            "gridcolor": "white",
            "linecolor": "white",
            "ticks": ""
           }
          },
          "scene": {
           "xaxis": {
            "backgroundcolor": "#E5ECF6",
            "gridcolor": "white",
            "gridwidth": 2,
            "linecolor": "white",
            "showbackground": true,
            "ticks": "",
            "zerolinecolor": "white"
           },
           "yaxis": {
            "backgroundcolor": "#E5ECF6",
            "gridcolor": "white",
            "gridwidth": 2,
            "linecolor": "white",
            "showbackground": true,
            "ticks": "",
            "zerolinecolor": "white"
           },
           "zaxis": {
            "backgroundcolor": "#E5ECF6",
            "gridcolor": "white",
            "gridwidth": 2,
            "linecolor": "white",
            "showbackground": true,
            "ticks": "",
            "zerolinecolor": "white"
           }
          },
          "shapedefaults": {
           "line": {
            "color": "#2a3f5f"
           }
          },
          "ternary": {
           "aaxis": {
            "gridcolor": "white",
            "linecolor": "white",
            "ticks": ""
           },
           "baxis": {
            "gridcolor": "white",
            "linecolor": "white",
            "ticks": ""
           },
           "bgcolor": "#E5ECF6",
           "caxis": {
            "gridcolor": "white",
            "linecolor": "white",
            "ticks": ""
           }
          },
          "title": {
           "x": 0.05
          },
          "xaxis": {
           "automargin": true,
           "gridcolor": "white",
           "linecolor": "white",
           "ticks": "",
           "title": {
            "standoff": 15
           },
           "zerolinecolor": "white",
           "zerolinewidth": 2
          },
          "yaxis": {
           "automargin": true,
           "gridcolor": "white",
           "linecolor": "white",
           "ticks": "",
           "title": {
            "standoff": 15
           },
           "zerolinecolor": "white",
           "zerolinewidth": 2
          }
         }
        },
        "title": {
         "text": "first plot"
        },
        "xaxis": {
         "title": {
          "text": "xaxis"
         }
        },
        "yaxis": {
         "title": {
          "text": "Yaxis"
         }
        }
       }
      },
      "text/html": [
       "<div>\n",
       "        \n",
       "        \n",
       "            <div id=\"3a5a3acb-ac33-415a-a1c7-df386e0d964a\" class=\"plotly-graph-div\" style=\"height:525px; width:100%;\"></div>\n",
       "            <script type=\"text/javascript\">\n",
       "                require([\"plotly\"], function(Plotly) {\n",
       "                    window.PLOTLYENV=window.PLOTLYENV || {};\n",
       "                    \n",
       "                if (document.getElementById(\"3a5a3acb-ac33-415a-a1c7-df386e0d964a\")) {\n",
       "                    Plotly.newPlot(\n",
       "                        '3a5a3acb-ac33-415a-a1c7-df386e0d964a',\n",
       "                        [{\"marker\": {\"color\": [26, 89, 60, 41, 29, 15, 45, 65, 89, 71, 9, 88, 1, 8, 88, 63, 11, 81, 8, 35, 35, 33, 5, 41, 28, 7, 73, 72, 12, 34, 33, 48, 23, 62, 88, 37, 99, 44, 86, 91, 35, 65, 99, 47, 78, 3, 1, 5, 90, 14, 27, 9, 79, 15, 90, 42, 77, 51, 63, 96, 52, 96, 4, 94, 23, 15, 43, 29, 36, 13, 32, 71, 59, 86, 28, 66, 42, 45, 62, 57, 6, 28, 28, 44, 84, 30, 62, 75, 92, 89, 62, 97, 1, 27, 62, 77, 3, 70, 72, 27], \"showscale\": true, \"size\": [52, 93, 15, 72, 61, 21, 83, 87, 75, 75, 88, 100, 24, 3, 22, 53, 2, 88, 30, 38, 2, 64, 60, 21, 33, 76, 58, 22, 89, 49, 91, 59, 42, 92, 60, 80, 15, 62, 62, 47, 62, 51, 55, 64, 3, 51, 7, 21, 73, 39, 18, 4, 89, 60, 14, 9, 90, 53, 2, 84, 92, 60, 71, 44, 8, 47, 35, 78, 81, 36, 50, 4, 2, 6, 54, 4, 54, 93, 63, 18, 90, 44, 34, 74, 62, 100, 14, 95, 48, 15, 72, 78, 87, 62, 40, 85, 80, 82, 53, 24]}, \"mode\": \"markers\", \"type\": \"scatter\", \"x\": [52, 93, 15, 72, 61, 21, 83, 87, 75, 75, 88, 100, 24, 3, 22, 53, 2, 88, 30, 38, 2, 64, 60, 21, 33, 76, 58, 22, 89, 49, 91, 59, 42, 92, 60, 80, 15, 62, 62, 47, 62, 51, 55, 64, 3, 51, 7, 21, 73, 39, 18, 4, 89, 60, 14, 9, 90, 53, 2, 84, 92, 60, 71, 44, 8, 47, 35, 78, 81, 36, 50, 4, 2, 6, 54, 4, 54, 93, 63, 18, 90, 44, 34, 74, 62, 100, 14, 95, 48, 15, 72, 78, 87, 62, 40, 85, 80, 82, 53, 24], \"y\": [26, 89, 60, 41, 29, 15, 45, 65, 89, 71, 9, 88, 1, 8, 88, 63, 11, 81, 8, 35, 35, 33, 5, 41, 28, 7, 73, 72, 12, 34, 33, 48, 23, 62, 88, 37, 99, 44, 86, 91, 35, 65, 99, 47, 78, 3, 1, 5, 90, 14, 27, 9, 79, 15, 90, 42, 77, 51, 63, 96, 52, 96, 4, 94, 23, 15, 43, 29, 36, 13, 32, 71, 59, 86, 28, 66, 42, 45, 62, 57, 6, 28, 28, 44, 84, 30, 62, 75, 92, 89, 62, 97, 1, 27, 62, 77, 3, 70, 72, 27]}],\n",
       "                        {\"hovermode\": \"closest\", \"template\": {\"data\": {\"bar\": [{\"error_x\": {\"color\": \"#2a3f5f\"}, \"error_y\": {\"color\": \"#2a3f5f\"}, \"marker\": {\"line\": {\"color\": \"#E5ECF6\", \"width\": 0.5}}, \"type\": \"bar\"}], \"barpolar\": [{\"marker\": {\"line\": {\"color\": \"#E5ECF6\", \"width\": 0.5}}, \"type\": \"barpolar\"}], \"carpet\": [{\"aaxis\": {\"endlinecolor\": \"#2a3f5f\", \"gridcolor\": \"white\", \"linecolor\": \"white\", \"minorgridcolor\": \"white\", \"startlinecolor\": \"#2a3f5f\"}, \"baxis\": {\"endlinecolor\": \"#2a3f5f\", \"gridcolor\": \"white\", \"linecolor\": \"white\", \"minorgridcolor\": \"white\", \"startlinecolor\": \"#2a3f5f\"}, \"type\": \"carpet\"}], \"choropleth\": [{\"colorbar\": {\"outlinewidth\": 0, \"ticks\": \"\"}, \"type\": \"choropleth\"}], \"contour\": [{\"colorbar\": {\"outlinewidth\": 0, \"ticks\": \"\"}, \"colorscale\": [[0.0, \"#0d0887\"], [0.1111111111111111, \"#46039f\"], [0.2222222222222222, \"#7201a8\"], [0.3333333333333333, \"#9c179e\"], [0.4444444444444444, \"#bd3786\"], [0.5555555555555556, \"#d8576b\"], [0.6666666666666666, \"#ed7953\"], [0.7777777777777778, \"#fb9f3a\"], [0.8888888888888888, \"#fdca26\"], [1.0, \"#f0f921\"]], \"type\": \"contour\"}], \"contourcarpet\": [{\"colorbar\": {\"outlinewidth\": 0, \"ticks\": \"\"}, \"type\": \"contourcarpet\"}], \"heatmap\": [{\"colorbar\": {\"outlinewidth\": 0, \"ticks\": \"\"}, \"colorscale\": [[0.0, \"#0d0887\"], [0.1111111111111111, \"#46039f\"], [0.2222222222222222, \"#7201a8\"], [0.3333333333333333, \"#9c179e\"], [0.4444444444444444, \"#bd3786\"], [0.5555555555555556, \"#d8576b\"], [0.6666666666666666, \"#ed7953\"], [0.7777777777777778, \"#fb9f3a\"], [0.8888888888888888, \"#fdca26\"], [1.0, \"#f0f921\"]], \"type\": \"heatmap\"}], \"heatmapgl\": [{\"colorbar\": {\"outlinewidth\": 0, \"ticks\": \"\"}, \"colorscale\": [[0.0, \"#0d0887\"], [0.1111111111111111, \"#46039f\"], [0.2222222222222222, \"#7201a8\"], [0.3333333333333333, \"#9c179e\"], [0.4444444444444444, \"#bd3786\"], [0.5555555555555556, \"#d8576b\"], [0.6666666666666666, \"#ed7953\"], [0.7777777777777778, \"#fb9f3a\"], [0.8888888888888888, \"#fdca26\"], [1.0, \"#f0f921\"]], \"type\": \"heatmapgl\"}], \"histogram\": [{\"marker\": {\"colorbar\": {\"outlinewidth\": 0, \"ticks\": \"\"}}, \"type\": \"histogram\"}], \"histogram2d\": [{\"colorbar\": {\"outlinewidth\": 0, \"ticks\": \"\"}, \"colorscale\": [[0.0, \"#0d0887\"], [0.1111111111111111, \"#46039f\"], [0.2222222222222222, \"#7201a8\"], [0.3333333333333333, \"#9c179e\"], [0.4444444444444444, \"#bd3786\"], [0.5555555555555556, \"#d8576b\"], [0.6666666666666666, \"#ed7953\"], [0.7777777777777778, \"#fb9f3a\"], [0.8888888888888888, \"#fdca26\"], [1.0, \"#f0f921\"]], \"type\": \"histogram2d\"}], \"histogram2dcontour\": [{\"colorbar\": {\"outlinewidth\": 0, \"ticks\": \"\"}, \"colorscale\": [[0.0, \"#0d0887\"], [0.1111111111111111, \"#46039f\"], [0.2222222222222222, \"#7201a8\"], [0.3333333333333333, \"#9c179e\"], [0.4444444444444444, \"#bd3786\"], [0.5555555555555556, \"#d8576b\"], [0.6666666666666666, \"#ed7953\"], [0.7777777777777778, \"#fb9f3a\"], [0.8888888888888888, \"#fdca26\"], [1.0, \"#f0f921\"]], \"type\": \"histogram2dcontour\"}], \"mesh3d\": [{\"colorbar\": {\"outlinewidth\": 0, \"ticks\": \"\"}, \"type\": \"mesh3d\"}], \"parcoords\": [{\"line\": {\"colorbar\": {\"outlinewidth\": 0, \"ticks\": \"\"}}, \"type\": \"parcoords\"}], \"pie\": [{\"automargin\": true, \"type\": \"pie\"}], \"scatter\": [{\"marker\": {\"colorbar\": {\"outlinewidth\": 0, \"ticks\": \"\"}}, \"type\": \"scatter\"}], \"scatter3d\": [{\"line\": {\"colorbar\": {\"outlinewidth\": 0, \"ticks\": \"\"}}, \"marker\": {\"colorbar\": {\"outlinewidth\": 0, \"ticks\": \"\"}}, \"type\": \"scatter3d\"}], \"scattercarpet\": [{\"marker\": {\"colorbar\": {\"outlinewidth\": 0, \"ticks\": \"\"}}, \"type\": \"scattercarpet\"}], \"scattergeo\": [{\"marker\": {\"colorbar\": {\"outlinewidth\": 0, \"ticks\": \"\"}}, \"type\": \"scattergeo\"}], \"scattergl\": [{\"marker\": {\"colorbar\": {\"outlinewidth\": 0, \"ticks\": \"\"}}, \"type\": \"scattergl\"}], \"scattermapbox\": [{\"marker\": {\"colorbar\": {\"outlinewidth\": 0, \"ticks\": \"\"}}, \"type\": \"scattermapbox\"}], \"scatterpolar\": [{\"marker\": {\"colorbar\": {\"outlinewidth\": 0, \"ticks\": \"\"}}, \"type\": \"scatterpolar\"}], \"scatterpolargl\": [{\"marker\": {\"colorbar\": {\"outlinewidth\": 0, \"ticks\": \"\"}}, \"type\": \"scatterpolargl\"}], \"scatterternary\": [{\"marker\": {\"colorbar\": {\"outlinewidth\": 0, \"ticks\": \"\"}}, \"type\": \"scatterternary\"}], \"surface\": [{\"colorbar\": {\"outlinewidth\": 0, \"ticks\": \"\"}, \"colorscale\": [[0.0, \"#0d0887\"], [0.1111111111111111, \"#46039f\"], [0.2222222222222222, \"#7201a8\"], [0.3333333333333333, \"#9c179e\"], [0.4444444444444444, \"#bd3786\"], [0.5555555555555556, \"#d8576b\"], [0.6666666666666666, \"#ed7953\"], [0.7777777777777778, \"#fb9f3a\"], [0.8888888888888888, \"#fdca26\"], [1.0, \"#f0f921\"]], \"type\": \"surface\"}], \"table\": [{\"cells\": {\"fill\": {\"color\": \"#EBF0F8\"}, \"line\": {\"color\": \"white\"}}, \"header\": {\"fill\": {\"color\": \"#C8D4E3\"}, \"line\": {\"color\": \"white\"}}, \"type\": \"table\"}]}, \"layout\": {\"annotationdefaults\": {\"arrowcolor\": \"#2a3f5f\", \"arrowhead\": 0, \"arrowwidth\": 1}, \"coloraxis\": {\"colorbar\": {\"outlinewidth\": 0, \"ticks\": \"\"}}, \"colorscale\": {\"diverging\": [[0, \"#8e0152\"], [0.1, \"#c51b7d\"], [0.2, \"#de77ae\"], [0.3, \"#f1b6da\"], [0.4, \"#fde0ef\"], [0.5, \"#f7f7f7\"], [0.6, \"#e6f5d0\"], [0.7, \"#b8e186\"], [0.8, \"#7fbc41\"], [0.9, \"#4d9221\"], [1, \"#276419\"]], \"sequential\": [[0.0, \"#0d0887\"], [0.1111111111111111, \"#46039f\"], [0.2222222222222222, \"#7201a8\"], [0.3333333333333333, \"#9c179e\"], [0.4444444444444444, \"#bd3786\"], [0.5555555555555556, \"#d8576b\"], [0.6666666666666666, \"#ed7953\"], [0.7777777777777778, \"#fb9f3a\"], [0.8888888888888888, \"#fdca26\"], [1.0, \"#f0f921\"]], \"sequentialminus\": [[0.0, \"#0d0887\"], [0.1111111111111111, \"#46039f\"], [0.2222222222222222, \"#7201a8\"], [0.3333333333333333, \"#9c179e\"], [0.4444444444444444, \"#bd3786\"], [0.5555555555555556, \"#d8576b\"], [0.6666666666666666, \"#ed7953\"], [0.7777777777777778, \"#fb9f3a\"], [0.8888888888888888, \"#fdca26\"], [1.0, \"#f0f921\"]]}, \"colorway\": [\"#636efa\", \"#EF553B\", \"#00cc96\", \"#ab63fa\", \"#FFA15A\", \"#19d3f3\", \"#FF6692\", \"#B6E880\", \"#FF97FF\", \"#FECB52\"], \"font\": {\"color\": \"#2a3f5f\"}, \"geo\": {\"bgcolor\": \"white\", \"lakecolor\": \"white\", \"landcolor\": \"#E5ECF6\", \"showlakes\": true, \"showland\": true, \"subunitcolor\": \"white\"}, \"hoverlabel\": {\"align\": \"left\"}, \"hovermode\": \"closest\", \"mapbox\": {\"style\": \"light\"}, \"paper_bgcolor\": \"white\", \"plot_bgcolor\": \"#E5ECF6\", \"polar\": {\"angularaxis\": {\"gridcolor\": \"white\", \"linecolor\": \"white\", \"ticks\": \"\"}, \"bgcolor\": \"#E5ECF6\", \"radialaxis\": {\"gridcolor\": \"white\", \"linecolor\": \"white\", \"ticks\": \"\"}}, \"scene\": {\"xaxis\": {\"backgroundcolor\": \"#E5ECF6\", \"gridcolor\": \"white\", \"gridwidth\": 2, \"linecolor\": \"white\", \"showbackground\": true, \"ticks\": \"\", \"zerolinecolor\": \"white\"}, \"yaxis\": {\"backgroundcolor\": \"#E5ECF6\", \"gridcolor\": \"white\", \"gridwidth\": 2, \"linecolor\": \"white\", \"showbackground\": true, \"ticks\": \"\", \"zerolinecolor\": \"white\"}, \"zaxis\": {\"backgroundcolor\": \"#E5ECF6\", \"gridcolor\": \"white\", \"gridwidth\": 2, \"linecolor\": \"white\", \"showbackground\": true, \"ticks\": \"\", \"zerolinecolor\": \"white\"}}, \"shapedefaults\": {\"line\": {\"color\": \"#2a3f5f\"}}, \"ternary\": {\"aaxis\": {\"gridcolor\": \"white\", \"linecolor\": \"white\", \"ticks\": \"\"}, \"baxis\": {\"gridcolor\": \"white\", \"linecolor\": \"white\", \"ticks\": \"\"}, \"bgcolor\": \"#E5ECF6\", \"caxis\": {\"gridcolor\": \"white\", \"linecolor\": \"white\", \"ticks\": \"\"}}, \"title\": {\"x\": 0.05}, \"xaxis\": {\"automargin\": true, \"gridcolor\": \"white\", \"linecolor\": \"white\", \"ticks\": \"\", \"title\": {\"standoff\": 15}, \"zerolinecolor\": \"white\", \"zerolinewidth\": 2}, \"yaxis\": {\"automargin\": true, \"gridcolor\": \"white\", \"linecolor\": \"white\", \"ticks\": \"\", \"title\": {\"standoff\": 15}, \"zerolinecolor\": \"white\", \"zerolinewidth\": 2}}}, \"title\": {\"text\": \"first plot\"}, \"xaxis\": {\"title\": {\"text\": \"xaxis\"}}, \"yaxis\": {\"title\": {\"text\": \"Yaxis\"}}},\n",
       "                        {\"responsive\": true}\n",
       "                    ).then(function(){\n",
       "                            \n",
       "var gd = document.getElementById('3a5a3acb-ac33-415a-a1c7-df386e0d964a');\n",
       "var x = new MutationObserver(function (mutations, observer) {{\n",
       "        var display = window.getComputedStyle(gd).display;\n",
       "        if (!display || display === 'none') {{\n",
       "            console.log([gd, 'removed!']);\n",
       "            Plotly.purge(gd);\n",
       "            observer.disconnect();\n",
       "        }}\n",
       "}});\n",
       "\n",
       "// Listen for the removal of the full notebook cells\n",
       "var notebookContainer = gd.closest('#notebook-container');\n",
       "if (notebookContainer) {{\n",
       "    x.observe(notebookContainer, {childList: true});\n",
       "}}\n",
       "\n",
       "// Listen for the clearing of the current output cell\n",
       "var outputEl = gd.closest('.output');\n",
       "if (outputEl) {{\n",
       "    x.observe(outputEl, {childList: true});\n",
       "}}\n",
       "\n",
       "                        })\n",
       "                };\n",
       "                });\n",
       "            </script>\n",
       "        </div>"
      ]
     },
     "metadata": {},
     "output_type": "display_data"
    }
   ],
   "source": [
    "np.random.seed(42)\n",
    "random_x = np.random.randint(1,101,100)\n",
    "random_y = np.random.randint(1,101,100)\n",
    "data = [go.Scatter(x=random_x,y=random_y,mode='markers',marker=dict(size=random_x,color=random_y,showscale=True))]\n",
    "layout = go.Layout(title=\"first plot\",xaxis={\"title\":\"xaxis\"},yaxis=dict(title=\"Yaxis\"),hovermode='closest')\n",
    "fig = go.Figure(data=data,layout=layout)\n",
    "fig"
   ]
  },
  {
   "cell_type": "markdown",
   "metadata": {},
   "source": [
    "# Box Plot"
   ]
  },
  {
   "cell_type": "code",
   "execution_count": 6,
   "metadata": {},
   "outputs": [
    {
     "data": {
      "application/vnd.plotly.v1+json": {
       "config": {
        "plotlyServerURL": "https://plot.ly"
       },
       "data": [
        {
         "boxpoints": "all",
         "jitter": 0.9,
         "name": "vals",
         "pointpos": 0,
         "type": "box",
         "y": [
          0,
          1.0101010101010102,
          2.0202020202020203,
          3.0303030303030303,
          4.040404040404041,
          5.050505050505051,
          6.0606060606060606,
          7.070707070707071,
          8.080808080808081,
          9.090909090909092,
          10.101010101010102,
          11.111111111111112,
          12.121212121212121,
          13.131313131313131,
          14.141414141414142,
          15.151515151515152,
          16.161616161616163,
          17.171717171717173,
          18.181818181818183,
          19.191919191919194,
          20.202020202020204,
          21.212121212121215,
          22.222222222222225,
          23.232323232323235,
          24.242424242424242,
          25.252525252525253,
          26.262626262626263,
          27.272727272727273,
          28.282828282828284,
          29.292929292929294,
          30.303030303030305,
          31.313131313131315,
          32.323232323232325,
          33.333333333333336,
          34.343434343434346,
          35.35353535353536,
          36.36363636363637,
          37.37373737373738,
          38.38383838383839,
          39.3939393939394,
          40.40404040404041,
          41.41414141414142,
          42.42424242424243,
          43.43434343434344,
          44.44444444444445,
          45.45454545454546,
          46.46464646464647,
          47.47474747474748,
          48.484848484848484,
          49.494949494949495,
          50.505050505050505,
          51.515151515151516,
          52.525252525252526,
          53.535353535353536,
          54.54545454545455,
          55.55555555555556,
          56.56565656565657,
          57.57575757575758,
          58.58585858585859,
          59.5959595959596,
          60.60606060606061,
          61.61616161616162,
          62.62626262626263,
          63.63636363636364,
          64.64646464646465,
          65.65656565656566,
          66.66666666666667,
          67.67676767676768,
          68.68686868686869,
          69.6969696969697,
          70.70707070707071,
          71.71717171717172,
          72.72727272727273,
          73.73737373737374,
          74.74747474747475,
          75.75757575757576,
          76.76767676767678,
          77.77777777777779,
          78.7878787878788,
          79.7979797979798,
          80.80808080808082,
          81.81818181818183,
          82.82828282828284,
          83.83838383838385,
          84.84848484848486,
          85.85858585858587,
          86.86868686868688,
          87.87878787878789,
          88.8888888888889,
          89.89898989898991,
          90.90909090909092,
          91.91919191919193,
          92.92929292929294,
          93.93939393939395,
          94.94949494949496,
          95.95959595959597,
          96.96969696969697,
          97.97979797979798,
          98.98989898989899,
          100
         ]
        },
        {
         "boxpoints": "all",
         "name": "vals1",
         "pointpos": 0,
         "type": "box",
         "y": [
          0,
          0.8163265306122449,
          1.6326530612244898,
          2.4489795918367347,
          3.2653061224489797,
          4.081632653061225,
          4.8979591836734695,
          5.714285714285714,
          6.530612244897959,
          7.346938775510204,
          8.16326530612245,
          8.979591836734695,
          9.795918367346939,
          10.612244897959183,
          11.428571428571429,
          12.244897959183675,
          13.061224489795919,
          13.877551020408163,
          14.693877551020408,
          15.510204081632654,
          16.3265306122449,
          17.142857142857142,
          17.95918367346939,
          18.775510204081634,
          19.591836734693878,
          20.408163265306122,
          21.224489795918366,
          22.040816326530614,
          22.857142857142858,
          23.6734693877551,
          24.48979591836735,
          25.306122448979593,
          26.122448979591837,
          26.93877551020408,
          27.755102040816325,
          28.571428571428573,
          29.387755102040817,
          30.20408163265306,
          31.02040816326531,
          31.836734693877553,
          32.6530612244898,
          33.46938775510204,
          34.285714285714285,
          35.10204081632653,
          35.91836734693878,
          36.734693877551024,
          37.55102040816327,
          38.36734693877551,
          39.183673469387756,
          40
         ]
        }
       ],
       "layout": {
        "template": {
         "data": {
          "bar": [
           {
            "error_x": {
             "color": "#2a3f5f"
            },
            "error_y": {
             "color": "#2a3f5f"
            },
            "marker": {
             "line": {
              "color": "#E5ECF6",
              "width": 0.5
             }
            },
            "type": "bar"
           }
          ],
          "barpolar": [
           {
            "marker": {
             "line": {
              "color": "#E5ECF6",
              "width": 0.5
             }
            },
            "type": "barpolar"
           }
          ],
          "carpet": [
           {
            "aaxis": {
             "endlinecolor": "#2a3f5f",
             "gridcolor": "white",
             "linecolor": "white",
             "minorgridcolor": "white",
             "startlinecolor": "#2a3f5f"
            },
            "baxis": {
             "endlinecolor": "#2a3f5f",
             "gridcolor": "white",
             "linecolor": "white",
             "minorgridcolor": "white",
             "startlinecolor": "#2a3f5f"
            },
            "type": "carpet"
           }
          ],
          "choropleth": [
           {
            "colorbar": {
             "outlinewidth": 0,
             "ticks": ""
            },
            "type": "choropleth"
           }
          ],
          "contour": [
           {
            "colorbar": {
             "outlinewidth": 0,
             "ticks": ""
            },
            "colorscale": [
             [
              0,
              "#0d0887"
             ],
             [
              0.1111111111111111,
              "#46039f"
             ],
             [
              0.2222222222222222,
              "#7201a8"
             ],
             [
              0.3333333333333333,
              "#9c179e"
             ],
             [
              0.4444444444444444,
              "#bd3786"
             ],
             [
              0.5555555555555556,
              "#d8576b"
             ],
             [
              0.6666666666666666,
              "#ed7953"
             ],
             [
              0.7777777777777778,
              "#fb9f3a"
             ],
             [
              0.8888888888888888,
              "#fdca26"
             ],
             [
              1,
              "#f0f921"
             ]
            ],
            "type": "contour"
           }
          ],
          "contourcarpet": [
           {
            "colorbar": {
             "outlinewidth": 0,
             "ticks": ""
            },
            "type": "contourcarpet"
           }
          ],
          "heatmap": [
           {
            "colorbar": {
             "outlinewidth": 0,
             "ticks": ""
            },
            "colorscale": [
             [
              0,
              "#0d0887"
             ],
             [
              0.1111111111111111,
              "#46039f"
             ],
             [
              0.2222222222222222,
              "#7201a8"
             ],
             [
              0.3333333333333333,
              "#9c179e"
             ],
             [
              0.4444444444444444,
              "#bd3786"
             ],
             [
              0.5555555555555556,
              "#d8576b"
             ],
             [
              0.6666666666666666,
              "#ed7953"
             ],
             [
              0.7777777777777778,
              "#fb9f3a"
             ],
             [
              0.8888888888888888,
              "#fdca26"
             ],
             [
              1,
              "#f0f921"
             ]
            ],
            "type": "heatmap"
           }
          ],
          "heatmapgl": [
           {
            "colorbar": {
             "outlinewidth": 0,
             "ticks": ""
            },
            "colorscale": [
             [
              0,
              "#0d0887"
             ],
             [
              0.1111111111111111,
              "#46039f"
             ],
             [
              0.2222222222222222,
              "#7201a8"
             ],
             [
              0.3333333333333333,
              "#9c179e"
             ],
             [
              0.4444444444444444,
              "#bd3786"
             ],
             [
              0.5555555555555556,
              "#d8576b"
             ],
             [
              0.6666666666666666,
              "#ed7953"
             ],
             [
              0.7777777777777778,
              "#fb9f3a"
             ],
             [
              0.8888888888888888,
              "#fdca26"
             ],
             [
              1,
              "#f0f921"
             ]
            ],
            "type": "heatmapgl"
           }
          ],
          "histogram": [
           {
            "marker": {
             "colorbar": {
              "outlinewidth": 0,
              "ticks": ""
             }
            },
            "type": "histogram"
           }
          ],
          "histogram2d": [
           {
            "colorbar": {
             "outlinewidth": 0,
             "ticks": ""
            },
            "colorscale": [
             [
              0,
              "#0d0887"
             ],
             [
              0.1111111111111111,
              "#46039f"
             ],
             [
              0.2222222222222222,
              "#7201a8"
             ],
             [
              0.3333333333333333,
              "#9c179e"
             ],
             [
              0.4444444444444444,
              "#bd3786"
             ],
             [
              0.5555555555555556,
              "#d8576b"
             ],
             [
              0.6666666666666666,
              "#ed7953"
             ],
             [
              0.7777777777777778,
              "#fb9f3a"
             ],
             [
              0.8888888888888888,
              "#fdca26"
             ],
             [
              1,
              "#f0f921"
             ]
            ],
            "type": "histogram2d"
           }
          ],
          "histogram2dcontour": [
           {
            "colorbar": {
             "outlinewidth": 0,
             "ticks": ""
            },
            "colorscale": [
             [
              0,
              "#0d0887"
             ],
             [
              0.1111111111111111,
              "#46039f"
             ],
             [
              0.2222222222222222,
              "#7201a8"
             ],
             [
              0.3333333333333333,
              "#9c179e"
             ],
             [
              0.4444444444444444,
              "#bd3786"
             ],
             [
              0.5555555555555556,
              "#d8576b"
             ],
             [
              0.6666666666666666,
              "#ed7953"
             ],
             [
              0.7777777777777778,
              "#fb9f3a"
             ],
             [
              0.8888888888888888,
              "#fdca26"
             ],
             [
              1,
              "#f0f921"
             ]
            ],
            "type": "histogram2dcontour"
           }
          ],
          "mesh3d": [
           {
            "colorbar": {
             "outlinewidth": 0,
             "ticks": ""
            },
            "type": "mesh3d"
           }
          ],
          "parcoords": [
           {
            "line": {
             "colorbar": {
              "outlinewidth": 0,
              "ticks": ""
             }
            },
            "type": "parcoords"
           }
          ],
          "pie": [
           {
            "automargin": true,
            "type": "pie"
           }
          ],
          "scatter": [
           {
            "marker": {
             "colorbar": {
              "outlinewidth": 0,
              "ticks": ""
             }
            },
            "type": "scatter"
           }
          ],
          "scatter3d": [
           {
            "line": {
             "colorbar": {
              "outlinewidth": 0,
              "ticks": ""
             }
            },
            "marker": {
             "colorbar": {
              "outlinewidth": 0,
              "ticks": ""
             }
            },
            "type": "scatter3d"
           }
          ],
          "scattercarpet": [
           {
            "marker": {
             "colorbar": {
              "outlinewidth": 0,
              "ticks": ""
             }
            },
            "type": "scattercarpet"
           }
          ],
          "scattergeo": [
           {
            "marker": {
             "colorbar": {
              "outlinewidth": 0,
              "ticks": ""
             }
            },
            "type": "scattergeo"
           }
          ],
          "scattergl": [
           {
            "marker": {
             "colorbar": {
              "outlinewidth": 0,
              "ticks": ""
             }
            },
            "type": "scattergl"
           }
          ],
          "scattermapbox": [
           {
            "marker": {
             "colorbar": {
              "outlinewidth": 0,
              "ticks": ""
             }
            },
            "type": "scattermapbox"
           }
          ],
          "scatterpolar": [
           {
            "marker": {
             "colorbar": {
              "outlinewidth": 0,
              "ticks": ""
             }
            },
            "type": "scatterpolar"
           }
          ],
          "scatterpolargl": [
           {
            "marker": {
             "colorbar": {
              "outlinewidth": 0,
              "ticks": ""
             }
            },
            "type": "scatterpolargl"
           }
          ],
          "scatterternary": [
           {
            "marker": {
             "colorbar": {
              "outlinewidth": 0,
              "ticks": ""
             }
            },
            "type": "scatterternary"
           }
          ],
          "surface": [
           {
            "colorbar": {
             "outlinewidth": 0,
             "ticks": ""
            },
            "colorscale": [
             [
              0,
              "#0d0887"
             ],
             [
              0.1111111111111111,
              "#46039f"
             ],
             [
              0.2222222222222222,
              "#7201a8"
             ],
             [
              0.3333333333333333,
              "#9c179e"
             ],
             [
              0.4444444444444444,
              "#bd3786"
             ],
             [
              0.5555555555555556,
              "#d8576b"
             ],
             [
              0.6666666666666666,
              "#ed7953"
             ],
             [
              0.7777777777777778,
              "#fb9f3a"
             ],
             [
              0.8888888888888888,
              "#fdca26"
             ],
             [
              1,
              "#f0f921"
             ]
            ],
            "type": "surface"
           }
          ],
          "table": [
           {
            "cells": {
             "fill": {
              "color": "#EBF0F8"
             },
             "line": {
              "color": "white"
             }
            },
            "header": {
             "fill": {
              "color": "#C8D4E3"
             },
             "line": {
              "color": "white"
             }
            },
            "type": "table"
           }
          ]
         },
         "layout": {
          "annotationdefaults": {
           "arrowcolor": "#2a3f5f",
           "arrowhead": 0,
           "arrowwidth": 1
          },
          "coloraxis": {
           "colorbar": {
            "outlinewidth": 0,
            "ticks": ""
           }
          },
          "colorscale": {
           "diverging": [
            [
             0,
             "#8e0152"
            ],
            [
             0.1,
             "#c51b7d"
            ],
            [
             0.2,
             "#de77ae"
            ],
            [
             0.3,
             "#f1b6da"
            ],
            [
             0.4,
             "#fde0ef"
            ],
            [
             0.5,
             "#f7f7f7"
            ],
            [
             0.6,
             "#e6f5d0"
            ],
            [
             0.7,
             "#b8e186"
            ],
            [
             0.8,
             "#7fbc41"
            ],
            [
             0.9,
             "#4d9221"
            ],
            [
             1,
             "#276419"
            ]
           ],
           "sequential": [
            [
             0,
             "#0d0887"
            ],
            [
             0.1111111111111111,
             "#46039f"
            ],
            [
             0.2222222222222222,
             "#7201a8"
            ],
            [
             0.3333333333333333,
             "#9c179e"
            ],
            [
             0.4444444444444444,
             "#bd3786"
            ],
            [
             0.5555555555555556,
             "#d8576b"
            ],
            [
             0.6666666666666666,
             "#ed7953"
            ],
            [
             0.7777777777777778,
             "#fb9f3a"
            ],
            [
             0.8888888888888888,
             "#fdca26"
            ],
            [
             1,
             "#f0f921"
            ]
           ],
           "sequentialminus": [
            [
             0,
             "#0d0887"
            ],
            [
             0.1111111111111111,
             "#46039f"
            ],
            [
             0.2222222222222222,
             "#7201a8"
            ],
            [
             0.3333333333333333,
             "#9c179e"
            ],
            [
             0.4444444444444444,
             "#bd3786"
            ],
            [
             0.5555555555555556,
             "#d8576b"
            ],
            [
             0.6666666666666666,
             "#ed7953"
            ],
            [
             0.7777777777777778,
             "#fb9f3a"
            ],
            [
             0.8888888888888888,
             "#fdca26"
            ],
            [
             1,
             "#f0f921"
            ]
           ]
          },
          "colorway": [
           "#636efa",
           "#EF553B",
           "#00cc96",
           "#ab63fa",
           "#FFA15A",
           "#19d3f3",
           "#FF6692",
           "#B6E880",
           "#FF97FF",
           "#FECB52"
          ],
          "font": {
           "color": "#2a3f5f"
          },
          "geo": {
           "bgcolor": "white",
           "lakecolor": "white",
           "landcolor": "#E5ECF6",
           "showlakes": true,
           "showland": true,
           "subunitcolor": "white"
          },
          "hoverlabel": {
           "align": "left"
          },
          "hovermode": "closest",
          "mapbox": {
           "style": "light"
          },
          "paper_bgcolor": "white",
          "plot_bgcolor": "#E5ECF6",
          "polar": {
           "angularaxis": {
            "gridcolor": "white",
            "linecolor": "white",
            "ticks": ""
           },
           "bgcolor": "#E5ECF6",
           "radialaxis": {
            "gridcolor": "white",
            "linecolor": "white",
            "ticks": ""
           }
          },
          "scene": {
           "xaxis": {
            "backgroundcolor": "#E5ECF6",
            "gridcolor": "white",
            "gridwidth": 2,
            "linecolor": "white",
            "showbackground": true,
            "ticks": "",
            "zerolinecolor": "white"
           },
           "yaxis": {
            "backgroundcolor": "#E5ECF6",
            "gridcolor": "white",
            "gridwidth": 2,
            "linecolor": "white",
            "showbackground": true,
            "ticks": "",
            "zerolinecolor": "white"
           },
           "zaxis": {
            "backgroundcolor": "#E5ECF6",
            "gridcolor": "white",
            "gridwidth": 2,
            "linecolor": "white",
            "showbackground": true,
            "ticks": "",
            "zerolinecolor": "white"
           }
          },
          "shapedefaults": {
           "line": {
            "color": "#2a3f5f"
           }
          },
          "ternary": {
           "aaxis": {
            "gridcolor": "white",
            "linecolor": "white",
            "ticks": ""
           },
           "baxis": {
            "gridcolor": "white",
            "linecolor": "white",
            "ticks": ""
           },
           "bgcolor": "#E5ECF6",
           "caxis": {
            "gridcolor": "white",
            "linecolor": "white",
            "ticks": ""
           }
          },
          "title": {
           "x": 0.05
          },
          "xaxis": {
           "automargin": true,
           "gridcolor": "white",
           "linecolor": "white",
           "ticks": "",
           "title": {
            "standoff": 15
           },
           "zerolinecolor": "white",
           "zerolinewidth": 2
          },
          "yaxis": {
           "automargin": true,
           "gridcolor": "white",
           "linecolor": "white",
           "ticks": "",
           "title": {
            "standoff": 15
           },
           "zerolinecolor": "white",
           "zerolinewidth": 2
          }
         }
        }
       }
      },
      "text/html": [
       "<div>\n",
       "        \n",
       "        \n",
       "            <div id=\"94585551-49a1-4b14-b73e-8d70904270e2\" class=\"plotly-graph-div\" style=\"height:525px; width:100%;\"></div>\n",
       "            <script type=\"text/javascript\">\n",
       "                require([\"plotly\"], function(Plotly) {\n",
       "                    window.PLOTLYENV=window.PLOTLYENV || {};\n",
       "                    \n",
       "                if (document.getElementById(\"94585551-49a1-4b14-b73e-8d70904270e2\")) {\n",
       "                    Plotly.newPlot(\n",
       "                        '94585551-49a1-4b14-b73e-8d70904270e2',\n",
       "                        [{\"boxpoints\": \"all\", \"jitter\": 0.9, \"name\": \"vals\", \"pointpos\": 0, \"type\": \"box\", \"y\": [0.0, 1.0101010101010102, 2.0202020202020203, 3.0303030303030303, 4.040404040404041, 5.050505050505051, 6.0606060606060606, 7.070707070707071, 8.080808080808081, 9.090909090909092, 10.101010101010102, 11.111111111111112, 12.121212121212121, 13.131313131313131, 14.141414141414142, 15.151515151515152, 16.161616161616163, 17.171717171717173, 18.181818181818183, 19.191919191919194, 20.202020202020204, 21.212121212121215, 22.222222222222225, 23.232323232323235, 24.242424242424242, 25.252525252525253, 26.262626262626263, 27.272727272727273, 28.282828282828284, 29.292929292929294, 30.303030303030305, 31.313131313131315, 32.323232323232325, 33.333333333333336, 34.343434343434346, 35.35353535353536, 36.36363636363637, 37.37373737373738, 38.38383838383839, 39.3939393939394, 40.40404040404041, 41.41414141414142, 42.42424242424243, 43.43434343434344, 44.44444444444445, 45.45454545454546, 46.46464646464647, 47.47474747474748, 48.484848484848484, 49.494949494949495, 50.505050505050505, 51.515151515151516, 52.525252525252526, 53.535353535353536, 54.54545454545455, 55.55555555555556, 56.56565656565657, 57.57575757575758, 58.58585858585859, 59.5959595959596, 60.60606060606061, 61.61616161616162, 62.62626262626263, 63.63636363636364, 64.64646464646465, 65.65656565656566, 66.66666666666667, 67.67676767676768, 68.68686868686869, 69.6969696969697, 70.70707070707071, 71.71717171717172, 72.72727272727273, 73.73737373737374, 74.74747474747475, 75.75757575757576, 76.76767676767678, 77.77777777777779, 78.7878787878788, 79.7979797979798, 80.80808080808082, 81.81818181818183, 82.82828282828284, 83.83838383838385, 84.84848484848486, 85.85858585858587, 86.86868686868688, 87.87878787878789, 88.8888888888889, 89.89898989898991, 90.90909090909092, 91.91919191919193, 92.92929292929294, 93.93939393939395, 94.94949494949496, 95.95959595959597, 96.96969696969697, 97.97979797979798, 98.98989898989899, 100.0]}, {\"boxpoints\": \"all\", \"name\": \"vals1\", \"pointpos\": 0, \"type\": \"box\", \"y\": [0.0, 0.8163265306122449, 1.6326530612244898, 2.4489795918367347, 3.2653061224489797, 4.081632653061225, 4.8979591836734695, 5.714285714285714, 6.530612244897959, 7.346938775510204, 8.16326530612245, 8.979591836734695, 9.795918367346939, 10.612244897959183, 11.428571428571429, 12.244897959183675, 13.061224489795919, 13.877551020408163, 14.693877551020408, 15.510204081632654, 16.3265306122449, 17.142857142857142, 17.95918367346939, 18.775510204081634, 19.591836734693878, 20.408163265306122, 21.224489795918366, 22.040816326530614, 22.857142857142858, 23.6734693877551, 24.48979591836735, 25.306122448979593, 26.122448979591837, 26.93877551020408, 27.755102040816325, 28.571428571428573, 29.387755102040817, 30.20408163265306, 31.02040816326531, 31.836734693877553, 32.6530612244898, 33.46938775510204, 34.285714285714285, 35.10204081632653, 35.91836734693878, 36.734693877551024, 37.55102040816327, 38.36734693877551, 39.183673469387756, 40.0]}],\n",
       "                        {\"template\": {\"data\": {\"bar\": [{\"error_x\": {\"color\": \"#2a3f5f\"}, \"error_y\": {\"color\": \"#2a3f5f\"}, \"marker\": {\"line\": {\"color\": \"#E5ECF6\", \"width\": 0.5}}, \"type\": \"bar\"}], \"barpolar\": [{\"marker\": {\"line\": {\"color\": \"#E5ECF6\", \"width\": 0.5}}, \"type\": \"barpolar\"}], \"carpet\": [{\"aaxis\": {\"endlinecolor\": \"#2a3f5f\", \"gridcolor\": \"white\", \"linecolor\": \"white\", \"minorgridcolor\": \"white\", \"startlinecolor\": \"#2a3f5f\"}, \"baxis\": {\"endlinecolor\": \"#2a3f5f\", \"gridcolor\": \"white\", \"linecolor\": \"white\", \"minorgridcolor\": \"white\", \"startlinecolor\": \"#2a3f5f\"}, \"type\": \"carpet\"}], \"choropleth\": [{\"colorbar\": {\"outlinewidth\": 0, \"ticks\": \"\"}, \"type\": \"choropleth\"}], \"contour\": [{\"colorbar\": {\"outlinewidth\": 0, \"ticks\": \"\"}, \"colorscale\": [[0.0, \"#0d0887\"], [0.1111111111111111, \"#46039f\"], [0.2222222222222222, \"#7201a8\"], [0.3333333333333333, \"#9c179e\"], [0.4444444444444444, \"#bd3786\"], [0.5555555555555556, \"#d8576b\"], [0.6666666666666666, \"#ed7953\"], [0.7777777777777778, \"#fb9f3a\"], [0.8888888888888888, \"#fdca26\"], [1.0, \"#f0f921\"]], \"type\": \"contour\"}], \"contourcarpet\": [{\"colorbar\": {\"outlinewidth\": 0, \"ticks\": \"\"}, \"type\": \"contourcarpet\"}], \"heatmap\": [{\"colorbar\": {\"outlinewidth\": 0, \"ticks\": \"\"}, \"colorscale\": [[0.0, \"#0d0887\"], [0.1111111111111111, \"#46039f\"], [0.2222222222222222, \"#7201a8\"], [0.3333333333333333, \"#9c179e\"], [0.4444444444444444, \"#bd3786\"], [0.5555555555555556, \"#d8576b\"], [0.6666666666666666, \"#ed7953\"], [0.7777777777777778, \"#fb9f3a\"], [0.8888888888888888, \"#fdca26\"], [1.0, \"#f0f921\"]], \"type\": \"heatmap\"}], \"heatmapgl\": [{\"colorbar\": {\"outlinewidth\": 0, \"ticks\": \"\"}, \"colorscale\": [[0.0, \"#0d0887\"], [0.1111111111111111, \"#46039f\"], [0.2222222222222222, \"#7201a8\"], [0.3333333333333333, \"#9c179e\"], [0.4444444444444444, \"#bd3786\"], [0.5555555555555556, \"#d8576b\"], [0.6666666666666666, \"#ed7953\"], [0.7777777777777778, \"#fb9f3a\"], [0.8888888888888888, \"#fdca26\"], [1.0, \"#f0f921\"]], \"type\": \"heatmapgl\"}], \"histogram\": [{\"marker\": {\"colorbar\": {\"outlinewidth\": 0, \"ticks\": \"\"}}, \"type\": \"histogram\"}], \"histogram2d\": [{\"colorbar\": {\"outlinewidth\": 0, \"ticks\": \"\"}, \"colorscale\": [[0.0, \"#0d0887\"], [0.1111111111111111, \"#46039f\"], [0.2222222222222222, \"#7201a8\"], [0.3333333333333333, \"#9c179e\"], [0.4444444444444444, \"#bd3786\"], [0.5555555555555556, \"#d8576b\"], [0.6666666666666666, \"#ed7953\"], [0.7777777777777778, \"#fb9f3a\"], [0.8888888888888888, \"#fdca26\"], [1.0, \"#f0f921\"]], \"type\": \"histogram2d\"}], \"histogram2dcontour\": [{\"colorbar\": {\"outlinewidth\": 0, \"ticks\": \"\"}, \"colorscale\": [[0.0, \"#0d0887\"], [0.1111111111111111, \"#46039f\"], [0.2222222222222222, \"#7201a8\"], [0.3333333333333333, \"#9c179e\"], [0.4444444444444444, \"#bd3786\"], [0.5555555555555556, \"#d8576b\"], [0.6666666666666666, \"#ed7953\"], [0.7777777777777778, \"#fb9f3a\"], [0.8888888888888888, \"#fdca26\"], [1.0, \"#f0f921\"]], \"type\": \"histogram2dcontour\"}], \"mesh3d\": [{\"colorbar\": {\"outlinewidth\": 0, \"ticks\": \"\"}, \"type\": \"mesh3d\"}], \"parcoords\": [{\"line\": {\"colorbar\": {\"outlinewidth\": 0, \"ticks\": \"\"}}, \"type\": \"parcoords\"}], \"pie\": [{\"automargin\": true, \"type\": \"pie\"}], \"scatter\": [{\"marker\": {\"colorbar\": {\"outlinewidth\": 0, \"ticks\": \"\"}}, \"type\": \"scatter\"}], \"scatter3d\": [{\"line\": {\"colorbar\": {\"outlinewidth\": 0, \"ticks\": \"\"}}, \"marker\": {\"colorbar\": {\"outlinewidth\": 0, \"ticks\": \"\"}}, \"type\": \"scatter3d\"}], \"scattercarpet\": [{\"marker\": {\"colorbar\": {\"outlinewidth\": 0, \"ticks\": \"\"}}, \"type\": \"scattercarpet\"}], \"scattergeo\": [{\"marker\": {\"colorbar\": {\"outlinewidth\": 0, \"ticks\": \"\"}}, \"type\": \"scattergeo\"}], \"scattergl\": [{\"marker\": {\"colorbar\": {\"outlinewidth\": 0, \"ticks\": \"\"}}, \"type\": \"scattergl\"}], \"scattermapbox\": [{\"marker\": {\"colorbar\": {\"outlinewidth\": 0, \"ticks\": \"\"}}, \"type\": \"scattermapbox\"}], \"scatterpolar\": [{\"marker\": {\"colorbar\": {\"outlinewidth\": 0, \"ticks\": \"\"}}, \"type\": \"scatterpolar\"}], \"scatterpolargl\": [{\"marker\": {\"colorbar\": {\"outlinewidth\": 0, \"ticks\": \"\"}}, \"type\": \"scatterpolargl\"}], \"scatterternary\": [{\"marker\": {\"colorbar\": {\"outlinewidth\": 0, \"ticks\": \"\"}}, \"type\": \"scatterternary\"}], \"surface\": [{\"colorbar\": {\"outlinewidth\": 0, \"ticks\": \"\"}, \"colorscale\": [[0.0, \"#0d0887\"], [0.1111111111111111, \"#46039f\"], [0.2222222222222222, \"#7201a8\"], [0.3333333333333333, \"#9c179e\"], [0.4444444444444444, \"#bd3786\"], [0.5555555555555556, \"#d8576b\"], [0.6666666666666666, \"#ed7953\"], [0.7777777777777778, \"#fb9f3a\"], [0.8888888888888888, \"#fdca26\"], [1.0, \"#f0f921\"]], \"type\": \"surface\"}], \"table\": [{\"cells\": {\"fill\": {\"color\": \"#EBF0F8\"}, \"line\": {\"color\": \"white\"}}, \"header\": {\"fill\": {\"color\": \"#C8D4E3\"}, \"line\": {\"color\": \"white\"}}, \"type\": \"table\"}]}, \"layout\": {\"annotationdefaults\": {\"arrowcolor\": \"#2a3f5f\", \"arrowhead\": 0, \"arrowwidth\": 1}, \"coloraxis\": {\"colorbar\": {\"outlinewidth\": 0, \"ticks\": \"\"}}, \"colorscale\": {\"diverging\": [[0, \"#8e0152\"], [0.1, \"#c51b7d\"], [0.2, \"#de77ae\"], [0.3, \"#f1b6da\"], [0.4, \"#fde0ef\"], [0.5, \"#f7f7f7\"], [0.6, \"#e6f5d0\"], [0.7, \"#b8e186\"], [0.8, \"#7fbc41\"], [0.9, \"#4d9221\"], [1, \"#276419\"]], \"sequential\": [[0.0, \"#0d0887\"], [0.1111111111111111, \"#46039f\"], [0.2222222222222222, \"#7201a8\"], [0.3333333333333333, \"#9c179e\"], [0.4444444444444444, \"#bd3786\"], [0.5555555555555556, \"#d8576b\"], [0.6666666666666666, \"#ed7953\"], [0.7777777777777778, \"#fb9f3a\"], [0.8888888888888888, \"#fdca26\"], [1.0, \"#f0f921\"]], \"sequentialminus\": [[0.0, \"#0d0887\"], [0.1111111111111111, \"#46039f\"], [0.2222222222222222, \"#7201a8\"], [0.3333333333333333, \"#9c179e\"], [0.4444444444444444, \"#bd3786\"], [0.5555555555555556, \"#d8576b\"], [0.6666666666666666, \"#ed7953\"], [0.7777777777777778, \"#fb9f3a\"], [0.8888888888888888, \"#fdca26\"], [1.0, \"#f0f921\"]]}, \"colorway\": [\"#636efa\", \"#EF553B\", \"#00cc96\", \"#ab63fa\", \"#FFA15A\", \"#19d3f3\", \"#FF6692\", \"#B6E880\", \"#FF97FF\", \"#FECB52\"], \"font\": {\"color\": \"#2a3f5f\"}, \"geo\": {\"bgcolor\": \"white\", \"lakecolor\": \"white\", \"landcolor\": \"#E5ECF6\", \"showlakes\": true, \"showland\": true, \"subunitcolor\": \"white\"}, \"hoverlabel\": {\"align\": \"left\"}, \"hovermode\": \"closest\", \"mapbox\": {\"style\": \"light\"}, \"paper_bgcolor\": \"white\", \"plot_bgcolor\": \"#E5ECF6\", \"polar\": {\"angularaxis\": {\"gridcolor\": \"white\", \"linecolor\": \"white\", \"ticks\": \"\"}, \"bgcolor\": \"#E5ECF6\", \"radialaxis\": {\"gridcolor\": \"white\", \"linecolor\": \"white\", \"ticks\": \"\"}}, \"scene\": {\"xaxis\": {\"backgroundcolor\": \"#E5ECF6\", \"gridcolor\": \"white\", \"gridwidth\": 2, \"linecolor\": \"white\", \"showbackground\": true, \"ticks\": \"\", \"zerolinecolor\": \"white\"}, \"yaxis\": {\"backgroundcolor\": \"#E5ECF6\", \"gridcolor\": \"white\", \"gridwidth\": 2, \"linecolor\": \"white\", \"showbackground\": true, \"ticks\": \"\", \"zerolinecolor\": \"white\"}, \"zaxis\": {\"backgroundcolor\": \"#E5ECF6\", \"gridcolor\": \"white\", \"gridwidth\": 2, \"linecolor\": \"white\", \"showbackground\": true, \"ticks\": \"\", \"zerolinecolor\": \"white\"}}, \"shapedefaults\": {\"line\": {\"color\": \"#2a3f5f\"}}, \"ternary\": {\"aaxis\": {\"gridcolor\": \"white\", \"linecolor\": \"white\", \"ticks\": \"\"}, \"baxis\": {\"gridcolor\": \"white\", \"linecolor\": \"white\", \"ticks\": \"\"}, \"bgcolor\": \"#E5ECF6\", \"caxis\": {\"gridcolor\": \"white\", \"linecolor\": \"white\", \"ticks\": \"\"}}, \"title\": {\"x\": 0.05}, \"xaxis\": {\"automargin\": true, \"gridcolor\": \"white\", \"linecolor\": \"white\", \"ticks\": \"\", \"title\": {\"standoff\": 15}, \"zerolinecolor\": \"white\", \"zerolinewidth\": 2}, \"yaxis\": {\"automargin\": true, \"gridcolor\": \"white\", \"linecolor\": \"white\", \"ticks\": \"\", \"title\": {\"standoff\": 15}, \"zerolinecolor\": \"white\", \"zerolinewidth\": 2}}}},\n",
       "                        {\"responsive\": true}\n",
       "                    ).then(function(){\n",
       "                            \n",
       "var gd = document.getElementById('94585551-49a1-4b14-b73e-8d70904270e2');\n",
       "var x = new MutationObserver(function (mutations, observer) {{\n",
       "        var display = window.getComputedStyle(gd).display;\n",
       "        if (!display || display === 'none') {{\n",
       "            console.log([gd, 'removed!']);\n",
       "            Plotly.purge(gd);\n",
       "            observer.disconnect();\n",
       "        }}\n",
       "}});\n",
       "\n",
       "// Listen for the removal of the full notebook cells\n",
       "var notebookContainer = gd.closest('#notebook-container');\n",
       "if (notebookContainer) {{\n",
       "    x.observe(notebookContainer, {childList: true});\n",
       "}}\n",
       "\n",
       "// Listen for the clearing of the current output cell\n",
       "var outputEl = gd.closest('.output');\n",
       "if (outputEl) {{\n",
       "    x.observe(outputEl, {childList: true});\n",
       "}}\n",
       "\n",
       "                        })\n",
       "                };\n",
       "                });\n",
       "            </script>\n",
       "        </div>"
      ]
     },
     "metadata": {},
     "output_type": "display_data"
    }
   ],
   "source": [
    "vals = np.linspace(0,100,100)\n",
    "vals1=np.linspace(0,40,50)\n",
    "data = [go.Box(y=vals,name='vals',boxpoints='all',jitter=0.9,pointpos=0),\n",
    "       go.Box(y=vals1,name='vals1',boxpoints='all',pointpos=0)]\n",
    "go.Figure(data=data)"
   ]
  },
  {
   "cell_type": "markdown",
   "metadata": {},
   "source": [
    "# Histogram"
   ]
  },
  {
   "cell_type": "code",
   "execution_count": 7,
   "metadata": {},
   "outputs": [
    {
     "data": {
      "application/vnd.plotly.v1+json": {
       "config": {
        "plotlyServerURL": "https://plot.ly"
       },
       "data": [
        {
         "type": "histogram",
         "x": [
          648,
          317,
          676,
          224,
          818,
          233,
          683,
          663,
          974,
          826
         ],
         "xbins": {
          "end": 500,
          "size": 2,
          "start": 0
         }
        }
       ],
       "layout": {
        "template": {
         "data": {
          "bar": [
           {
            "error_x": {
             "color": "#2a3f5f"
            },
            "error_y": {
             "color": "#2a3f5f"
            },
            "marker": {
             "line": {
              "color": "#E5ECF6",
              "width": 0.5
             }
            },
            "type": "bar"
           }
          ],
          "barpolar": [
           {
            "marker": {
             "line": {
              "color": "#E5ECF6",
              "width": 0.5
             }
            },
            "type": "barpolar"
           }
          ],
          "carpet": [
           {
            "aaxis": {
             "endlinecolor": "#2a3f5f",
             "gridcolor": "white",
             "linecolor": "white",
             "minorgridcolor": "white",
             "startlinecolor": "#2a3f5f"
            },
            "baxis": {
             "endlinecolor": "#2a3f5f",
             "gridcolor": "white",
             "linecolor": "white",
             "minorgridcolor": "white",
             "startlinecolor": "#2a3f5f"
            },
            "type": "carpet"
           }
          ],
          "choropleth": [
           {
            "colorbar": {
             "outlinewidth": 0,
             "ticks": ""
            },
            "type": "choropleth"
           }
          ],
          "contour": [
           {
            "colorbar": {
             "outlinewidth": 0,
             "ticks": ""
            },
            "colorscale": [
             [
              0,
              "#0d0887"
             ],
             [
              0.1111111111111111,
              "#46039f"
             ],
             [
              0.2222222222222222,
              "#7201a8"
             ],
             [
              0.3333333333333333,
              "#9c179e"
             ],
             [
              0.4444444444444444,
              "#bd3786"
             ],
             [
              0.5555555555555556,
              "#d8576b"
             ],
             [
              0.6666666666666666,
              "#ed7953"
             ],
             [
              0.7777777777777778,
              "#fb9f3a"
             ],
             [
              0.8888888888888888,
              "#fdca26"
             ],
             [
              1,
              "#f0f921"
             ]
            ],
            "type": "contour"
           }
          ],
          "contourcarpet": [
           {
            "colorbar": {
             "outlinewidth": 0,
             "ticks": ""
            },
            "type": "contourcarpet"
           }
          ],
          "heatmap": [
           {
            "colorbar": {
             "outlinewidth": 0,
             "ticks": ""
            },
            "colorscale": [
             [
              0,
              "#0d0887"
             ],
             [
              0.1111111111111111,
              "#46039f"
             ],
             [
              0.2222222222222222,
              "#7201a8"
             ],
             [
              0.3333333333333333,
              "#9c179e"
             ],
             [
              0.4444444444444444,
              "#bd3786"
             ],
             [
              0.5555555555555556,
              "#d8576b"
             ],
             [
              0.6666666666666666,
              "#ed7953"
             ],
             [
              0.7777777777777778,
              "#fb9f3a"
             ],
             [
              0.8888888888888888,
              "#fdca26"
             ],
             [
              1,
              "#f0f921"
             ]
            ],
            "type": "heatmap"
           }
          ],
          "heatmapgl": [
           {
            "colorbar": {
             "outlinewidth": 0,
             "ticks": ""
            },
            "colorscale": [
             [
              0,
              "#0d0887"
             ],
             [
              0.1111111111111111,
              "#46039f"
             ],
             [
              0.2222222222222222,
              "#7201a8"
             ],
             [
              0.3333333333333333,
              "#9c179e"
             ],
             [
              0.4444444444444444,
              "#bd3786"
             ],
             [
              0.5555555555555556,
              "#d8576b"
             ],
             [
              0.6666666666666666,
              "#ed7953"
             ],
             [
              0.7777777777777778,
              "#fb9f3a"
             ],
             [
              0.8888888888888888,
              "#fdca26"
             ],
             [
              1,
              "#f0f921"
             ]
            ],
            "type": "heatmapgl"
           }
          ],
          "histogram": [
           {
            "marker": {
             "colorbar": {
              "outlinewidth": 0,
              "ticks": ""
             }
            },
            "type": "histogram"
           }
          ],
          "histogram2d": [
           {
            "colorbar": {
             "outlinewidth": 0,
             "ticks": ""
            },
            "colorscale": [
             [
              0,
              "#0d0887"
             ],
             [
              0.1111111111111111,
              "#46039f"
             ],
             [
              0.2222222222222222,
              "#7201a8"
             ],
             [
              0.3333333333333333,
              "#9c179e"
             ],
             [
              0.4444444444444444,
              "#bd3786"
             ],
             [
              0.5555555555555556,
              "#d8576b"
             ],
             [
              0.6666666666666666,
              "#ed7953"
             ],
             [
              0.7777777777777778,
              "#fb9f3a"
             ],
             [
              0.8888888888888888,
              "#fdca26"
             ],
             [
              1,
              "#f0f921"
             ]
            ],
            "type": "histogram2d"
           }
          ],
          "histogram2dcontour": [
           {
            "colorbar": {
             "outlinewidth": 0,
             "ticks": ""
            },
            "colorscale": [
             [
              0,
              "#0d0887"
             ],
             [
              0.1111111111111111,
              "#46039f"
             ],
             [
              0.2222222222222222,
              "#7201a8"
             ],
             [
              0.3333333333333333,
              "#9c179e"
             ],
             [
              0.4444444444444444,
              "#bd3786"
             ],
             [
              0.5555555555555556,
              "#d8576b"
             ],
             [
              0.6666666666666666,
              "#ed7953"
             ],
             [
              0.7777777777777778,
              "#fb9f3a"
             ],
             [
              0.8888888888888888,
              "#fdca26"
             ],
             [
              1,
              "#f0f921"
             ]
            ],
            "type": "histogram2dcontour"
           }
          ],
          "mesh3d": [
           {
            "colorbar": {
             "outlinewidth": 0,
             "ticks": ""
            },
            "type": "mesh3d"
           }
          ],
          "parcoords": [
           {
            "line": {
             "colorbar": {
              "outlinewidth": 0,
              "ticks": ""
             }
            },
            "type": "parcoords"
           }
          ],
          "pie": [
           {
            "automargin": true,
            "type": "pie"
           }
          ],
          "scatter": [
           {
            "marker": {
             "colorbar": {
              "outlinewidth": 0,
              "ticks": ""
             }
            },
            "type": "scatter"
           }
          ],
          "scatter3d": [
           {
            "line": {
             "colorbar": {
              "outlinewidth": 0,
              "ticks": ""
             }
            },
            "marker": {
             "colorbar": {
              "outlinewidth": 0,
              "ticks": ""
             }
            },
            "type": "scatter3d"
           }
          ],
          "scattercarpet": [
           {
            "marker": {
             "colorbar": {
              "outlinewidth": 0,
              "ticks": ""
             }
            },
            "type": "scattercarpet"
           }
          ],
          "scattergeo": [
           {
            "marker": {
             "colorbar": {
              "outlinewidth": 0,
              "ticks": ""
             }
            },
            "type": "scattergeo"
           }
          ],
          "scattergl": [
           {
            "marker": {
             "colorbar": {
              "outlinewidth": 0,
              "ticks": ""
             }
            },
            "type": "scattergl"
           }
          ],
          "scattermapbox": [
           {
            "marker": {
             "colorbar": {
              "outlinewidth": 0,
              "ticks": ""
             }
            },
            "type": "scattermapbox"
           }
          ],
          "scatterpolar": [
           {
            "marker": {
             "colorbar": {
              "outlinewidth": 0,
              "ticks": ""
             }
            },
            "type": "scatterpolar"
           }
          ],
          "scatterpolargl": [
           {
            "marker": {
             "colorbar": {
              "outlinewidth": 0,
              "ticks": ""
             }
            },
            "type": "scatterpolargl"
           }
          ],
          "scatterternary": [
           {
            "marker": {
             "colorbar": {
              "outlinewidth": 0,
              "ticks": ""
             }
            },
            "type": "scatterternary"
           }
          ],
          "surface": [
           {
            "colorbar": {
             "outlinewidth": 0,
             "ticks": ""
            },
            "colorscale": [
             [
              0,
              "#0d0887"
             ],
             [
              0.1111111111111111,
              "#46039f"
             ],
             [
              0.2222222222222222,
              "#7201a8"
             ],
             [
              0.3333333333333333,
              "#9c179e"
             ],
             [
              0.4444444444444444,
              "#bd3786"
             ],
             [
              0.5555555555555556,
              "#d8576b"
             ],
             [
              0.6666666666666666,
              "#ed7953"
             ],
             [
              0.7777777777777778,
              "#fb9f3a"
             ],
             [
              0.8888888888888888,
              "#fdca26"
             ],
             [
              1,
              "#f0f921"
             ]
            ],
            "type": "surface"
           }
          ],
          "table": [
           {
            "cells": {
             "fill": {
              "color": "#EBF0F8"
             },
             "line": {
              "color": "white"
             }
            },
            "header": {
             "fill": {
              "color": "#C8D4E3"
             },
             "line": {
              "color": "white"
             }
            },
            "type": "table"
           }
          ]
         },
         "layout": {
          "annotationdefaults": {
           "arrowcolor": "#2a3f5f",
           "arrowhead": 0,
           "arrowwidth": 1
          },
          "coloraxis": {
           "colorbar": {
            "outlinewidth": 0,
            "ticks": ""
           }
          },
          "colorscale": {
           "diverging": [
            [
             0,
             "#8e0152"
            ],
            [
             0.1,
             "#c51b7d"
            ],
            [
             0.2,
             "#de77ae"
            ],
            [
             0.3,
             "#f1b6da"
            ],
            [
             0.4,
             "#fde0ef"
            ],
            [
             0.5,
             "#f7f7f7"
            ],
            [
             0.6,
             "#e6f5d0"
            ],
            [
             0.7,
             "#b8e186"
            ],
            [
             0.8,
             "#7fbc41"
            ],
            [
             0.9,
             "#4d9221"
            ],
            [
             1,
             "#276419"
            ]
           ],
           "sequential": [
            [
             0,
             "#0d0887"
            ],
            [
             0.1111111111111111,
             "#46039f"
            ],
            [
             0.2222222222222222,
             "#7201a8"
            ],
            [
             0.3333333333333333,
             "#9c179e"
            ],
            [
             0.4444444444444444,
             "#bd3786"
            ],
            [
             0.5555555555555556,
             "#d8576b"
            ],
            [
             0.6666666666666666,
             "#ed7953"
            ],
            [
             0.7777777777777778,
             "#fb9f3a"
            ],
            [
             0.8888888888888888,
             "#fdca26"
            ],
            [
             1,
             "#f0f921"
            ]
           ],
           "sequentialminus": [
            [
             0,
             "#0d0887"
            ],
            [
             0.1111111111111111,
             "#46039f"
            ],
            [
             0.2222222222222222,
             "#7201a8"
            ],
            [
             0.3333333333333333,
             "#9c179e"
            ],
            [
             0.4444444444444444,
             "#bd3786"
            ],
            [
             0.5555555555555556,
             "#d8576b"
            ],
            [
             0.6666666666666666,
             "#ed7953"
            ],
            [
             0.7777777777777778,
             "#fb9f3a"
            ],
            [
             0.8888888888888888,
             "#fdca26"
            ],
            [
             1,
             "#f0f921"
            ]
           ]
          },
          "colorway": [
           "#636efa",
           "#EF553B",
           "#00cc96",
           "#ab63fa",
           "#FFA15A",
           "#19d3f3",
           "#FF6692",
           "#B6E880",
           "#FF97FF",
           "#FECB52"
          ],
          "font": {
           "color": "#2a3f5f"
          },
          "geo": {
           "bgcolor": "white",
           "lakecolor": "white",
           "landcolor": "#E5ECF6",
           "showlakes": true,
           "showland": true,
           "subunitcolor": "white"
          },
          "hoverlabel": {
           "align": "left"
          },
          "hovermode": "closest",
          "mapbox": {
           "style": "light"
          },
          "paper_bgcolor": "white",
          "plot_bgcolor": "#E5ECF6",
          "polar": {
           "angularaxis": {
            "gridcolor": "white",
            "linecolor": "white",
            "ticks": ""
           },
           "bgcolor": "#E5ECF6",
           "radialaxis": {
            "gridcolor": "white",
            "linecolor": "white",
            "ticks": ""
           }
          },
          "scene": {
           "xaxis": {
            "backgroundcolor": "#E5ECF6",
            "gridcolor": "white",
            "gridwidth": 2,
            "linecolor": "white",
            "showbackground": true,
            "ticks": "",
            "zerolinecolor": "white"
           },
           "yaxis": {
            "backgroundcolor": "#E5ECF6",
            "gridcolor": "white",
            "gridwidth": 2,
            "linecolor": "white",
            "showbackground": true,
            "ticks": "",
            "zerolinecolor": "white"
           },
           "zaxis": {
            "backgroundcolor": "#E5ECF6",
            "gridcolor": "white",
            "gridwidth": 2,
            "linecolor": "white",
            "showbackground": true,
            "ticks": "",
            "zerolinecolor": "white"
           }
          },
          "shapedefaults": {
           "line": {
            "color": "#2a3f5f"
           }
          },
          "ternary": {
           "aaxis": {
            "gridcolor": "white",
            "linecolor": "white",
            "ticks": ""
           },
           "baxis": {
            "gridcolor": "white",
            "linecolor": "white",
            "ticks": ""
           },
           "bgcolor": "#E5ECF6",
           "caxis": {
            "gridcolor": "white",
            "linecolor": "white",
            "ticks": ""
           }
          },
          "title": {
           "x": 0.05
          },
          "xaxis": {
           "automargin": true,
           "gridcolor": "white",
           "linecolor": "white",
           "ticks": "",
           "title": {
            "standoff": 15
           },
           "zerolinecolor": "white",
           "zerolinewidth": 2
          },
          "yaxis": {
           "automargin": true,
           "gridcolor": "white",
           "linecolor": "white",
           "ticks": "",
           "title": {
            "standoff": 15
           },
           "zerolinecolor": "white",
           "zerolinewidth": 2
          }
         }
        }
       }
      },
      "text/html": [
       "<div>\n",
       "        \n",
       "        \n",
       "            <div id=\"1a49bf0f-a447-47de-9d27-b4f8d30a7316\" class=\"plotly-graph-div\" style=\"height:525px; width:100%;\"></div>\n",
       "            <script type=\"text/javascript\">\n",
       "                require([\"plotly\"], function(Plotly) {\n",
       "                    window.PLOTLYENV=window.PLOTLYENV || {};\n",
       "                    \n",
       "                if (document.getElementById(\"1a49bf0f-a447-47de-9d27-b4f8d30a7316\")) {\n",
       "                    Plotly.newPlot(\n",
       "                        '1a49bf0f-a447-47de-9d27-b4f8d30a7316',\n",
       "                        [{\"type\": \"histogram\", \"x\": [648, 317, 676, 224, 818, 233, 683, 663, 974, 826], \"xbins\": {\"end\": 500, \"size\": 2, \"start\": 0}}],\n",
       "                        {\"template\": {\"data\": {\"bar\": [{\"error_x\": {\"color\": \"#2a3f5f\"}, \"error_y\": {\"color\": \"#2a3f5f\"}, \"marker\": {\"line\": {\"color\": \"#E5ECF6\", \"width\": 0.5}}, \"type\": \"bar\"}], \"barpolar\": [{\"marker\": {\"line\": {\"color\": \"#E5ECF6\", \"width\": 0.5}}, \"type\": \"barpolar\"}], \"carpet\": [{\"aaxis\": {\"endlinecolor\": \"#2a3f5f\", \"gridcolor\": \"white\", \"linecolor\": \"white\", \"minorgridcolor\": \"white\", \"startlinecolor\": \"#2a3f5f\"}, \"baxis\": {\"endlinecolor\": \"#2a3f5f\", \"gridcolor\": \"white\", \"linecolor\": \"white\", \"minorgridcolor\": \"white\", \"startlinecolor\": \"#2a3f5f\"}, \"type\": \"carpet\"}], \"choropleth\": [{\"colorbar\": {\"outlinewidth\": 0, \"ticks\": \"\"}, \"type\": \"choropleth\"}], \"contour\": [{\"colorbar\": {\"outlinewidth\": 0, \"ticks\": \"\"}, \"colorscale\": [[0.0, \"#0d0887\"], [0.1111111111111111, \"#46039f\"], [0.2222222222222222, \"#7201a8\"], [0.3333333333333333, \"#9c179e\"], [0.4444444444444444, \"#bd3786\"], [0.5555555555555556, \"#d8576b\"], [0.6666666666666666, \"#ed7953\"], [0.7777777777777778, \"#fb9f3a\"], [0.8888888888888888, \"#fdca26\"], [1.0, \"#f0f921\"]], \"type\": \"contour\"}], \"contourcarpet\": [{\"colorbar\": {\"outlinewidth\": 0, \"ticks\": \"\"}, \"type\": \"contourcarpet\"}], \"heatmap\": [{\"colorbar\": {\"outlinewidth\": 0, \"ticks\": \"\"}, \"colorscale\": [[0.0, \"#0d0887\"], [0.1111111111111111, \"#46039f\"], [0.2222222222222222, \"#7201a8\"], [0.3333333333333333, \"#9c179e\"], [0.4444444444444444, \"#bd3786\"], [0.5555555555555556, \"#d8576b\"], [0.6666666666666666, \"#ed7953\"], [0.7777777777777778, \"#fb9f3a\"], [0.8888888888888888, \"#fdca26\"], [1.0, \"#f0f921\"]], \"type\": \"heatmap\"}], \"heatmapgl\": [{\"colorbar\": {\"outlinewidth\": 0, \"ticks\": \"\"}, \"colorscale\": [[0.0, \"#0d0887\"], [0.1111111111111111, \"#46039f\"], [0.2222222222222222, \"#7201a8\"], [0.3333333333333333, \"#9c179e\"], [0.4444444444444444, \"#bd3786\"], [0.5555555555555556, \"#d8576b\"], [0.6666666666666666, \"#ed7953\"], [0.7777777777777778, \"#fb9f3a\"], [0.8888888888888888, \"#fdca26\"], [1.0, \"#f0f921\"]], \"type\": \"heatmapgl\"}], \"histogram\": [{\"marker\": {\"colorbar\": {\"outlinewidth\": 0, \"ticks\": \"\"}}, \"type\": \"histogram\"}], \"histogram2d\": [{\"colorbar\": {\"outlinewidth\": 0, \"ticks\": \"\"}, \"colorscale\": [[0.0, \"#0d0887\"], [0.1111111111111111, \"#46039f\"], [0.2222222222222222, \"#7201a8\"], [0.3333333333333333, \"#9c179e\"], [0.4444444444444444, \"#bd3786\"], [0.5555555555555556, \"#d8576b\"], [0.6666666666666666, \"#ed7953\"], [0.7777777777777778, \"#fb9f3a\"], [0.8888888888888888, \"#fdca26\"], [1.0, \"#f0f921\"]], \"type\": \"histogram2d\"}], \"histogram2dcontour\": [{\"colorbar\": {\"outlinewidth\": 0, \"ticks\": \"\"}, \"colorscale\": [[0.0, \"#0d0887\"], [0.1111111111111111, \"#46039f\"], [0.2222222222222222, \"#7201a8\"], [0.3333333333333333, \"#9c179e\"], [0.4444444444444444, \"#bd3786\"], [0.5555555555555556, \"#d8576b\"], [0.6666666666666666, \"#ed7953\"], [0.7777777777777778, \"#fb9f3a\"], [0.8888888888888888, \"#fdca26\"], [1.0, \"#f0f921\"]], \"type\": \"histogram2dcontour\"}], \"mesh3d\": [{\"colorbar\": {\"outlinewidth\": 0, \"ticks\": \"\"}, \"type\": \"mesh3d\"}], \"parcoords\": [{\"line\": {\"colorbar\": {\"outlinewidth\": 0, \"ticks\": \"\"}}, \"type\": \"parcoords\"}], \"pie\": [{\"automargin\": true, \"type\": \"pie\"}], \"scatter\": [{\"marker\": {\"colorbar\": {\"outlinewidth\": 0, \"ticks\": \"\"}}, \"type\": \"scatter\"}], \"scatter3d\": [{\"line\": {\"colorbar\": {\"outlinewidth\": 0, \"ticks\": \"\"}}, \"marker\": {\"colorbar\": {\"outlinewidth\": 0, \"ticks\": \"\"}}, \"type\": \"scatter3d\"}], \"scattercarpet\": [{\"marker\": {\"colorbar\": {\"outlinewidth\": 0, \"ticks\": \"\"}}, \"type\": \"scattercarpet\"}], \"scattergeo\": [{\"marker\": {\"colorbar\": {\"outlinewidth\": 0, \"ticks\": \"\"}}, \"type\": \"scattergeo\"}], \"scattergl\": [{\"marker\": {\"colorbar\": {\"outlinewidth\": 0, \"ticks\": \"\"}}, \"type\": \"scattergl\"}], \"scattermapbox\": [{\"marker\": {\"colorbar\": {\"outlinewidth\": 0, \"ticks\": \"\"}}, \"type\": \"scattermapbox\"}], \"scatterpolar\": [{\"marker\": {\"colorbar\": {\"outlinewidth\": 0, \"ticks\": \"\"}}, \"type\": \"scatterpolar\"}], \"scatterpolargl\": [{\"marker\": {\"colorbar\": {\"outlinewidth\": 0, \"ticks\": \"\"}}, \"type\": \"scatterpolargl\"}], \"scatterternary\": [{\"marker\": {\"colorbar\": {\"outlinewidth\": 0, \"ticks\": \"\"}}, \"type\": \"scatterternary\"}], \"surface\": [{\"colorbar\": {\"outlinewidth\": 0, \"ticks\": \"\"}, \"colorscale\": [[0.0, \"#0d0887\"], [0.1111111111111111, \"#46039f\"], [0.2222222222222222, \"#7201a8\"], [0.3333333333333333, \"#9c179e\"], [0.4444444444444444, \"#bd3786\"], [0.5555555555555556, \"#d8576b\"], [0.6666666666666666, \"#ed7953\"], [0.7777777777777778, \"#fb9f3a\"], [0.8888888888888888, \"#fdca26\"], [1.0, \"#f0f921\"]], \"type\": \"surface\"}], \"table\": [{\"cells\": {\"fill\": {\"color\": \"#EBF0F8\"}, \"line\": {\"color\": \"white\"}}, \"header\": {\"fill\": {\"color\": \"#C8D4E3\"}, \"line\": {\"color\": \"white\"}}, \"type\": \"table\"}]}, \"layout\": {\"annotationdefaults\": {\"arrowcolor\": \"#2a3f5f\", \"arrowhead\": 0, \"arrowwidth\": 1}, \"coloraxis\": {\"colorbar\": {\"outlinewidth\": 0, \"ticks\": \"\"}}, \"colorscale\": {\"diverging\": [[0, \"#8e0152\"], [0.1, \"#c51b7d\"], [0.2, \"#de77ae\"], [0.3, \"#f1b6da\"], [0.4, \"#fde0ef\"], [0.5, \"#f7f7f7\"], [0.6, \"#e6f5d0\"], [0.7, \"#b8e186\"], [0.8, \"#7fbc41\"], [0.9, \"#4d9221\"], [1, \"#276419\"]], \"sequential\": [[0.0, \"#0d0887\"], [0.1111111111111111, \"#46039f\"], [0.2222222222222222, \"#7201a8\"], [0.3333333333333333, \"#9c179e\"], [0.4444444444444444, \"#bd3786\"], [0.5555555555555556, \"#d8576b\"], [0.6666666666666666, \"#ed7953\"], [0.7777777777777778, \"#fb9f3a\"], [0.8888888888888888, \"#fdca26\"], [1.0, \"#f0f921\"]], \"sequentialminus\": [[0.0, \"#0d0887\"], [0.1111111111111111, \"#46039f\"], [0.2222222222222222, \"#7201a8\"], [0.3333333333333333, \"#9c179e\"], [0.4444444444444444, \"#bd3786\"], [0.5555555555555556, \"#d8576b\"], [0.6666666666666666, \"#ed7953\"], [0.7777777777777778, \"#fb9f3a\"], [0.8888888888888888, \"#fdca26\"], [1.0, \"#f0f921\"]]}, \"colorway\": [\"#636efa\", \"#EF553B\", \"#00cc96\", \"#ab63fa\", \"#FFA15A\", \"#19d3f3\", \"#FF6692\", \"#B6E880\", \"#FF97FF\", \"#FECB52\"], \"font\": {\"color\": \"#2a3f5f\"}, \"geo\": {\"bgcolor\": \"white\", \"lakecolor\": \"white\", \"landcolor\": \"#E5ECF6\", \"showlakes\": true, \"showland\": true, \"subunitcolor\": \"white\"}, \"hoverlabel\": {\"align\": \"left\"}, \"hovermode\": \"closest\", \"mapbox\": {\"style\": \"light\"}, \"paper_bgcolor\": \"white\", \"plot_bgcolor\": \"#E5ECF6\", \"polar\": {\"angularaxis\": {\"gridcolor\": \"white\", \"linecolor\": \"white\", \"ticks\": \"\"}, \"bgcolor\": \"#E5ECF6\", \"radialaxis\": {\"gridcolor\": \"white\", \"linecolor\": \"white\", \"ticks\": \"\"}}, \"scene\": {\"xaxis\": {\"backgroundcolor\": \"#E5ECF6\", \"gridcolor\": \"white\", \"gridwidth\": 2, \"linecolor\": \"white\", \"showbackground\": true, \"ticks\": \"\", \"zerolinecolor\": \"white\"}, \"yaxis\": {\"backgroundcolor\": \"#E5ECF6\", \"gridcolor\": \"white\", \"gridwidth\": 2, \"linecolor\": \"white\", \"showbackground\": true, \"ticks\": \"\", \"zerolinecolor\": \"white\"}, \"zaxis\": {\"backgroundcolor\": \"#E5ECF6\", \"gridcolor\": \"white\", \"gridwidth\": 2, \"linecolor\": \"white\", \"showbackground\": true, \"ticks\": \"\", \"zerolinecolor\": \"white\"}}, \"shapedefaults\": {\"line\": {\"color\": \"#2a3f5f\"}}, \"ternary\": {\"aaxis\": {\"gridcolor\": \"white\", \"linecolor\": \"white\", \"ticks\": \"\"}, \"baxis\": {\"gridcolor\": \"white\", \"linecolor\": \"white\", \"ticks\": \"\"}, \"bgcolor\": \"#E5ECF6\", \"caxis\": {\"gridcolor\": \"white\", \"linecolor\": \"white\", \"ticks\": \"\"}}, \"title\": {\"x\": 0.05}, \"xaxis\": {\"automargin\": true, \"gridcolor\": \"white\", \"linecolor\": \"white\", \"ticks\": \"\", \"title\": {\"standoff\": 15}, \"zerolinecolor\": \"white\", \"zerolinewidth\": 2}, \"yaxis\": {\"automargin\": true, \"gridcolor\": \"white\", \"linecolor\": \"white\", \"ticks\": \"\", \"title\": {\"standoff\": 15}, \"zerolinecolor\": \"white\", \"zerolinewidth\": 2}}}},\n",
       "                        {\"responsive\": true}\n",
       "                    ).then(function(){\n",
       "                            \n",
       "var gd = document.getElementById('1a49bf0f-a447-47de-9d27-b4f8d30a7316');\n",
       "var x = new MutationObserver(function (mutations, observer) {{\n",
       "        var display = window.getComputedStyle(gd).display;\n",
       "        if (!display || display === 'none') {{\n",
       "            console.log([gd, 'removed!']);\n",
       "            Plotly.purge(gd);\n",
       "            observer.disconnect();\n",
       "        }}\n",
       "}});\n",
       "\n",
       "// Listen for the removal of the full notebook cells\n",
       "var notebookContainer = gd.closest('#notebook-container');\n",
       "if (notebookContainer) {{\n",
       "    x.observe(notebookContainer, {childList: true});\n",
       "}}\n",
       "\n",
       "// Listen for the clearing of the current output cell\n",
       "var outputEl = gd.closest('.output');\n",
       "if (outputEl) {{\n",
       "    x.observe(outputEl, {childList: true});\n",
       "}}\n",
       "\n",
       "                        })\n",
       "                };\n",
       "                });\n",
       "            </script>\n",
       "        </div>"
      ]
     },
     "metadata": {},
     "output_type": "display_data"
    }
   ],
   "source": [
    "data= [go.Histogram(x=np.random.randint(0,1000,10),xbins=dict(start=0,end=500,size=2))]\n",
    "go.Figure(data=data)"
   ]
  },
  {
   "cell_type": "markdown",
   "metadata": {},
   "source": [
    "# DistPlot"
   ]
  },
  {
   "cell_type": "code",
   "execution_count": 8,
   "metadata": {},
   "outputs": [
    {
     "data": {
      "application/vnd.plotly.v1+json": {
       "config": {
        "plotlyServerURL": "https://plot.ly"
       },
       "data": [
        {
         "autobinx": false,
         "histnorm": "probability density",
         "legendgroup": "x1",
         "marker": {
          "color": "rgb(31, 119, 180)"
         },
         "name": "x1",
         "opacity": 0.7,
         "type": "histogram",
         "x": [
          -2.785061169905245,
          -5.0223149331957355,
          -3.9430568084672624,
          -1.5960412613407065,
          -3.0185508045116403,
          -4.673504621990223,
          -4.072531834435658,
          -3.9925861794031903,
          -2.897652317450333,
          -3.432609280548013,
          -3.659182302436478,
          -2.996062695568597,
          -2.522245900566473,
          -3.2590286447388905,
          -3.5747092076133997,
          -3.4214982203398834,
          -2.660179035813356,
          -3.007380149944573,
          -2.232703161293596,
          -4.149792577494359,
          -3.775336105956944,
          -2.226859144110751,
          -3.801827843349694,
          -1.6159842810673217,
          -1.594794694121812,
          -1.607674246508097,
          -3.8806408185297694,
          -2.9231050514154284,
          -3.4934324822033265,
          -2.076837391658047,
          -1.293395046321538,
          -2.1264105843646206,
          -2.9908556542598626,
          -3.3655392968325426,
          -2.3509132673708937,
          -4.222873536675307,
          -2.4636639676179346,
          -3.914690931261277,
          -2.379451784038265,
          -3.1609373768630635,
          -3.388264398976614,
          -3.8855123738288486,
          -3.3567450257681943,
          -2.4438782014660347,
          -1.956139389081342,
          -2.4735518386653044,
          -1.6361134755828948,
          -0.46083728373066757,
          -3.3244909578288935,
          -3.205866717095505,
          -4.440041447683798,
          -1.8092727438863598,
          -1.7006031857355126,
          -3.8671461560495533,
          -2.382359154488855,
          -1.7829292030198898,
          -2.773711730501125,
          -2.152598567423361,
          -2.8251669880085286,
          -4.216854892359239,
          -1.9506526076791344,
          -1.674894338485799,
          -2.2654989351199544,
          -3.9544972619614205,
          -3.7511794246639285,
          -4.13042805312053,
          -2.2300226400692065,
          -1.731610477596098,
          -2.5755137559435495,
          -2.0594644150379904,
          -3.8676410899793745,
          -2.8541381475716907,
          -4.369871056716296,
          -3.7717807494932587,
          -2.121326451809104,
          -3.2395945081938096,
          -1.790618029313366,
          -2.4620399963080044,
          -0.26557784093825854,
          -2.906234569848053,
          -4.406405267181549,
          -3.0345296560948083,
          -3.9630156260661265,
          -2.0228199991869267,
          -2.958019935529977,
          -3.137271817097816,
          -3.1241323888816597,
          -2.2596591820522614,
          -3.4524622323446694,
          -2.2229502050963923,
          -1.954428831653683,
          -3.342141712605381,
          -3.926046619211478,
          -3.5129653176356217,
          -2.2898907596360463,
          -2.907521128448903,
          -2.3699250613989924,
          -1.2370625276967717,
          -2.769046277054867,
          -3.808936891390361,
          -1.9425764911376238,
          -2.9486391405203647,
          -2.127552842339547,
          -1.9338014559022618,
          -3.959008096426779,
          -1.6179953958280568,
          -2.094878040043441,
          -3.6039043724845286,
          -2.6955508801291472,
          -2.742792509019893,
          -2.976068185534163,
          -2.128086011187607,
          -1.5626436716664729,
          -2.9926936272593676,
          -1.6691186720279145,
          -2.0117973894958885,
          -2.767703841823595,
          -2.823819077947679,
          -4.152565371660015,
          -4.500768393207174,
          -2.8349772018906614,
          -3.855928917829368,
          -3.039636142039619,
          -3.534662741850064,
          -4.788496504980497,
          -2.642695458063366,
          -3.4145318053898914,
          -2.9198012874591854,
          -3.893120273629223,
          -3.3348172473947337,
          -1.439619858867121,
          -2.8714489999289188,
          -2.4504236549373326,
          -4.270871806876039,
          -0.6109640426075376,
          -1.1565862416794668,
          -1.6365645090482956,
          -2.171234022395125,
          -2.984856721740136,
          -2.5579259831332686,
          -1.9519802560050479,
          -3.6285697474757064,
          -3.4444987442191826,
          -4.669132359090532,
          -3.771819077756755,
          -1.3386982693918459,
          -3.3342470911503677,
          -3.3178469065105833,
          -2.6822329675628813,
          -4.612227307174523,
          -2.0546183099124327,
          -1.733593144627125,
          -2.622703734539591,
          -1.34864901352051,
          -4.326831766135897,
          -1.1562842022481539,
          -3.7307414032296533,
          -4.27991973326313,
          -3.237391961206669,
          -1.1279943195276958,
          -3.019442140899548,
          -3.932591656561081,
          -4.29494247447986,
          -3.1051185047464136,
          -4.994961571557649,
          -4.300192841593439,
          -1.4569323481409162,
          -1.6767361928487634,
          -3.1284121465397083,
          -3.4656647712545463,
          -2.941491097693156,
          -0.6520030715496774,
          -2.595024491229475,
          -2.090261825040183,
          -3.202457525831551,
          -2.9391033928828394,
          -2.352837303212956,
          -2.873905172175971,
          -4.897376982488658,
          -1.7194592383225362,
          -3.6151336777713308,
          -0.8886823583837482,
          -2.313151487234029,
          -2.929027584360254,
          -2.560672859896566,
          -3.1084978885635133,
          -3.4864327660523604,
          -2.79240173871428,
          -2.1150095328133345,
          -3.464529748644968,
          -3.622237164906279,
          -3.35548864091636,
          -2.0479889061533054,
          -1.547449752537629,
          -2.6379860880575294,
          -2.418685865964276,
          -3.629700857265113,
          -2.1232453500476747,
          -2.4482629895349257,
          -3.710127957927484
         ],
         "xaxis": "x",
         "xbins": {
          "end": -0.26557784093825854,
          "size": 0.2,
          "start": -5.0223149331957355
         },
         "yaxis": "y"
        },
        {
         "autobinx": false,
         "histnorm": "probability density",
         "legendgroup": "x2",
         "marker": {
          "color": "rgb(255, 127, 14)"
         },
         "name": "x2",
         "opacity": 0.7,
         "type": "histogram",
         "x": [
          -1.787671611931782,
          -1.2205701042818544,
          -0.6692027281812131,
          1.1619373177467747,
          1.5528597758393257,
          -0.43951787547427723,
          -0.40791535277129576,
          0.2616230559724664,
          0.012146509073225323,
          0.9309340839740791,
          -0.5231880935871098,
          0.9491429877809984,
          -0.23922479786975515,
          0.8539747110678559,
          -0.2710404622885425,
          -0.6130946829083779,
          1.9123176398399706,
          1.065227082546918,
          -1.792045100135215,
          -0.4467735117899077,
          1.2049229217785742,
          -1.196660469213522,
          0.7706783295231111,
          0.6670561034697914,
          -0.6991465780919173,
          -0.008817046245807649,
          -2.0900177486302796,
          1.7704315165667186,
          -0.3090925091969218,
          0.8038130513762585,
          0.6138413414754245,
          1.3578807880999881,
          -0.4333034069025602,
          0.2038227275274671,
          0.5591092026145276,
          0.8725415914304794,
          1.1543543384089239,
          -0.4773817305753208,
          -0.6642274433044227,
          1.3601113662481714,
          -2.037075934972139,
          1.5700322805426723,
          -0.3023242420763079,
          -0.004562828990296256,
          -0.6823426011201539,
          -0.04819548553581296,
          1.2711382259809147,
          0.7708631014640396,
          0.49268648380040525,
          0.08887300613174359,
          -1.4456099724720826,
          -0.8441369135177398,
          -0.34320123663116797,
          0.4576764544288389,
          0.06965266451887907,
          0.9835043063584651,
          0.4736273877275646,
          0.05435057793857113,
          2.2757612975672035,
          0.4062266850499283,
          -0.43194220160837227,
          1.85996700648693,
          1.2004115484133984,
          1.816087790243815,
          -0.11093193562951016,
          0.9763091264811027,
          -1.4528494590723608,
          0.7840064109141683,
          -0.1577239582541034,
          -1.3550579555179323,
          1.0326004040179766,
          -1.810131324996016,
          -1.912706517064219,
          0.36247645880530205,
          0.571347510326788,
          0.9705238200132107,
          0.7419630165294652,
          1.476658625429629,
          0.700242953362419,
          -0.13229944394246262,
          -0.07361111579190632,
          -0.28222118898721094,
          0.29547752442318337,
          -1.0973458685666584,
          0.34092219855895356,
          -0.08641350683161349,
          0.27563515788740767,
          0.27872303497066114,
          -2.452264601315733,
          -0.901293818664668,
          -0.10862866408885558,
          -0.05548495829767373,
          0.25938930899969403,
          0.3023482903316427,
          1.5162333229338962,
          0.31245848109794744,
          -0.31302370821644054,
          -1.5991234725374825,
          -1.3685901155418572,
          0.5354918099752046,
          1.060446814110468,
          1.5413709969181826,
          -0.8278930789157132,
          -0.30386443543092717,
          0.24233368608311256,
          2.047398921130238,
          0.11486146821389558,
          1.551262854732971,
          0.1699729029073083,
          1.1532451864284559,
          1.0265798465520781,
          0.1660881325081512,
          -1.0203832472621548,
          -0.2690944379289504,
          1.489045173884479,
          0.8778251684801136,
          -0.43365032677184717,
          -0.34230863862439936,
          -1.7308731037655674,
          1.444338791981811,
          0.8860635602461532,
          -0.13707782104185295,
          0.20013441917342262,
          -2.17086582813041,
          -0.4867144960427494,
          1.3344456408641356,
          0.9815473767300812,
          0.330700557063932,
          -0.014718258634936664,
          0.7964054296963266,
          -0.28138510655108645,
          -1.6646931961950078,
          -0.006199139673872496,
          0.40311932708557713,
          1.122677684798021,
          -1.4411957604959986,
          -0.12291130655145516,
          -0.07530365475512335,
          -1.1012519048471119,
          0.48767327492329376,
          0.7473680316118015,
          -0.2906923080310432,
          2.0550926086214725,
          -0.31936000753365823,
          -0.44668347069066705,
          -0.4756713479686023,
          -0.8154990732884886,
          -0.5590254932338569,
          -1.434088869232524,
          -0.19153282391329285,
          0.05747400302429677,
          -2.282802490040798,
          -0.10194951247985627,
          0.042134081741929175,
          0.5145889906905393,
          1.2046350725758252,
          0.8513542646005099,
          -0.6203637225355519,
          -0.7364121722576463,
          0.579504401549854,
          -0.5472798363375213,
          -1.2280540191236242,
          2.3741417434005965,
          -0.31072426461719377,
          -0.6265241826885438,
          -2.1921300562419788,
          0.8514020923788287,
          -0.9879358457965414,
          0.028620559567826175,
          0.9686231563044211,
          -0.9722685477240716,
          0.07948245181753853,
          1.5237874101938085,
          -2.4567470568634793,
          -0.8105058469792188,
          -0.9045418837870712,
          -0.18690512256040892,
          -0.04779087737353801,
          -1.0612626329465904,
          -0.6543733461130157,
          -0.773224970452823,
          -0.3507892451728689,
          0.21822273253109625,
          0.9105641223710805,
          1.0553309965464146,
          0.6536342613353238,
          -0.8739741194850966,
          -0.0032959203273537846,
          2.3743294034923883,
          1.0145326926872977,
          -0.440504558873525,
          1.58203818296378,
          -0.38806918979741406,
          -0.6684019683032681,
          1.395731935928564,
          -1.3096492900118983,
          -1.9137775802683563,
          0.941284578060475,
          0.02769093161621279,
          0.1273654785371559
         ],
         "xaxis": "x",
         "xbins": {
          "end": 2.3743294034923883,
          "size": 0.1,
          "start": -2.4567470568634793
         },
         "yaxis": "y"
        },
        {
         "autobinx": false,
         "histnorm": "probability density",
         "legendgroup": "x3",
         "marker": {
          "color": "rgb(44, 160, 44)"
         },
         "name": "x3",
         "opacity": 0.7,
         "type": "histogram",
         "x": [
          2.6385771605730226,
          2.7615066326159416,
          2.541890097168624,
          2.3740070697455997,
          2.6180897776312384,
          2.5865487611823004,
          2.171416228981265,
          2.454830800668156,
          0.4972404783377846,
          3.6846422015551683,
          3.390253268983142,
          2.9150911675041677,
          3.2373243847597433,
          3.273577403138628,
          2.275998203395701,
          2.4674196977795955,
          3.5283166096303766,
          3.207503485159136,
          5.043320489682305,
          4.619612155437311,
          3.9330121403883496,
          2.2382650842721805,
          2.435442996730425,
          1.9979532763712657,
          3.279757349786709,
          0.2590451555402984,
          2.541380723057001,
          2.693283600678183,
          1.475709466830008,
          3.7977363145786347,
          1.8608582714101174,
          3.267742665703261,
          5.783777423489051,
          1.3889943900447788,
          2.8514485949929504,
          2.5925398623647347,
          2.3980313211036153,
          3.7602510946353602,
          4.1063291048284425,
          3.771638149301336,
          2.276660917548766,
          5.433848078402416,
          1.229756811658108,
          1.9673709309657053,
          3.1697292843903737,
          3.0893939191456496,
          3.4880440793787493,
          4.580134095075202,
          2.8801490806344012,
          3.113729460212981,
          2.4054839472757505,
          3.588328518460642,
          2.681521489349661,
          2.6809429789336567,
          3.543483152963778,
          4.034920927080599,
          0.7918934483261229,
          3.3607784246734282,
          2.729796681322462,
          3.947616937661409,
          2.7498773989254888,
          4.301052433162299,
          2.3235869795159614,
          0.7696700923741111,
          4.0515930406716665,
          2.1564550377545295,
          1.419748063256473,
          3.016053418643931,
          2.7608213339698313,
          3.823104975745007,
          3.892410819815211,
          3.0956204458893923,
          2.115184058082015,
          3.286941261224298,
          3.165194380120577,
          3.568936674469642,
          2.1251932862552985,
          2.599627126832447,
          3.509378116336106,
          4.247327055231724,
          3.9659220079595903,
          3.0820548711527977,
          2.5126049760788525,
          3.4038205586793056,
          1.9086095627065296,
          2.182998560739106,
          4.509771312459623,
          3.402034480046922,
          2.652473266227045,
          3.8291386845852684,
          4.286974963849594,
          2.55536244175436,
          2.5725920575505246,
          2.4473542266529944,
          3.9638503187153615,
          3.973557447520124,
          4.385903321291099,
          4.008602949848836,
          1.3677819205714812,
          3.280964320918199,
          1.941614597152948,
          2.4870856250285844,
          3.170594203580863,
          3.835565398349904,
          2.1091566575489225,
          0.6752803385475987,
          3.180530841805431,
          5.6435715833985505,
          2.7971537803298476,
          3.0469154349502587,
          4.782163618536079,
          3.590274619061788,
          3.2168610369829382,
          3.442116665313473,
          3.2502439325736487,
          1.860245571843294,
          1.6585548422003025,
          4.8868281121242365,
          3.1838833519051577,
          3.1000954425796983,
          2.9097723359437904,
          3.7810732676164527,
          5.538691101737486,
          3.523952667107794,
          2.411913173685447,
          2.866599142108456,
          4.070996467205255,
          2.4171993985870026,
          3.852246489030268,
          0.6792626260218695,
          2.7701204285536134,
          3.628140013480669,
          4.2701255465757155,
          2.1815257829576087,
          1.4972349823693964,
          2.739264835108181,
          1.8745809922531111,
          2.85096333327047,
          2.9933465453687624,
          1.6808549547980551,
          3.804439110110865,
          2.842786106635549,
          4.08045986900535,
          1.1550947597039063,
          1.9828078294546094,
          3.516669308648123,
          2.200889429174735,
          2.8354643419503036,
          3.0006991175571747,
          3.1582559809533675,
          2.322433787266293,
          3.1492865634724776,
          2.21745629476552,
          3.674280468746775,
          2.8851559805169766,
          3.1550366235955187,
          5.569926839690334,
          1.8928955453999785,
          4.388582269040288,
          0.34064864295062725,
          0.9216233450810569,
          1.7593599223124292,
          1.8224716347250636,
          3.2037017981388494,
          3.2898422641684677,
          2.7451787316276355,
          2.8501220332375383,
          3.5277647609316607,
          3.8332238776207417,
          1.673460983890241,
          2.6381090287669964,
          2.9304101770869897,
          3.485315996560453,
          2.227332857726529,
          2.91077882440633,
          3.029983634527158,
          2.29552989654047,
          2.271684850052114,
          3.0987457776373346,
          2.8696548540127917,
          3.5004775194206323,
          1.9467412793550039,
          2.6493184721212124,
          2.770783948446408,
          3.813863908123605,
          2.059586225432098,
          3.234652005155086,
          3.252755507537887,
          4.646397242679973,
          1.992910635693739,
          2.342766681882506,
          2.062644317776679,
          1.3302208279316,
          4.764686934262719,
          1.7584987690508775,
          2.183694590945154,
          4.3157665082821595,
          1.2468929530617847,
          3.7563515692873812,
          1.5869756546582225
         ],
         "xaxis": "x",
         "xbins": {
          "end": 5.783777423489051,
          "size": 0.3,
          "start": 0.2590451555402984
         },
         "yaxis": "y"
        },
        {
         "legendgroup": "x1",
         "marker": {
          "color": "rgb(31, 119, 180)"
         },
         "mode": "lines",
         "name": "x1",
         "showlegend": false,
         "type": "scatter",
         "x": [
          -5.0223149331957355,
          -5.012801459011221,
          -5.003287984826706,
          -4.993774510642191,
          -4.984261036457676,
          -4.974747562273161,
          -4.965234088088645,
          -4.9557206139041305,
          -4.946207139719616,
          -4.936693665535101,
          -4.927180191350586,
          -4.917666717166071,
          -4.908153242981556,
          -4.898639768797041,
          -4.8891262946125265,
          -4.879612820428012,
          -4.870099346243496,
          -4.860585872058981,
          -4.851072397874466,
          -4.841558923689951,
          -4.832045449505436,
          -4.8225319753209215,
          -4.813018501136407,
          -4.803505026951892,
          -4.793991552767377,
          -4.784478078582862,
          -4.774964604398347,
          -4.765451130213831,
          -4.7559376560293165,
          -4.746424181844802,
          -4.736910707660287,
          -4.727397233475772,
          -4.717883759291257,
          -4.708370285106742,
          -4.698856810922227,
          -4.689343336737712,
          -4.679829862553197,
          -4.670316388368683,
          -4.660802914184167,
          -4.651289439999652,
          -4.641775965815137,
          -4.632262491630622,
          -4.6227490174461074,
          -4.613235543261593,
          -4.603722069077078,
          -4.594208594892563,
          -4.584695120708048,
          -4.575181646523532,
          -4.565668172339017,
          -4.5561546981545025,
          -4.546641223969988,
          -4.537127749785473,
          -4.527614275600958,
          -4.518100801416443,
          -4.508587327231928,
          -4.499073853047413,
          -4.489560378862898,
          -4.4800469046783835,
          -4.470533430493868,
          -4.461019956309353,
          -4.451506482124838,
          -4.441993007940323,
          -4.432479533755808,
          -4.422966059571293,
          -4.4134525853867785,
          -4.403939111202264,
          -4.394425637017749,
          -4.384912162833233,
          -4.375398688648719,
          -4.365885214464203,
          -4.356371740279688,
          -4.346858266095174,
          -4.337344791910659,
          -4.327831317726144,
          -4.318317843541629,
          -4.308804369357114,
          -4.299290895172599,
          -4.289777420988084,
          -4.280263946803569,
          -4.270750472619054,
          -4.261236998434539,
          -4.251723524250024,
          -4.242210050065509,
          -4.232696575880994,
          -4.223183101696479,
          -4.2136696275119645,
          -4.20415615332745,
          -4.194642679142935,
          -4.18512920495842,
          -4.175615730773904,
          -4.166102256589389,
          -4.156588782404874,
          -4.1470753082203595,
          -4.137561834035845,
          -4.12804835985133,
          -4.118534885666815,
          -4.1090214114823,
          -4.099507937297785,
          -4.08999446311327,
          -4.080480988928755,
          -4.07096751474424,
          -4.061454040559725,
          -4.05194056637521,
          -4.042427092190695,
          -4.03291361800618,
          -4.023400143821665,
          -4.0138866696371505,
          -4.004373195452636,
          -3.9948597212681203,
          -3.9853462470836054,
          -3.97583277289909,
          -3.9663192987145752,
          -3.956805824530061,
          -3.9472923503455455,
          -3.9377788761610306,
          -3.9282654019765157,
          -3.918751927792001,
          -3.909238453607486,
          -3.899724979422971,
          -3.8902115052384563,
          -3.880698031053941,
          -3.871184556869426,
          -3.8616710826849108,
          -3.852157608500396,
          -3.842644134315881,
          -3.833130660131366,
          -3.8236171859468513,
          -3.8141037117623364,
          -3.8045902375778216,
          -3.7950767633933062,
          -3.7855632892087914,
          -3.7760498150242765,
          -3.766536340839761,
          -3.7570228666552463,
          -3.7475093924707314,
          -3.7379959182862166,
          -3.7284824441017017,
          -3.718968969917187,
          -3.709455495732672,
          -3.6999420215481567,
          -3.690428547363642,
          -3.6809150731791265,
          -3.6714015989946116,
          -3.6618881248100967,
          -3.652374650625582,
          -3.642861176441067,
          -3.633347702256552,
          -3.6238342280720373,
          -3.6143207538875224,
          -3.6048072797030075,
          -3.5952938055184926,
          -3.5857803313339773,
          -3.5762668571494625,
          -3.566753382964947,
          -3.5572399087804323,
          -3.5477264345959174,
          -3.5382129604114025,
          -3.5286994862268877,
          -3.519186012042373,
          -3.509672537857858,
          -3.500159063673343,
          -3.4906455894888277,
          -3.481132115304313,
          -3.4716186411197976,
          -3.4621051669352827,
          -3.452591692750768,
          -3.443078218566253,
          -3.433564744381738,
          -3.424051270197223,
          -3.4145377960127083,
          -3.405024321828193,
          -3.395510847643678,
          -3.3859973734591633,
          -3.376483899274648,
          -3.366970425090133,
          -3.3574569509056182,
          -3.3479434767211034,
          -3.3384300025365885,
          -3.3289165283520736,
          -3.3194030541675588,
          -3.309889579983044,
          -3.300376105798529,
          -3.2908626316140137,
          -3.281349157429499,
          -3.271835683244984,
          -3.2623222090604687,
          -3.252808734875954,
          -3.243295260691439,
          -3.233781786506924,
          -3.224268312322409,
          -3.2147548381378943,
          -3.2052413639533794,
          -3.195727889768864,
          -3.1862144155843493,
          -3.176700941399834,
          -3.167187467215319,
          -3.157673993030804,
          -3.1481605188462893,
          -3.1386470446617745,
          -3.1291335704772596,
          -3.1196200962927447,
          -3.11010662210823,
          -3.1005931479237145,
          -3.0910796737391997,
          -3.0815661995546844,
          -3.0720527253701695,
          -3.0625392511856546,
          -3.0530257770011398,
          -3.043512302816625,
          -3.03399882863211,
          -3.024485354447595,
          -3.0149718802630803,
          -3.005458406078565,
          -2.99594493189405,
          -2.986431457709535,
          -2.9769179835250204,
          -2.967404509340505,
          -2.95789103515599,
          -2.9483775609714753,
          -2.9388640867869604,
          -2.929350612602445,
          -2.9198371384179302,
          -2.9103236642334154,
          -2.9008101900489005,
          -2.891296715864386,
          -2.8817832416798708,
          -2.872269767495356,
          -2.862756293310841,
          -2.853242819126326,
          -2.843729344941811,
          -2.834215870757296,
          -2.824702396572781,
          -2.8151889223882662,
          -2.8056754482037514,
          -2.796161974019236,
          -2.786648499834721,
          -2.7771350256502063,
          -2.7676215514656914,
          -2.7581080772811766,
          -2.7485946030966613,
          -2.7390811289121464,
          -2.7295676547276315,
          -2.7200541805431167,
          -2.710540706358602,
          -2.7010272321740865,
          -2.6915137579895716,
          -2.6820002838050567,
          -2.672486809620542,
          -2.662973335436027,
          -2.6534598612515117,
          -2.643946387066997,
          -2.634432912882482,
          -2.624919438697967,
          -2.6154059645134518,
          -2.605892490328937,
          -2.596379016144422,
          -2.586865541959907,
          -2.5773520677753923,
          -2.567838593590877,
          -2.558325119406362,
          -2.548811645221847,
          -2.5392981710373324,
          -2.5297846968528175,
          -2.520271222668302,
          -2.5107577484837873,
          -2.5012442742992724,
          -2.4917308001147576,
          -2.4822173259302427,
          -2.4727038517457274,
          -2.4631903775612125,
          -2.4536769033766976,
          -2.4441634291921828,
          -2.434649955007668,
          -2.4251364808231526,
          -2.4156230066386377,
          -2.406109532454123,
          -2.396596058269608,
          -2.3870825840850927,
          -2.377569109900578,
          -2.368055635716063,
          -2.358542161531548,
          -2.349028687347033,
          -2.339515213162518,
          -2.330001738978003,
          -2.320488264793488,
          -2.3109747906089733,
          -2.3014613164244584,
          -2.291947842239943,
          -2.282434368055428,
          -2.272920893870914,
          -2.263407419686399,
          -2.253893945501884,
          -2.2443804713173687,
          -2.234866997132854,
          -2.225353522948339,
          -2.215840048763824,
          -2.2063265745793093,
          -2.196813100394794,
          -2.187299626210279,
          -2.177786152025764,
          -2.1682726778412493,
          -2.1587592036567345,
          -2.149245729472219,
          -2.1397322552877043,
          -2.1302187811031894,
          -2.1207053069186745,
          -2.1111918327341592,
          -2.1016783585496444,
          -2.0921648843651295,
          -2.0826514101806146,
          -2.0731379359960997,
          -2.0636244618115844,
          -2.0541109876270696,
          -2.0445975134425547,
          -2.03508403925804,
          -2.025570565073525,
          -2.0160570908890096,
          -2.0065436167044948,
          -1.99703014251998,
          -1.987516668335465,
          -1.9780031941509502,
          -1.9684897199664348,
          -1.95897624578192,
          -1.949462771597405,
          -1.9399492974128902,
          -1.9304358232283754,
          -1.92092234904386,
          -1.9114088748593452,
          -1.9018954006748303,
          -1.8923819264903154,
          -1.8828684523058001,
          -1.8733549781212853,
          -1.8638415039367704,
          -1.8543280297522555,
          -1.8448145555677407,
          -1.8353010813832253,
          -1.8257876071987105,
          -1.8162741330141956,
          -1.8067606588296807,
          -1.7972471846451659,
          -1.7877337104606505,
          -1.7782202362761357,
          -1.7687067620916208,
          -1.759193287907106,
          -1.749679813722591,
          -1.7401663395380758,
          -1.7306528653535609,
          -1.721139391169046,
          -1.7116259169845311,
          -1.7021124428000163,
          -1.692598968615501,
          -1.683085494430986,
          -1.6735720202464717,
          -1.6640585460619568,
          -1.654545071877442,
          -1.6450315976929266,
          -1.6355181235084117,
          -1.6260046493238969,
          -1.616491175139382,
          -1.6069777009548667,
          -1.5974642267703518,
          -1.587950752585837,
          -1.578437278401322,
          -1.5689238042168072,
          -1.559410330032292,
          -1.549896855847777,
          -1.5403833816632622,
          -1.5308699074787473,
          -1.5213564332942324,
          -1.511842959109717,
          -1.5023294849252022,
          -1.4928160107406874,
          -1.4833025365561725,
          -1.4737890623716576,
          -1.4642755881871423,
          -1.4547621140026274,
          -1.4452486398181126,
          -1.4357351656335977,
          -1.4262216914490828,
          -1.4167082172645675,
          -1.4071947430800527,
          -1.3976812688955378,
          -1.388167794711023,
          -1.3786543205265076,
          -1.3691408463419927,
          -1.3596273721574779,
          -1.350113897972963,
          -1.3406004237884481,
          -1.3310869496039328,
          -1.321573475419418,
          -1.312060001234903,
          -1.3025465270503882,
          -1.2930330528658733,
          -1.283519578681358,
          -1.2740061044968432,
          -1.2644926303123283,
          -1.2549791561278134,
          -1.2454656819432985,
          -1.2359522077587832,
          -1.2264387335742684,
          -1.2169252593897535,
          -1.2074117852052386,
          -1.1978983110207237,
          -1.1883848368362084,
          -1.1788713626516936,
          -1.1693578884671787,
          -1.1598444142826638,
          -1.1503309400981485,
          -1.1408174659136336,
          -1.1313039917291188,
          -1.121790517544604,
          -1.112277043360089,
          -1.1027635691755737,
          -1.0932500949910589,
          -1.083736620806544,
          -1.0742231466220291,
          -1.0647096724375142,
          -1.0551961982529994,
          -1.0456827240684845,
          -1.0361692498839696,
          -1.0266557756994548,
          -1.01714230151494,
          -1.007628827330425,
          -0.9981153531459102,
          -0.9886018789613944,
          -0.9790884047768795,
          -0.9695749305923647,
          -0.9600614564078498,
          -0.9505479822233349,
          -0.94103450803882,
          -0.9315210338543052,
          -0.9220075596697894,
          -0.9124940854852746,
          -0.9029806113007597,
          -0.8934671371162448,
          -0.8839536629317299,
          -0.8744401887472151,
          -0.8649267145627002,
          -0.8554132403781853,
          -0.8458997661936696,
          -0.8363862920091547,
          -0.8268728178246398,
          -0.817359343640125,
          -0.8078458694556101,
          -0.7983323952710952,
          -0.7888189210865804,
          -0.7793054469020655,
          -0.7697919727175506,
          -0.7602784985330366,
          -0.7507650243485209,
          -0.741251550164006,
          -0.7317380759794911,
          -0.7222246017949763,
          -0.7127111276104614,
          -0.7031976534259465,
          -0.6936841792414317,
          -0.6841707050569168,
          -0.6746572308724019,
          -0.6651437566878862,
          -0.6556302825033713,
          -0.6461168083188564,
          -0.6366033341343416,
          -0.6270898599498267,
          -0.6175763857653118,
          -0.608062911580797,
          -0.5985494373962821,
          -0.5890359632117672,
          -0.5795224890272523,
          -0.5700090148427366,
          -0.5604955406582217,
          -0.5509820664737068,
          -0.541468592289192,
          -0.5319551181046771,
          -0.5224416439201622,
          -0.5129281697356474,
          -0.5034146955511325,
          -0.4939012213666176,
          -0.48438774718210187,
          -0.474874272997587,
          -0.46536079881307213,
          -0.45584732462855726,
          -0.4463338504440424,
          -0.4368203762595275,
          -0.42730690207501265,
          -0.4177934278904978,
          -0.4082799537059829,
          -0.39876647952146804,
          -0.3892530053369523,
          -0.3797395311524374,
          -0.37022605696792255,
          -0.3607125827834077,
          -0.3511991085988928,
          -0.34168563441437794,
          -0.33217216022986307,
          -0.3226586860453482,
          -0.31314521186083333,
          -0.30363173767631846,
          -0.2941182634918027,
          -0.28460478930728783,
          -0.27509131512277296
         ],
         "xaxis": "x",
         "y": [
          0.041562179610015355,
          0.042599063467470846,
          0.04364855220696635,
          0.04471067307393979,
          0.04578546636364308,
          0.04687298561783133,
          0.0479732977426174,
          0.04908648304621198,
          0.0502126351957492,
          0.051351861092875345,
          0.05250428066826996,
          0.053670026595747614,
          0.05484924392706774,
          0.05604208964904826,
          0.05724873216503228,
          0.05846935070319787,
          0.05970413465461486,
          0.06095328284435049,
          0.062217002739291566,
          0.06349550959668718,
          0.0647890255577238,
          0.06609777869071559,
          0.06742200198872496,
          0.0687619323266276,
          0.07011780938279119,
          0.07148987453065543,
          0.07287836970557415,
          0.07428353625231861,
          0.07570561375863105,
          0.07714483888017677,
          0.07860144416215267,
          0.08007565686269223,
          0.0815676977830484,
          0.08307778010934197,
          0.08460610827044643,
          0.08615287681632582,
          0.08771826932087012,
          0.08930245731297648,
          0.09090559923931282,
          0.09252783946186803,
          0.09416930729306389,
          0.09583011607085332,
          0.09751036227588691,
          0.0992101246924902,
          0.10092946361485165,
          0.1026684200994995,
          0.10442701526483017,
          0.10620524963815807,
          0.10800310255047658,
          0.1098205315788787,
          0.1116574720363502,
          0.11351383650846031,
          0.11538951443630686,
          0.11728437174494045,
          0.11919825051639242,
          0.12113096870636683,
          0.12308231990362478,
          0.12505207313108893,
          0.1270399726877378,
          0.1290457380304175,
          0.13106906369480326,
          0.13310961925485937,
          0.13516704932030102,
          0.13724097357172776,
          0.13933098683328943,
          0.14143665918294837,
          0.14355753610061178,
          0.1456931386546362,
          0.14784296372741665,
          0.15000648428100555,
          0.15218314966390112,
          0.15437238596036265,
          0.15657359638378043,
          0.15878616171579407,
          0.1610094407929894,
          0.16324277104311696,
          0.165485469072843,
          0.1677368313090846,
          0.16999613469598926,
          0.17226263744956363,
          0.1745355798718918,
          0.17681418522673442,
          0.17909766067814437,
          0.1813851982935067,
          0.18367597611215167,
          0.1859691592803811,
          0.18826390125340065,
          0.1905593450642622,
          0.1928546246594958,
          0.1951488663006525,
          0.1974411900304866,
          0.19973071120200395,
          0.20201654206805664,
          0.20429779342862456,
          0.20657357633236567,
          0.20884300382845114,
          0.21110519276414694,
          0.21335926562305194,
          0.21560435239836018,
          0.21783959249500712,
          0.2200641366540621,
          0.22227714889227446,
          0.22447780844925813,
          0.2266653117344211,
          0.22883887426541283,
          0.23099773258958026,
          0.23314114617970436,
          0.23526839929510623,
          0.23737880279912119,
          0.23947169592387338,
          0.24154644797332253,
          0.24360245995561225,
          0.24563916613591488,
          0.24765603550116175,
          0.24965257312831987,
          0.25162832144820674,
          0.25358286139722164,
          0.25551581344979696,
          0.25742683852488113,
          0.25931563876027935,
          0.2611819581492575,
          0.2630255830344376,
          0.2648463424546221,
          0.2666441083408885,
          0.2684187955589489,
          0.27017036179548487,
          0.27189880728687527,
          0.2736041743894384,
          0.2752865469910375,
          0.27694604976457654,
          0.2785828472646371,
          0.2801971428691611,
          0.28178917756875227,
          0.28335922860681445,
          0.28490760797433845,
          0.2864346607637508,
          0.28794076338678604,
          0.2894263216618664,
          0.2908917687769716,
          0.2923375631344436,
          0.2937641860845945,
          0.2951721395553975,
          0.2965619435859004,
          0.2979341337713484,
          0.2992892586283201,
          0.300627876888463,
          0.30195055472969407,
          0.30325786295396656,
          0.3045503741209395,
          0.3058286596470959,
          0.3070932868800538,
          0.3083448161579973,
          0.30958379786432955,
          0.3108107694878131,
          0.31202625269861006,
          0.31323075045079635,
          0.31442474412203403,
          0.3156086907012376,
          0.3167830200351648,
          0.3179481321449804,
          0.31910439462391677,
          0.32025214012723097,
          0.3213916639657114,
          0.32252322181400456,
          0.32364702754503055,
          0.324763251201731,
          0.32587201711730024,
          0.32697340219495086,
          0.32806743435809393,
          0.3291540911815969,
          0.33023329871450785,
          0.3313049305042997,
          0.3323688068322769,
          0.3334246941693159,
          0.3344723048605502,
          0.3355112970469839,
          0.33654127483129637,
          0.3375617886943093,
          0.3385723361676884,
          0.33957236276750336,
          0.34056126319218666,
          0.3415383827873264,
          0.3425030192784774,
          0.3434544247719021,
          0.3443918080217816,
          0.34531433696100083,
          0.3462211414911277,
          0.3471113165256679,
          0.3479839252790984,
          0.3488380027925721,
          0.34967255968556205,
          0.35048658612108446,
          0.351279055970505,
          0.3520489311623331,
          0.35279516619783957,
          0.3535167128147929,
          0.35421252477917053,
          0.35488156278329086,
          0.3555227994275361,
          0.3561352242616389,
          0.356717848860426,
          0.35726971190799695,
          0.3577898842634838,
          0.3582774739809337,
          0.35873163125535834,
          0.3591515532666965,
          0.3595364888933262,
          0.3598857432668276,
          0.3601986821399613,
          0.3604747360402917,
          0.36071340418254716,
          0.36091425811366146,
          0.36107694506550847,
          0.36120119099158077,
          0.36128680326530827,
          0.3613336730193359,
          0.36134177710686227,
          0.3613111796681062,
          0.361242033287069,
          0.36113457972600105,
          0.3609891502273506,
          0.36080616537544796,
          0.3605861345127229,
          0.3603296547079102,
          0.3600374092763652,
          0.35971016585533283,
          0.3593487740397637,
          0.3589541625869666,
          0.3585273362011131,
          0.35806937191125376,
          0.3575814150590806,
          0.35706467491518673,
          0.35652041994495337,
          0.3559499727474791,
          0.3553547046930757,
          0.3547360302868536,
          0.3540954012877008,
          0.35343430061358266,
          0.35275423606551376,
          0.35205673390375103,
          0.35134333231076803,
          0.35061557477631805,
          0.349875003440455,
          0.3491231524306654,
          0.3483615412293446,
          0.34759166810768904,
          0.34681500366164736,
          0.3460329844849756,
          0.34524700701354694,
          0.3444584215740094,
          0.3436685266685778,
          0.3428785635262595,
          0.34208971094912055,
          0.3413030804803428,
          0.340519711918784,
          0.33974056920258194,
          0.3389665366820224,
          0.3381984157994658,
          0.3374369221915892,
          0.33668268322659123,
          0.33593623598632416,
          0.3351980257005976,
          0.3344684046381382,
          0.3337476314559416,
          0.3330358710059978,
          0.332333194595646,
          0.33163958069515265,
          0.3309549160834981,
          0.33027899742081746,
          0.32961153323353287,
          0.32895214629588837,
          0.3283003763894153,
          0.3276556834198176,
          0.3270174508688689,
          0.3263849895572008,
          0.3257575416923037,
          0.32513428517470994,
          0.3245143381341498,
          0.3238967636665063,
          0.3232805747416253,
          0.3226647392514743,
          0.32204818516779116,
          0.3214298057782243,
          0.3208084649700254,
          0.32018300253062554,
          0.3195522394349038,
          0.3189149830896163,
          0.31827003250632063,
          0.31761618337516506,
          0.316952233013126,
          0.3162769851616583,
          0.31558925461024373,
          0.31488787162399523,
          0.3141716861552639,
          0.31343957182109955,
          0.3126904296304211,
          0.31192319144682806,
          0.31113682317513575,
          0.31033032766191476,
          0.30950274730253574,
          0.30865316634947,
          0.30778071291883263,
          0.3068845606943803,
          0.3059639303303597,
          0.3050180905567342,
          0.30404635899239335,
          0.30304810267392,
          0.3020227383093894,
          0.3009697322684398,
          0.29988860032151854,
          0.2987789071427075,
          0.29764026559192436,
          0.2964723357934908,
          0.295274824029129,
          0.2940474814643224,
          0.29279010272769007,
          0.2915025243635555,
          0.29018462317823807,
          0.288836314500777,
          0.2874575503787745,
          0.2860483177298761,
          0.284608636469032,
          0.2831385576311771,
          0.28163816150826254,
          0.2801075558187496,
          0.2785468739266979,
          0.2769562731264605,
          0.27533593300777665,
          0.2736860539147243,
          0.27200685551054854,
          0.2702985754588994,
          0.26856146823042454,
          0.26679580404205677,
          0.26500186793468516,
          0.263179958993231,
          0.2613303897114906,
          0.2594534855024498,
          0.25754958435316366,
          0.25561903662170754,
          0.25366220497220887,
          0.25167946444250294,
          0.24967120263761847,
          0.24763782004102072,
          0.2455797304343942,
          0.24349736141569786,
          0.24139115500431838,
          0.23926156832134787,
          0.23710907433236858,
          0.23493416263960554,
          0.23273734030993878,
          0.23051913272503036,
          0.22828008443972395,
          0.22602076003492647,
          0.22374174495135649,
          0.22144364629085422,
          0.21912709357237364,
          0.21679273943033994,
          0.21444126024369695,
          0.21207335668474103,
          0.20968975417766672,
          0.207291203257691,
          0.2048784798226017,
          0.20245238526963283,
          0.20001374651165021,
          0.19756341586777196,
          0.19510227082466997,
          0.1926312136659746,
          0.19015117096833212,
          0.18766309296381625,
          0.1851679527694895,
          0.1826667454859935,
          0.18016048716807107,
          0.17765021367089753,
          0.1751369793770116,
          0.1726218558094843,
          0.1701059301377304,
          0.16759030358306082,
          0.16507608973168453,
          0.1625644127633889,
          0.16005640560456444,
          0.15755320801458847,
          0.15505596461484092,
          0.15256582286979795,
          0.1500839310297413,
          0.14761143604462737,
          0.1451494814585869,
          0.14269920529439045,
          0.1402617379369983,
          0.13783820002504396,
          0.13542970035877028,
          0.1330373338325601,
          0.13066217939978225,
          0.12830529807721724,
          0.1259677309958399,
          0.12365049750423138,
          0.12135459333036659,
          0.11908098880699705,
          0.11683062716531006,
          0.11460442290101888,
          0.11240326021651979,
          0.11022799154224139,
          0.10807943613982983,
          0.1059583787893495,
          0.10386556856223847,
          0.101801717681357,
          0.09976750046908506,
          0.09776355238408971,
          0.09579046914707025,
          0.09384880595551925,
          0.09193907678729786,
          0.0900617537926209,
          0.08821726677387456,
          0.086406002752551,
          0.08462830562246967,
          0.08288447588837462,
          0.08117477048893161,
          0.0794994027031125,
          0.07785854213892912,
          0.07625231480347129,
          0.07468080325320624,
          0.07314404682350494,
          0.07164204193637733,
          0.0701747424854095,
          0.06874206029690942,
          0.06734386566627443,
          0.0659799879685912,
          0.0646502163424648,
          0.06335430044605338,
          0.06209195128423786,
          0.060862842105806524,
          0.05966660936945684,
          0.058502853777328286,
          0.057371141374669844,
          0.0562710047141169,
          0.055201944082911014,
          0.05416342879122789,
          0.053154898519606614,
          0.05217576472327541,
          0.05122541209096824,
          0.05030320005560586,
          0.04940846435399541,
          0.04854051863246561,
          0.047698656095126926,
          0.046882151191205146,
          0.046090261337667485,
          0.04532222867312948,
          0.04457728183881191,
          0.04385463778210455,
          0.04315350357809864,
          0.04247307826426584,
          0.041812554683300474,
          0.04117112132899658,
          0.040547964189913924,
          0.03994226858548858,
          0.03935322098917685,
          0.03878001083317716,
          0.038221832289263256,
          0.0376778860202765,
          0.037147380896873514,
          0.036629535674200214,
          0.036123580623270625,
          0.03562875911196722,
          0.03514432913074305,
          0.034669564758302886,
          0.03420375756276091,
          0.03374621793402078,
          0.033296276343395714,
          0.03285328452678153,
          0.03241661658800845,
          0.03198567001933393,
          0.03155986663638488,
          0.031138653425223182,
          0.030721503299581922,
          0.03030791576670193,
          0.02989741750058891,
          0.02948956282190287,
          0.029083934084086334,
          0.028680141965729364,
          0.028277825669558707,
          0.02787665302881932,
          0.027476320522192125,
          0.027076553198752587,
          0.02667710451482712,
          0.026277756084938386,
          0.02587831734935167,
          0.0254786251610346,
          0.025078543295126786,
          0.024677961884276144,
          0.024276796783441516,
          0.0238749888679773,
          0.023472503269013508,
          0.023069328550315224,
          0.0226654758309542,
          0.022260977858249747,
          0.021855888035536543,
          0.02145027940939348,
          0.021044243621021152,
          0.020637889826485394,
          0.02023134359055277,
          0.01982474575882863
         ],
         "yaxis": "y"
        },
        {
         "legendgroup": "x2",
         "marker": {
          "color": "rgb(255, 127, 14)"
         },
         "mode": "lines",
         "name": "x2",
         "showlegend": false,
         "type": "scatter",
         "x": [
          -2.4567470568634793,
          -2.4470849039427676,
          -2.437422751022056,
          -2.427760598101344,
          -2.4180984451806324,
          -2.4084362922599207,
          -2.398774139339209,
          -2.3891119864184973,
          -2.3794498334977856,
          -2.3697876805770735,
          -2.3601255276563617,
          -2.35046337473565,
          -2.3408012218149383,
          -2.3311390688942266,
          -2.321476915973515,
          -2.311814763052803,
          -2.3021526101320915,
          -2.29249045721138,
          -2.282828304290668,
          -2.2731661513699564,
          -2.2635039984492447,
          -2.253841845528533,
          -2.2441796926078212,
          -2.2345175396871095,
          -2.2248553867663974,
          -2.215193233845686,
          -2.205531080924974,
          -2.1958689280042623,
          -2.1862067750835505,
          -2.176544622162839,
          -2.166882469242127,
          -2.1572203163214154,
          -2.1475581634007037,
          -2.137896010479992,
          -2.1282338575592803,
          -2.1185717046385686,
          -2.108909551717857,
          -2.099247398797145,
          -2.0895852458764335,
          -2.0799230929557218,
          -2.07026094003501,
          -2.060598787114298,
          -2.0509366341935866,
          -2.0412744812728745,
          -2.0316123283521628,
          -2.021950175431451,
          -2.0122880225107393,
          -2.0026258695900276,
          -1.992963716669316,
          -1.9833015637486042,
          -1.9736394108278925,
          -1.9639772579071808,
          -1.954315104986469,
          -1.9446529520657574,
          -1.9349907991450457,
          -1.925328646224334,
          -1.915666493303622,
          -1.9060043403829103,
          -1.8963421874621986,
          -1.886680034541487,
          -1.8770178816207752,
          -1.8673557287000633,
          -1.8576935757793516,
          -1.8480314228586399,
          -1.8383692699379282,
          -1.8287071170172164,
          -1.8190449640965047,
          -1.809382811175793,
          -1.7997206582550813,
          -1.7900585053343696,
          -1.780396352413658,
          -1.7707341994929462,
          -1.7610720465722345,
          -1.7514098936515228,
          -1.741747740730811,
          -1.7320855878100991,
          -1.7224234348893872,
          -1.7127612819686755,
          -1.7030991290479638,
          -1.693436976127252,
          -1.6837748232065404,
          -1.6741126702858287,
          -1.664450517365117,
          -1.6547883644444052,
          -1.6451262115236935,
          -1.6354640586029818,
          -1.6258019056822701,
          -1.6161397527615584,
          -1.6064775998408467,
          -1.5968154469201348,
          -1.587153293999423,
          -1.5774911410787114,
          -1.5678289881579996,
          -1.558166835237288,
          -1.5485046823165762,
          -1.5388425293958645,
          -1.5291803764751526,
          -1.5195182235544409,
          -1.5098560706337292,
          -1.5001939177130175,
          -1.4905317647923058,
          -1.480869611871594,
          -1.4712074589508823,
          -1.4615453060301706,
          -1.4518831531094587,
          -1.442221000188747,
          -1.4325588472680355,
          -1.4228966943473236,
          -1.4132345414266119,
          -1.4035723885059002,
          -1.3939102355851885,
          -1.3842480826644767,
          -1.3745859297437648,
          -1.3649237768230533,
          -1.3552616239023414,
          -1.3455994709816297,
          -1.335937318060918,
          -1.3262751651402063,
          -1.3166130122194946,
          -1.3069508592987829,
          -1.2972887063780711,
          -1.2876265534573592,
          -1.2779644005366475,
          -1.2683022476159358,
          -1.258640094695224,
          -1.2489779417745124,
          -1.2393157888538007,
          -1.229653635933089,
          -1.2199914830123773,
          -1.2103293300916653,
          -1.2006671771709538,
          -1.191005024250242,
          -1.1813428713295302,
          -1.1716807184088185,
          -1.1620185654881068,
          -1.152356412567395,
          -1.1426942596466831,
          -1.1330321067259717,
          -1.1233699538052597,
          -1.1137078008845482,
          -1.1040456479638363,
          -1.0943834950431248,
          -1.084721342122413,
          -1.075059189201701,
          -1.0653970362809895,
          -1.0557348833602775,
          -1.046072730439566,
          -1.0364105775188541,
          -1.0267484245981426,
          -1.0170862716774307,
          -1.007424118756719,
          -0.9977619658360073,
          -0.9880998129152954,
          -0.9784376599945839,
          -0.9687755070738719,
          -0.9591133541531605,
          -0.9494512012324485,
          -0.9397890483117368,
          -0.9301268953910251,
          -0.9204647424703134,
          -0.9108025895496017,
          -0.9011404366288898,
          -0.8914782837081783,
          -0.8818161307874663,
          -0.8721539778667546,
          -0.8624918249460429,
          -0.8528296720253312,
          -0.8431675191046195,
          -0.8335053661839078,
          -0.8238432132631961,
          -0.8141810603424844,
          -0.8045189074217725,
          -0.7948567545010607,
          -0.785194601580349,
          -0.7755324486596373,
          -0.7658702957389256,
          -0.7562081428182139,
          -0.7465459898975022,
          -0.7368838369767903,
          -0.7272216840560788,
          -0.7175595311353669,
          -0.7078973782146554,
          -0.6982352252939434,
          -0.6885730723732317,
          -0.67891091945252,
          -0.6692487665318081,
          -0.6595866136110966,
          -0.6499244606903847,
          -0.6402623077696732,
          -0.6306001548489613,
          -0.6209380019282498,
          -0.6112758490075378,
          -0.6016136960868259,
          -0.5919515431661144,
          -0.5822893902454025,
          -0.572627237324691,
          -0.5629650844039791,
          -0.5533029314832676,
          -0.5436407785625557,
          -0.5339786256418442,
          -0.5243164727211322,
          -0.5146543198004205,
          -0.5049921668797088,
          -0.4953300139589969,
          -0.4856678610382854,
          -0.4760057081175735,
          -0.466343555196862,
          -0.4566814022761503,
          -0.44701924935543813,
          -0.43735709643472687,
          -0.4276949435140147,
          -0.41803279059330345,
          -0.40837063767259174,
          -0.3987084847518796,
          -0.3890463318311679,
          -0.37938417891045617,
          -0.36972202598974446,
          -0.36005987306903275,
          -0.35039772014832105,
          -0.34073556722760934,
          -0.33107341430689763,
          -0.3214112613861855,
          -0.3117491084654742,
          -0.3020869555447625,
          -0.29242480262405035,
          -0.28276264970333864,
          -0.2731004967826274,
          -0.26343834386191567,
          -0.2537761909412035,
          -0.2441140380204918,
          -0.2344518850997801,
          -0.22478973217906884,
          -0.21512757925835668,
          -0.20546542633764497,
          -0.19580327341693327,
          -0.1861411204962211,
          -0.17647896757550985,
          -0.16681681465479814,
          -0.15715466173408643,
          -0.14749250881337428,
          -0.13783035589266301,
          -0.1281682029719513,
          -0.11850605005123915,
          -0.10884389713052744,
          -0.09918174420981574,
          -0.08951959128910447,
          -0.07985743836839232,
          -0.07019528544768061,
          -0.0605331325269689,
          -0.050870979606257194,
          -0.041208826685545485,
          -0.03154667376483378,
          -0.02188452084412207,
          -0.012222367923409916,
          -0.0025602150026986514,
          0.007101937918013057,
          0.016764090838724766,
          0.026426243759436918,
          0.03608839668014863,
          0.04575054960085989,
          0.0554127025215716,
          0.06507485544228375,
          0.07473700836299546,
          0.08439916128370673,
          0.09406131420441888,
          0.10372346712513059,
          0.1133856200458423,
          0.123047772966554,
          0.1327099258872657,
          0.14237207880797742,
          0.15203423172868913,
          0.16169638464940084,
          0.171358537570113,
          0.18102069049082425,
          0.19068284341153596,
          0.20034499633224812,
          0.21000714925295982,
          0.2196693021736711,
          0.2293314550943828,
          0.23899360801509495,
          0.24865576093580666,
          0.25831791385651837,
          0.26798006677722963,
          0.2776422196979418,
          0.2873043726186535,
          0.2969665255393652,
          0.30662867846007735,
          0.3162908313807886,
          0.3259529843015003,
          0.33561513722221203,
          0.3452772901429242,
          0.35493944306363545,
          0.36460159598434716,
          0.3742637489050593,
          0.383925901825771,
          0.39358805474648273,
          0.403250207667194,
          0.41291236058790615,
          0.42257451350861785,
          0.43223666642932956,
          0.44189881935004127,
          0.451560972270753,
          0.4612231251914647,
          0.4708852781121764,
          0.48054743103288855,
          0.4902095839535998,
          0.4998717368743115,
          0.5095338897950232,
          0.5191960427157354,
          0.5288581956364471,
          0.5385203485571584,
          0.5481825014778701,
          0.5578446543985822,
          0.5675068073192939,
          0.5771689602400056,
          0.5868311131607173,
          0.596493266081429,
          0.6061554190021408,
          0.6158175719228525,
          0.6254797248435642,
          0.6351418777642759,
          0.6448040306849876,
          0.6544661836056997,
          0.6641283365264115,
          0.6737904894471227,
          0.6834526423678344,
          0.6931147952885466,
          0.7027769482092583,
          0.71243910112997,
          0.7221012540506813,
          0.7317634069713934,
          0.7414255598921051,
          0.7510877128128168,
          0.7607498657335285,
          0.7704120186542402,
          0.780074171574952,
          0.7897363244956637,
          0.7993984774163758,
          0.8090606303370871,
          0.8187227832577988,
          0.8283849361785105,
          0.8380470890992227,
          0.8477092420199344,
          0.8573713949406456,
          0.8670335478613578,
          0.8766957007820695,
          0.8863578537027812,
          0.8960200066234925,
          0.9056821595442046,
          0.9153443124649163,
          0.925006465385628,
          0.9346686183063397,
          0.9443307712270514,
          0.9539929241477632,
          0.9636550770684749,
          0.973317229989187,
          0.9829793829098987,
          0.99264153583061,
          1.0023036887513217,
          1.0119658416720339,
          1.0216279945927456,
          1.0312901475134568,
          1.0409523004341685,
          1.0506144533548807,
          1.0602766062755924,
          1.069938759196304,
          1.0796009121170158,
          1.0892630650377275,
          1.0989252179584392,
          1.108587370879151,
          1.118249523799863,
          1.1279116767205744,
          1.137573829641286,
          1.1472359825619982,
          1.15689813548271,
          1.1665602884034212,
          1.176222441324133,
          1.185884594244845,
          1.1955467471655568,
          1.2052089000862685,
          1.2148710530069797,
          1.2245332059276919,
          1.2341953588484036,
          1.2438575117691153,
          1.2535196646898275,
          1.2631818176105387,
          1.2728439705312504,
          1.2825061234519621,
          1.2921682763726743,
          1.3018304292933855,
          1.3114925822140973,
          1.321154735134809,
          1.3308168880555211,
          1.3404790409762328,
          1.350141193896944,
          1.3598033468176562,
          1.369465499738368,
          1.3791276526590797,
          1.388789805579791,
          1.398451958500503,
          1.4081141114212148,
          1.4177762643419265,
          1.4274384172626382,
          1.43710057018335,
          1.4467627231040616,
          1.4564248760247733,
          1.4660870289454855,
          1.4757491818661972,
          1.4854113347869085,
          1.4950734877076202,
          1.5047356406283323,
          1.514397793549044,
          1.5240599464697553,
          1.5337220993904674,
          1.5433842523111787,
          1.5530464052318909,
          1.562708558152603,
          1.5723707110733143,
          1.5820328639940255,
          1.5916950169147377,
          1.6013571698354498,
          1.611019322756161,
          1.6206814756768724,
          1.6303436285975845,
          1.6400057815182958,
          1.649667934439008,
          1.65933008735972,
          1.6689922402804322,
          1.6786543932011435,
          1.6883165461218548,
          1.697978699042567,
          1.7076408519632782,
          1.7173030048839903,
          1.7269651578047025,
          1.7366273107254138,
          1.746289463646126,
          1.7559516165668372,
          1.7656137694875493,
          1.7752759224082606,
          1.7849380753289719,
          1.794600228249684,
          1.8042623811703962,
          1.8139245340911083,
          1.8235866870118196,
          1.8332488399325308,
          1.842910992853243,
          1.8525731457739543,
          1.8622352986946655,
          1.8718974516153786,
          1.8815596045360898,
          1.891221757456802,
          1.9008839103775133,
          1.9105460632982245,
          1.9202082162189367,
          1.929870369139648,
          1.939532522060361,
          1.9491946749810722,
          1.9588568279017835,
          1.9685189808224957,
          1.978181133743207,
          1.987843286663919,
          1.9975054395846303,
          2.0071675925053416,
          2.0168297454260546,
          2.026491898346766,
          2.036154051267478,
          2.0458162041881893,
          2.0554783571089006,
          2.0651405100296127,
          2.074802662950324,
          2.084464815871037,
          2.0941269687917483,
          2.1037891217124596,
          2.1134512746331717,
          2.123113427553883,
          2.1327755804745943,
          2.1424377333953064,
          2.1520998863160186,
          2.1617620392367307,
          2.171424192157442,
          2.1810863450781532,
          2.1907484979988654,
          2.2004106509195767,
          2.210072803840289,
          2.219734956761001,
          2.2293971096817122,
          2.2390592626024244,
          2.2487214155231356,
          2.258383568443848,
          2.268045721364559,
          2.2777078742852703,
          2.2873700272059825,
          2.2970321801266946,
          2.306694333047407,
          2.316356485968118,
          2.3260186388888293,
          2.3356807918095415,
          2.3453429447302527,
          2.355005097650965,
          2.364667250571677
         ],
         "xaxis": "x",
         "y": [
          0.039136451327568406,
          0.03999328290572467,
          0.04085346668808531,
          0.04171661978235388,
          0.04258236120763789,
          0.04345031261411015,
          0.04432009899084841,
          0.04519134936022124,
          0.046063697457287354,
          0.04693678239277853,
          0.04781024929834042,
          0.048683749952814555,
          0.049556943388449126,
          0.050429496476037554,
          0.05130108448808814,
          0.05217139163923545,
          0.0530401116032064,
          0.05390694800575564,
          0.054771614893081556,
          0.05563383717532847,
          0.056493351044869064,
          0.05734990436914763,
          0.058203257057941944,
          0.05905318140497937,
          0.05989946240391081,
          0.06074189803871094,
          0.0615802995486329,
          0.06241449166789938,
          0.06324431284036272,
          0.0640696154094094,
          0.06489026578342634,
          0.06570614457718241,
          0.06651714672951145,
          0.06732318159771218,
          0.06812417302910741,
          0.0689200594102306,
          0.06971079369412946,
          0.07049634340629773,
          0.07127669062976828,
          0.07205183196992045,
          0.07282177849957347,
          0.07358655568496184,
          0.07434620329320783,
          0.07510077528192996,
          0.07585033967165038,
          0.07659497840169138,
          0.07733478717027656,
          0.07806987525958264,
          0.07880036534651982,
          0.07952639330004911,
          0.0802481079658804,
          0.08096567093943106,
          0.08167925632795703,
          0.08238905050280998,
          0.08309525184280492,
          0.08379807046972224,
          0.08449772797699923,
          0.08519445715270078,
          0.08588850169788702,
          0.08658011594152108,
          0.08726956455308454,
          0.08795712225408438,
          0.08864307352964339,
          0.08932771234137774,
          0.09001134184275592,
          0.09069427409812848,
          0.09137682980659713,
          0.09205933803186561,
          0.09274213593917471,
          0.0934255685403821,
          0.09410998844818332,
          0.09479575564040828,
          0.09548323723524595,
          0.09617280727816035,
          0.0968648465411631,
          0.09755974233499426,
          0.09825788833464834,
          0.09895968441854401,
          0.09966553652150927,
          0.10037585650159572,
          0.10109106202059098,
          0.10181157643793154,
          0.10253782871755948,
          0.10327025334709351,
          0.10400929026851498,
          0.10475538481939721,
          0.10550898768353524,
          0.10627055484965985,
          0.1070405475767566,
          0.10781943236434513,
          0.10860768092592069,
          0.10940577016361004,
          0.11021418214195851,
          0.11103340405863532,
          0.1118639282097296,
          0.11270625194721359,
          0.11356087762605463,
          0.11442831253839782,
          0.11530906883218091,
          0.11620366341151542,
          0.11711261781614621,
          0.11803645807731185,
          0.11897571454734754,
          0.11993092170042027,
          0.12090261790184832,
          0.12189134514354195,
          0.12289764874321092,
          0.12392207700510134,
          0.12496518084017687,
          0.12602751334381476,
          0.12710962932926845,
          0.12821208481534416,
          0.1293354364669488,
          0.13048024098739314,
          0.13164705446156577,
          0.13283643164934805,
          0.1340489252288914,
          0.13528508498964473,
          0.13654545697529133,
          0.1378305825770268,
          0.13914099757788592,
          0.1404772311491078,
          0.14183980479979622,
          0.14322923128141454,
          0.14464601344891345,
          0.14609064308055877,
          0.1475635996587756,
          0.1490653491145704,
          0.15059634253832974,
          0.15215701486000988,
          0.1537477835019442,
          0.15536904700769155,
          0.15702118365052026,
          0.15870455002529468,
          0.1604194796276742,
          0.16216628142466188,
          0.16394523842066028,
          0.16575660622328015,
          0.16760061161322887,
          0.16947745112266513,
          0.17138728962645153,
          0.17333025895075335,
          0.1753064565034554,
          0.17731594393084577,
          0.17935874580499964,
          0.1814348483462581,
          0.18354419818513656,
          0.18568670116793382,
          0.1878622212102305,
          0.19007057920237044,
          0.192311551970909,
          0.1945848712999027,
          0.1968902230157756,
          0.19922724613936627,
          0.20159553210861209,
          0.2039946240751673,
          0.20642401627808812,
          0.20888315349755396,
          0.21137143059140434,
          0.2138881921170972,
          0.21643273204150038,
          0.21900429354073278,
          0.22160206889207368,
          0.22422519945975697,
          0.22687277577625226,
          0.22954383772043457,
          0.23223737479381742,
          0.23495232649581932,
          0.23768758279880262,
          0.24044198472340894,
          0.24321432501448934,
          0.24600334891770215,
          0.24880775505662056,
          0.2516261964099733,
          0.25445728138840534,
          0.25729957500992257,
          0.26015160017295436,
          0.2630118390257457,
          0.2658787344305603,
          0.26875069152095804,
          0.27162607935018795,
          0.2745032326285247,
          0.2773804535471581,
          0.28025601368604414,
          0.2831281560029213,
          0.2859950969004983,
          0.288855028368633,
          0.2917061201981424,
          0.29454652226269984,
          0.2973743668651346,
          0.30018777114426215,
          0.3029848395382638,
          0.30576366630047336,
          0.3085223380633262,
          0.3112589364461015,
          0.31397154070200545,
          0.31665823040004587,
          0.3193170881370803,
          0.3219462022753683,
          0.324543669700896,
          0.32710759859772387,
          0.3296361112335754,
          0.3321273467518835,
          0.33457946396550703,
          0.3369906441473529,
          0.33935909381315743,
          0.3416830474917151,
          0.34396077047789925,
          0.34619056156385236,
          0.34837075574380283,
          0.35049972688802467,
          0.35257589038151954,
          0.3545977057230997,
          0.35656367908060754,
          0.358472365798105,
          0.36032237285093965,
          0.362112361244692,
          0.3638410483540711,
          0.36550721019792926,
          0.3671096836466246,
          0.3686473685580514,
          0.3701192298387189,
          0.37152429942632503,
          0.37286167819034677,
          0.374130537747197,
          0.37533012218657547,
          0.3764597497056673,
          0.37751881414788685,
          0.37850678644289365,
          0.37942321594464307,
          0.38026773166424443,
          0.38104004339443204,
          0.3817399427224607,
          0.38236730392826235,
          0.3829220847647039,
          0.38340432711681116,
          0.3838141575368375,
          0.3841517876520762,
          0.3844175144423383,
          0.384611720384068,
          0.3847348734580818,
          0.3847875270179974,
          0.38477031951646923,
          0.38468397408642435,
          0.384529297974599,
          0.38430718182478146,
          0.3840185988082893,
          0.38366460359938953,
          0.38324633119350604,
          0.3827649955662969,
          0.38222188817188024,
          0.3816183762787448,
          0.3809559011421649,
          0.3802359760122307,
          0.3794601839769558,
          0.37863017564025514,
          0.37774766663501164,
          0.37681443497183875,
          0.3758323182246015,
          0.374803210554239,
          0.37372905957291547,
          0.37261186305106325,
          0.3714536654704249,
          0.3702565544267674,
          0.36902265688654035,
          0.36775413530235285,
          0.36645318359276513,
          0.3651220229925368,
          0.36376289778010423,
          0.36237807088974017,
          0.36096981941646605,
          0.35954043002249,
          0.35809219425455696,
          0.35662740378227215,
          0.35514834556807773,
          0.3536572969801913,
          0.35215652086040633,
          0.3506482605592428,
          0.3491347349514725,
          0.3476181334455676,
          0.3461006110011007,
          0.34458428316855805,
          0.3430712211664276,
          0.34156344701077085,
          0.34006292871276433,
          0.33857157555996226,
          0.3370912334971705,
          0.335623680622966,
          0.3341706228179227,
          0.33273368952058513,
          0.3313144296671316,
          0.329914307810508,
          0.3285347004345457,
          0.3271768924782673,
          0.3258420740851761,
          0.32453133759182834,
          0.3232456747694378,
          0.32198597433160525,
          0.3207530197205492,
          0.31954748718339865,
          0.31836994414925385,
          0.3172208479167331,
          0.316100544660742,
          0.3150092687660674,
          0.31394714249427397,
          0.31291417598915044,
          0.31191026762468255,
          0.310935204698215,
          0.30998866447009416,
          0.3090702155496903,
          0.30817931962625267,
          0.30731533354161267,
          0.3064775117002644,
          0.3056650088108754,
          0.3048768829518074,
          0.3041120989517451,
          0.30336953207508344,
          0.3026479720002886,
          0.30194612707805574,
          0.30126262885473326,
          0.3005960368451762,
          0.2999448435379582,
          0.2993074796146912,
          0.29868231936410616,
          0.2980676862705364,
          0.29746185875552333,
          0.29686307605043827,
          0.29626954417730045,
          0.29567944201436236,
          0.29509092742253856,
          0.2945021434083931,
          0.29391122429914307,
          0.29331630190503055,
          0.29271551164441684,
          0.2921069986071035,
          0.29148892353165623,
          0.290859468672921,
          0.2902168435364516,
          0.28955929045724355,
          0.28888509000095464,
          0.28819256616671185,
          0.287480091371627,
          0.2867460911982944,
          0.28598904888778237,
          0.2852075095619761,
          0.28440008416055945,
          0.2835654530794415,
          0.28270236949900673,
          0.2818096623922225,
          0.2808862392043232,
          0.27993108819753515,
          0.2789432804560508,
          0.27792197154826875,
          0.27686640284506886,
          0.27577590249469497,
          0.2746498860565686,
          0.27348785679808413,
          0.2722894056601339,
          0.2710542108987445,
          0.26978203741178414,
          0.2684727357611956,
          0.2671262409026413,
          0.2657425706357612,
          0.26432182378948593,
          0.2628641781579571,
          0.26136988820362056,
          0.25983928254494404,
          0.2582727612469713,
          0.25667079293355793,
          0.25503391174064544,
          0.2533627141302816,
          0.25165785558535303,
          0.24992004720507513,
          0.2481500522212738,
          0.2463486824553132,
          0.24451679473525303,
          0.24265528729239477,
          0.240765096155855,
          0.23884719156316253,
          0.23690257440413,
          0.23493227271441078,
          0.23293733823421794,
          0.23091884304667956,
          0.22887787630920625,
          0.22681554109012314,
          0.2247329513216124,
          0.22263122887877693,
          0.22051150079338053,
          0.21837489660952272,
          0.21622254588722153,
          0.21405557585857915,
          0.21187510923992478,
          0.2096822622020676,
          0.20747814249956473,
          0.20526384775871104,
          0.20304046392282316,
          0.20080906385229844,
          0.1985707060759011,
          0.19632643368878364,
          0.19407727339185912,
          0.19182423466635679,
          0.18956830907665972,
          0.18731046969391554,
          0.1850516706323629,
          0.1827928466898755,
          0.18053491308387887,
          0.17827876527352546,
          0.1760252788588634,
          0.17377530954764248,
          0.17152969318042335,
          0.16928924580474905,
          0.16705476378931788,
          0.16482702396934906,
          0.16260678381466237,
          0.16039478161239026,
          0.15819173665668307,
          0.15599834943829574,
          0.1538153018274824,
          0.1516432572442366,
          0.14948286081054588,
          0.14733473947998302,
          0.14519950214064667,
          0.14307773968814727,
          0.1409700250660491,
          0.1388769132718641,
          0.1367989413273979,
          0.13473662821292928,
          0.1326904747653561,
          0.13066096354109305,
          0.12864855864510333,
          0.12665370552802652,
          0.12467683075389886,
          0.12271834174145269,
          0.12077862648243752,
          0.11885805324079253,
          0.11695697023686157,
          0.11507570532113191,
          0.11321456564221963,
          0.11137383731402228,
          0.10955378508708251,
          0.10775465202930093,
          0.10597665922115325,
          0.10422000547054727,
          0.10248486705238387,
          0.10077139747775604,
          0.09907972729755926,
          0.09740996394506783,
          0.0957621916217807,
          0.09413647123055334,
          0.09253284035970442,
          0.09095131332142924,
          0.08939188124747917,
          0.08785451224465089,
          0.08633915161221349,
          0.08484572212295816,
          0.08337412436910556,
          0.0819242371738484,
          0.08049591806884115,
          0.07908900383748992,
          0.07770331112343212,
          0.07633863710314484,
          0.0749947602211741,
          0.07367144098605151,
          0.07236842282454369,
          0.07108543299149019,
          0.06982218353210146,
          0.0685783722932456,
          0.06735368397991655,
          0.06614779125278068,
          0.0649603558624265,
          0.06379102981569562,
          0.0626394565692689,
          0.061505272245493646,
          0.06038810686529814,
          0.05928758559292066,
          0.05820332998709758,
          0.057134959253312564,
          0.05608209149168612,
          0.05504434493510546,
          0.05402133917224259,
          0.05301269635018587,
          0.052018042351523484,
          0.05103700794085178,
          0.05006922987585056,
          0.0491143519782601,
          0.04817202616031102,
          0.047241913402401185,
          0.04632368467807675,
          0.04541702182265567,
          0.04452161834213632,
          0.04363718015934748,
          0.04276342629463146,
          0.041900089478691886,
          0.04104691669559459,
          0.04020366965426937,
          0.03937012518722972,
          0.03854607557559744,
          0.037731328799893084,
          0.036925708716423776,
          0.03612905515947185
         ],
         "yaxis": "y"
        },
        {
         "legendgroup": "x3",
         "marker": {
          "color": "rgb(44, 160, 44)"
         },
         "mode": "lines",
         "name": "x3",
         "showlegend": false,
         "type": "scatter",
         "x": [
          0.2590451555402984,
          0.2700946200761959,
          0.2811440846120934,
          0.2921935491479909,
          0.3032430136838884,
          0.3142924782197859,
          0.3253419427556834,
          0.3363914072915809,
          0.3474408718274784,
          0.3584903363633759,
          0.3695398008992734,
          0.3805892654351709,
          0.3916387299710684,
          0.4026881945069659,
          0.41373765904286347,
          0.424787123578761,
          0.4358365881146585,
          0.4468860526505559,
          0.4579355171864534,
          0.468984981722351,
          0.4800344462582485,
          0.491083910794146,
          0.5021333753300434,
          0.513182839865941,
          0.5242323044018384,
          0.535281768937736,
          0.5463312334736334,
          0.557380698009531,
          0.5684301625454286,
          0.579479627081326,
          0.5905290916172236,
          0.6015785561531211,
          0.6126280206890186,
          0.6236774852249161,
          0.6347269497608135,
          0.6457764142967111,
          0.6568258788326085,
          0.6678753433685061,
          0.6789248079044036,
          0.6899742724403011,
          0.7010237369761986,
          0.7120732015120961,
          0.7231226660479936,
          0.7341721305838911,
          0.7452215951197886,
          0.7562710596556861,
          0.7673205241915836,
          0.7783699887274811,
          0.7894194532633786,
          0.8004689177992761,
          0.8115183823351736,
          0.8225678468710712,
          0.8336173114069686,
          0.8446667759428661,
          0.8557162404787636,
          0.8667657050146611,
          0.8778151695505587,
          0.8888646340864561,
          0.8999140986223536,
          0.9109635631582511,
          0.9220130276941487,
          0.9330624922300462,
          0.9441119567659436,
          0.9551614213018411,
          0.9662108858377387,
          0.9772603503736362,
          0.9883098149095337,
          0.9993592794454311,
          1.0104087439813285,
          1.0214582085172261,
          1.0325076730531237,
          1.0435571375890214,
          1.0546066021249185,
          1.0656560666608161,
          1.0767055311967137,
          1.0877549957326114,
          1.0988044602685088,
          1.1098539248044061,
          1.1209033893403038,
          1.1319528538762014,
          1.1430023184120988,
          1.1540517829479962,
          1.1651012474838938,
          1.1761507120197914,
          1.1872001765556888,
          1.1982496410915862,
          1.2092991056274838,
          1.2203485701633814,
          1.2313980346992788,
          1.2424474992351762,
          1.2534969637710738,
          1.2645464283069714,
          1.2755958928428688,
          1.2866453573787664,
          1.2976948219146638,
          1.3087442864505614,
          1.3197937509864588,
          1.3308432155223564,
          1.3418926800582538,
          1.3529421445941512,
          1.3639916091300488,
          1.3750410736659462,
          1.386090538201844,
          1.3971400027377414,
          1.4081894672736388,
          1.4192389318095364,
          1.4302883963454338,
          1.4413378608813314,
          1.4523873254172288,
          1.4634367899531262,
          1.4744862544890238,
          1.4855357190249214,
          1.496585183560819,
          1.5076346480967164,
          1.5186841126326138,
          1.5297335771685114,
          1.5407830417044088,
          1.5518325062403064,
          1.5628819707762038,
          1.5739314353121014,
          1.584980899847999,
          1.5960303643838964,
          1.607079828919794,
          1.6181292934556915,
          1.6291787579915888,
          1.6402282225274865,
          1.6512776870633838,
          1.6623271515992815,
          1.673376616135179,
          1.6844260806710765,
          1.695475545206974,
          1.7065250097428715,
          1.717574474278769,
          1.7286239388146665,
          1.7396734033505639,
          1.7507228678864615,
          1.7617723324223589,
          1.7728217969582567,
          1.783871261494154,
          1.7949207260300515,
          1.805970190565949,
          1.8170196551018465,
          1.828069119637744,
          1.8391185841736415,
          1.8501680487095389,
          1.8612175132454365,
          1.872266977781334,
          1.8833164423172317,
          1.8943659068531291,
          1.9054153713890265,
          1.9164648359249241,
          1.9275143004608215,
          1.9385637649967191,
          1.9496132295326165,
          1.960662694068514,
          1.9717121586044117,
          1.9827616231403091,
          1.9938110876762067,
          2.0048605522121044,
          2.0159100167480015,
          2.026959481283899,
          2.0380089458197963,
          2.049058410355694,
          2.0601078748915915,
          2.071157339427489,
          2.0822068039633868,
          2.0932562684992844,
          2.104305733035182,
          2.115355197571079,
          2.1264046621069763,
          2.137454126642874,
          2.1485035911787715,
          2.159553055714669,
          2.1706025202505668,
          2.1816519847864644,
          2.192701449322362,
          2.203750913858259,
          2.2148003783941568,
          2.225849842930054,
          2.2368993074659516,
          2.247948772001849,
          2.258998236537747,
          2.2700477010736444,
          2.2810971656095416,
          2.292146630145439,
          2.303196094681337,
          2.3142455592172344,
          2.325295023753132,
          2.336344488289029,
          2.347393952824927,
          2.3584434173608244,
          2.369492881896722,
          2.380542346432619,
          2.391591810968517,
          2.4026412755044144,
          2.4136907400403116,
          2.424740204576209,
          2.435789669112107,
          2.446839133648004,
          2.4578885981839016,
          2.468938062719799,
          2.479987527255697,
          2.491036991791594,
          2.502086456327492,
          2.5131359208633897,
          2.524185385399287,
          2.5352348499351844,
          2.546284314471082,
          2.5573337790069792,
          2.568383243542877,
          2.5794327080787744,
          2.590482172614672,
          2.6015316371505692,
          2.612581101686467,
          2.6236305662223645,
          2.6346800307582616,
          2.6457294952941592,
          2.656778959830057,
          2.667828424365954,
          2.6788778889018516,
          2.6899273534377492,
          2.7009768179736473,
          2.7120262825095445,
          2.723075747045442,
          2.7341252115813397,
          2.745174676117237,
          2.7562241406531345,
          2.767273605189032,
          2.7783230697249293,
          2.789372534260827,
          2.8004219987967245,
          2.811471463332622,
          2.8225209278685193,
          2.833570392404417,
          2.8446198569403145,
          2.8556693214762117,
          2.8667187860121093,
          2.877768250548007,
          2.8888177150839045,
          2.899867179619802,
          2.9109166441556997,
          2.9219661086915973,
          2.9330155732274945,
          2.944065037763392,
          2.9551145022992897,
          2.966163966835187,
          2.9772134313710845,
          2.988262895906982,
          2.9993123604428793,
          3.010361824978777,
          3.0214112895146745,
          3.032460754050572,
          3.0435102185864693,
          3.054559683122367,
          3.0656091476582645,
          3.0766586121941617,
          3.0877080767300598,
          3.0987575412659574,
          3.1098070058018545,
          3.120856470337752,
          3.1319059348736498,
          3.142955399409547,
          3.1540048639454445,
          3.165054328481342,
          3.1761037930172398,
          3.187153257553137,
          3.1982027220890346,
          3.209252186624932,
          3.2203016511608293,
          3.231351115696727,
          3.2424005802326246,
          3.2534500447685217,
          3.2644995093044193,
          3.2755489738403174,
          3.286598438376215,
          3.297647902912112,
          3.30869736744801,
          3.3197468319839074,
          3.3307962965198046,
          3.341845761055702,
          3.3528952255916,
          3.363944690127497,
          3.3749941546633946,
          3.386043619199292,
          3.39709308373519,
          3.408142548271087,
          3.4191920128069846,
          3.430241477342882,
          3.4412909418787794,
          3.452340406414677,
          3.4633898709505746,
          3.474439335486472,
          3.48548880002237,
          3.4965382645582674,
          3.507587729094165,
          3.518637193630062,
          3.52968665816596,
          3.5407361227018574,
          3.5517855872377546,
          3.5628350517736522,
          3.57388451630955,
          3.584933980845447,
          3.5959834453813446,
          3.6070329099172422,
          3.61808237445314,
          3.629131838989037,
          3.6401813035249346,
          3.6512307680608322,
          3.6622802325967294,
          3.6733296971326275,
          3.684379161668525,
          3.6954286262044223,
          3.70647809074032,
          3.7175275552762175,
          3.728577019812115,
          3.7396264843480123,
          3.75067594888391,
          3.7617254134198075,
          3.7727748779557047,
          3.7838243424916023,
          3.7948738070275,
          3.805923271563397,
          3.8169727360992947,
          3.8280222006351923,
          3.83907166517109,
          3.850121129706987,
          3.861170594242885,
          3.8722200587787827,
          3.88326952331468,
          3.8943189878505775,
          3.905368452386475,
          3.9164179169223723,
          3.92746738145827,
          3.9385168459941675,
          3.949566310530065,
          3.9606157750659623,
          3.97166523960186,
          3.9827147041377575,
          3.9937641686736547,
          4.004813633209553,
          4.01586309774545,
          4.026912562281347,
          4.037962026817245,
          4.049011491353142,
          4.060060955889041,
          4.0711104204249375,
          4.082159884960835,
          4.093209349496733,
          4.1042588140326295,
          4.115308278568527,
          4.126357743104425,
          4.137407207640322,
          4.14845667217622,
          4.1595061367121176,
          4.170555601248015,
          4.181605065783913,
          4.19265453031981,
          4.203703994855708,
          4.214753459391605,
          4.225802923927502,
          4.2368523884634,
          4.247901852999297,
          4.258951317535195,
          4.270000782071093,
          4.28105024660699,
          4.292099711142887,
          4.303149175678785,
          4.314198640214682,
          4.32524810475058,
          4.336297569286478,
          4.347347033822375,
          4.358396498358273,
          4.36944596289417,
          4.380495427430068,
          4.391544891965966,
          4.402594356501863,
          4.41364382103776,
          4.424693285573658,
          4.435742750109555,
          4.446792214645453,
          4.45784167918135,
          4.468891143717248,
          4.479940608253146,
          4.490990072789042,
          4.50203953732494,
          4.513089001860838,
          4.524138466396735,
          4.535187930932633,
          4.5462373954685305,
          4.557286860004427,
          4.568336324540325,
          4.579385789076222,
          4.59043525361212,
          4.601484718148018,
          4.612534182683915,
          4.623583647219813,
          4.63463311175571,
          4.645682576291607,
          4.656732040827505,
          4.667781505363402,
          4.6788309698993,
          4.689880434435198,
          4.700929898971095,
          4.711979363506992,
          4.72302882804289,
          4.734078292578787,
          4.745127757114686,
          4.756177221650583,
          4.767226686186481,
          4.778276150722378,
          4.789325615258275,
          4.800375079794173,
          4.8114245443300705,
          4.822474008865968,
          4.833523473401866,
          4.844572937937763,
          4.85562240247366,
          4.866671867009558,
          4.877721331545455,
          4.888770796081353,
          4.8998202606172505,
          4.910869725153148,
          4.921919189689046,
          4.9329686542249425,
          4.94401811876084,
          4.955067583296738,
          4.966117047832635,
          4.977166512368533,
          4.9882159769044305,
          4.999265441440327,
          5.010314905976225,
          5.0213643705121225,
          5.03241383504802,
          5.043463299583918,
          5.054512764119815,
          5.065562228655713,
          5.07661169319161,
          5.087661157727507,
          5.098710622263405,
          5.1097600867993025,
          5.1208095513352,
          5.131859015871099,
          5.142908480406996,
          5.153957944942893,
          5.165007409478791,
          5.176056874014688,
          5.187106338550586,
          5.198155803086483,
          5.209205267622381,
          5.220254732158278,
          5.231304196694175,
          5.242353661230073,
          5.253403125765971,
          5.264452590301868,
          5.275502054837766,
          5.286551519373663,
          5.29760098390956,
          5.308650448445458,
          5.319699912981355,
          5.330749377517253,
          5.341798842053151,
          5.352848306589048,
          5.363897771124946,
          5.3749472356608425,
          5.38599670019674,
          5.397046164732638,
          5.408095629268535,
          5.419145093804433,
          5.430194558340331,
          5.441244022876227,
          5.452293487412125,
          5.4633429519480226,
          5.47439241648392,
          5.485441881019818,
          5.496491345555715,
          5.507540810091613,
          5.518590274627511,
          5.529639739163408,
          5.540689203699306,
          5.5517386682352035,
          5.562788132771101,
          5.573837597306999,
          5.584887061842896,
          5.595936526378793,
          5.606985990914691,
          5.618035455450588,
          5.629084919986486,
          5.6401343845223835,
          5.651183849058281,
          5.662233313594178,
          5.673282778130075,
          5.684332242665973,
          5.695381707201871,
          5.706431171737768,
          5.717480636273666,
          5.7285301008095635,
          5.73957956534546,
          5.750629029881358,
          5.761678494417255,
          5.772727958953153
         ],
         "xaxis": "x",
         "y": [
          0.02668785755647517,
          0.02731738116046201,
          0.027947082790661115,
          0.028576507254711003,
          0.029205207447167043,
          0.02983274601557577,
          0.030458697036490373,
          0.031082647696425034,
          0.03170419997251969,
          0.032322972307456385,
          0.0329386012729372,
          0.033550743215805444,
          0.0341590758806695,
          0.03476330000267198,
          0.03536314086384696,
          0.03595834980632147,
          0.03654870569545323,
          0.03713401632585831,
          0.03771411976317464,
          0.038288885614334106,
          0.038858216219083995,
          0.03942204775551175,
          0.03998035125238794,
          0.040533133501260754,
          0.04108043786140705,
          0.0416223449509833,
          0.042158973218017134,
          0.042690479385249405,
          0.04321705876326987,
          0.04373894542689627,
          0.04425641225031847,
          0.044769770797173175,
          0.04527937106242323,
          0.045785601063689396,
          0.046288886280514696,
          0.04678968894093181,
          0.04728850715564152,
          0.047785873901093213,
          0.048282355853774855,
          0.04877855207906519,
          0.04927509257906355,
          0.0497726367048823,
          0.050271871439956595,
          0.05077350956197827,
          0.05127828769209235,
          0.05178696424098656,
          0.05230031726244871,
          0.05281914222585214,
          0.05334424971984236,
          0.053876463100228957,
          0.05441661609572427,
          0.054965550385706455,
          0.05552411316460505,
          0.05609315470781305,
          0.05667352595420199,
          0.05726607612036105,
          0.05787165036158698,
          0.058491087494414874,
          0.05912521779510491,
          0.05977486088798087,
          0.060440823736857704,
          0.06112389875200076,
          0.06182486202413215,
          0.06254447169594729,
          0.06328346648043753,
          0.06404256433403682,
          0.06482246129124059,
          0.06562383046588752,
          0.06644732122277185,
          0.06729355852167233,
          0.06816314243426534,
          0.06905664783274673,
          0.06997462424733887,
          0.07091759588822327,
          0.07188606182583059,
          0.0728804963218578,
          0.07390134930188678,
          0.07494904695905888,
          0.07602399247693942,
          0.07712656685849874,
          0.07825712984705072,
          0.07941602092404693,
          0.08060356036782915,
          0.0818200503568101,
          0.08306577610008746,
          0.08434100697820476,
          0.08564599767666486,
          0.08698098929487132,
          0.08834621041343353,
          0.08974187810320297,
          0.09116819886002957,
          0.09262536945001273,
          0.0941135776509808,
          0.09563300287704131,
          0.09718381667430666,
          0.0987661830772879,
          0.10038025881696515,
          0.10202619337315547,
          0.10370412886550448,
          0.10541419977920044,
          0.10715653252333698,
          0.10893124482170558,
          0.11073844493767651,
          0.11257823073668821,
          0.1144506885917111,
          0.116355892138848,
          0.11829390089196755,
          0.12026475872692613,
          0.12226849224748546,
          0.12430510904648494,
          0.12637459587713495,
          0.1284769167504843,
          0.13061201097612585,
          0.13277979116407193,
          0.13498014120641472,
          0.13721291425789878,
          0.13947793073485804,
          0.14177497635211092,
          0.14410380021736546,
          0.1464641130024492,
          0.14885558521026926,
          0.15127784555581655,
          0.153730479478761,
          0.15621302780425808,
          0.15872498556750866,
          0.16126580101638222,
          0.16383487480506506,
          0.1664315593902135,
          0.16905515863952303,
          0.17170492766095125,
          0.1743800728591046,
          0.17707975222349637,
          0.17980307585156224,
          0.18254910670745772,
          0.18531686161580982,
          0.1881053124877449,
          0.19091338777469935,
          0.1937399741437411,
          0.1965839183664198,
          0.19944402941152006,
          0.20231908073053698,
          0.20520781272324387,
          0.2081089353693763,
          0.21102113101124093,
          0.21394305727096757,
          0.21687335008517783,
          0.21981062683903238,
          0.22275348958098323,
          0.22570052829904022,
          0.2286503242390408,
          0.23160145324521392,
          0.23455248910331616,
          0.23750200686674217,
          0.24044858614629788,
          0.2433908143447548,
          0.24632728981788174,
          0.24925662494435147,
          0.2521774490877673,
          0.2550884114350013,
          0.25798818369610577,
          0.26087546265222217,
          0.2637489725391613,
          0.2666074672556595,
          0.26944973238669273,
          0.2722745870336869,
          0.2750808854449281,
          0.2778675184409783,
          0.2806334146314224,
          0.28337754142077387,
          0.2860989058028699,
          0.288796554944547,
          0.29146957656082856,
          0.2941170990852227,
          0.29673829164005394,
          0.29933236381299,
          0.3018985652470918,
          0.3044361850527871,
          0.30694455105114565,
          0.30942302885869594,
          0.3118710208248035,
          0.3142879648332632,
          0.31667333298030453,
          0.3190266301416172,
          0.3213473924413073,
          0.3236351856358727,
          0.32588960342635237,
          0.3281102657117631,
          0.3302968167967748,
          0.33244892356633376,
          0.33456627363958136,
          0.3366485735149847,
          0.3386955467180826,
          0.3407069319626597,
          0.3426824813355143,
          0.34462195851430094,
          0.34652513702718324,
          0.34839179856227864,
          0.35022173133409995,
          0.3520147285134093,
          0.35377058672612877,
          0.3554891046261839,
          0.3571700815464287,
          0.35881331623108387,
          0.36041860565247974,
          0.3619857439142678,
          0.36351452124272954,
          0.3650047230673101,
          0.366456129191086,
          0.36786851305152335,
          0.3692416410715875,
          0.3705752721010613,
          0.3718691569477793,
          0.3731230379983907,
          0.37433664892826296,
          0.3755097145001488,
          0.3766419504513485,
          0.37773306346918617,
          0.37878275125481214,
          0.3797907026754882,
          0.3807565980057196,
          0.38168010925777146,
          0.3825609006022997,
          0.3833986288799693,
          0.38419294420506234,
          0.38494349066215755,
          0.3856499070969826,
          0.38631182800251046,
          0.38692888450124957,
          0.3875007054244988,
          0.3880269184890447,
          0.38850715157143917,
          0.38894103407949493,
          0.3893281984201225,
          0.3896682815619515,
          0.389960926690448,
          0.39020578495241354,
          0.39040251728582664,
          0.39055079633001893,
          0.39065030841010845,
          0.3907007555885334,
          0.39070185777536914,
          0.3906533548879697,
          0.3905550090492813,
          0.39040660681303185,
          0.3902079614028563,
          0.3899589149513398,
          0.3896593407239188,
          0.3893091453116715,
          0.38890827077616097,
          0.3884566967288066,
          0.3879544423266666,
          0.3874015681660971,
          0.38679817805551403,
          0.38614442064839316,
          0.38544049091778726,
          0.38468663145396553,
          0.3838831335673155,
          0.3830303381794009,
          0.3821286364860465,
          0.381178470377501,
          0.3801803326021282,
          0.3791347666616722,
          0.37804236642794653,
          0.3769037754727707,
          0.3757196861051183,
          0.3744908381117464,
          0.37321801719998493,
          0.37190205314390934,
          0.37054381763772226,
          0.3691442218628399,
          0.36770421377788715,
          0.36622477514348595,
          0.36470691829641033,
          0.36315168269027526,
          0.3615601312224609,
          0.3599333463693735,
          0.35827242615440325,
          0.35657847997502146,
          0.35485262431735476,
          0.35309597838820966,
          0.3513096596959678,
          0.34949477961288167,
          0.3476524389521899,
          0.34578372359401927,
          0.34388970019429527,
          0.34197141201082404,
          0.34002987488031017,
          0.33806607337937183,
          0.33608095720157594,
          0.3340754377811621,
          0.33205038519248564,
          0.3300066253522323,
          0.3279449375492568,
          0.32586605232439164,
          0.3237706497198633,
          0.3216593579150132,
          0.3195327522618955,
          0.31739135473106594,
          0.3152356337744632,
          0.31306600460880074,
          0.3108828299193415,
          0.3086864209803495,
          0.30647703918496394,
          0.3042548979737154,
          0.3020201651474768,
          0.29977296554732324,
          0.297513384080595,
          0.29524146906946525,
          0.29295723589552264,
          0.29066067091131614,
          0.28835173558751837,
          0.28603037086232974,
          0.28369650165802934,
          0.28135004152816906,
          0.27899089739781785,
          0.2766189743585241,
          0.2742341804792458,
          0.2718364315944502,
          0.2694256560308551,
          0.2670017992349021,
          0.26456482826401534,
          0.2621147361059501,
          0.25965154579212374,
          0.25717531427268336,
          0.25468613602318796,
          0.2521841463551796,
          0.24966952440549625,
          0.24714249578200645,
          0.24460333484638175,
          0.24205236661765514,
          0.2394899682835167,
          0.23691657030959495,
          0.2343326571403161,
          0.2317387674882949,
          0.2291354942125533,
          0.22652348378916776,
          0.22390343538117616,
          0.22127609951770144,
          0.218642276395254,
          0.21600281381702063,
          0.21335860478862806,
          0.2107105847913423,
          0.20805972875593973,
          0.2054070477625146,
          0.20275358549328557,
          0.20010041446700558,
          0.19744863208484587,
          0.19479935651865626,
          0.19215372247321671,
          0.1895128768545843,
          0.18687797437682874,
          0.1842501731393858,
          0.18163063020693737,
          0.1790204972231508,
          0.17642091608880897,
          0.17383301473382026,
          0.17125790301135638,
          0.1686966687409328,
          0.16615037392562035,
          0.16362005116681094,
          0.16110670029803958,
          0.1586112852573276,
          0.15613473121537866,
          0.1536779219747426,
          0.15124169765277184,
          0.14882685265888912,
          0.14643413397433472,
          0.1440642397402215,
          0.14171781815738954,
          0.13939546669926509,
          0.13709773163667244,
          0.1348251078713691,
          0.13257803907296187,
          0.13035691811185646,
          0.12816208777897106,
          0.1259938417811525,
          0.12385242599955229,
          0.1217380399966747,
          0.11965083875639508,
          0.11759093463997881,
          0.11555839954000159,
          0.11355326721309884,
          0.11157553577163892,
          0.10962517031373586,
          0.10770210567048799,
          0.10580624924894702,
          0.10393748394907866,
          0.10209567113288505,
          0.10028065362389997,
          0.09849225871544243,
          0.09673030116631805,
          0.0949945861630904,
          0.09328491222858268,
          0.09160107405693191,
          0.0899428652562793,
          0.08831008098103621,
          0.08670252043662234,
          0.08511998924060335,
          0.08356230162527353,
          0.08202928246790742,
          0.080520769136156,
          0.07903661313736471,
          0.07757668156194268,
          0.07614085831230641,
          0.07472904511035083,
          0.07334116227785806,
          0.07197714928572929,
          0.07063696506941859,
          0.06932058810944249,
          0.0680280162773392,
          0.06675926644893793,
          0.06551437388827669,
          0.0642933914069572,
          0.063096388305156,
          0.061923449101897086,
          0.0607746720635415,
          0.05965016754074937,
          0.058550056125412926,
          0.05747446664024137,
          0.05642353397479285,
          0.05539739678278454,
          0.0543961950564723,
          0.053420067594759146,
          0.05246914938247072,
          0.05154356889891368,
          0.05064344537441283,
          0.0497688860139864,
          0.04891998320768063,
          0.04809681174732336,
          0.04729942606958108,
          0.04652785754520412,
          0.04578211183422621,
          0.04506216632663686,
          0.04436796768767755,
          0.0436994295264192,
          0.04305643020566075,
          0.04243881081045213,
          0.0418463732916882,
          0.04127887880025145,
          0.04073604622609831,
          0.04021755095550102,
          0.039723023858372036,
          0.03925205051622375,
          0.0388041706998561,
          0.03837887810433328,
          0.037975620347210005,
          0.037593799234313066,
          0.03723277129568541,
          0.03689184859256561,
          0.03657029979452024,
          0.03626735152408132,
          0.035982189964477336,
          0.035713962724297485,
          0.035461780951207,
          0.03522472168515069,
          0.03500183043985043,
          0.03479212399983932,
          0.03459459341878484,
          0.03440820720345357,
          0.0342319146663669,
          0.03406464942900465,
          0.033905333056337694,
          0.03375287880252376,
          0.033606195446786856,
          0.0334641911978293,
          0.03332577764460137,
          0.0331898737308803,
          0.033055409730892465,
          0.03292133120315267,
          0.03278660289979065,
          0.032650212608889416,
          0.03251117490777174,
          0.03236853480573164,
          0.03222137125542158,
          0.032068800512958996,
          0.03190997932780698,
          0.03174410794460454,
          0.03157043290035919,
          0.03138824960176641,
          0.031196904668868045,
          0.030995798032799688,
          0.03078438477698945,
          0.030562176712847833,
          0.030328743682714158,
          0.0300837145845888,
          0.029826778114966663,
          0.029557683227882953,
          0.029276239310073178,
          0.028982316073923018,
          0.028675843171625262,
          0.028356809535657685,
          0.028025262452339286,
          0.027681306376791916,
          0.027325101499130148,
          0.026956862073104628,
          0.0265768545197296,
          0.02618539531962275,
          0.025782848708867337,
          0.025369624194169934,
          0.02494617390392151
         ],
         "yaxis": "y"
        },
        {
         "legendgroup": "x1",
         "marker": {
          "color": "rgb(31, 119, 180)",
          "symbol": "line-ns-open"
         },
         "mode": "markers",
         "name": "x1",
         "showlegend": false,
         "type": "scatter",
         "x": [
          -2.785061169905245,
          -5.0223149331957355,
          -3.9430568084672624,
          -1.5960412613407065,
          -3.0185508045116403,
          -4.673504621990223,
          -4.072531834435658,
          -3.9925861794031903,
          -2.897652317450333,
          -3.432609280548013,
          -3.659182302436478,
          -2.996062695568597,
          -2.522245900566473,
          -3.2590286447388905,
          -3.5747092076133997,
          -3.4214982203398834,
          -2.660179035813356,
          -3.007380149944573,
          -2.232703161293596,
          -4.149792577494359,
          -3.775336105956944,
          -2.226859144110751,
          -3.801827843349694,
          -1.6159842810673217,
          -1.594794694121812,
          -1.607674246508097,
          -3.8806408185297694,
          -2.9231050514154284,
          -3.4934324822033265,
          -2.076837391658047,
          -1.293395046321538,
          -2.1264105843646206,
          -2.9908556542598626,
          -3.3655392968325426,
          -2.3509132673708937,
          -4.222873536675307,
          -2.4636639676179346,
          -3.914690931261277,
          -2.379451784038265,
          -3.1609373768630635,
          -3.388264398976614,
          -3.8855123738288486,
          -3.3567450257681943,
          -2.4438782014660347,
          -1.956139389081342,
          -2.4735518386653044,
          -1.6361134755828948,
          -0.46083728373066757,
          -3.3244909578288935,
          -3.205866717095505,
          -4.440041447683798,
          -1.8092727438863598,
          -1.7006031857355126,
          -3.8671461560495533,
          -2.382359154488855,
          -1.7829292030198898,
          -2.773711730501125,
          -2.152598567423361,
          -2.8251669880085286,
          -4.216854892359239,
          -1.9506526076791344,
          -1.674894338485799,
          -2.2654989351199544,
          -3.9544972619614205,
          -3.7511794246639285,
          -4.13042805312053,
          -2.2300226400692065,
          -1.731610477596098,
          -2.5755137559435495,
          -2.0594644150379904,
          -3.8676410899793745,
          -2.8541381475716907,
          -4.369871056716296,
          -3.7717807494932587,
          -2.121326451809104,
          -3.2395945081938096,
          -1.790618029313366,
          -2.4620399963080044,
          -0.26557784093825854,
          -2.906234569848053,
          -4.406405267181549,
          -3.0345296560948083,
          -3.9630156260661265,
          -2.0228199991869267,
          -2.958019935529977,
          -3.137271817097816,
          -3.1241323888816597,
          -2.2596591820522614,
          -3.4524622323446694,
          -2.2229502050963923,
          -1.954428831653683,
          -3.342141712605381,
          -3.926046619211478,
          -3.5129653176356217,
          -2.2898907596360463,
          -2.907521128448903,
          -2.3699250613989924,
          -1.2370625276967717,
          -2.769046277054867,
          -3.808936891390361,
          -1.9425764911376238,
          -2.9486391405203647,
          -2.127552842339547,
          -1.9338014559022618,
          -3.959008096426779,
          -1.6179953958280568,
          -2.094878040043441,
          -3.6039043724845286,
          -2.6955508801291472,
          -2.742792509019893,
          -2.976068185534163,
          -2.128086011187607,
          -1.5626436716664729,
          -2.9926936272593676,
          -1.6691186720279145,
          -2.0117973894958885,
          -2.767703841823595,
          -2.823819077947679,
          -4.152565371660015,
          -4.500768393207174,
          -2.8349772018906614,
          -3.855928917829368,
          -3.039636142039619,
          -3.534662741850064,
          -4.788496504980497,
          -2.642695458063366,
          -3.4145318053898914,
          -2.9198012874591854,
          -3.893120273629223,
          -3.3348172473947337,
          -1.439619858867121,
          -2.8714489999289188,
          -2.4504236549373326,
          -4.270871806876039,
          -0.6109640426075376,
          -1.1565862416794668,
          -1.6365645090482956,
          -2.171234022395125,
          -2.984856721740136,
          -2.5579259831332686,
          -1.9519802560050479,
          -3.6285697474757064,
          -3.4444987442191826,
          -4.669132359090532,
          -3.771819077756755,
          -1.3386982693918459,
          -3.3342470911503677,
          -3.3178469065105833,
          -2.6822329675628813,
          -4.612227307174523,
          -2.0546183099124327,
          -1.733593144627125,
          -2.622703734539591,
          -1.34864901352051,
          -4.326831766135897,
          -1.1562842022481539,
          -3.7307414032296533,
          -4.27991973326313,
          -3.237391961206669,
          -1.1279943195276958,
          -3.019442140899548,
          -3.932591656561081,
          -4.29494247447986,
          -3.1051185047464136,
          -4.994961571557649,
          -4.300192841593439,
          -1.4569323481409162,
          -1.6767361928487634,
          -3.1284121465397083,
          -3.4656647712545463,
          -2.941491097693156,
          -0.6520030715496774,
          -2.595024491229475,
          -2.090261825040183,
          -3.202457525831551,
          -2.9391033928828394,
          -2.352837303212956,
          -2.873905172175971,
          -4.897376982488658,
          -1.7194592383225362,
          -3.6151336777713308,
          -0.8886823583837482,
          -2.313151487234029,
          -2.929027584360254,
          -2.560672859896566,
          -3.1084978885635133,
          -3.4864327660523604,
          -2.79240173871428,
          -2.1150095328133345,
          -3.464529748644968,
          -3.622237164906279,
          -3.35548864091636,
          -2.0479889061533054,
          -1.547449752537629,
          -2.6379860880575294,
          -2.418685865964276,
          -3.629700857265113,
          -2.1232453500476747,
          -2.4482629895349257,
          -3.710127957927484
         ],
         "xaxis": "x",
         "y": [
          "x1",
          "x1",
          "x1",
          "x1",
          "x1",
          "x1",
          "x1",
          "x1",
          "x1",
          "x1",
          "x1",
          "x1",
          "x1",
          "x1",
          "x1",
          "x1",
          "x1",
          "x1",
          "x1",
          "x1",
          "x1",
          "x1",
          "x1",
          "x1",
          "x1",
          "x1",
          "x1",
          "x1",
          "x1",
          "x1",
          "x1",
          "x1",
          "x1",
          "x1",
          "x1",
          "x1",
          "x1",
          "x1",
          "x1",
          "x1",
          "x1",
          "x1",
          "x1",
          "x1",
          "x1",
          "x1",
          "x1",
          "x1",
          "x1",
          "x1",
          "x1",
          "x1",
          "x1",
          "x1",
          "x1",
          "x1",
          "x1",
          "x1",
          "x1",
          "x1",
          "x1",
          "x1",
          "x1",
          "x1",
          "x1",
          "x1",
          "x1",
          "x1",
          "x1",
          "x1",
          "x1",
          "x1",
          "x1",
          "x1",
          "x1",
          "x1",
          "x1",
          "x1",
          "x1",
          "x1",
          "x1",
          "x1",
          "x1",
          "x1",
          "x1",
          "x1",
          "x1",
          "x1",
          "x1",
          "x1",
          "x1",
          "x1",
          "x1",
          "x1",
          "x1",
          "x1",
          "x1",
          "x1",
          "x1",
          "x1",
          "x1",
          "x1",
          "x1",
          "x1",
          "x1",
          "x1",
          "x1",
          "x1",
          "x1",
          "x1",
          "x1",
          "x1",
          "x1",
          "x1",
          "x1",
          "x1",
          "x1",
          "x1",
          "x1",
          "x1",
          "x1",
          "x1",
          "x1",
          "x1",
          "x1",
          "x1",
          "x1",
          "x1",
          "x1",
          "x1",
          "x1",
          "x1",
          "x1",
          "x1",
          "x1",
          "x1",
          "x1",
          "x1",
          "x1",
          "x1",
          "x1",
          "x1",
          "x1",
          "x1",
          "x1",
          "x1",
          "x1",
          "x1",
          "x1",
          "x1",
          "x1",
          "x1",
          "x1",
          "x1",
          "x1",
          "x1",
          "x1",
          "x1",
          "x1",
          "x1",
          "x1",
          "x1",
          "x1",
          "x1",
          "x1",
          "x1",
          "x1",
          "x1",
          "x1",
          "x1",
          "x1",
          "x1",
          "x1",
          "x1",
          "x1",
          "x1",
          "x1",
          "x1",
          "x1",
          "x1",
          "x1",
          "x1",
          "x1",
          "x1",
          "x1",
          "x1",
          "x1",
          "x1",
          "x1",
          "x1",
          "x1",
          "x1",
          "x1",
          "x1",
          "x1",
          "x1",
          "x1",
          "x1",
          "x1",
          "x1"
         ],
         "yaxis": "y2"
        },
        {
         "legendgroup": "x2",
         "marker": {
          "color": "rgb(255, 127, 14)",
          "symbol": "line-ns-open"
         },
         "mode": "markers",
         "name": "x2",
         "showlegend": false,
         "type": "scatter",
         "x": [
          -1.787671611931782,
          -1.2205701042818544,
          -0.6692027281812131,
          1.1619373177467747,
          1.5528597758393257,
          -0.43951787547427723,
          -0.40791535277129576,
          0.2616230559724664,
          0.012146509073225323,
          0.9309340839740791,
          -0.5231880935871098,
          0.9491429877809984,
          -0.23922479786975515,
          0.8539747110678559,
          -0.2710404622885425,
          -0.6130946829083779,
          1.9123176398399706,
          1.065227082546918,
          -1.792045100135215,
          -0.4467735117899077,
          1.2049229217785742,
          -1.196660469213522,
          0.7706783295231111,
          0.6670561034697914,
          -0.6991465780919173,
          -0.008817046245807649,
          -2.0900177486302796,
          1.7704315165667186,
          -0.3090925091969218,
          0.8038130513762585,
          0.6138413414754245,
          1.3578807880999881,
          -0.4333034069025602,
          0.2038227275274671,
          0.5591092026145276,
          0.8725415914304794,
          1.1543543384089239,
          -0.4773817305753208,
          -0.6642274433044227,
          1.3601113662481714,
          -2.037075934972139,
          1.5700322805426723,
          -0.3023242420763079,
          -0.004562828990296256,
          -0.6823426011201539,
          -0.04819548553581296,
          1.2711382259809147,
          0.7708631014640396,
          0.49268648380040525,
          0.08887300613174359,
          -1.4456099724720826,
          -0.8441369135177398,
          -0.34320123663116797,
          0.4576764544288389,
          0.06965266451887907,
          0.9835043063584651,
          0.4736273877275646,
          0.05435057793857113,
          2.2757612975672035,
          0.4062266850499283,
          -0.43194220160837227,
          1.85996700648693,
          1.2004115484133984,
          1.816087790243815,
          -0.11093193562951016,
          0.9763091264811027,
          -1.4528494590723608,
          0.7840064109141683,
          -0.1577239582541034,
          -1.3550579555179323,
          1.0326004040179766,
          -1.810131324996016,
          -1.912706517064219,
          0.36247645880530205,
          0.571347510326788,
          0.9705238200132107,
          0.7419630165294652,
          1.476658625429629,
          0.700242953362419,
          -0.13229944394246262,
          -0.07361111579190632,
          -0.28222118898721094,
          0.29547752442318337,
          -1.0973458685666584,
          0.34092219855895356,
          -0.08641350683161349,
          0.27563515788740767,
          0.27872303497066114,
          -2.452264601315733,
          -0.901293818664668,
          -0.10862866408885558,
          -0.05548495829767373,
          0.25938930899969403,
          0.3023482903316427,
          1.5162333229338962,
          0.31245848109794744,
          -0.31302370821644054,
          -1.5991234725374825,
          -1.3685901155418572,
          0.5354918099752046,
          1.060446814110468,
          1.5413709969181826,
          -0.8278930789157132,
          -0.30386443543092717,
          0.24233368608311256,
          2.047398921130238,
          0.11486146821389558,
          1.551262854732971,
          0.1699729029073083,
          1.1532451864284559,
          1.0265798465520781,
          0.1660881325081512,
          -1.0203832472621548,
          -0.2690944379289504,
          1.489045173884479,
          0.8778251684801136,
          -0.43365032677184717,
          -0.34230863862439936,
          -1.7308731037655674,
          1.444338791981811,
          0.8860635602461532,
          -0.13707782104185295,
          0.20013441917342262,
          -2.17086582813041,
          -0.4867144960427494,
          1.3344456408641356,
          0.9815473767300812,
          0.330700557063932,
          -0.014718258634936664,
          0.7964054296963266,
          -0.28138510655108645,
          -1.6646931961950078,
          -0.006199139673872496,
          0.40311932708557713,
          1.122677684798021,
          -1.4411957604959986,
          -0.12291130655145516,
          -0.07530365475512335,
          -1.1012519048471119,
          0.48767327492329376,
          0.7473680316118015,
          -0.2906923080310432,
          2.0550926086214725,
          -0.31936000753365823,
          -0.44668347069066705,
          -0.4756713479686023,
          -0.8154990732884886,
          -0.5590254932338569,
          -1.434088869232524,
          -0.19153282391329285,
          0.05747400302429677,
          -2.282802490040798,
          -0.10194951247985627,
          0.042134081741929175,
          0.5145889906905393,
          1.2046350725758252,
          0.8513542646005099,
          -0.6203637225355519,
          -0.7364121722576463,
          0.579504401549854,
          -0.5472798363375213,
          -1.2280540191236242,
          2.3741417434005965,
          -0.31072426461719377,
          -0.6265241826885438,
          -2.1921300562419788,
          0.8514020923788287,
          -0.9879358457965414,
          0.028620559567826175,
          0.9686231563044211,
          -0.9722685477240716,
          0.07948245181753853,
          1.5237874101938085,
          -2.4567470568634793,
          -0.8105058469792188,
          -0.9045418837870712,
          -0.18690512256040892,
          -0.04779087737353801,
          -1.0612626329465904,
          -0.6543733461130157,
          -0.773224970452823,
          -0.3507892451728689,
          0.21822273253109625,
          0.9105641223710805,
          1.0553309965464146,
          0.6536342613353238,
          -0.8739741194850966,
          -0.0032959203273537846,
          2.3743294034923883,
          1.0145326926872977,
          -0.440504558873525,
          1.58203818296378,
          -0.38806918979741406,
          -0.6684019683032681,
          1.395731935928564,
          -1.3096492900118983,
          -1.9137775802683563,
          0.941284578060475,
          0.02769093161621279,
          0.1273654785371559
         ],
         "xaxis": "x",
         "y": [
          "x2",
          "x2",
          "x2",
          "x2",
          "x2",
          "x2",
          "x2",
          "x2",
          "x2",
          "x2",
          "x2",
          "x2",
          "x2",
          "x2",
          "x2",
          "x2",
          "x2",
          "x2",
          "x2",
          "x2",
          "x2",
          "x2",
          "x2",
          "x2",
          "x2",
          "x2",
          "x2",
          "x2",
          "x2",
          "x2",
          "x2",
          "x2",
          "x2",
          "x2",
          "x2",
          "x2",
          "x2",
          "x2",
          "x2",
          "x2",
          "x2",
          "x2",
          "x2",
          "x2",
          "x2",
          "x2",
          "x2",
          "x2",
          "x2",
          "x2",
          "x2",
          "x2",
          "x2",
          "x2",
          "x2",
          "x2",
          "x2",
          "x2",
          "x2",
          "x2",
          "x2",
          "x2",
          "x2",
          "x2",
          "x2",
          "x2",
          "x2",
          "x2",
          "x2",
          "x2",
          "x2",
          "x2",
          "x2",
          "x2",
          "x2",
          "x2",
          "x2",
          "x2",
          "x2",
          "x2",
          "x2",
          "x2",
          "x2",
          "x2",
          "x2",
          "x2",
          "x2",
          "x2",
          "x2",
          "x2",
          "x2",
          "x2",
          "x2",
          "x2",
          "x2",
          "x2",
          "x2",
          "x2",
          "x2",
          "x2",
          "x2",
          "x2",
          "x2",
          "x2",
          "x2",
          "x2",
          "x2",
          "x2",
          "x2",
          "x2",
          "x2",
          "x2",
          "x2",
          "x2",
          "x2",
          "x2",
          "x2",
          "x2",
          "x2",
          "x2",
          "x2",
          "x2",
          "x2",
          "x2",
          "x2",
          "x2",
          "x2",
          "x2",
          "x2",
          "x2",
          "x2",
          "x2",
          "x2",
          "x2",
          "x2",
          "x2",
          "x2",
          "x2",
          "x2",
          "x2",
          "x2",
          "x2",
          "x2",
          "x2",
          "x2",
          "x2",
          "x2",
          "x2",
          "x2",
          "x2",
          "x2",
          "x2",
          "x2",
          "x2",
          "x2",
          "x2",
          "x2",
          "x2",
          "x2",
          "x2",
          "x2",
          "x2",
          "x2",
          "x2",
          "x2",
          "x2",
          "x2",
          "x2",
          "x2",
          "x2",
          "x2",
          "x2",
          "x2",
          "x2",
          "x2",
          "x2",
          "x2",
          "x2",
          "x2",
          "x2",
          "x2",
          "x2",
          "x2",
          "x2",
          "x2",
          "x2",
          "x2",
          "x2",
          "x2",
          "x2",
          "x2",
          "x2",
          "x2",
          "x2",
          "x2",
          "x2",
          "x2",
          "x2",
          "x2",
          "x2"
         ],
         "yaxis": "y2"
        },
        {
         "legendgroup": "x3",
         "marker": {
          "color": "rgb(44, 160, 44)",
          "symbol": "line-ns-open"
         },
         "mode": "markers",
         "name": "x3",
         "showlegend": false,
         "type": "scatter",
         "x": [
          2.6385771605730226,
          2.7615066326159416,
          2.541890097168624,
          2.3740070697455997,
          2.6180897776312384,
          2.5865487611823004,
          2.171416228981265,
          2.454830800668156,
          0.4972404783377846,
          3.6846422015551683,
          3.390253268983142,
          2.9150911675041677,
          3.2373243847597433,
          3.273577403138628,
          2.275998203395701,
          2.4674196977795955,
          3.5283166096303766,
          3.207503485159136,
          5.043320489682305,
          4.619612155437311,
          3.9330121403883496,
          2.2382650842721805,
          2.435442996730425,
          1.9979532763712657,
          3.279757349786709,
          0.2590451555402984,
          2.541380723057001,
          2.693283600678183,
          1.475709466830008,
          3.7977363145786347,
          1.8608582714101174,
          3.267742665703261,
          5.783777423489051,
          1.3889943900447788,
          2.8514485949929504,
          2.5925398623647347,
          2.3980313211036153,
          3.7602510946353602,
          4.1063291048284425,
          3.771638149301336,
          2.276660917548766,
          5.433848078402416,
          1.229756811658108,
          1.9673709309657053,
          3.1697292843903737,
          3.0893939191456496,
          3.4880440793787493,
          4.580134095075202,
          2.8801490806344012,
          3.113729460212981,
          2.4054839472757505,
          3.588328518460642,
          2.681521489349661,
          2.6809429789336567,
          3.543483152963778,
          4.034920927080599,
          0.7918934483261229,
          3.3607784246734282,
          2.729796681322462,
          3.947616937661409,
          2.7498773989254888,
          4.301052433162299,
          2.3235869795159614,
          0.7696700923741111,
          4.0515930406716665,
          2.1564550377545295,
          1.419748063256473,
          3.016053418643931,
          2.7608213339698313,
          3.823104975745007,
          3.892410819815211,
          3.0956204458893923,
          2.115184058082015,
          3.286941261224298,
          3.165194380120577,
          3.568936674469642,
          2.1251932862552985,
          2.599627126832447,
          3.509378116336106,
          4.247327055231724,
          3.9659220079595903,
          3.0820548711527977,
          2.5126049760788525,
          3.4038205586793056,
          1.9086095627065296,
          2.182998560739106,
          4.509771312459623,
          3.402034480046922,
          2.652473266227045,
          3.8291386845852684,
          4.286974963849594,
          2.55536244175436,
          2.5725920575505246,
          2.4473542266529944,
          3.9638503187153615,
          3.973557447520124,
          4.385903321291099,
          4.008602949848836,
          1.3677819205714812,
          3.280964320918199,
          1.941614597152948,
          2.4870856250285844,
          3.170594203580863,
          3.835565398349904,
          2.1091566575489225,
          0.6752803385475987,
          3.180530841805431,
          5.6435715833985505,
          2.7971537803298476,
          3.0469154349502587,
          4.782163618536079,
          3.590274619061788,
          3.2168610369829382,
          3.442116665313473,
          3.2502439325736487,
          1.860245571843294,
          1.6585548422003025,
          4.8868281121242365,
          3.1838833519051577,
          3.1000954425796983,
          2.9097723359437904,
          3.7810732676164527,
          5.538691101737486,
          3.523952667107794,
          2.411913173685447,
          2.866599142108456,
          4.070996467205255,
          2.4171993985870026,
          3.852246489030268,
          0.6792626260218695,
          2.7701204285536134,
          3.628140013480669,
          4.2701255465757155,
          2.1815257829576087,
          1.4972349823693964,
          2.739264835108181,
          1.8745809922531111,
          2.85096333327047,
          2.9933465453687624,
          1.6808549547980551,
          3.804439110110865,
          2.842786106635549,
          4.08045986900535,
          1.1550947597039063,
          1.9828078294546094,
          3.516669308648123,
          2.200889429174735,
          2.8354643419503036,
          3.0006991175571747,
          3.1582559809533675,
          2.322433787266293,
          3.1492865634724776,
          2.21745629476552,
          3.674280468746775,
          2.8851559805169766,
          3.1550366235955187,
          5.569926839690334,
          1.8928955453999785,
          4.388582269040288,
          0.34064864295062725,
          0.9216233450810569,
          1.7593599223124292,
          1.8224716347250636,
          3.2037017981388494,
          3.2898422641684677,
          2.7451787316276355,
          2.8501220332375383,
          3.5277647609316607,
          3.8332238776207417,
          1.673460983890241,
          2.6381090287669964,
          2.9304101770869897,
          3.485315996560453,
          2.227332857726529,
          2.91077882440633,
          3.029983634527158,
          2.29552989654047,
          2.271684850052114,
          3.0987457776373346,
          2.8696548540127917,
          3.5004775194206323,
          1.9467412793550039,
          2.6493184721212124,
          2.770783948446408,
          3.813863908123605,
          2.059586225432098,
          3.234652005155086,
          3.252755507537887,
          4.646397242679973,
          1.992910635693739,
          2.342766681882506,
          2.062644317776679,
          1.3302208279316,
          4.764686934262719,
          1.7584987690508775,
          2.183694590945154,
          4.3157665082821595,
          1.2468929530617847,
          3.7563515692873812,
          1.5869756546582225
         ],
         "xaxis": "x",
         "y": [
          "x3",
          "x3",
          "x3",
          "x3",
          "x3",
          "x3",
          "x3",
          "x3",
          "x3",
          "x3",
          "x3",
          "x3",
          "x3",
          "x3",
          "x3",
          "x3",
          "x3",
          "x3",
          "x3",
          "x3",
          "x3",
          "x3",
          "x3",
          "x3",
          "x3",
          "x3",
          "x3",
          "x3",
          "x3",
          "x3",
          "x3",
          "x3",
          "x3",
          "x3",
          "x3",
          "x3",
          "x3",
          "x3",
          "x3",
          "x3",
          "x3",
          "x3",
          "x3",
          "x3",
          "x3",
          "x3",
          "x3",
          "x3",
          "x3",
          "x3",
          "x3",
          "x3",
          "x3",
          "x3",
          "x3",
          "x3",
          "x3",
          "x3",
          "x3",
          "x3",
          "x3",
          "x3",
          "x3",
          "x3",
          "x3",
          "x3",
          "x3",
          "x3",
          "x3",
          "x3",
          "x3",
          "x3",
          "x3",
          "x3",
          "x3",
          "x3",
          "x3",
          "x3",
          "x3",
          "x3",
          "x3",
          "x3",
          "x3",
          "x3",
          "x3",
          "x3",
          "x3",
          "x3",
          "x3",
          "x3",
          "x3",
          "x3",
          "x3",
          "x3",
          "x3",
          "x3",
          "x3",
          "x3",
          "x3",
          "x3",
          "x3",
          "x3",
          "x3",
          "x3",
          "x3",
          "x3",
          "x3",
          "x3",
          "x3",
          "x3",
          "x3",
          "x3",
          "x3",
          "x3",
          "x3",
          "x3",
          "x3",
          "x3",
          "x3",
          "x3",
          "x3",
          "x3",
          "x3",
          "x3",
          "x3",
          "x3",
          "x3",
          "x3",
          "x3",
          "x3",
          "x3",
          "x3",
          "x3",
          "x3",
          "x3",
          "x3",
          "x3",
          "x3",
          "x3",
          "x3",
          "x3",
          "x3",
          "x3",
          "x3",
          "x3",
          "x3",
          "x3",
          "x3",
          "x3",
          "x3",
          "x3",
          "x3",
          "x3",
          "x3",
          "x3",
          "x3",
          "x3",
          "x3",
          "x3",
          "x3",
          "x3",
          "x3",
          "x3",
          "x3",
          "x3",
          "x3",
          "x3",
          "x3",
          "x3",
          "x3",
          "x3",
          "x3",
          "x3",
          "x3",
          "x3",
          "x3",
          "x3",
          "x3",
          "x3",
          "x3",
          "x3",
          "x3",
          "x3",
          "x3",
          "x3",
          "x3",
          "x3",
          "x3",
          "x3",
          "x3",
          "x3",
          "x3",
          "x3",
          "x3",
          "x3",
          "x3",
          "x3",
          "x3",
          "x3",
          "x3"
         ],
         "yaxis": "y2"
        }
       ],
       "layout": {
        "barmode": "overlay",
        "hovermode": "closest",
        "legend": {
         "traceorder": "reversed"
        },
        "template": {
         "data": {
          "bar": [
           {
            "error_x": {
             "color": "#2a3f5f"
            },
            "error_y": {
             "color": "#2a3f5f"
            },
            "marker": {
             "line": {
              "color": "#E5ECF6",
              "width": 0.5
             }
            },
            "type": "bar"
           }
          ],
          "barpolar": [
           {
            "marker": {
             "line": {
              "color": "#E5ECF6",
              "width": 0.5
             }
            },
            "type": "barpolar"
           }
          ],
          "carpet": [
           {
            "aaxis": {
             "endlinecolor": "#2a3f5f",
             "gridcolor": "white",
             "linecolor": "white",
             "minorgridcolor": "white",
             "startlinecolor": "#2a3f5f"
            },
            "baxis": {
             "endlinecolor": "#2a3f5f",
             "gridcolor": "white",
             "linecolor": "white",
             "minorgridcolor": "white",
             "startlinecolor": "#2a3f5f"
            },
            "type": "carpet"
           }
          ],
          "choropleth": [
           {
            "colorbar": {
             "outlinewidth": 0,
             "ticks": ""
            },
            "type": "choropleth"
           }
          ],
          "contour": [
           {
            "colorbar": {
             "outlinewidth": 0,
             "ticks": ""
            },
            "colorscale": [
             [
              0,
              "#0d0887"
             ],
             [
              0.1111111111111111,
              "#46039f"
             ],
             [
              0.2222222222222222,
              "#7201a8"
             ],
             [
              0.3333333333333333,
              "#9c179e"
             ],
             [
              0.4444444444444444,
              "#bd3786"
             ],
             [
              0.5555555555555556,
              "#d8576b"
             ],
             [
              0.6666666666666666,
              "#ed7953"
             ],
             [
              0.7777777777777778,
              "#fb9f3a"
             ],
             [
              0.8888888888888888,
              "#fdca26"
             ],
             [
              1,
              "#f0f921"
             ]
            ],
            "type": "contour"
           }
          ],
          "contourcarpet": [
           {
            "colorbar": {
             "outlinewidth": 0,
             "ticks": ""
            },
            "type": "contourcarpet"
           }
          ],
          "heatmap": [
           {
            "colorbar": {
             "outlinewidth": 0,
             "ticks": ""
            },
            "colorscale": [
             [
              0,
              "#0d0887"
             ],
             [
              0.1111111111111111,
              "#46039f"
             ],
             [
              0.2222222222222222,
              "#7201a8"
             ],
             [
              0.3333333333333333,
              "#9c179e"
             ],
             [
              0.4444444444444444,
              "#bd3786"
             ],
             [
              0.5555555555555556,
              "#d8576b"
             ],
             [
              0.6666666666666666,
              "#ed7953"
             ],
             [
              0.7777777777777778,
              "#fb9f3a"
             ],
             [
              0.8888888888888888,
              "#fdca26"
             ],
             [
              1,
              "#f0f921"
             ]
            ],
            "type": "heatmap"
           }
          ],
          "heatmapgl": [
           {
            "colorbar": {
             "outlinewidth": 0,
             "ticks": ""
            },
            "colorscale": [
             [
              0,
              "#0d0887"
             ],
             [
              0.1111111111111111,
              "#46039f"
             ],
             [
              0.2222222222222222,
              "#7201a8"
             ],
             [
              0.3333333333333333,
              "#9c179e"
             ],
             [
              0.4444444444444444,
              "#bd3786"
             ],
             [
              0.5555555555555556,
              "#d8576b"
             ],
             [
              0.6666666666666666,
              "#ed7953"
             ],
             [
              0.7777777777777778,
              "#fb9f3a"
             ],
             [
              0.8888888888888888,
              "#fdca26"
             ],
             [
              1,
              "#f0f921"
             ]
            ],
            "type": "heatmapgl"
           }
          ],
          "histogram": [
           {
            "marker": {
             "colorbar": {
              "outlinewidth": 0,
              "ticks": ""
             }
            },
            "type": "histogram"
           }
          ],
          "histogram2d": [
           {
            "colorbar": {
             "outlinewidth": 0,
             "ticks": ""
            },
            "colorscale": [
             [
              0,
              "#0d0887"
             ],
             [
              0.1111111111111111,
              "#46039f"
             ],
             [
              0.2222222222222222,
              "#7201a8"
             ],
             [
              0.3333333333333333,
              "#9c179e"
             ],
             [
              0.4444444444444444,
              "#bd3786"
             ],
             [
              0.5555555555555556,
              "#d8576b"
             ],
             [
              0.6666666666666666,
              "#ed7953"
             ],
             [
              0.7777777777777778,
              "#fb9f3a"
             ],
             [
              0.8888888888888888,
              "#fdca26"
             ],
             [
              1,
              "#f0f921"
             ]
            ],
            "type": "histogram2d"
           }
          ],
          "histogram2dcontour": [
           {
            "colorbar": {
             "outlinewidth": 0,
             "ticks": ""
            },
            "colorscale": [
             [
              0,
              "#0d0887"
             ],
             [
              0.1111111111111111,
              "#46039f"
             ],
             [
              0.2222222222222222,
              "#7201a8"
             ],
             [
              0.3333333333333333,
              "#9c179e"
             ],
             [
              0.4444444444444444,
              "#bd3786"
             ],
             [
              0.5555555555555556,
              "#d8576b"
             ],
             [
              0.6666666666666666,
              "#ed7953"
             ],
             [
              0.7777777777777778,
              "#fb9f3a"
             ],
             [
              0.8888888888888888,
              "#fdca26"
             ],
             [
              1,
              "#f0f921"
             ]
            ],
            "type": "histogram2dcontour"
           }
          ],
          "mesh3d": [
           {
            "colorbar": {
             "outlinewidth": 0,
             "ticks": ""
            },
            "type": "mesh3d"
           }
          ],
          "parcoords": [
           {
            "line": {
             "colorbar": {
              "outlinewidth": 0,
              "ticks": ""
             }
            },
            "type": "parcoords"
           }
          ],
          "pie": [
           {
            "automargin": true,
            "type": "pie"
           }
          ],
          "scatter": [
           {
            "marker": {
             "colorbar": {
              "outlinewidth": 0,
              "ticks": ""
             }
            },
            "type": "scatter"
           }
          ],
          "scatter3d": [
           {
            "line": {
             "colorbar": {
              "outlinewidth": 0,
              "ticks": ""
             }
            },
            "marker": {
             "colorbar": {
              "outlinewidth": 0,
              "ticks": ""
             }
            },
            "type": "scatter3d"
           }
          ],
          "scattercarpet": [
           {
            "marker": {
             "colorbar": {
              "outlinewidth": 0,
              "ticks": ""
             }
            },
            "type": "scattercarpet"
           }
          ],
          "scattergeo": [
           {
            "marker": {
             "colorbar": {
              "outlinewidth": 0,
              "ticks": ""
             }
            },
            "type": "scattergeo"
           }
          ],
          "scattergl": [
           {
            "marker": {
             "colorbar": {
              "outlinewidth": 0,
              "ticks": ""
             }
            },
            "type": "scattergl"
           }
          ],
          "scattermapbox": [
           {
            "marker": {
             "colorbar": {
              "outlinewidth": 0,
              "ticks": ""
             }
            },
            "type": "scattermapbox"
           }
          ],
          "scatterpolar": [
           {
            "marker": {
             "colorbar": {
              "outlinewidth": 0,
              "ticks": ""
             }
            },
            "type": "scatterpolar"
           }
          ],
          "scatterpolargl": [
           {
            "marker": {
             "colorbar": {
              "outlinewidth": 0,
              "ticks": ""
             }
            },
            "type": "scatterpolargl"
           }
          ],
          "scatterternary": [
           {
            "marker": {
             "colorbar": {
              "outlinewidth": 0,
              "ticks": ""
             }
            },
            "type": "scatterternary"
           }
          ],
          "surface": [
           {
            "colorbar": {
             "outlinewidth": 0,
             "ticks": ""
            },
            "colorscale": [
             [
              0,
              "#0d0887"
             ],
             [
              0.1111111111111111,
              "#46039f"
             ],
             [
              0.2222222222222222,
              "#7201a8"
             ],
             [
              0.3333333333333333,
              "#9c179e"
             ],
             [
              0.4444444444444444,
              "#bd3786"
             ],
             [
              0.5555555555555556,
              "#d8576b"
             ],
             [
              0.6666666666666666,
              "#ed7953"
             ],
             [
              0.7777777777777778,
              "#fb9f3a"
             ],
             [
              0.8888888888888888,
              "#fdca26"
             ],
             [
              1,
              "#f0f921"
             ]
            ],
            "type": "surface"
           }
          ],
          "table": [
           {
            "cells": {
             "fill": {
              "color": "#EBF0F8"
             },
             "line": {
              "color": "white"
             }
            },
            "header": {
             "fill": {
              "color": "#C8D4E3"
             },
             "line": {
              "color": "white"
             }
            },
            "type": "table"
           }
          ]
         },
         "layout": {
          "annotationdefaults": {
           "arrowcolor": "#2a3f5f",
           "arrowhead": 0,
           "arrowwidth": 1
          },
          "coloraxis": {
           "colorbar": {
            "outlinewidth": 0,
            "ticks": ""
           }
          },
          "colorscale": {
           "diverging": [
            [
             0,
             "#8e0152"
            ],
            [
             0.1,
             "#c51b7d"
            ],
            [
             0.2,
             "#de77ae"
            ],
            [
             0.3,
             "#f1b6da"
            ],
            [
             0.4,
             "#fde0ef"
            ],
            [
             0.5,
             "#f7f7f7"
            ],
            [
             0.6,
             "#e6f5d0"
            ],
            [
             0.7,
             "#b8e186"
            ],
            [
             0.8,
             "#7fbc41"
            ],
            [
             0.9,
             "#4d9221"
            ],
            [
             1,
             "#276419"
            ]
           ],
           "sequential": [
            [
             0,
             "#0d0887"
            ],
            [
             0.1111111111111111,
             "#46039f"
            ],
            [
             0.2222222222222222,
             "#7201a8"
            ],
            [
             0.3333333333333333,
             "#9c179e"
            ],
            [
             0.4444444444444444,
             "#bd3786"
            ],
            [
             0.5555555555555556,
             "#d8576b"
            ],
            [
             0.6666666666666666,
             "#ed7953"
            ],
            [
             0.7777777777777778,
             "#fb9f3a"
            ],
            [
             0.8888888888888888,
             "#fdca26"
            ],
            [
             1,
             "#f0f921"
            ]
           ],
           "sequentialminus": [
            [
             0,
             "#0d0887"
            ],
            [
             0.1111111111111111,
             "#46039f"
            ],
            [
             0.2222222222222222,
             "#7201a8"
            ],
            [
             0.3333333333333333,
             "#9c179e"
            ],
            [
             0.4444444444444444,
             "#bd3786"
            ],
            [
             0.5555555555555556,
             "#d8576b"
            ],
            [
             0.6666666666666666,
             "#ed7953"
            ],
            [
             0.7777777777777778,
             "#fb9f3a"
            ],
            [
             0.8888888888888888,
             "#fdca26"
            ],
            [
             1,
             "#f0f921"
            ]
           ]
          },
          "colorway": [
           "#636efa",
           "#EF553B",
           "#00cc96",
           "#ab63fa",
           "#FFA15A",
           "#19d3f3",
           "#FF6692",
           "#B6E880",
           "#FF97FF",
           "#FECB52"
          ],
          "font": {
           "color": "#2a3f5f"
          },
          "geo": {
           "bgcolor": "white",
           "lakecolor": "white",
           "landcolor": "#E5ECF6",
           "showlakes": true,
           "showland": true,
           "subunitcolor": "white"
          },
          "hoverlabel": {
           "align": "left"
          },
          "hovermode": "closest",
          "mapbox": {
           "style": "light"
          },
          "paper_bgcolor": "white",
          "plot_bgcolor": "#E5ECF6",
          "polar": {
           "angularaxis": {
            "gridcolor": "white",
            "linecolor": "white",
            "ticks": ""
           },
           "bgcolor": "#E5ECF6",
           "radialaxis": {
            "gridcolor": "white",
            "linecolor": "white",
            "ticks": ""
           }
          },
          "scene": {
           "xaxis": {
            "backgroundcolor": "#E5ECF6",
            "gridcolor": "white",
            "gridwidth": 2,
            "linecolor": "white",
            "showbackground": true,
            "ticks": "",
            "zerolinecolor": "white"
           },
           "yaxis": {
            "backgroundcolor": "#E5ECF6",
            "gridcolor": "white",
            "gridwidth": 2,
            "linecolor": "white",
            "showbackground": true,
            "ticks": "",
            "zerolinecolor": "white"
           },
           "zaxis": {
            "backgroundcolor": "#E5ECF6",
            "gridcolor": "white",
            "gridwidth": 2,
            "linecolor": "white",
            "showbackground": true,
            "ticks": "",
            "zerolinecolor": "white"
           }
          },
          "shapedefaults": {
           "line": {
            "color": "#2a3f5f"
           }
          },
          "ternary": {
           "aaxis": {
            "gridcolor": "white",
            "linecolor": "white",
            "ticks": ""
           },
           "baxis": {
            "gridcolor": "white",
            "linecolor": "white",
            "ticks": ""
           },
           "bgcolor": "#E5ECF6",
           "caxis": {
            "gridcolor": "white",
            "linecolor": "white",
            "ticks": ""
           }
          },
          "title": {
           "x": 0.05
          },
          "xaxis": {
           "automargin": true,
           "gridcolor": "white",
           "linecolor": "white",
           "ticks": "",
           "title": {
            "standoff": 15
           },
           "zerolinecolor": "white",
           "zerolinewidth": 2
          },
          "yaxis": {
           "automargin": true,
           "gridcolor": "white",
           "linecolor": "white",
           "ticks": "",
           "title": {
            "standoff": 15
           },
           "zerolinecolor": "white",
           "zerolinewidth": 2
          }
         }
        },
        "xaxis": {
         "anchor": "y2",
         "domain": [
          0,
          1
         ],
         "zeroline": false
        },
        "yaxis": {
         "anchor": "free",
         "domain": [
          0.35,
          1
         ],
         "position": 0
        },
        "yaxis2": {
         "anchor": "x",
         "domain": [
          0,
          0.25
         ],
         "dtick": 1,
         "showticklabels": false
        }
       }
      },
      "text/html": [
       "<div>\n",
       "        \n",
       "        \n",
       "            <div id=\"46929619-868a-4d67-a4d6-3acd6f54036e\" class=\"plotly-graph-div\" style=\"height:525px; width:100%;\"></div>\n",
       "            <script type=\"text/javascript\">\n",
       "                require([\"plotly\"], function(Plotly) {\n",
       "                    window.PLOTLYENV=window.PLOTLYENV || {};\n",
       "                    \n",
       "                if (document.getElementById(\"46929619-868a-4d67-a4d6-3acd6f54036e\")) {\n",
       "                    Plotly.newPlot(\n",
       "                        '46929619-868a-4d67-a4d6-3acd6f54036e',\n",
       "                        [{\"autobinx\": false, \"histnorm\": \"probability density\", \"legendgroup\": \"x1\", \"marker\": {\"color\": \"rgb(31, 119, 180)\"}, \"name\": \"x1\", \"opacity\": 0.7, \"type\": \"histogram\", \"x\": [-2.785061169905245, -5.0223149331957355, -3.9430568084672624, -1.5960412613407065, -3.0185508045116403, -4.673504621990223, -4.072531834435658, -3.9925861794031903, -2.897652317450333, -3.432609280548013, -3.659182302436478, -2.996062695568597, -2.522245900566473, -3.2590286447388905, -3.5747092076133997, -3.4214982203398834, -2.660179035813356, -3.007380149944573, -2.232703161293596, -4.149792577494359, -3.775336105956944, -2.226859144110751, -3.801827843349694, -1.6159842810673217, -1.594794694121812, -1.607674246508097, -3.8806408185297694, -2.9231050514154284, -3.4934324822033265, -2.076837391658047, -1.293395046321538, -2.1264105843646206, -2.9908556542598626, -3.3655392968325426, -2.3509132673708937, -4.222873536675307, -2.4636639676179346, -3.914690931261277, -2.379451784038265, -3.1609373768630635, -3.388264398976614, -3.8855123738288486, -3.3567450257681943, -2.4438782014660347, -1.956139389081342, -2.4735518386653044, -1.6361134755828948, -0.46083728373066757, -3.3244909578288935, -3.205866717095505, -4.440041447683798, -1.8092727438863598, -1.7006031857355126, -3.8671461560495533, -2.382359154488855, -1.7829292030198898, -2.773711730501125, -2.152598567423361, -2.8251669880085286, -4.216854892359239, -1.9506526076791344, -1.674894338485799, -2.2654989351199544, -3.9544972619614205, -3.7511794246639285, -4.13042805312053, -2.2300226400692065, -1.731610477596098, -2.5755137559435495, -2.0594644150379904, -3.8676410899793745, -2.8541381475716907, -4.369871056716296, -3.7717807494932587, -2.121326451809104, -3.2395945081938096, -1.790618029313366, -2.4620399963080044, -0.26557784093825854, -2.906234569848053, -4.406405267181549, -3.0345296560948083, -3.9630156260661265, -2.0228199991869267, -2.958019935529977, -3.137271817097816, -3.1241323888816597, -2.2596591820522614, -3.4524622323446694, -2.2229502050963923, -1.954428831653683, -3.342141712605381, -3.926046619211478, -3.5129653176356217, -2.2898907596360463, -2.907521128448903, -2.3699250613989924, -1.2370625276967717, -2.769046277054867, -3.808936891390361, -1.9425764911376238, -2.9486391405203647, -2.127552842339547, -1.9338014559022618, -3.959008096426779, -1.6179953958280568, -2.094878040043441, -3.6039043724845286, -2.6955508801291472, -2.742792509019893, -2.976068185534163, -2.128086011187607, -1.5626436716664729, -2.9926936272593676, -1.6691186720279145, -2.0117973894958885, -2.767703841823595, -2.823819077947679, -4.152565371660015, -4.500768393207174, -2.8349772018906614, -3.855928917829368, -3.039636142039619, -3.534662741850064, -4.788496504980497, -2.642695458063366, -3.4145318053898914, -2.9198012874591854, -3.893120273629223, -3.3348172473947337, -1.439619858867121, -2.8714489999289188, -2.4504236549373326, -4.270871806876039, -0.6109640426075376, -1.1565862416794668, -1.6365645090482956, -2.171234022395125, -2.984856721740136, -2.5579259831332686, -1.9519802560050479, -3.6285697474757064, -3.4444987442191826, -4.669132359090532, -3.771819077756755, -1.3386982693918459, -3.3342470911503677, -3.3178469065105833, -2.6822329675628813, -4.612227307174523, -2.0546183099124327, -1.733593144627125, -2.622703734539591, -1.34864901352051, -4.326831766135897, -1.1562842022481539, -3.7307414032296533, -4.27991973326313, -3.237391961206669, -1.1279943195276958, -3.019442140899548, -3.932591656561081, -4.29494247447986, -3.1051185047464136, -4.994961571557649, -4.300192841593439, -1.4569323481409162, -1.6767361928487634, -3.1284121465397083, -3.4656647712545463, -2.941491097693156, -0.6520030715496774, -2.595024491229475, -2.090261825040183, -3.202457525831551, -2.9391033928828394, -2.352837303212956, -2.873905172175971, -4.897376982488658, -1.7194592383225362, -3.6151336777713308, -0.8886823583837482, -2.313151487234029, -2.929027584360254, -2.560672859896566, -3.1084978885635133, -3.4864327660523604, -2.79240173871428, -2.1150095328133345, -3.464529748644968, -3.622237164906279, -3.35548864091636, -2.0479889061533054, -1.547449752537629, -2.6379860880575294, -2.418685865964276, -3.629700857265113, -2.1232453500476747, -2.4482629895349257, -3.710127957927484], \"xaxis\": \"x\", \"xbins\": {\"end\": -0.26557784093825854, \"size\": 0.2, \"start\": -5.0223149331957355}, \"yaxis\": \"y\"}, {\"autobinx\": false, \"histnorm\": \"probability density\", \"legendgroup\": \"x2\", \"marker\": {\"color\": \"rgb(255, 127, 14)\"}, \"name\": \"x2\", \"opacity\": 0.7, \"type\": \"histogram\", \"x\": [-1.787671611931782, -1.2205701042818544, -0.6692027281812131, 1.1619373177467747, 1.5528597758393257, -0.43951787547427723, -0.40791535277129576, 0.2616230559724664, 0.012146509073225323, 0.9309340839740791, -0.5231880935871098, 0.9491429877809984, -0.23922479786975515, 0.8539747110678559, -0.2710404622885425, -0.6130946829083779, 1.9123176398399706, 1.065227082546918, -1.792045100135215, -0.4467735117899077, 1.2049229217785742, -1.196660469213522, 0.7706783295231111, 0.6670561034697914, -0.6991465780919173, -0.008817046245807649, -2.0900177486302796, 1.7704315165667186, -0.3090925091969218, 0.8038130513762585, 0.6138413414754245, 1.3578807880999881, -0.4333034069025602, 0.2038227275274671, 0.5591092026145276, 0.8725415914304794, 1.1543543384089239, -0.4773817305753208, -0.6642274433044227, 1.3601113662481714, -2.037075934972139, 1.5700322805426723, -0.3023242420763079, -0.004562828990296256, -0.6823426011201539, -0.04819548553581296, 1.2711382259809147, 0.7708631014640396, 0.49268648380040525, 0.08887300613174359, -1.4456099724720826, -0.8441369135177398, -0.34320123663116797, 0.4576764544288389, 0.06965266451887907, 0.9835043063584651, 0.4736273877275646, 0.05435057793857113, 2.2757612975672035, 0.4062266850499283, -0.43194220160837227, 1.85996700648693, 1.2004115484133984, 1.816087790243815, -0.11093193562951016, 0.9763091264811027, -1.4528494590723608, 0.7840064109141683, -0.1577239582541034, -1.3550579555179323, 1.0326004040179766, -1.810131324996016, -1.912706517064219, 0.36247645880530205, 0.571347510326788, 0.9705238200132107, 0.7419630165294652, 1.476658625429629, 0.700242953362419, -0.13229944394246262, -0.07361111579190632, -0.28222118898721094, 0.29547752442318337, -1.0973458685666584, 0.34092219855895356, -0.08641350683161349, 0.27563515788740767, 0.27872303497066114, -2.452264601315733, -0.901293818664668, -0.10862866408885558, -0.05548495829767373, 0.25938930899969403, 0.3023482903316427, 1.5162333229338962, 0.31245848109794744, -0.31302370821644054, -1.5991234725374825, -1.3685901155418572, 0.5354918099752046, 1.060446814110468, 1.5413709969181826, -0.8278930789157132, -0.30386443543092717, 0.24233368608311256, 2.047398921130238, 0.11486146821389558, 1.551262854732971, 0.1699729029073083, 1.1532451864284559, 1.0265798465520781, 0.1660881325081512, -1.0203832472621548, -0.2690944379289504, 1.489045173884479, 0.8778251684801136, -0.43365032677184717, -0.34230863862439936, -1.7308731037655674, 1.444338791981811, 0.8860635602461532, -0.13707782104185295, 0.20013441917342262, -2.17086582813041, -0.4867144960427494, 1.3344456408641356, 0.9815473767300812, 0.330700557063932, -0.014718258634936664, 0.7964054296963266, -0.28138510655108645, -1.6646931961950078, -0.006199139673872496, 0.40311932708557713, 1.122677684798021, -1.4411957604959986, -0.12291130655145516, -0.07530365475512335, -1.1012519048471119, 0.48767327492329376, 0.7473680316118015, -0.2906923080310432, 2.0550926086214725, -0.31936000753365823, -0.44668347069066705, -0.4756713479686023, -0.8154990732884886, -0.5590254932338569, -1.434088869232524, -0.19153282391329285, 0.05747400302429677, -2.282802490040798, -0.10194951247985627, 0.042134081741929175, 0.5145889906905393, 1.2046350725758252, 0.8513542646005099, -0.6203637225355519, -0.7364121722576463, 0.579504401549854, -0.5472798363375213, -1.2280540191236242, 2.3741417434005965, -0.31072426461719377, -0.6265241826885438, -2.1921300562419788, 0.8514020923788287, -0.9879358457965414, 0.028620559567826175, 0.9686231563044211, -0.9722685477240716, 0.07948245181753853, 1.5237874101938085, -2.4567470568634793, -0.8105058469792188, -0.9045418837870712, -0.18690512256040892, -0.04779087737353801, -1.0612626329465904, -0.6543733461130157, -0.773224970452823, -0.3507892451728689, 0.21822273253109625, 0.9105641223710805, 1.0553309965464146, 0.6536342613353238, -0.8739741194850966, -0.0032959203273537846, 2.3743294034923883, 1.0145326926872977, -0.440504558873525, 1.58203818296378, -0.38806918979741406, -0.6684019683032681, 1.395731935928564, -1.3096492900118983, -1.9137775802683563, 0.941284578060475, 0.02769093161621279, 0.1273654785371559], \"xaxis\": \"x\", \"xbins\": {\"end\": 2.3743294034923883, \"size\": 0.1, \"start\": -2.4567470568634793}, \"yaxis\": \"y\"}, {\"autobinx\": false, \"histnorm\": \"probability density\", \"legendgroup\": \"x3\", \"marker\": {\"color\": \"rgb(44, 160, 44)\"}, \"name\": \"x3\", \"opacity\": 0.7, \"type\": \"histogram\", \"x\": [2.6385771605730226, 2.7615066326159416, 2.541890097168624, 2.3740070697455997, 2.6180897776312384, 2.5865487611823004, 2.171416228981265, 2.454830800668156, 0.4972404783377846, 3.6846422015551683, 3.390253268983142, 2.9150911675041677, 3.2373243847597433, 3.273577403138628, 2.275998203395701, 2.4674196977795955, 3.5283166096303766, 3.207503485159136, 5.043320489682305, 4.619612155437311, 3.9330121403883496, 2.2382650842721805, 2.435442996730425, 1.9979532763712657, 3.279757349786709, 0.2590451555402984, 2.541380723057001, 2.693283600678183, 1.475709466830008, 3.7977363145786347, 1.8608582714101174, 3.267742665703261, 5.783777423489051, 1.3889943900447788, 2.8514485949929504, 2.5925398623647347, 2.3980313211036153, 3.7602510946353602, 4.1063291048284425, 3.771638149301336, 2.276660917548766, 5.433848078402416, 1.229756811658108, 1.9673709309657053, 3.1697292843903737, 3.0893939191456496, 3.4880440793787493, 4.580134095075202, 2.8801490806344012, 3.113729460212981, 2.4054839472757505, 3.588328518460642, 2.681521489349661, 2.6809429789336567, 3.543483152963778, 4.034920927080599, 0.7918934483261229, 3.3607784246734282, 2.729796681322462, 3.947616937661409, 2.7498773989254888, 4.301052433162299, 2.3235869795159614, 0.7696700923741111, 4.0515930406716665, 2.1564550377545295, 1.419748063256473, 3.016053418643931, 2.7608213339698313, 3.823104975745007, 3.892410819815211, 3.0956204458893923, 2.115184058082015, 3.286941261224298, 3.165194380120577, 3.568936674469642, 2.1251932862552985, 2.599627126832447, 3.509378116336106, 4.247327055231724, 3.9659220079595903, 3.0820548711527977, 2.5126049760788525, 3.4038205586793056, 1.9086095627065296, 2.182998560739106, 4.509771312459623, 3.402034480046922, 2.652473266227045, 3.8291386845852684, 4.286974963849594, 2.55536244175436, 2.5725920575505246, 2.4473542266529944, 3.9638503187153615, 3.973557447520124, 4.385903321291099, 4.008602949848836, 1.3677819205714812, 3.280964320918199, 1.941614597152948, 2.4870856250285844, 3.170594203580863, 3.835565398349904, 2.1091566575489225, 0.6752803385475987, 3.180530841805431, 5.6435715833985505, 2.7971537803298476, 3.0469154349502587, 4.782163618536079, 3.590274619061788, 3.2168610369829382, 3.442116665313473, 3.2502439325736487, 1.860245571843294, 1.6585548422003025, 4.8868281121242365, 3.1838833519051577, 3.1000954425796983, 2.9097723359437904, 3.7810732676164527, 5.538691101737486, 3.523952667107794, 2.411913173685447, 2.866599142108456, 4.070996467205255, 2.4171993985870026, 3.852246489030268, 0.6792626260218695, 2.7701204285536134, 3.628140013480669, 4.2701255465757155, 2.1815257829576087, 1.4972349823693964, 2.739264835108181, 1.8745809922531111, 2.85096333327047, 2.9933465453687624, 1.6808549547980551, 3.804439110110865, 2.842786106635549, 4.08045986900535, 1.1550947597039063, 1.9828078294546094, 3.516669308648123, 2.200889429174735, 2.8354643419503036, 3.0006991175571747, 3.1582559809533675, 2.322433787266293, 3.1492865634724776, 2.21745629476552, 3.674280468746775, 2.8851559805169766, 3.1550366235955187, 5.569926839690334, 1.8928955453999785, 4.388582269040288, 0.34064864295062725, 0.9216233450810569, 1.7593599223124292, 1.8224716347250636, 3.2037017981388494, 3.2898422641684677, 2.7451787316276355, 2.8501220332375383, 3.5277647609316607, 3.8332238776207417, 1.673460983890241, 2.6381090287669964, 2.9304101770869897, 3.485315996560453, 2.227332857726529, 2.91077882440633, 3.029983634527158, 2.29552989654047, 2.271684850052114, 3.0987457776373346, 2.8696548540127917, 3.5004775194206323, 1.9467412793550039, 2.6493184721212124, 2.770783948446408, 3.813863908123605, 2.059586225432098, 3.234652005155086, 3.252755507537887, 4.646397242679973, 1.992910635693739, 2.342766681882506, 2.062644317776679, 1.3302208279316, 4.764686934262719, 1.7584987690508775, 2.183694590945154, 4.3157665082821595, 1.2468929530617847, 3.7563515692873812, 1.5869756546582225], \"xaxis\": \"x\", \"xbins\": {\"end\": 5.783777423489051, \"size\": 0.3, \"start\": 0.2590451555402984}, \"yaxis\": \"y\"}, {\"legendgroup\": \"x1\", \"marker\": {\"color\": \"rgb(31, 119, 180)\"}, \"mode\": \"lines\", \"name\": \"x1\", \"showlegend\": false, \"type\": \"scatter\", \"x\": [-5.0223149331957355, -5.012801459011221, -5.003287984826706, -4.993774510642191, -4.984261036457676, -4.974747562273161, -4.965234088088645, -4.9557206139041305, -4.946207139719616, -4.936693665535101, -4.927180191350586, -4.917666717166071, -4.908153242981556, -4.898639768797041, -4.8891262946125265, -4.879612820428012, -4.870099346243496, -4.860585872058981, -4.851072397874466, -4.841558923689951, -4.832045449505436, -4.8225319753209215, -4.813018501136407, -4.803505026951892, -4.793991552767377, -4.784478078582862, -4.774964604398347, -4.765451130213831, -4.7559376560293165, -4.746424181844802, -4.736910707660287, -4.727397233475772, -4.717883759291257, -4.708370285106742, -4.698856810922227, -4.689343336737712, -4.679829862553197, -4.670316388368683, -4.660802914184167, -4.651289439999652, -4.641775965815137, -4.632262491630622, -4.6227490174461074, -4.613235543261593, -4.603722069077078, -4.594208594892563, -4.584695120708048, -4.575181646523532, -4.565668172339017, -4.5561546981545025, -4.546641223969988, -4.537127749785473, -4.527614275600958, -4.518100801416443, -4.508587327231928, -4.499073853047413, -4.489560378862898, -4.4800469046783835, -4.470533430493868, -4.461019956309353, -4.451506482124838, -4.441993007940323, -4.432479533755808, -4.422966059571293, -4.4134525853867785, -4.403939111202264, -4.394425637017749, -4.384912162833233, -4.375398688648719, -4.365885214464203, -4.356371740279688, -4.346858266095174, -4.337344791910659, -4.327831317726144, -4.318317843541629, -4.308804369357114, -4.299290895172599, -4.289777420988084, -4.280263946803569, -4.270750472619054, -4.261236998434539, -4.251723524250024, -4.242210050065509, -4.232696575880994, -4.223183101696479, -4.2136696275119645, -4.20415615332745, -4.194642679142935, -4.18512920495842, -4.175615730773904, -4.166102256589389, -4.156588782404874, -4.1470753082203595, -4.137561834035845, -4.12804835985133, -4.118534885666815, -4.1090214114823, -4.099507937297785, -4.08999446311327, -4.080480988928755, -4.07096751474424, -4.061454040559725, -4.05194056637521, -4.042427092190695, -4.03291361800618, -4.023400143821665, -4.0138866696371505, -4.004373195452636, -3.9948597212681203, -3.9853462470836054, -3.97583277289909, -3.9663192987145752, -3.956805824530061, -3.9472923503455455, -3.9377788761610306, -3.9282654019765157, -3.918751927792001, -3.909238453607486, -3.899724979422971, -3.8902115052384563, -3.880698031053941, -3.871184556869426, -3.8616710826849108, -3.852157608500396, -3.842644134315881, -3.833130660131366, -3.8236171859468513, -3.8141037117623364, -3.8045902375778216, -3.7950767633933062, -3.7855632892087914, -3.7760498150242765, -3.766536340839761, -3.7570228666552463, -3.7475093924707314, -3.7379959182862166, -3.7284824441017017, -3.718968969917187, -3.709455495732672, -3.6999420215481567, -3.690428547363642, -3.6809150731791265, -3.6714015989946116, -3.6618881248100967, -3.652374650625582, -3.642861176441067, -3.633347702256552, -3.6238342280720373, -3.6143207538875224, -3.6048072797030075, -3.5952938055184926, -3.5857803313339773, -3.5762668571494625, -3.566753382964947, -3.5572399087804323, -3.5477264345959174, -3.5382129604114025, -3.5286994862268877, -3.519186012042373, -3.509672537857858, -3.500159063673343, -3.4906455894888277, -3.481132115304313, -3.4716186411197976, -3.4621051669352827, -3.452591692750768, -3.443078218566253, -3.433564744381738, -3.424051270197223, -3.4145377960127083, -3.405024321828193, -3.395510847643678, -3.3859973734591633, -3.376483899274648, -3.366970425090133, -3.3574569509056182, -3.3479434767211034, -3.3384300025365885, -3.3289165283520736, -3.3194030541675588, -3.309889579983044, -3.300376105798529, -3.2908626316140137, -3.281349157429499, -3.271835683244984, -3.2623222090604687, -3.252808734875954, -3.243295260691439, -3.233781786506924, -3.224268312322409, -3.2147548381378943, -3.2052413639533794, -3.195727889768864, -3.1862144155843493, -3.176700941399834, -3.167187467215319, -3.157673993030804, -3.1481605188462893, -3.1386470446617745, -3.1291335704772596, -3.1196200962927447, -3.11010662210823, -3.1005931479237145, -3.0910796737391997, -3.0815661995546844, -3.0720527253701695, -3.0625392511856546, -3.0530257770011398, -3.043512302816625, -3.03399882863211, -3.024485354447595, -3.0149718802630803, -3.005458406078565, -2.99594493189405, -2.986431457709535, -2.9769179835250204, -2.967404509340505, -2.95789103515599, -2.9483775609714753, -2.9388640867869604, -2.929350612602445, -2.9198371384179302, -2.9103236642334154, -2.9008101900489005, -2.891296715864386, -2.8817832416798708, -2.872269767495356, -2.862756293310841, -2.853242819126326, -2.843729344941811, -2.834215870757296, -2.824702396572781, -2.8151889223882662, -2.8056754482037514, -2.796161974019236, -2.786648499834721, -2.7771350256502063, -2.7676215514656914, -2.7581080772811766, -2.7485946030966613, -2.7390811289121464, -2.7295676547276315, -2.7200541805431167, -2.710540706358602, -2.7010272321740865, -2.6915137579895716, -2.6820002838050567, -2.672486809620542, -2.662973335436027, -2.6534598612515117, -2.643946387066997, -2.634432912882482, -2.624919438697967, -2.6154059645134518, -2.605892490328937, -2.596379016144422, -2.586865541959907, -2.5773520677753923, -2.567838593590877, -2.558325119406362, -2.548811645221847, -2.5392981710373324, -2.5297846968528175, -2.520271222668302, -2.5107577484837873, -2.5012442742992724, -2.4917308001147576, -2.4822173259302427, -2.4727038517457274, -2.4631903775612125, -2.4536769033766976, -2.4441634291921828, -2.434649955007668, -2.4251364808231526, -2.4156230066386377, -2.406109532454123, -2.396596058269608, -2.3870825840850927, -2.377569109900578, -2.368055635716063, -2.358542161531548, -2.349028687347033, -2.339515213162518, -2.330001738978003, -2.320488264793488, -2.3109747906089733, -2.3014613164244584, -2.291947842239943, -2.282434368055428, -2.272920893870914, -2.263407419686399, -2.253893945501884, -2.2443804713173687, -2.234866997132854, -2.225353522948339, -2.215840048763824, -2.2063265745793093, -2.196813100394794, -2.187299626210279, -2.177786152025764, -2.1682726778412493, -2.1587592036567345, -2.149245729472219, -2.1397322552877043, -2.1302187811031894, -2.1207053069186745, -2.1111918327341592, -2.1016783585496444, -2.0921648843651295, -2.0826514101806146, -2.0731379359960997, -2.0636244618115844, -2.0541109876270696, -2.0445975134425547, -2.03508403925804, -2.025570565073525, -2.0160570908890096, -2.0065436167044948, -1.99703014251998, -1.987516668335465, -1.9780031941509502, -1.9684897199664348, -1.95897624578192, -1.949462771597405, -1.9399492974128902, -1.9304358232283754, -1.92092234904386, -1.9114088748593452, -1.9018954006748303, -1.8923819264903154, -1.8828684523058001, -1.8733549781212853, -1.8638415039367704, -1.8543280297522555, -1.8448145555677407, -1.8353010813832253, -1.8257876071987105, -1.8162741330141956, -1.8067606588296807, -1.7972471846451659, -1.7877337104606505, -1.7782202362761357, -1.7687067620916208, -1.759193287907106, -1.749679813722591, -1.7401663395380758, -1.7306528653535609, -1.721139391169046, -1.7116259169845311, -1.7021124428000163, -1.692598968615501, -1.683085494430986, -1.6735720202464717, -1.6640585460619568, -1.654545071877442, -1.6450315976929266, -1.6355181235084117, -1.6260046493238969, -1.616491175139382, -1.6069777009548667, -1.5974642267703518, -1.587950752585837, -1.578437278401322, -1.5689238042168072, -1.559410330032292, -1.549896855847777, -1.5403833816632622, -1.5308699074787473, -1.5213564332942324, -1.511842959109717, -1.5023294849252022, -1.4928160107406874, -1.4833025365561725, -1.4737890623716576, -1.4642755881871423, -1.4547621140026274, -1.4452486398181126, -1.4357351656335977, -1.4262216914490828, -1.4167082172645675, -1.4071947430800527, -1.3976812688955378, -1.388167794711023, -1.3786543205265076, -1.3691408463419927, -1.3596273721574779, -1.350113897972963, -1.3406004237884481, -1.3310869496039328, -1.321573475419418, -1.312060001234903, -1.3025465270503882, -1.2930330528658733, -1.283519578681358, -1.2740061044968432, -1.2644926303123283, -1.2549791561278134, -1.2454656819432985, -1.2359522077587832, -1.2264387335742684, -1.2169252593897535, -1.2074117852052386, -1.1978983110207237, -1.1883848368362084, -1.1788713626516936, -1.1693578884671787, -1.1598444142826638, -1.1503309400981485, -1.1408174659136336, -1.1313039917291188, -1.121790517544604, -1.112277043360089, -1.1027635691755737, -1.0932500949910589, -1.083736620806544, -1.0742231466220291, -1.0647096724375142, -1.0551961982529994, -1.0456827240684845, -1.0361692498839696, -1.0266557756994548, -1.01714230151494, -1.007628827330425, -0.9981153531459102, -0.9886018789613944, -0.9790884047768795, -0.9695749305923647, -0.9600614564078498, -0.9505479822233349, -0.94103450803882, -0.9315210338543052, -0.9220075596697894, -0.9124940854852746, -0.9029806113007597, -0.8934671371162448, -0.8839536629317299, -0.8744401887472151, -0.8649267145627002, -0.8554132403781853, -0.8458997661936696, -0.8363862920091547, -0.8268728178246398, -0.817359343640125, -0.8078458694556101, -0.7983323952710952, -0.7888189210865804, -0.7793054469020655, -0.7697919727175506, -0.7602784985330366, -0.7507650243485209, -0.741251550164006, -0.7317380759794911, -0.7222246017949763, -0.7127111276104614, -0.7031976534259465, -0.6936841792414317, -0.6841707050569168, -0.6746572308724019, -0.6651437566878862, -0.6556302825033713, -0.6461168083188564, -0.6366033341343416, -0.6270898599498267, -0.6175763857653118, -0.608062911580797, -0.5985494373962821, -0.5890359632117672, -0.5795224890272523, -0.5700090148427366, -0.5604955406582217, -0.5509820664737068, -0.541468592289192, -0.5319551181046771, -0.5224416439201622, -0.5129281697356474, -0.5034146955511325, -0.4939012213666176, -0.48438774718210187, -0.474874272997587, -0.46536079881307213, -0.45584732462855726, -0.4463338504440424, -0.4368203762595275, -0.42730690207501265, -0.4177934278904978, -0.4082799537059829, -0.39876647952146804, -0.3892530053369523, -0.3797395311524374, -0.37022605696792255, -0.3607125827834077, -0.3511991085988928, -0.34168563441437794, -0.33217216022986307, -0.3226586860453482, -0.31314521186083333, -0.30363173767631846, -0.2941182634918027, -0.28460478930728783, -0.27509131512277296], \"xaxis\": \"x\", \"y\": [0.041562179610015355, 0.042599063467470846, 0.04364855220696635, 0.04471067307393979, 0.04578546636364308, 0.04687298561783133, 0.0479732977426174, 0.04908648304621198, 0.0502126351957492, 0.051351861092875345, 0.05250428066826996, 0.053670026595747614, 0.05484924392706774, 0.05604208964904826, 0.05724873216503228, 0.05846935070319787, 0.05970413465461486, 0.06095328284435049, 0.062217002739291566, 0.06349550959668718, 0.0647890255577238, 0.06609777869071559, 0.06742200198872496, 0.0687619323266276, 0.07011780938279119, 0.07148987453065543, 0.07287836970557415, 0.07428353625231861, 0.07570561375863105, 0.07714483888017677, 0.07860144416215267, 0.08007565686269223, 0.0815676977830484, 0.08307778010934197, 0.08460610827044643, 0.08615287681632582, 0.08771826932087012, 0.08930245731297648, 0.09090559923931282, 0.09252783946186803, 0.09416930729306389, 0.09583011607085332, 0.09751036227588691, 0.0992101246924902, 0.10092946361485165, 0.1026684200994995, 0.10442701526483017, 0.10620524963815807, 0.10800310255047658, 0.1098205315788787, 0.1116574720363502, 0.11351383650846031, 0.11538951443630686, 0.11728437174494045, 0.11919825051639242, 0.12113096870636683, 0.12308231990362478, 0.12505207313108893, 0.1270399726877378, 0.1290457380304175, 0.13106906369480326, 0.13310961925485937, 0.13516704932030102, 0.13724097357172776, 0.13933098683328943, 0.14143665918294837, 0.14355753610061178, 0.1456931386546362, 0.14784296372741665, 0.15000648428100555, 0.15218314966390112, 0.15437238596036265, 0.15657359638378043, 0.15878616171579407, 0.1610094407929894, 0.16324277104311696, 0.165485469072843, 0.1677368313090846, 0.16999613469598926, 0.17226263744956363, 0.1745355798718918, 0.17681418522673442, 0.17909766067814437, 0.1813851982935067, 0.18367597611215167, 0.1859691592803811, 0.18826390125340065, 0.1905593450642622, 0.1928546246594958, 0.1951488663006525, 0.1974411900304866, 0.19973071120200395, 0.20201654206805664, 0.20429779342862456, 0.20657357633236567, 0.20884300382845114, 0.21110519276414694, 0.21335926562305194, 0.21560435239836018, 0.21783959249500712, 0.2200641366540621, 0.22227714889227446, 0.22447780844925813, 0.2266653117344211, 0.22883887426541283, 0.23099773258958026, 0.23314114617970436, 0.23526839929510623, 0.23737880279912119, 0.23947169592387338, 0.24154644797332253, 0.24360245995561225, 0.24563916613591488, 0.24765603550116175, 0.24965257312831987, 0.25162832144820674, 0.25358286139722164, 0.25551581344979696, 0.25742683852488113, 0.25931563876027935, 0.2611819581492575, 0.2630255830344376, 0.2648463424546221, 0.2666441083408885, 0.2684187955589489, 0.27017036179548487, 0.27189880728687527, 0.2736041743894384, 0.2752865469910375, 0.27694604976457654, 0.2785828472646371, 0.2801971428691611, 0.28178917756875227, 0.28335922860681445, 0.28490760797433845, 0.2864346607637508, 0.28794076338678604, 0.2894263216618664, 0.2908917687769716, 0.2923375631344436, 0.2937641860845945, 0.2951721395553975, 0.2965619435859004, 0.2979341337713484, 0.2992892586283201, 0.300627876888463, 0.30195055472969407, 0.30325786295396656, 0.3045503741209395, 0.3058286596470959, 0.3070932868800538, 0.3083448161579973, 0.30958379786432955, 0.3108107694878131, 0.31202625269861006, 0.31323075045079635, 0.31442474412203403, 0.3156086907012376, 0.3167830200351648, 0.3179481321449804, 0.31910439462391677, 0.32025214012723097, 0.3213916639657114, 0.32252322181400456, 0.32364702754503055, 0.324763251201731, 0.32587201711730024, 0.32697340219495086, 0.32806743435809393, 0.3291540911815969, 0.33023329871450785, 0.3313049305042997, 0.3323688068322769, 0.3334246941693159, 0.3344723048605502, 0.3355112970469839, 0.33654127483129637, 0.3375617886943093, 0.3385723361676884, 0.33957236276750336, 0.34056126319218666, 0.3415383827873264, 0.3425030192784774, 0.3434544247719021, 0.3443918080217816, 0.34531433696100083, 0.3462211414911277, 0.3471113165256679, 0.3479839252790984, 0.3488380027925721, 0.34967255968556205, 0.35048658612108446, 0.351279055970505, 0.3520489311623331, 0.35279516619783957, 0.3535167128147929, 0.35421252477917053, 0.35488156278329086, 0.3555227994275361, 0.3561352242616389, 0.356717848860426, 0.35726971190799695, 0.3577898842634838, 0.3582774739809337, 0.35873163125535834, 0.3591515532666965, 0.3595364888933262, 0.3598857432668276, 0.3601986821399613, 0.3604747360402917, 0.36071340418254716, 0.36091425811366146, 0.36107694506550847, 0.36120119099158077, 0.36128680326530827, 0.3613336730193359, 0.36134177710686227, 0.3613111796681062, 0.361242033287069, 0.36113457972600105, 0.3609891502273506, 0.36080616537544796, 0.3605861345127229, 0.3603296547079102, 0.3600374092763652, 0.35971016585533283, 0.3593487740397637, 0.3589541625869666, 0.3585273362011131, 0.35806937191125376, 0.3575814150590806, 0.35706467491518673, 0.35652041994495337, 0.3559499727474791, 0.3553547046930757, 0.3547360302868536, 0.3540954012877008, 0.35343430061358266, 0.35275423606551376, 0.35205673390375103, 0.35134333231076803, 0.35061557477631805, 0.349875003440455, 0.3491231524306654, 0.3483615412293446, 0.34759166810768904, 0.34681500366164736, 0.3460329844849756, 0.34524700701354694, 0.3444584215740094, 0.3436685266685778, 0.3428785635262595, 0.34208971094912055, 0.3413030804803428, 0.340519711918784, 0.33974056920258194, 0.3389665366820224, 0.3381984157994658, 0.3374369221915892, 0.33668268322659123, 0.33593623598632416, 0.3351980257005976, 0.3344684046381382, 0.3337476314559416, 0.3330358710059978, 0.332333194595646, 0.33163958069515265, 0.3309549160834981, 0.33027899742081746, 0.32961153323353287, 0.32895214629588837, 0.3283003763894153, 0.3276556834198176, 0.3270174508688689, 0.3263849895572008, 0.3257575416923037, 0.32513428517470994, 0.3245143381341498, 0.3238967636665063, 0.3232805747416253, 0.3226647392514743, 0.32204818516779116, 0.3214298057782243, 0.3208084649700254, 0.32018300253062554, 0.3195522394349038, 0.3189149830896163, 0.31827003250632063, 0.31761618337516506, 0.316952233013126, 0.3162769851616583, 0.31558925461024373, 0.31488787162399523, 0.3141716861552639, 0.31343957182109955, 0.3126904296304211, 0.31192319144682806, 0.31113682317513575, 0.31033032766191476, 0.30950274730253574, 0.30865316634947, 0.30778071291883263, 0.3068845606943803, 0.3059639303303597, 0.3050180905567342, 0.30404635899239335, 0.30304810267392, 0.3020227383093894, 0.3009697322684398, 0.29988860032151854, 0.2987789071427075, 0.29764026559192436, 0.2964723357934908, 0.295274824029129, 0.2940474814643224, 0.29279010272769007, 0.2915025243635555, 0.29018462317823807, 0.288836314500777, 0.2874575503787745, 0.2860483177298761, 0.284608636469032, 0.2831385576311771, 0.28163816150826254, 0.2801075558187496, 0.2785468739266979, 0.2769562731264605, 0.27533593300777665, 0.2736860539147243, 0.27200685551054854, 0.2702985754588994, 0.26856146823042454, 0.26679580404205677, 0.26500186793468516, 0.263179958993231, 0.2613303897114906, 0.2594534855024498, 0.25754958435316366, 0.25561903662170754, 0.25366220497220887, 0.25167946444250294, 0.24967120263761847, 0.24763782004102072, 0.2455797304343942, 0.24349736141569786, 0.24139115500431838, 0.23926156832134787, 0.23710907433236858, 0.23493416263960554, 0.23273734030993878, 0.23051913272503036, 0.22828008443972395, 0.22602076003492647, 0.22374174495135649, 0.22144364629085422, 0.21912709357237364, 0.21679273943033994, 0.21444126024369695, 0.21207335668474103, 0.20968975417766672, 0.207291203257691, 0.2048784798226017, 0.20245238526963283, 0.20001374651165021, 0.19756341586777196, 0.19510227082466997, 0.1926312136659746, 0.19015117096833212, 0.18766309296381625, 0.1851679527694895, 0.1826667454859935, 0.18016048716807107, 0.17765021367089753, 0.1751369793770116, 0.1726218558094843, 0.1701059301377304, 0.16759030358306082, 0.16507608973168453, 0.1625644127633889, 0.16005640560456444, 0.15755320801458847, 0.15505596461484092, 0.15256582286979795, 0.1500839310297413, 0.14761143604462737, 0.1451494814585869, 0.14269920529439045, 0.1402617379369983, 0.13783820002504396, 0.13542970035877028, 0.1330373338325601, 0.13066217939978225, 0.12830529807721724, 0.1259677309958399, 0.12365049750423138, 0.12135459333036659, 0.11908098880699705, 0.11683062716531006, 0.11460442290101888, 0.11240326021651979, 0.11022799154224139, 0.10807943613982983, 0.1059583787893495, 0.10386556856223847, 0.101801717681357, 0.09976750046908506, 0.09776355238408971, 0.09579046914707025, 0.09384880595551925, 0.09193907678729786, 0.0900617537926209, 0.08821726677387456, 0.086406002752551, 0.08462830562246967, 0.08288447588837462, 0.08117477048893161, 0.0794994027031125, 0.07785854213892912, 0.07625231480347129, 0.07468080325320624, 0.07314404682350494, 0.07164204193637733, 0.0701747424854095, 0.06874206029690942, 0.06734386566627443, 0.0659799879685912, 0.0646502163424648, 0.06335430044605338, 0.06209195128423786, 0.060862842105806524, 0.05966660936945684, 0.058502853777328286, 0.057371141374669844, 0.0562710047141169, 0.055201944082911014, 0.05416342879122789, 0.053154898519606614, 0.05217576472327541, 0.05122541209096824, 0.05030320005560586, 0.04940846435399541, 0.04854051863246561, 0.047698656095126926, 0.046882151191205146, 0.046090261337667485, 0.04532222867312948, 0.04457728183881191, 0.04385463778210455, 0.04315350357809864, 0.04247307826426584, 0.041812554683300474, 0.04117112132899658, 0.040547964189913924, 0.03994226858548858, 0.03935322098917685, 0.03878001083317716, 0.038221832289263256, 0.0376778860202765, 0.037147380896873514, 0.036629535674200214, 0.036123580623270625, 0.03562875911196722, 0.03514432913074305, 0.034669564758302886, 0.03420375756276091, 0.03374621793402078, 0.033296276343395714, 0.03285328452678153, 0.03241661658800845, 0.03198567001933393, 0.03155986663638488, 0.031138653425223182, 0.030721503299581922, 0.03030791576670193, 0.02989741750058891, 0.02948956282190287, 0.029083934084086334, 0.028680141965729364, 0.028277825669558707, 0.02787665302881932, 0.027476320522192125, 0.027076553198752587, 0.02667710451482712, 0.026277756084938386, 0.02587831734935167, 0.0254786251610346, 0.025078543295126786, 0.024677961884276144, 0.024276796783441516, 0.0238749888679773, 0.023472503269013508, 0.023069328550315224, 0.0226654758309542, 0.022260977858249747, 0.021855888035536543, 0.02145027940939348, 0.021044243621021152, 0.020637889826485394, 0.02023134359055277, 0.01982474575882863], \"yaxis\": \"y\"}, {\"legendgroup\": \"x2\", \"marker\": {\"color\": \"rgb(255, 127, 14)\"}, \"mode\": \"lines\", \"name\": \"x2\", \"showlegend\": false, \"type\": \"scatter\", \"x\": [-2.4567470568634793, -2.4470849039427676, -2.437422751022056, -2.427760598101344, -2.4180984451806324, -2.4084362922599207, -2.398774139339209, -2.3891119864184973, -2.3794498334977856, -2.3697876805770735, -2.3601255276563617, -2.35046337473565, -2.3408012218149383, -2.3311390688942266, -2.321476915973515, -2.311814763052803, -2.3021526101320915, -2.29249045721138, -2.282828304290668, -2.2731661513699564, -2.2635039984492447, -2.253841845528533, -2.2441796926078212, -2.2345175396871095, -2.2248553867663974, -2.215193233845686, -2.205531080924974, -2.1958689280042623, -2.1862067750835505, -2.176544622162839, -2.166882469242127, -2.1572203163214154, -2.1475581634007037, -2.137896010479992, -2.1282338575592803, -2.1185717046385686, -2.108909551717857, -2.099247398797145, -2.0895852458764335, -2.0799230929557218, -2.07026094003501, -2.060598787114298, -2.0509366341935866, -2.0412744812728745, -2.0316123283521628, -2.021950175431451, -2.0122880225107393, -2.0026258695900276, -1.992963716669316, -1.9833015637486042, -1.9736394108278925, -1.9639772579071808, -1.954315104986469, -1.9446529520657574, -1.9349907991450457, -1.925328646224334, -1.915666493303622, -1.9060043403829103, -1.8963421874621986, -1.886680034541487, -1.8770178816207752, -1.8673557287000633, -1.8576935757793516, -1.8480314228586399, -1.8383692699379282, -1.8287071170172164, -1.8190449640965047, -1.809382811175793, -1.7997206582550813, -1.7900585053343696, -1.780396352413658, -1.7707341994929462, -1.7610720465722345, -1.7514098936515228, -1.741747740730811, -1.7320855878100991, -1.7224234348893872, -1.7127612819686755, -1.7030991290479638, -1.693436976127252, -1.6837748232065404, -1.6741126702858287, -1.664450517365117, -1.6547883644444052, -1.6451262115236935, -1.6354640586029818, -1.6258019056822701, -1.6161397527615584, -1.6064775998408467, -1.5968154469201348, -1.587153293999423, -1.5774911410787114, -1.5678289881579996, -1.558166835237288, -1.5485046823165762, -1.5388425293958645, -1.5291803764751526, -1.5195182235544409, -1.5098560706337292, -1.5001939177130175, -1.4905317647923058, -1.480869611871594, -1.4712074589508823, -1.4615453060301706, -1.4518831531094587, -1.442221000188747, -1.4325588472680355, -1.4228966943473236, -1.4132345414266119, -1.4035723885059002, -1.3939102355851885, -1.3842480826644767, -1.3745859297437648, -1.3649237768230533, -1.3552616239023414, -1.3455994709816297, -1.335937318060918, -1.3262751651402063, -1.3166130122194946, -1.3069508592987829, -1.2972887063780711, -1.2876265534573592, -1.2779644005366475, -1.2683022476159358, -1.258640094695224, -1.2489779417745124, -1.2393157888538007, -1.229653635933089, -1.2199914830123773, -1.2103293300916653, -1.2006671771709538, -1.191005024250242, -1.1813428713295302, -1.1716807184088185, -1.1620185654881068, -1.152356412567395, -1.1426942596466831, -1.1330321067259717, -1.1233699538052597, -1.1137078008845482, -1.1040456479638363, -1.0943834950431248, -1.084721342122413, -1.075059189201701, -1.0653970362809895, -1.0557348833602775, -1.046072730439566, -1.0364105775188541, -1.0267484245981426, -1.0170862716774307, -1.007424118756719, -0.9977619658360073, -0.9880998129152954, -0.9784376599945839, -0.9687755070738719, -0.9591133541531605, -0.9494512012324485, -0.9397890483117368, -0.9301268953910251, -0.9204647424703134, -0.9108025895496017, -0.9011404366288898, -0.8914782837081783, -0.8818161307874663, -0.8721539778667546, -0.8624918249460429, -0.8528296720253312, -0.8431675191046195, -0.8335053661839078, -0.8238432132631961, -0.8141810603424844, -0.8045189074217725, -0.7948567545010607, -0.785194601580349, -0.7755324486596373, -0.7658702957389256, -0.7562081428182139, -0.7465459898975022, -0.7368838369767903, -0.7272216840560788, -0.7175595311353669, -0.7078973782146554, -0.6982352252939434, -0.6885730723732317, -0.67891091945252, -0.6692487665318081, -0.6595866136110966, -0.6499244606903847, -0.6402623077696732, -0.6306001548489613, -0.6209380019282498, -0.6112758490075378, -0.6016136960868259, -0.5919515431661144, -0.5822893902454025, -0.572627237324691, -0.5629650844039791, -0.5533029314832676, -0.5436407785625557, -0.5339786256418442, -0.5243164727211322, -0.5146543198004205, -0.5049921668797088, -0.4953300139589969, -0.4856678610382854, -0.4760057081175735, -0.466343555196862, -0.4566814022761503, -0.44701924935543813, -0.43735709643472687, -0.4276949435140147, -0.41803279059330345, -0.40837063767259174, -0.3987084847518796, -0.3890463318311679, -0.37938417891045617, -0.36972202598974446, -0.36005987306903275, -0.35039772014832105, -0.34073556722760934, -0.33107341430689763, -0.3214112613861855, -0.3117491084654742, -0.3020869555447625, -0.29242480262405035, -0.28276264970333864, -0.2731004967826274, -0.26343834386191567, -0.2537761909412035, -0.2441140380204918, -0.2344518850997801, -0.22478973217906884, -0.21512757925835668, -0.20546542633764497, -0.19580327341693327, -0.1861411204962211, -0.17647896757550985, -0.16681681465479814, -0.15715466173408643, -0.14749250881337428, -0.13783035589266301, -0.1281682029719513, -0.11850605005123915, -0.10884389713052744, -0.09918174420981574, -0.08951959128910447, -0.07985743836839232, -0.07019528544768061, -0.0605331325269689, -0.050870979606257194, -0.041208826685545485, -0.03154667376483378, -0.02188452084412207, -0.012222367923409916, -0.0025602150026986514, 0.007101937918013057, 0.016764090838724766, 0.026426243759436918, 0.03608839668014863, 0.04575054960085989, 0.0554127025215716, 0.06507485544228375, 0.07473700836299546, 0.08439916128370673, 0.09406131420441888, 0.10372346712513059, 0.1133856200458423, 0.123047772966554, 0.1327099258872657, 0.14237207880797742, 0.15203423172868913, 0.16169638464940084, 0.171358537570113, 0.18102069049082425, 0.19068284341153596, 0.20034499633224812, 0.21000714925295982, 0.2196693021736711, 0.2293314550943828, 0.23899360801509495, 0.24865576093580666, 0.25831791385651837, 0.26798006677722963, 0.2776422196979418, 0.2873043726186535, 0.2969665255393652, 0.30662867846007735, 0.3162908313807886, 0.3259529843015003, 0.33561513722221203, 0.3452772901429242, 0.35493944306363545, 0.36460159598434716, 0.3742637489050593, 0.383925901825771, 0.39358805474648273, 0.403250207667194, 0.41291236058790615, 0.42257451350861785, 0.43223666642932956, 0.44189881935004127, 0.451560972270753, 0.4612231251914647, 0.4708852781121764, 0.48054743103288855, 0.4902095839535998, 0.4998717368743115, 0.5095338897950232, 0.5191960427157354, 0.5288581956364471, 0.5385203485571584, 0.5481825014778701, 0.5578446543985822, 0.5675068073192939, 0.5771689602400056, 0.5868311131607173, 0.596493266081429, 0.6061554190021408, 0.6158175719228525, 0.6254797248435642, 0.6351418777642759, 0.6448040306849876, 0.6544661836056997, 0.6641283365264115, 0.6737904894471227, 0.6834526423678344, 0.6931147952885466, 0.7027769482092583, 0.71243910112997, 0.7221012540506813, 0.7317634069713934, 0.7414255598921051, 0.7510877128128168, 0.7607498657335285, 0.7704120186542402, 0.780074171574952, 0.7897363244956637, 0.7993984774163758, 0.8090606303370871, 0.8187227832577988, 0.8283849361785105, 0.8380470890992227, 0.8477092420199344, 0.8573713949406456, 0.8670335478613578, 0.8766957007820695, 0.8863578537027812, 0.8960200066234925, 0.9056821595442046, 0.9153443124649163, 0.925006465385628, 0.9346686183063397, 0.9443307712270514, 0.9539929241477632, 0.9636550770684749, 0.973317229989187, 0.9829793829098987, 0.99264153583061, 1.0023036887513217, 1.0119658416720339, 1.0216279945927456, 1.0312901475134568, 1.0409523004341685, 1.0506144533548807, 1.0602766062755924, 1.069938759196304, 1.0796009121170158, 1.0892630650377275, 1.0989252179584392, 1.108587370879151, 1.118249523799863, 1.1279116767205744, 1.137573829641286, 1.1472359825619982, 1.15689813548271, 1.1665602884034212, 1.176222441324133, 1.185884594244845, 1.1955467471655568, 1.2052089000862685, 1.2148710530069797, 1.2245332059276919, 1.2341953588484036, 1.2438575117691153, 1.2535196646898275, 1.2631818176105387, 1.2728439705312504, 1.2825061234519621, 1.2921682763726743, 1.3018304292933855, 1.3114925822140973, 1.321154735134809, 1.3308168880555211, 1.3404790409762328, 1.350141193896944, 1.3598033468176562, 1.369465499738368, 1.3791276526590797, 1.388789805579791, 1.398451958500503, 1.4081141114212148, 1.4177762643419265, 1.4274384172626382, 1.43710057018335, 1.4467627231040616, 1.4564248760247733, 1.4660870289454855, 1.4757491818661972, 1.4854113347869085, 1.4950734877076202, 1.5047356406283323, 1.514397793549044, 1.5240599464697553, 1.5337220993904674, 1.5433842523111787, 1.5530464052318909, 1.562708558152603, 1.5723707110733143, 1.5820328639940255, 1.5916950169147377, 1.6013571698354498, 1.611019322756161, 1.6206814756768724, 1.6303436285975845, 1.6400057815182958, 1.649667934439008, 1.65933008735972, 1.6689922402804322, 1.6786543932011435, 1.6883165461218548, 1.697978699042567, 1.7076408519632782, 1.7173030048839903, 1.7269651578047025, 1.7366273107254138, 1.746289463646126, 1.7559516165668372, 1.7656137694875493, 1.7752759224082606, 1.7849380753289719, 1.794600228249684, 1.8042623811703962, 1.8139245340911083, 1.8235866870118196, 1.8332488399325308, 1.842910992853243, 1.8525731457739543, 1.8622352986946655, 1.8718974516153786, 1.8815596045360898, 1.891221757456802, 1.9008839103775133, 1.9105460632982245, 1.9202082162189367, 1.929870369139648, 1.939532522060361, 1.9491946749810722, 1.9588568279017835, 1.9685189808224957, 1.978181133743207, 1.987843286663919, 1.9975054395846303, 2.0071675925053416, 2.0168297454260546, 2.026491898346766, 2.036154051267478, 2.0458162041881893, 2.0554783571089006, 2.0651405100296127, 2.074802662950324, 2.084464815871037, 2.0941269687917483, 2.1037891217124596, 2.1134512746331717, 2.123113427553883, 2.1327755804745943, 2.1424377333953064, 2.1520998863160186, 2.1617620392367307, 2.171424192157442, 2.1810863450781532, 2.1907484979988654, 2.2004106509195767, 2.210072803840289, 2.219734956761001, 2.2293971096817122, 2.2390592626024244, 2.2487214155231356, 2.258383568443848, 2.268045721364559, 2.2777078742852703, 2.2873700272059825, 2.2970321801266946, 2.306694333047407, 2.316356485968118, 2.3260186388888293, 2.3356807918095415, 2.3453429447302527, 2.355005097650965, 2.364667250571677], \"xaxis\": \"x\", \"y\": [0.039136451327568406, 0.03999328290572467, 0.04085346668808531, 0.04171661978235388, 0.04258236120763789, 0.04345031261411015, 0.04432009899084841, 0.04519134936022124, 0.046063697457287354, 0.04693678239277853, 0.04781024929834042, 0.048683749952814555, 0.049556943388449126, 0.050429496476037554, 0.05130108448808814, 0.05217139163923545, 0.0530401116032064, 0.05390694800575564, 0.054771614893081556, 0.05563383717532847, 0.056493351044869064, 0.05734990436914763, 0.058203257057941944, 0.05905318140497937, 0.05989946240391081, 0.06074189803871094, 0.0615802995486329, 0.06241449166789938, 0.06324431284036272, 0.0640696154094094, 0.06489026578342634, 0.06570614457718241, 0.06651714672951145, 0.06732318159771218, 0.06812417302910741, 0.0689200594102306, 0.06971079369412946, 0.07049634340629773, 0.07127669062976828, 0.07205183196992045, 0.07282177849957347, 0.07358655568496184, 0.07434620329320783, 0.07510077528192996, 0.07585033967165038, 0.07659497840169138, 0.07733478717027656, 0.07806987525958264, 0.07880036534651982, 0.07952639330004911, 0.0802481079658804, 0.08096567093943106, 0.08167925632795703, 0.08238905050280998, 0.08309525184280492, 0.08379807046972224, 0.08449772797699923, 0.08519445715270078, 0.08588850169788702, 0.08658011594152108, 0.08726956455308454, 0.08795712225408438, 0.08864307352964339, 0.08932771234137774, 0.09001134184275592, 0.09069427409812848, 0.09137682980659713, 0.09205933803186561, 0.09274213593917471, 0.0934255685403821, 0.09410998844818332, 0.09479575564040828, 0.09548323723524595, 0.09617280727816035, 0.0968648465411631, 0.09755974233499426, 0.09825788833464834, 0.09895968441854401, 0.09966553652150927, 0.10037585650159572, 0.10109106202059098, 0.10181157643793154, 0.10253782871755948, 0.10327025334709351, 0.10400929026851498, 0.10475538481939721, 0.10550898768353524, 0.10627055484965985, 0.1070405475767566, 0.10781943236434513, 0.10860768092592069, 0.10940577016361004, 0.11021418214195851, 0.11103340405863532, 0.1118639282097296, 0.11270625194721359, 0.11356087762605463, 0.11442831253839782, 0.11530906883218091, 0.11620366341151542, 0.11711261781614621, 0.11803645807731185, 0.11897571454734754, 0.11993092170042027, 0.12090261790184832, 0.12189134514354195, 0.12289764874321092, 0.12392207700510134, 0.12496518084017687, 0.12602751334381476, 0.12710962932926845, 0.12821208481534416, 0.1293354364669488, 0.13048024098739314, 0.13164705446156577, 0.13283643164934805, 0.1340489252288914, 0.13528508498964473, 0.13654545697529133, 0.1378305825770268, 0.13914099757788592, 0.1404772311491078, 0.14183980479979622, 0.14322923128141454, 0.14464601344891345, 0.14609064308055877, 0.1475635996587756, 0.1490653491145704, 0.15059634253832974, 0.15215701486000988, 0.1537477835019442, 0.15536904700769155, 0.15702118365052026, 0.15870455002529468, 0.1604194796276742, 0.16216628142466188, 0.16394523842066028, 0.16575660622328015, 0.16760061161322887, 0.16947745112266513, 0.17138728962645153, 0.17333025895075335, 0.1753064565034554, 0.17731594393084577, 0.17935874580499964, 0.1814348483462581, 0.18354419818513656, 0.18568670116793382, 0.1878622212102305, 0.19007057920237044, 0.192311551970909, 0.1945848712999027, 0.1968902230157756, 0.19922724613936627, 0.20159553210861209, 0.2039946240751673, 0.20642401627808812, 0.20888315349755396, 0.21137143059140434, 0.2138881921170972, 0.21643273204150038, 0.21900429354073278, 0.22160206889207368, 0.22422519945975697, 0.22687277577625226, 0.22954383772043457, 0.23223737479381742, 0.23495232649581932, 0.23768758279880262, 0.24044198472340894, 0.24321432501448934, 0.24600334891770215, 0.24880775505662056, 0.2516261964099733, 0.25445728138840534, 0.25729957500992257, 0.26015160017295436, 0.2630118390257457, 0.2658787344305603, 0.26875069152095804, 0.27162607935018795, 0.2745032326285247, 0.2773804535471581, 0.28025601368604414, 0.2831281560029213, 0.2859950969004983, 0.288855028368633, 0.2917061201981424, 0.29454652226269984, 0.2973743668651346, 0.30018777114426215, 0.3029848395382638, 0.30576366630047336, 0.3085223380633262, 0.3112589364461015, 0.31397154070200545, 0.31665823040004587, 0.3193170881370803, 0.3219462022753683, 0.324543669700896, 0.32710759859772387, 0.3296361112335754, 0.3321273467518835, 0.33457946396550703, 0.3369906441473529, 0.33935909381315743, 0.3416830474917151, 0.34396077047789925, 0.34619056156385236, 0.34837075574380283, 0.35049972688802467, 0.35257589038151954, 0.3545977057230997, 0.35656367908060754, 0.358472365798105, 0.36032237285093965, 0.362112361244692, 0.3638410483540711, 0.36550721019792926, 0.3671096836466246, 0.3686473685580514, 0.3701192298387189, 0.37152429942632503, 0.37286167819034677, 0.374130537747197, 0.37533012218657547, 0.3764597497056673, 0.37751881414788685, 0.37850678644289365, 0.37942321594464307, 0.38026773166424443, 0.38104004339443204, 0.3817399427224607, 0.38236730392826235, 0.3829220847647039, 0.38340432711681116, 0.3838141575368375, 0.3841517876520762, 0.3844175144423383, 0.384611720384068, 0.3847348734580818, 0.3847875270179974, 0.38477031951646923, 0.38468397408642435, 0.384529297974599, 0.38430718182478146, 0.3840185988082893, 0.38366460359938953, 0.38324633119350604, 0.3827649955662969, 0.38222188817188024, 0.3816183762787448, 0.3809559011421649, 0.3802359760122307, 0.3794601839769558, 0.37863017564025514, 0.37774766663501164, 0.37681443497183875, 0.3758323182246015, 0.374803210554239, 0.37372905957291547, 0.37261186305106325, 0.3714536654704249, 0.3702565544267674, 0.36902265688654035, 0.36775413530235285, 0.36645318359276513, 0.3651220229925368, 0.36376289778010423, 0.36237807088974017, 0.36096981941646605, 0.35954043002249, 0.35809219425455696, 0.35662740378227215, 0.35514834556807773, 0.3536572969801913, 0.35215652086040633, 0.3506482605592428, 0.3491347349514725, 0.3476181334455676, 0.3461006110011007, 0.34458428316855805, 0.3430712211664276, 0.34156344701077085, 0.34006292871276433, 0.33857157555996226, 0.3370912334971705, 0.335623680622966, 0.3341706228179227, 0.33273368952058513, 0.3313144296671316, 0.329914307810508, 0.3285347004345457, 0.3271768924782673, 0.3258420740851761, 0.32453133759182834, 0.3232456747694378, 0.32198597433160525, 0.3207530197205492, 0.31954748718339865, 0.31836994414925385, 0.3172208479167331, 0.316100544660742, 0.3150092687660674, 0.31394714249427397, 0.31291417598915044, 0.31191026762468255, 0.310935204698215, 0.30998866447009416, 0.3090702155496903, 0.30817931962625267, 0.30731533354161267, 0.3064775117002644, 0.3056650088108754, 0.3048768829518074, 0.3041120989517451, 0.30336953207508344, 0.3026479720002886, 0.30194612707805574, 0.30126262885473326, 0.3005960368451762, 0.2999448435379582, 0.2993074796146912, 0.29868231936410616, 0.2980676862705364, 0.29746185875552333, 0.29686307605043827, 0.29626954417730045, 0.29567944201436236, 0.29509092742253856, 0.2945021434083931, 0.29391122429914307, 0.29331630190503055, 0.29271551164441684, 0.2921069986071035, 0.29148892353165623, 0.290859468672921, 0.2902168435364516, 0.28955929045724355, 0.28888509000095464, 0.28819256616671185, 0.287480091371627, 0.2867460911982944, 0.28598904888778237, 0.2852075095619761, 0.28440008416055945, 0.2835654530794415, 0.28270236949900673, 0.2818096623922225, 0.2808862392043232, 0.27993108819753515, 0.2789432804560508, 0.27792197154826875, 0.27686640284506886, 0.27577590249469497, 0.2746498860565686, 0.27348785679808413, 0.2722894056601339, 0.2710542108987445, 0.26978203741178414, 0.2684727357611956, 0.2671262409026413, 0.2657425706357612, 0.26432182378948593, 0.2628641781579571, 0.26136988820362056, 0.25983928254494404, 0.2582727612469713, 0.25667079293355793, 0.25503391174064544, 0.2533627141302816, 0.25165785558535303, 0.24992004720507513, 0.2481500522212738, 0.2463486824553132, 0.24451679473525303, 0.24265528729239477, 0.240765096155855, 0.23884719156316253, 0.23690257440413, 0.23493227271441078, 0.23293733823421794, 0.23091884304667956, 0.22887787630920625, 0.22681554109012314, 0.2247329513216124, 0.22263122887877693, 0.22051150079338053, 0.21837489660952272, 0.21622254588722153, 0.21405557585857915, 0.21187510923992478, 0.2096822622020676, 0.20747814249956473, 0.20526384775871104, 0.20304046392282316, 0.20080906385229844, 0.1985707060759011, 0.19632643368878364, 0.19407727339185912, 0.19182423466635679, 0.18956830907665972, 0.18731046969391554, 0.1850516706323629, 0.1827928466898755, 0.18053491308387887, 0.17827876527352546, 0.1760252788588634, 0.17377530954764248, 0.17152969318042335, 0.16928924580474905, 0.16705476378931788, 0.16482702396934906, 0.16260678381466237, 0.16039478161239026, 0.15819173665668307, 0.15599834943829574, 0.1538153018274824, 0.1516432572442366, 0.14948286081054588, 0.14733473947998302, 0.14519950214064667, 0.14307773968814727, 0.1409700250660491, 0.1388769132718641, 0.1367989413273979, 0.13473662821292928, 0.1326904747653561, 0.13066096354109305, 0.12864855864510333, 0.12665370552802652, 0.12467683075389886, 0.12271834174145269, 0.12077862648243752, 0.11885805324079253, 0.11695697023686157, 0.11507570532113191, 0.11321456564221963, 0.11137383731402228, 0.10955378508708251, 0.10775465202930093, 0.10597665922115325, 0.10422000547054727, 0.10248486705238387, 0.10077139747775604, 0.09907972729755926, 0.09740996394506783, 0.0957621916217807, 0.09413647123055334, 0.09253284035970442, 0.09095131332142924, 0.08939188124747917, 0.08785451224465089, 0.08633915161221349, 0.08484572212295816, 0.08337412436910556, 0.0819242371738484, 0.08049591806884115, 0.07908900383748992, 0.07770331112343212, 0.07633863710314484, 0.0749947602211741, 0.07367144098605151, 0.07236842282454369, 0.07108543299149019, 0.06982218353210146, 0.0685783722932456, 0.06735368397991655, 0.06614779125278068, 0.0649603558624265, 0.06379102981569562, 0.0626394565692689, 0.061505272245493646, 0.06038810686529814, 0.05928758559292066, 0.05820332998709758, 0.057134959253312564, 0.05608209149168612, 0.05504434493510546, 0.05402133917224259, 0.05301269635018587, 0.052018042351523484, 0.05103700794085178, 0.05006922987585056, 0.0491143519782601, 0.04817202616031102, 0.047241913402401185, 0.04632368467807675, 0.04541702182265567, 0.04452161834213632, 0.04363718015934748, 0.04276342629463146, 0.041900089478691886, 0.04104691669559459, 0.04020366965426937, 0.03937012518722972, 0.03854607557559744, 0.037731328799893084, 0.036925708716423776, 0.03612905515947185], \"yaxis\": \"y\"}, {\"legendgroup\": \"x3\", \"marker\": {\"color\": \"rgb(44, 160, 44)\"}, \"mode\": \"lines\", \"name\": \"x3\", \"showlegend\": false, \"type\": \"scatter\", \"x\": [0.2590451555402984, 0.2700946200761959, 0.2811440846120934, 0.2921935491479909, 0.3032430136838884, 0.3142924782197859, 0.3253419427556834, 0.3363914072915809, 0.3474408718274784, 0.3584903363633759, 0.3695398008992734, 0.3805892654351709, 0.3916387299710684, 0.4026881945069659, 0.41373765904286347, 0.424787123578761, 0.4358365881146585, 0.4468860526505559, 0.4579355171864534, 0.468984981722351, 0.4800344462582485, 0.491083910794146, 0.5021333753300434, 0.513182839865941, 0.5242323044018384, 0.535281768937736, 0.5463312334736334, 0.557380698009531, 0.5684301625454286, 0.579479627081326, 0.5905290916172236, 0.6015785561531211, 0.6126280206890186, 0.6236774852249161, 0.6347269497608135, 0.6457764142967111, 0.6568258788326085, 0.6678753433685061, 0.6789248079044036, 0.6899742724403011, 0.7010237369761986, 0.7120732015120961, 0.7231226660479936, 0.7341721305838911, 0.7452215951197886, 0.7562710596556861, 0.7673205241915836, 0.7783699887274811, 0.7894194532633786, 0.8004689177992761, 0.8115183823351736, 0.8225678468710712, 0.8336173114069686, 0.8446667759428661, 0.8557162404787636, 0.8667657050146611, 0.8778151695505587, 0.8888646340864561, 0.8999140986223536, 0.9109635631582511, 0.9220130276941487, 0.9330624922300462, 0.9441119567659436, 0.9551614213018411, 0.9662108858377387, 0.9772603503736362, 0.9883098149095337, 0.9993592794454311, 1.0104087439813285, 1.0214582085172261, 1.0325076730531237, 1.0435571375890214, 1.0546066021249185, 1.0656560666608161, 1.0767055311967137, 1.0877549957326114, 1.0988044602685088, 1.1098539248044061, 1.1209033893403038, 1.1319528538762014, 1.1430023184120988, 1.1540517829479962, 1.1651012474838938, 1.1761507120197914, 1.1872001765556888, 1.1982496410915862, 1.2092991056274838, 1.2203485701633814, 1.2313980346992788, 1.2424474992351762, 1.2534969637710738, 1.2645464283069714, 1.2755958928428688, 1.2866453573787664, 1.2976948219146638, 1.3087442864505614, 1.3197937509864588, 1.3308432155223564, 1.3418926800582538, 1.3529421445941512, 1.3639916091300488, 1.3750410736659462, 1.386090538201844, 1.3971400027377414, 1.4081894672736388, 1.4192389318095364, 1.4302883963454338, 1.4413378608813314, 1.4523873254172288, 1.4634367899531262, 1.4744862544890238, 1.4855357190249214, 1.496585183560819, 1.5076346480967164, 1.5186841126326138, 1.5297335771685114, 1.5407830417044088, 1.5518325062403064, 1.5628819707762038, 1.5739314353121014, 1.584980899847999, 1.5960303643838964, 1.607079828919794, 1.6181292934556915, 1.6291787579915888, 1.6402282225274865, 1.6512776870633838, 1.6623271515992815, 1.673376616135179, 1.6844260806710765, 1.695475545206974, 1.7065250097428715, 1.717574474278769, 1.7286239388146665, 1.7396734033505639, 1.7507228678864615, 1.7617723324223589, 1.7728217969582567, 1.783871261494154, 1.7949207260300515, 1.805970190565949, 1.8170196551018465, 1.828069119637744, 1.8391185841736415, 1.8501680487095389, 1.8612175132454365, 1.872266977781334, 1.8833164423172317, 1.8943659068531291, 1.9054153713890265, 1.9164648359249241, 1.9275143004608215, 1.9385637649967191, 1.9496132295326165, 1.960662694068514, 1.9717121586044117, 1.9827616231403091, 1.9938110876762067, 2.0048605522121044, 2.0159100167480015, 2.026959481283899, 2.0380089458197963, 2.049058410355694, 2.0601078748915915, 2.071157339427489, 2.0822068039633868, 2.0932562684992844, 2.104305733035182, 2.115355197571079, 2.1264046621069763, 2.137454126642874, 2.1485035911787715, 2.159553055714669, 2.1706025202505668, 2.1816519847864644, 2.192701449322362, 2.203750913858259, 2.2148003783941568, 2.225849842930054, 2.2368993074659516, 2.247948772001849, 2.258998236537747, 2.2700477010736444, 2.2810971656095416, 2.292146630145439, 2.303196094681337, 2.3142455592172344, 2.325295023753132, 2.336344488289029, 2.347393952824927, 2.3584434173608244, 2.369492881896722, 2.380542346432619, 2.391591810968517, 2.4026412755044144, 2.4136907400403116, 2.424740204576209, 2.435789669112107, 2.446839133648004, 2.4578885981839016, 2.468938062719799, 2.479987527255697, 2.491036991791594, 2.502086456327492, 2.5131359208633897, 2.524185385399287, 2.5352348499351844, 2.546284314471082, 2.5573337790069792, 2.568383243542877, 2.5794327080787744, 2.590482172614672, 2.6015316371505692, 2.612581101686467, 2.6236305662223645, 2.6346800307582616, 2.6457294952941592, 2.656778959830057, 2.667828424365954, 2.6788778889018516, 2.6899273534377492, 2.7009768179736473, 2.7120262825095445, 2.723075747045442, 2.7341252115813397, 2.745174676117237, 2.7562241406531345, 2.767273605189032, 2.7783230697249293, 2.789372534260827, 2.8004219987967245, 2.811471463332622, 2.8225209278685193, 2.833570392404417, 2.8446198569403145, 2.8556693214762117, 2.8667187860121093, 2.877768250548007, 2.8888177150839045, 2.899867179619802, 2.9109166441556997, 2.9219661086915973, 2.9330155732274945, 2.944065037763392, 2.9551145022992897, 2.966163966835187, 2.9772134313710845, 2.988262895906982, 2.9993123604428793, 3.010361824978777, 3.0214112895146745, 3.032460754050572, 3.0435102185864693, 3.054559683122367, 3.0656091476582645, 3.0766586121941617, 3.0877080767300598, 3.0987575412659574, 3.1098070058018545, 3.120856470337752, 3.1319059348736498, 3.142955399409547, 3.1540048639454445, 3.165054328481342, 3.1761037930172398, 3.187153257553137, 3.1982027220890346, 3.209252186624932, 3.2203016511608293, 3.231351115696727, 3.2424005802326246, 3.2534500447685217, 3.2644995093044193, 3.2755489738403174, 3.286598438376215, 3.297647902912112, 3.30869736744801, 3.3197468319839074, 3.3307962965198046, 3.341845761055702, 3.3528952255916, 3.363944690127497, 3.3749941546633946, 3.386043619199292, 3.39709308373519, 3.408142548271087, 3.4191920128069846, 3.430241477342882, 3.4412909418787794, 3.452340406414677, 3.4633898709505746, 3.474439335486472, 3.48548880002237, 3.4965382645582674, 3.507587729094165, 3.518637193630062, 3.52968665816596, 3.5407361227018574, 3.5517855872377546, 3.5628350517736522, 3.57388451630955, 3.584933980845447, 3.5959834453813446, 3.6070329099172422, 3.61808237445314, 3.629131838989037, 3.6401813035249346, 3.6512307680608322, 3.6622802325967294, 3.6733296971326275, 3.684379161668525, 3.6954286262044223, 3.70647809074032, 3.7175275552762175, 3.728577019812115, 3.7396264843480123, 3.75067594888391, 3.7617254134198075, 3.7727748779557047, 3.7838243424916023, 3.7948738070275, 3.805923271563397, 3.8169727360992947, 3.8280222006351923, 3.83907166517109, 3.850121129706987, 3.861170594242885, 3.8722200587787827, 3.88326952331468, 3.8943189878505775, 3.905368452386475, 3.9164179169223723, 3.92746738145827, 3.9385168459941675, 3.949566310530065, 3.9606157750659623, 3.97166523960186, 3.9827147041377575, 3.9937641686736547, 4.004813633209553, 4.01586309774545, 4.026912562281347, 4.037962026817245, 4.049011491353142, 4.060060955889041, 4.0711104204249375, 4.082159884960835, 4.093209349496733, 4.1042588140326295, 4.115308278568527, 4.126357743104425, 4.137407207640322, 4.14845667217622, 4.1595061367121176, 4.170555601248015, 4.181605065783913, 4.19265453031981, 4.203703994855708, 4.214753459391605, 4.225802923927502, 4.2368523884634, 4.247901852999297, 4.258951317535195, 4.270000782071093, 4.28105024660699, 4.292099711142887, 4.303149175678785, 4.314198640214682, 4.32524810475058, 4.336297569286478, 4.347347033822375, 4.358396498358273, 4.36944596289417, 4.380495427430068, 4.391544891965966, 4.402594356501863, 4.41364382103776, 4.424693285573658, 4.435742750109555, 4.446792214645453, 4.45784167918135, 4.468891143717248, 4.479940608253146, 4.490990072789042, 4.50203953732494, 4.513089001860838, 4.524138466396735, 4.535187930932633, 4.5462373954685305, 4.557286860004427, 4.568336324540325, 4.579385789076222, 4.59043525361212, 4.601484718148018, 4.612534182683915, 4.623583647219813, 4.63463311175571, 4.645682576291607, 4.656732040827505, 4.667781505363402, 4.6788309698993, 4.689880434435198, 4.700929898971095, 4.711979363506992, 4.72302882804289, 4.734078292578787, 4.745127757114686, 4.756177221650583, 4.767226686186481, 4.778276150722378, 4.789325615258275, 4.800375079794173, 4.8114245443300705, 4.822474008865968, 4.833523473401866, 4.844572937937763, 4.85562240247366, 4.866671867009558, 4.877721331545455, 4.888770796081353, 4.8998202606172505, 4.910869725153148, 4.921919189689046, 4.9329686542249425, 4.94401811876084, 4.955067583296738, 4.966117047832635, 4.977166512368533, 4.9882159769044305, 4.999265441440327, 5.010314905976225, 5.0213643705121225, 5.03241383504802, 5.043463299583918, 5.054512764119815, 5.065562228655713, 5.07661169319161, 5.087661157727507, 5.098710622263405, 5.1097600867993025, 5.1208095513352, 5.131859015871099, 5.142908480406996, 5.153957944942893, 5.165007409478791, 5.176056874014688, 5.187106338550586, 5.198155803086483, 5.209205267622381, 5.220254732158278, 5.231304196694175, 5.242353661230073, 5.253403125765971, 5.264452590301868, 5.275502054837766, 5.286551519373663, 5.29760098390956, 5.308650448445458, 5.319699912981355, 5.330749377517253, 5.341798842053151, 5.352848306589048, 5.363897771124946, 5.3749472356608425, 5.38599670019674, 5.397046164732638, 5.408095629268535, 5.419145093804433, 5.430194558340331, 5.441244022876227, 5.452293487412125, 5.4633429519480226, 5.47439241648392, 5.485441881019818, 5.496491345555715, 5.507540810091613, 5.518590274627511, 5.529639739163408, 5.540689203699306, 5.5517386682352035, 5.562788132771101, 5.573837597306999, 5.584887061842896, 5.595936526378793, 5.606985990914691, 5.618035455450588, 5.629084919986486, 5.6401343845223835, 5.651183849058281, 5.662233313594178, 5.673282778130075, 5.684332242665973, 5.695381707201871, 5.706431171737768, 5.717480636273666, 5.7285301008095635, 5.73957956534546, 5.750629029881358, 5.761678494417255, 5.772727958953153], \"xaxis\": \"x\", \"y\": [0.02668785755647517, 0.02731738116046201, 0.027947082790661115, 0.028576507254711003, 0.029205207447167043, 0.02983274601557577, 0.030458697036490373, 0.031082647696425034, 0.03170419997251969, 0.032322972307456385, 0.0329386012729372, 0.033550743215805444, 0.0341590758806695, 0.03476330000267198, 0.03536314086384696, 0.03595834980632147, 0.03654870569545323, 0.03713401632585831, 0.03771411976317464, 0.038288885614334106, 0.038858216219083995, 0.03942204775551175, 0.03998035125238794, 0.040533133501260754, 0.04108043786140705, 0.0416223449509833, 0.042158973218017134, 0.042690479385249405, 0.04321705876326987, 0.04373894542689627, 0.04425641225031847, 0.044769770797173175, 0.04527937106242323, 0.045785601063689396, 0.046288886280514696, 0.04678968894093181, 0.04728850715564152, 0.047785873901093213, 0.048282355853774855, 0.04877855207906519, 0.04927509257906355, 0.0497726367048823, 0.050271871439956595, 0.05077350956197827, 0.05127828769209235, 0.05178696424098656, 0.05230031726244871, 0.05281914222585214, 0.05334424971984236, 0.053876463100228957, 0.05441661609572427, 0.054965550385706455, 0.05552411316460505, 0.05609315470781305, 0.05667352595420199, 0.05726607612036105, 0.05787165036158698, 0.058491087494414874, 0.05912521779510491, 0.05977486088798087, 0.060440823736857704, 0.06112389875200076, 0.06182486202413215, 0.06254447169594729, 0.06328346648043753, 0.06404256433403682, 0.06482246129124059, 0.06562383046588752, 0.06644732122277185, 0.06729355852167233, 0.06816314243426534, 0.06905664783274673, 0.06997462424733887, 0.07091759588822327, 0.07188606182583059, 0.0728804963218578, 0.07390134930188678, 0.07494904695905888, 0.07602399247693942, 0.07712656685849874, 0.07825712984705072, 0.07941602092404693, 0.08060356036782915, 0.0818200503568101, 0.08306577610008746, 0.08434100697820476, 0.08564599767666486, 0.08698098929487132, 0.08834621041343353, 0.08974187810320297, 0.09116819886002957, 0.09262536945001273, 0.0941135776509808, 0.09563300287704131, 0.09718381667430666, 0.0987661830772879, 0.10038025881696515, 0.10202619337315547, 0.10370412886550448, 0.10541419977920044, 0.10715653252333698, 0.10893124482170558, 0.11073844493767651, 0.11257823073668821, 0.1144506885917111, 0.116355892138848, 0.11829390089196755, 0.12026475872692613, 0.12226849224748546, 0.12430510904648494, 0.12637459587713495, 0.1284769167504843, 0.13061201097612585, 0.13277979116407193, 0.13498014120641472, 0.13721291425789878, 0.13947793073485804, 0.14177497635211092, 0.14410380021736546, 0.1464641130024492, 0.14885558521026926, 0.15127784555581655, 0.153730479478761, 0.15621302780425808, 0.15872498556750866, 0.16126580101638222, 0.16383487480506506, 0.1664315593902135, 0.16905515863952303, 0.17170492766095125, 0.1743800728591046, 0.17707975222349637, 0.17980307585156224, 0.18254910670745772, 0.18531686161580982, 0.1881053124877449, 0.19091338777469935, 0.1937399741437411, 0.1965839183664198, 0.19944402941152006, 0.20231908073053698, 0.20520781272324387, 0.2081089353693763, 0.21102113101124093, 0.21394305727096757, 0.21687335008517783, 0.21981062683903238, 0.22275348958098323, 0.22570052829904022, 0.2286503242390408, 0.23160145324521392, 0.23455248910331616, 0.23750200686674217, 0.24044858614629788, 0.2433908143447548, 0.24632728981788174, 0.24925662494435147, 0.2521774490877673, 0.2550884114350013, 0.25798818369610577, 0.26087546265222217, 0.2637489725391613, 0.2666074672556595, 0.26944973238669273, 0.2722745870336869, 0.2750808854449281, 0.2778675184409783, 0.2806334146314224, 0.28337754142077387, 0.2860989058028699, 0.288796554944547, 0.29146957656082856, 0.2941170990852227, 0.29673829164005394, 0.29933236381299, 0.3018985652470918, 0.3044361850527871, 0.30694455105114565, 0.30942302885869594, 0.3118710208248035, 0.3142879648332632, 0.31667333298030453, 0.3190266301416172, 0.3213473924413073, 0.3236351856358727, 0.32588960342635237, 0.3281102657117631, 0.3302968167967748, 0.33244892356633376, 0.33456627363958136, 0.3366485735149847, 0.3386955467180826, 0.3407069319626597, 0.3426824813355143, 0.34462195851430094, 0.34652513702718324, 0.34839179856227864, 0.35022173133409995, 0.3520147285134093, 0.35377058672612877, 0.3554891046261839, 0.3571700815464287, 0.35881331623108387, 0.36041860565247974, 0.3619857439142678, 0.36351452124272954, 0.3650047230673101, 0.366456129191086, 0.36786851305152335, 0.3692416410715875, 0.3705752721010613, 0.3718691569477793, 0.3731230379983907, 0.37433664892826296, 0.3755097145001488, 0.3766419504513485, 0.37773306346918617, 0.37878275125481214, 0.3797907026754882, 0.3807565980057196, 0.38168010925777146, 0.3825609006022997, 0.3833986288799693, 0.38419294420506234, 0.38494349066215755, 0.3856499070969826, 0.38631182800251046, 0.38692888450124957, 0.3875007054244988, 0.3880269184890447, 0.38850715157143917, 0.38894103407949493, 0.3893281984201225, 0.3896682815619515, 0.389960926690448, 0.39020578495241354, 0.39040251728582664, 0.39055079633001893, 0.39065030841010845, 0.3907007555885334, 0.39070185777536914, 0.3906533548879697, 0.3905550090492813, 0.39040660681303185, 0.3902079614028563, 0.3899589149513398, 0.3896593407239188, 0.3893091453116715, 0.38890827077616097, 0.3884566967288066, 0.3879544423266666, 0.3874015681660971, 0.38679817805551403, 0.38614442064839316, 0.38544049091778726, 0.38468663145396553, 0.3838831335673155, 0.3830303381794009, 0.3821286364860465, 0.381178470377501, 0.3801803326021282, 0.3791347666616722, 0.37804236642794653, 0.3769037754727707, 0.3757196861051183, 0.3744908381117464, 0.37321801719998493, 0.37190205314390934, 0.37054381763772226, 0.3691442218628399, 0.36770421377788715, 0.36622477514348595, 0.36470691829641033, 0.36315168269027526, 0.3615601312224609, 0.3599333463693735, 0.35827242615440325, 0.35657847997502146, 0.35485262431735476, 0.35309597838820966, 0.3513096596959678, 0.34949477961288167, 0.3476524389521899, 0.34578372359401927, 0.34388970019429527, 0.34197141201082404, 0.34002987488031017, 0.33806607337937183, 0.33608095720157594, 0.3340754377811621, 0.33205038519248564, 0.3300066253522323, 0.3279449375492568, 0.32586605232439164, 0.3237706497198633, 0.3216593579150132, 0.3195327522618955, 0.31739135473106594, 0.3152356337744632, 0.31306600460880074, 0.3108828299193415, 0.3086864209803495, 0.30647703918496394, 0.3042548979737154, 0.3020201651474768, 0.29977296554732324, 0.297513384080595, 0.29524146906946525, 0.29295723589552264, 0.29066067091131614, 0.28835173558751837, 0.28603037086232974, 0.28369650165802934, 0.28135004152816906, 0.27899089739781785, 0.2766189743585241, 0.2742341804792458, 0.2718364315944502, 0.2694256560308551, 0.2670017992349021, 0.26456482826401534, 0.2621147361059501, 0.25965154579212374, 0.25717531427268336, 0.25468613602318796, 0.2521841463551796, 0.24966952440549625, 0.24714249578200645, 0.24460333484638175, 0.24205236661765514, 0.2394899682835167, 0.23691657030959495, 0.2343326571403161, 0.2317387674882949, 0.2291354942125533, 0.22652348378916776, 0.22390343538117616, 0.22127609951770144, 0.218642276395254, 0.21600281381702063, 0.21335860478862806, 0.2107105847913423, 0.20805972875593973, 0.2054070477625146, 0.20275358549328557, 0.20010041446700558, 0.19744863208484587, 0.19479935651865626, 0.19215372247321671, 0.1895128768545843, 0.18687797437682874, 0.1842501731393858, 0.18163063020693737, 0.1790204972231508, 0.17642091608880897, 0.17383301473382026, 0.17125790301135638, 0.1686966687409328, 0.16615037392562035, 0.16362005116681094, 0.16110670029803958, 0.1586112852573276, 0.15613473121537866, 0.1536779219747426, 0.15124169765277184, 0.14882685265888912, 0.14643413397433472, 0.1440642397402215, 0.14171781815738954, 0.13939546669926509, 0.13709773163667244, 0.1348251078713691, 0.13257803907296187, 0.13035691811185646, 0.12816208777897106, 0.1259938417811525, 0.12385242599955229, 0.1217380399966747, 0.11965083875639508, 0.11759093463997881, 0.11555839954000159, 0.11355326721309884, 0.11157553577163892, 0.10962517031373586, 0.10770210567048799, 0.10580624924894702, 0.10393748394907866, 0.10209567113288505, 0.10028065362389997, 0.09849225871544243, 0.09673030116631805, 0.0949945861630904, 0.09328491222858268, 0.09160107405693191, 0.0899428652562793, 0.08831008098103621, 0.08670252043662234, 0.08511998924060335, 0.08356230162527353, 0.08202928246790742, 0.080520769136156, 0.07903661313736471, 0.07757668156194268, 0.07614085831230641, 0.07472904511035083, 0.07334116227785806, 0.07197714928572929, 0.07063696506941859, 0.06932058810944249, 0.0680280162773392, 0.06675926644893793, 0.06551437388827669, 0.0642933914069572, 0.063096388305156, 0.061923449101897086, 0.0607746720635415, 0.05965016754074937, 0.058550056125412926, 0.05747446664024137, 0.05642353397479285, 0.05539739678278454, 0.0543961950564723, 0.053420067594759146, 0.05246914938247072, 0.05154356889891368, 0.05064344537441283, 0.0497688860139864, 0.04891998320768063, 0.04809681174732336, 0.04729942606958108, 0.04652785754520412, 0.04578211183422621, 0.04506216632663686, 0.04436796768767755, 0.0436994295264192, 0.04305643020566075, 0.04243881081045213, 0.0418463732916882, 0.04127887880025145, 0.04073604622609831, 0.04021755095550102, 0.039723023858372036, 0.03925205051622375, 0.0388041706998561, 0.03837887810433328, 0.037975620347210005, 0.037593799234313066, 0.03723277129568541, 0.03689184859256561, 0.03657029979452024, 0.03626735152408132, 0.035982189964477336, 0.035713962724297485, 0.035461780951207, 0.03522472168515069, 0.03500183043985043, 0.03479212399983932, 0.03459459341878484, 0.03440820720345357, 0.0342319146663669, 0.03406464942900465, 0.033905333056337694, 0.03375287880252376, 0.033606195446786856, 0.0334641911978293, 0.03332577764460137, 0.0331898737308803, 0.033055409730892465, 0.03292133120315267, 0.03278660289979065, 0.032650212608889416, 0.03251117490777174, 0.03236853480573164, 0.03222137125542158, 0.032068800512958996, 0.03190997932780698, 0.03174410794460454, 0.03157043290035919, 0.03138824960176641, 0.031196904668868045, 0.030995798032799688, 0.03078438477698945, 0.030562176712847833, 0.030328743682714158, 0.0300837145845888, 0.029826778114966663, 0.029557683227882953, 0.029276239310073178, 0.028982316073923018, 0.028675843171625262, 0.028356809535657685, 0.028025262452339286, 0.027681306376791916, 0.027325101499130148, 0.026956862073104628, 0.0265768545197296, 0.02618539531962275, 0.025782848708867337, 0.025369624194169934, 0.02494617390392151], \"yaxis\": \"y\"}, {\"legendgroup\": \"x1\", \"marker\": {\"color\": \"rgb(31, 119, 180)\", \"symbol\": \"line-ns-open\"}, \"mode\": \"markers\", \"name\": \"x1\", \"showlegend\": false, \"type\": \"scatter\", \"x\": [-2.785061169905245, -5.0223149331957355, -3.9430568084672624, -1.5960412613407065, -3.0185508045116403, -4.673504621990223, -4.072531834435658, -3.9925861794031903, -2.897652317450333, -3.432609280548013, -3.659182302436478, -2.996062695568597, -2.522245900566473, -3.2590286447388905, -3.5747092076133997, -3.4214982203398834, -2.660179035813356, -3.007380149944573, -2.232703161293596, -4.149792577494359, -3.775336105956944, -2.226859144110751, -3.801827843349694, -1.6159842810673217, -1.594794694121812, -1.607674246508097, -3.8806408185297694, -2.9231050514154284, -3.4934324822033265, -2.076837391658047, -1.293395046321538, -2.1264105843646206, -2.9908556542598626, -3.3655392968325426, -2.3509132673708937, -4.222873536675307, -2.4636639676179346, -3.914690931261277, -2.379451784038265, -3.1609373768630635, -3.388264398976614, -3.8855123738288486, -3.3567450257681943, -2.4438782014660347, -1.956139389081342, -2.4735518386653044, -1.6361134755828948, -0.46083728373066757, -3.3244909578288935, -3.205866717095505, -4.440041447683798, -1.8092727438863598, -1.7006031857355126, -3.8671461560495533, -2.382359154488855, -1.7829292030198898, -2.773711730501125, -2.152598567423361, -2.8251669880085286, -4.216854892359239, -1.9506526076791344, -1.674894338485799, -2.2654989351199544, -3.9544972619614205, -3.7511794246639285, -4.13042805312053, -2.2300226400692065, -1.731610477596098, -2.5755137559435495, -2.0594644150379904, -3.8676410899793745, -2.8541381475716907, -4.369871056716296, -3.7717807494932587, -2.121326451809104, -3.2395945081938096, -1.790618029313366, -2.4620399963080044, -0.26557784093825854, -2.906234569848053, -4.406405267181549, -3.0345296560948083, -3.9630156260661265, -2.0228199991869267, -2.958019935529977, -3.137271817097816, -3.1241323888816597, -2.2596591820522614, -3.4524622323446694, -2.2229502050963923, -1.954428831653683, -3.342141712605381, -3.926046619211478, -3.5129653176356217, -2.2898907596360463, -2.907521128448903, -2.3699250613989924, -1.2370625276967717, -2.769046277054867, -3.808936891390361, -1.9425764911376238, -2.9486391405203647, -2.127552842339547, -1.9338014559022618, -3.959008096426779, -1.6179953958280568, -2.094878040043441, -3.6039043724845286, -2.6955508801291472, -2.742792509019893, -2.976068185534163, -2.128086011187607, -1.5626436716664729, -2.9926936272593676, -1.6691186720279145, -2.0117973894958885, -2.767703841823595, -2.823819077947679, -4.152565371660015, -4.500768393207174, -2.8349772018906614, -3.855928917829368, -3.039636142039619, -3.534662741850064, -4.788496504980497, -2.642695458063366, -3.4145318053898914, -2.9198012874591854, -3.893120273629223, -3.3348172473947337, -1.439619858867121, -2.8714489999289188, -2.4504236549373326, -4.270871806876039, -0.6109640426075376, -1.1565862416794668, -1.6365645090482956, -2.171234022395125, -2.984856721740136, -2.5579259831332686, -1.9519802560050479, -3.6285697474757064, -3.4444987442191826, -4.669132359090532, -3.771819077756755, -1.3386982693918459, -3.3342470911503677, -3.3178469065105833, -2.6822329675628813, -4.612227307174523, -2.0546183099124327, -1.733593144627125, -2.622703734539591, -1.34864901352051, -4.326831766135897, -1.1562842022481539, -3.7307414032296533, -4.27991973326313, -3.237391961206669, -1.1279943195276958, -3.019442140899548, -3.932591656561081, -4.29494247447986, -3.1051185047464136, -4.994961571557649, -4.300192841593439, -1.4569323481409162, -1.6767361928487634, -3.1284121465397083, -3.4656647712545463, -2.941491097693156, -0.6520030715496774, -2.595024491229475, -2.090261825040183, -3.202457525831551, -2.9391033928828394, -2.352837303212956, -2.873905172175971, -4.897376982488658, -1.7194592383225362, -3.6151336777713308, -0.8886823583837482, -2.313151487234029, -2.929027584360254, -2.560672859896566, -3.1084978885635133, -3.4864327660523604, -2.79240173871428, -2.1150095328133345, -3.464529748644968, -3.622237164906279, -3.35548864091636, -2.0479889061533054, -1.547449752537629, -2.6379860880575294, -2.418685865964276, -3.629700857265113, -2.1232453500476747, -2.4482629895349257, -3.710127957927484], \"xaxis\": \"x\", \"y\": [\"x1\", \"x1\", \"x1\", \"x1\", \"x1\", \"x1\", \"x1\", \"x1\", \"x1\", \"x1\", \"x1\", \"x1\", \"x1\", \"x1\", \"x1\", \"x1\", \"x1\", \"x1\", \"x1\", \"x1\", \"x1\", \"x1\", \"x1\", \"x1\", \"x1\", \"x1\", \"x1\", \"x1\", \"x1\", \"x1\", \"x1\", \"x1\", \"x1\", \"x1\", \"x1\", \"x1\", \"x1\", \"x1\", \"x1\", \"x1\", \"x1\", \"x1\", \"x1\", \"x1\", \"x1\", \"x1\", \"x1\", \"x1\", \"x1\", \"x1\", \"x1\", \"x1\", \"x1\", \"x1\", \"x1\", \"x1\", \"x1\", \"x1\", \"x1\", \"x1\", \"x1\", \"x1\", \"x1\", \"x1\", \"x1\", \"x1\", \"x1\", \"x1\", \"x1\", \"x1\", \"x1\", \"x1\", \"x1\", \"x1\", \"x1\", \"x1\", \"x1\", \"x1\", \"x1\", \"x1\", \"x1\", \"x1\", \"x1\", \"x1\", \"x1\", \"x1\", \"x1\", \"x1\", \"x1\", \"x1\", \"x1\", \"x1\", \"x1\", \"x1\", \"x1\", \"x1\", \"x1\", \"x1\", \"x1\", \"x1\", \"x1\", \"x1\", \"x1\", \"x1\", \"x1\", \"x1\", \"x1\", \"x1\", \"x1\", \"x1\", \"x1\", \"x1\", \"x1\", \"x1\", \"x1\", \"x1\", \"x1\", \"x1\", \"x1\", \"x1\", \"x1\", \"x1\", \"x1\", \"x1\", \"x1\", \"x1\", \"x1\", \"x1\", \"x1\", \"x1\", \"x1\", \"x1\", \"x1\", \"x1\", \"x1\", \"x1\", \"x1\", \"x1\", \"x1\", \"x1\", \"x1\", \"x1\", \"x1\", \"x1\", \"x1\", \"x1\", \"x1\", \"x1\", \"x1\", \"x1\", \"x1\", \"x1\", \"x1\", \"x1\", \"x1\", \"x1\", \"x1\", \"x1\", \"x1\", \"x1\", \"x1\", \"x1\", \"x1\", \"x1\", \"x1\", \"x1\", \"x1\", \"x1\", \"x1\", \"x1\", \"x1\", \"x1\", \"x1\", \"x1\", \"x1\", \"x1\", \"x1\", \"x1\", \"x1\", \"x1\", \"x1\", \"x1\", \"x1\", \"x1\", \"x1\", \"x1\", \"x1\", \"x1\", \"x1\", \"x1\", \"x1\", \"x1\", \"x1\", \"x1\", \"x1\", \"x1\", \"x1\", \"x1\", \"x1\", \"x1\"], \"yaxis\": \"y2\"}, {\"legendgroup\": \"x2\", \"marker\": {\"color\": \"rgb(255, 127, 14)\", \"symbol\": \"line-ns-open\"}, \"mode\": \"markers\", \"name\": \"x2\", \"showlegend\": false, \"type\": \"scatter\", \"x\": [-1.787671611931782, -1.2205701042818544, -0.6692027281812131, 1.1619373177467747, 1.5528597758393257, -0.43951787547427723, -0.40791535277129576, 0.2616230559724664, 0.012146509073225323, 0.9309340839740791, -0.5231880935871098, 0.9491429877809984, -0.23922479786975515, 0.8539747110678559, -0.2710404622885425, -0.6130946829083779, 1.9123176398399706, 1.065227082546918, -1.792045100135215, -0.4467735117899077, 1.2049229217785742, -1.196660469213522, 0.7706783295231111, 0.6670561034697914, -0.6991465780919173, -0.008817046245807649, -2.0900177486302796, 1.7704315165667186, -0.3090925091969218, 0.8038130513762585, 0.6138413414754245, 1.3578807880999881, -0.4333034069025602, 0.2038227275274671, 0.5591092026145276, 0.8725415914304794, 1.1543543384089239, -0.4773817305753208, -0.6642274433044227, 1.3601113662481714, -2.037075934972139, 1.5700322805426723, -0.3023242420763079, -0.004562828990296256, -0.6823426011201539, -0.04819548553581296, 1.2711382259809147, 0.7708631014640396, 0.49268648380040525, 0.08887300613174359, -1.4456099724720826, -0.8441369135177398, -0.34320123663116797, 0.4576764544288389, 0.06965266451887907, 0.9835043063584651, 0.4736273877275646, 0.05435057793857113, 2.2757612975672035, 0.4062266850499283, -0.43194220160837227, 1.85996700648693, 1.2004115484133984, 1.816087790243815, -0.11093193562951016, 0.9763091264811027, -1.4528494590723608, 0.7840064109141683, -0.1577239582541034, -1.3550579555179323, 1.0326004040179766, -1.810131324996016, -1.912706517064219, 0.36247645880530205, 0.571347510326788, 0.9705238200132107, 0.7419630165294652, 1.476658625429629, 0.700242953362419, -0.13229944394246262, -0.07361111579190632, -0.28222118898721094, 0.29547752442318337, -1.0973458685666584, 0.34092219855895356, -0.08641350683161349, 0.27563515788740767, 0.27872303497066114, -2.452264601315733, -0.901293818664668, -0.10862866408885558, -0.05548495829767373, 0.25938930899969403, 0.3023482903316427, 1.5162333229338962, 0.31245848109794744, -0.31302370821644054, -1.5991234725374825, -1.3685901155418572, 0.5354918099752046, 1.060446814110468, 1.5413709969181826, -0.8278930789157132, -0.30386443543092717, 0.24233368608311256, 2.047398921130238, 0.11486146821389558, 1.551262854732971, 0.1699729029073083, 1.1532451864284559, 1.0265798465520781, 0.1660881325081512, -1.0203832472621548, -0.2690944379289504, 1.489045173884479, 0.8778251684801136, -0.43365032677184717, -0.34230863862439936, -1.7308731037655674, 1.444338791981811, 0.8860635602461532, -0.13707782104185295, 0.20013441917342262, -2.17086582813041, -0.4867144960427494, 1.3344456408641356, 0.9815473767300812, 0.330700557063932, -0.014718258634936664, 0.7964054296963266, -0.28138510655108645, -1.6646931961950078, -0.006199139673872496, 0.40311932708557713, 1.122677684798021, -1.4411957604959986, -0.12291130655145516, -0.07530365475512335, -1.1012519048471119, 0.48767327492329376, 0.7473680316118015, -0.2906923080310432, 2.0550926086214725, -0.31936000753365823, -0.44668347069066705, -0.4756713479686023, -0.8154990732884886, -0.5590254932338569, -1.434088869232524, -0.19153282391329285, 0.05747400302429677, -2.282802490040798, -0.10194951247985627, 0.042134081741929175, 0.5145889906905393, 1.2046350725758252, 0.8513542646005099, -0.6203637225355519, -0.7364121722576463, 0.579504401549854, -0.5472798363375213, -1.2280540191236242, 2.3741417434005965, -0.31072426461719377, -0.6265241826885438, -2.1921300562419788, 0.8514020923788287, -0.9879358457965414, 0.028620559567826175, 0.9686231563044211, -0.9722685477240716, 0.07948245181753853, 1.5237874101938085, -2.4567470568634793, -0.8105058469792188, -0.9045418837870712, -0.18690512256040892, -0.04779087737353801, -1.0612626329465904, -0.6543733461130157, -0.773224970452823, -0.3507892451728689, 0.21822273253109625, 0.9105641223710805, 1.0553309965464146, 0.6536342613353238, -0.8739741194850966, -0.0032959203273537846, 2.3743294034923883, 1.0145326926872977, -0.440504558873525, 1.58203818296378, -0.38806918979741406, -0.6684019683032681, 1.395731935928564, -1.3096492900118983, -1.9137775802683563, 0.941284578060475, 0.02769093161621279, 0.1273654785371559], \"xaxis\": \"x\", \"y\": [\"x2\", \"x2\", \"x2\", \"x2\", \"x2\", \"x2\", \"x2\", \"x2\", \"x2\", \"x2\", \"x2\", \"x2\", \"x2\", \"x2\", \"x2\", \"x2\", \"x2\", \"x2\", \"x2\", \"x2\", \"x2\", \"x2\", \"x2\", \"x2\", \"x2\", \"x2\", \"x2\", \"x2\", \"x2\", \"x2\", \"x2\", \"x2\", \"x2\", \"x2\", \"x2\", \"x2\", \"x2\", \"x2\", \"x2\", \"x2\", \"x2\", \"x2\", \"x2\", \"x2\", \"x2\", \"x2\", \"x2\", \"x2\", \"x2\", \"x2\", \"x2\", \"x2\", \"x2\", \"x2\", \"x2\", \"x2\", \"x2\", \"x2\", \"x2\", \"x2\", \"x2\", \"x2\", \"x2\", \"x2\", \"x2\", \"x2\", \"x2\", \"x2\", \"x2\", \"x2\", \"x2\", \"x2\", \"x2\", \"x2\", \"x2\", \"x2\", \"x2\", \"x2\", \"x2\", \"x2\", \"x2\", \"x2\", \"x2\", \"x2\", \"x2\", \"x2\", \"x2\", \"x2\", \"x2\", \"x2\", \"x2\", \"x2\", \"x2\", \"x2\", \"x2\", \"x2\", \"x2\", \"x2\", \"x2\", \"x2\", \"x2\", \"x2\", \"x2\", \"x2\", \"x2\", \"x2\", \"x2\", \"x2\", \"x2\", \"x2\", \"x2\", \"x2\", \"x2\", \"x2\", \"x2\", \"x2\", \"x2\", \"x2\", \"x2\", \"x2\", \"x2\", \"x2\", \"x2\", \"x2\", \"x2\", \"x2\", \"x2\", \"x2\", \"x2\", \"x2\", \"x2\", \"x2\", \"x2\", \"x2\", \"x2\", \"x2\", \"x2\", \"x2\", \"x2\", \"x2\", \"x2\", \"x2\", \"x2\", \"x2\", \"x2\", \"x2\", \"x2\", \"x2\", \"x2\", \"x2\", \"x2\", \"x2\", \"x2\", \"x2\", \"x2\", \"x2\", \"x2\", \"x2\", \"x2\", \"x2\", \"x2\", \"x2\", \"x2\", \"x2\", \"x2\", \"x2\", \"x2\", \"x2\", \"x2\", \"x2\", \"x2\", \"x2\", \"x2\", \"x2\", \"x2\", \"x2\", \"x2\", \"x2\", \"x2\", \"x2\", \"x2\", \"x2\", \"x2\", \"x2\", \"x2\", \"x2\", \"x2\", \"x2\", \"x2\", \"x2\", \"x2\", \"x2\", \"x2\", \"x2\", \"x2\", \"x2\", \"x2\", \"x2\", \"x2\", \"x2\"], \"yaxis\": \"y2\"}, {\"legendgroup\": \"x3\", \"marker\": {\"color\": \"rgb(44, 160, 44)\", \"symbol\": \"line-ns-open\"}, \"mode\": \"markers\", \"name\": \"x3\", \"showlegend\": false, \"type\": \"scatter\", \"x\": [2.6385771605730226, 2.7615066326159416, 2.541890097168624, 2.3740070697455997, 2.6180897776312384, 2.5865487611823004, 2.171416228981265, 2.454830800668156, 0.4972404783377846, 3.6846422015551683, 3.390253268983142, 2.9150911675041677, 3.2373243847597433, 3.273577403138628, 2.275998203395701, 2.4674196977795955, 3.5283166096303766, 3.207503485159136, 5.043320489682305, 4.619612155437311, 3.9330121403883496, 2.2382650842721805, 2.435442996730425, 1.9979532763712657, 3.279757349786709, 0.2590451555402984, 2.541380723057001, 2.693283600678183, 1.475709466830008, 3.7977363145786347, 1.8608582714101174, 3.267742665703261, 5.783777423489051, 1.3889943900447788, 2.8514485949929504, 2.5925398623647347, 2.3980313211036153, 3.7602510946353602, 4.1063291048284425, 3.771638149301336, 2.276660917548766, 5.433848078402416, 1.229756811658108, 1.9673709309657053, 3.1697292843903737, 3.0893939191456496, 3.4880440793787493, 4.580134095075202, 2.8801490806344012, 3.113729460212981, 2.4054839472757505, 3.588328518460642, 2.681521489349661, 2.6809429789336567, 3.543483152963778, 4.034920927080599, 0.7918934483261229, 3.3607784246734282, 2.729796681322462, 3.947616937661409, 2.7498773989254888, 4.301052433162299, 2.3235869795159614, 0.7696700923741111, 4.0515930406716665, 2.1564550377545295, 1.419748063256473, 3.016053418643931, 2.7608213339698313, 3.823104975745007, 3.892410819815211, 3.0956204458893923, 2.115184058082015, 3.286941261224298, 3.165194380120577, 3.568936674469642, 2.1251932862552985, 2.599627126832447, 3.509378116336106, 4.247327055231724, 3.9659220079595903, 3.0820548711527977, 2.5126049760788525, 3.4038205586793056, 1.9086095627065296, 2.182998560739106, 4.509771312459623, 3.402034480046922, 2.652473266227045, 3.8291386845852684, 4.286974963849594, 2.55536244175436, 2.5725920575505246, 2.4473542266529944, 3.9638503187153615, 3.973557447520124, 4.385903321291099, 4.008602949848836, 1.3677819205714812, 3.280964320918199, 1.941614597152948, 2.4870856250285844, 3.170594203580863, 3.835565398349904, 2.1091566575489225, 0.6752803385475987, 3.180530841805431, 5.6435715833985505, 2.7971537803298476, 3.0469154349502587, 4.782163618536079, 3.590274619061788, 3.2168610369829382, 3.442116665313473, 3.2502439325736487, 1.860245571843294, 1.6585548422003025, 4.8868281121242365, 3.1838833519051577, 3.1000954425796983, 2.9097723359437904, 3.7810732676164527, 5.538691101737486, 3.523952667107794, 2.411913173685447, 2.866599142108456, 4.070996467205255, 2.4171993985870026, 3.852246489030268, 0.6792626260218695, 2.7701204285536134, 3.628140013480669, 4.2701255465757155, 2.1815257829576087, 1.4972349823693964, 2.739264835108181, 1.8745809922531111, 2.85096333327047, 2.9933465453687624, 1.6808549547980551, 3.804439110110865, 2.842786106635549, 4.08045986900535, 1.1550947597039063, 1.9828078294546094, 3.516669308648123, 2.200889429174735, 2.8354643419503036, 3.0006991175571747, 3.1582559809533675, 2.322433787266293, 3.1492865634724776, 2.21745629476552, 3.674280468746775, 2.8851559805169766, 3.1550366235955187, 5.569926839690334, 1.8928955453999785, 4.388582269040288, 0.34064864295062725, 0.9216233450810569, 1.7593599223124292, 1.8224716347250636, 3.2037017981388494, 3.2898422641684677, 2.7451787316276355, 2.8501220332375383, 3.5277647609316607, 3.8332238776207417, 1.673460983890241, 2.6381090287669964, 2.9304101770869897, 3.485315996560453, 2.227332857726529, 2.91077882440633, 3.029983634527158, 2.29552989654047, 2.271684850052114, 3.0987457776373346, 2.8696548540127917, 3.5004775194206323, 1.9467412793550039, 2.6493184721212124, 2.770783948446408, 3.813863908123605, 2.059586225432098, 3.234652005155086, 3.252755507537887, 4.646397242679973, 1.992910635693739, 2.342766681882506, 2.062644317776679, 1.3302208279316, 4.764686934262719, 1.7584987690508775, 2.183694590945154, 4.3157665082821595, 1.2468929530617847, 3.7563515692873812, 1.5869756546582225], \"xaxis\": \"x\", \"y\": [\"x3\", \"x3\", \"x3\", \"x3\", \"x3\", \"x3\", \"x3\", \"x3\", \"x3\", \"x3\", \"x3\", \"x3\", \"x3\", \"x3\", \"x3\", \"x3\", \"x3\", \"x3\", \"x3\", \"x3\", \"x3\", \"x3\", \"x3\", \"x3\", \"x3\", \"x3\", \"x3\", \"x3\", \"x3\", \"x3\", \"x3\", \"x3\", \"x3\", \"x3\", \"x3\", \"x3\", \"x3\", \"x3\", \"x3\", \"x3\", \"x3\", \"x3\", \"x3\", \"x3\", \"x3\", \"x3\", \"x3\", \"x3\", \"x3\", \"x3\", \"x3\", \"x3\", \"x3\", \"x3\", \"x3\", \"x3\", \"x3\", \"x3\", \"x3\", \"x3\", \"x3\", \"x3\", \"x3\", \"x3\", \"x3\", \"x3\", \"x3\", \"x3\", \"x3\", \"x3\", \"x3\", \"x3\", \"x3\", \"x3\", \"x3\", \"x3\", \"x3\", \"x3\", \"x3\", \"x3\", \"x3\", \"x3\", \"x3\", \"x3\", \"x3\", \"x3\", \"x3\", \"x3\", \"x3\", \"x3\", \"x3\", \"x3\", \"x3\", \"x3\", \"x3\", \"x3\", \"x3\", \"x3\", \"x3\", \"x3\", \"x3\", \"x3\", \"x3\", \"x3\", \"x3\", \"x3\", \"x3\", \"x3\", \"x3\", \"x3\", \"x3\", \"x3\", \"x3\", \"x3\", \"x3\", \"x3\", \"x3\", \"x3\", \"x3\", \"x3\", \"x3\", \"x3\", \"x3\", \"x3\", \"x3\", \"x3\", \"x3\", \"x3\", \"x3\", \"x3\", \"x3\", \"x3\", \"x3\", \"x3\", \"x3\", \"x3\", \"x3\", \"x3\", \"x3\", \"x3\", \"x3\", \"x3\", \"x3\", \"x3\", \"x3\", \"x3\", \"x3\", \"x3\", \"x3\", \"x3\", \"x3\", \"x3\", \"x3\", \"x3\", \"x3\", \"x3\", \"x3\", \"x3\", \"x3\", \"x3\", \"x3\", \"x3\", \"x3\", \"x3\", \"x3\", \"x3\", \"x3\", \"x3\", \"x3\", \"x3\", \"x3\", \"x3\", \"x3\", \"x3\", \"x3\", \"x3\", \"x3\", \"x3\", \"x3\", \"x3\", \"x3\", \"x3\", \"x3\", \"x3\", \"x3\", \"x3\", \"x3\", \"x3\", \"x3\", \"x3\", \"x3\", \"x3\", \"x3\", \"x3\", \"x3\", \"x3\", \"x3\", \"x3\", \"x3\", \"x3\"], \"yaxis\": \"y2\"}],\n",
       "                        {\"barmode\": \"overlay\", \"hovermode\": \"closest\", \"legend\": {\"traceorder\": \"reversed\"}, \"template\": {\"data\": {\"bar\": [{\"error_x\": {\"color\": \"#2a3f5f\"}, \"error_y\": {\"color\": \"#2a3f5f\"}, \"marker\": {\"line\": {\"color\": \"#E5ECF6\", \"width\": 0.5}}, \"type\": \"bar\"}], \"barpolar\": [{\"marker\": {\"line\": {\"color\": \"#E5ECF6\", \"width\": 0.5}}, \"type\": \"barpolar\"}], \"carpet\": [{\"aaxis\": {\"endlinecolor\": \"#2a3f5f\", \"gridcolor\": \"white\", \"linecolor\": \"white\", \"minorgridcolor\": \"white\", \"startlinecolor\": \"#2a3f5f\"}, \"baxis\": {\"endlinecolor\": \"#2a3f5f\", \"gridcolor\": \"white\", \"linecolor\": \"white\", \"minorgridcolor\": \"white\", \"startlinecolor\": \"#2a3f5f\"}, \"type\": \"carpet\"}], \"choropleth\": [{\"colorbar\": {\"outlinewidth\": 0, \"ticks\": \"\"}, \"type\": \"choropleth\"}], \"contour\": [{\"colorbar\": {\"outlinewidth\": 0, \"ticks\": \"\"}, \"colorscale\": [[0.0, \"#0d0887\"], [0.1111111111111111, \"#46039f\"], [0.2222222222222222, \"#7201a8\"], [0.3333333333333333, \"#9c179e\"], [0.4444444444444444, \"#bd3786\"], [0.5555555555555556, \"#d8576b\"], [0.6666666666666666, \"#ed7953\"], [0.7777777777777778, \"#fb9f3a\"], [0.8888888888888888, \"#fdca26\"], [1.0, \"#f0f921\"]], \"type\": \"contour\"}], \"contourcarpet\": [{\"colorbar\": {\"outlinewidth\": 0, \"ticks\": \"\"}, \"type\": \"contourcarpet\"}], \"heatmap\": [{\"colorbar\": {\"outlinewidth\": 0, \"ticks\": \"\"}, \"colorscale\": [[0.0, \"#0d0887\"], [0.1111111111111111, \"#46039f\"], [0.2222222222222222, \"#7201a8\"], [0.3333333333333333, \"#9c179e\"], [0.4444444444444444, \"#bd3786\"], [0.5555555555555556, \"#d8576b\"], [0.6666666666666666, \"#ed7953\"], [0.7777777777777778, \"#fb9f3a\"], [0.8888888888888888, \"#fdca26\"], [1.0, \"#f0f921\"]], \"type\": \"heatmap\"}], \"heatmapgl\": [{\"colorbar\": {\"outlinewidth\": 0, \"ticks\": \"\"}, \"colorscale\": [[0.0, \"#0d0887\"], [0.1111111111111111, \"#46039f\"], [0.2222222222222222, \"#7201a8\"], [0.3333333333333333, \"#9c179e\"], [0.4444444444444444, \"#bd3786\"], [0.5555555555555556, \"#d8576b\"], [0.6666666666666666, \"#ed7953\"], [0.7777777777777778, \"#fb9f3a\"], [0.8888888888888888, \"#fdca26\"], [1.0, \"#f0f921\"]], \"type\": \"heatmapgl\"}], \"histogram\": [{\"marker\": {\"colorbar\": {\"outlinewidth\": 0, \"ticks\": \"\"}}, \"type\": \"histogram\"}], \"histogram2d\": [{\"colorbar\": {\"outlinewidth\": 0, \"ticks\": \"\"}, \"colorscale\": [[0.0, \"#0d0887\"], [0.1111111111111111, \"#46039f\"], [0.2222222222222222, \"#7201a8\"], [0.3333333333333333, \"#9c179e\"], [0.4444444444444444, \"#bd3786\"], [0.5555555555555556, \"#d8576b\"], [0.6666666666666666, \"#ed7953\"], [0.7777777777777778, \"#fb9f3a\"], [0.8888888888888888, \"#fdca26\"], [1.0, \"#f0f921\"]], \"type\": \"histogram2d\"}], \"histogram2dcontour\": [{\"colorbar\": {\"outlinewidth\": 0, \"ticks\": \"\"}, \"colorscale\": [[0.0, \"#0d0887\"], [0.1111111111111111, \"#46039f\"], [0.2222222222222222, \"#7201a8\"], [0.3333333333333333, \"#9c179e\"], [0.4444444444444444, \"#bd3786\"], [0.5555555555555556, \"#d8576b\"], [0.6666666666666666, \"#ed7953\"], [0.7777777777777778, \"#fb9f3a\"], [0.8888888888888888, \"#fdca26\"], [1.0, \"#f0f921\"]], \"type\": \"histogram2dcontour\"}], \"mesh3d\": [{\"colorbar\": {\"outlinewidth\": 0, \"ticks\": \"\"}, \"type\": \"mesh3d\"}], \"parcoords\": [{\"line\": {\"colorbar\": {\"outlinewidth\": 0, \"ticks\": \"\"}}, \"type\": \"parcoords\"}], \"pie\": [{\"automargin\": true, \"type\": \"pie\"}], \"scatter\": [{\"marker\": {\"colorbar\": {\"outlinewidth\": 0, \"ticks\": \"\"}}, \"type\": \"scatter\"}], \"scatter3d\": [{\"line\": {\"colorbar\": {\"outlinewidth\": 0, \"ticks\": \"\"}}, \"marker\": {\"colorbar\": {\"outlinewidth\": 0, \"ticks\": \"\"}}, \"type\": \"scatter3d\"}], \"scattercarpet\": [{\"marker\": {\"colorbar\": {\"outlinewidth\": 0, \"ticks\": \"\"}}, \"type\": \"scattercarpet\"}], \"scattergeo\": [{\"marker\": {\"colorbar\": {\"outlinewidth\": 0, \"ticks\": \"\"}}, \"type\": \"scattergeo\"}], \"scattergl\": [{\"marker\": {\"colorbar\": {\"outlinewidth\": 0, \"ticks\": \"\"}}, \"type\": \"scattergl\"}], \"scattermapbox\": [{\"marker\": {\"colorbar\": {\"outlinewidth\": 0, \"ticks\": \"\"}}, \"type\": \"scattermapbox\"}], \"scatterpolar\": [{\"marker\": {\"colorbar\": {\"outlinewidth\": 0, \"ticks\": \"\"}}, \"type\": \"scatterpolar\"}], \"scatterpolargl\": [{\"marker\": {\"colorbar\": {\"outlinewidth\": 0, \"ticks\": \"\"}}, \"type\": \"scatterpolargl\"}], \"scatterternary\": [{\"marker\": {\"colorbar\": {\"outlinewidth\": 0, \"ticks\": \"\"}}, \"type\": \"scatterternary\"}], \"surface\": [{\"colorbar\": {\"outlinewidth\": 0, \"ticks\": \"\"}, \"colorscale\": [[0.0, \"#0d0887\"], [0.1111111111111111, \"#46039f\"], [0.2222222222222222, \"#7201a8\"], [0.3333333333333333, \"#9c179e\"], [0.4444444444444444, \"#bd3786\"], [0.5555555555555556, \"#d8576b\"], [0.6666666666666666, \"#ed7953\"], [0.7777777777777778, \"#fb9f3a\"], [0.8888888888888888, \"#fdca26\"], [1.0, \"#f0f921\"]], \"type\": \"surface\"}], \"table\": [{\"cells\": {\"fill\": {\"color\": \"#EBF0F8\"}, \"line\": {\"color\": \"white\"}}, \"header\": {\"fill\": {\"color\": \"#C8D4E3\"}, \"line\": {\"color\": \"white\"}}, \"type\": \"table\"}]}, \"layout\": {\"annotationdefaults\": {\"arrowcolor\": \"#2a3f5f\", \"arrowhead\": 0, \"arrowwidth\": 1}, \"coloraxis\": {\"colorbar\": {\"outlinewidth\": 0, \"ticks\": \"\"}}, \"colorscale\": {\"diverging\": [[0, \"#8e0152\"], [0.1, \"#c51b7d\"], [0.2, \"#de77ae\"], [0.3, \"#f1b6da\"], [0.4, \"#fde0ef\"], [0.5, \"#f7f7f7\"], [0.6, \"#e6f5d0\"], [0.7, \"#b8e186\"], [0.8, \"#7fbc41\"], [0.9, \"#4d9221\"], [1, \"#276419\"]], \"sequential\": [[0.0, \"#0d0887\"], [0.1111111111111111, \"#46039f\"], [0.2222222222222222, \"#7201a8\"], [0.3333333333333333, \"#9c179e\"], [0.4444444444444444, \"#bd3786\"], [0.5555555555555556, \"#d8576b\"], [0.6666666666666666, \"#ed7953\"], [0.7777777777777778, \"#fb9f3a\"], [0.8888888888888888, \"#fdca26\"], [1.0, \"#f0f921\"]], \"sequentialminus\": [[0.0, \"#0d0887\"], [0.1111111111111111, \"#46039f\"], [0.2222222222222222, \"#7201a8\"], [0.3333333333333333, \"#9c179e\"], [0.4444444444444444, \"#bd3786\"], [0.5555555555555556, \"#d8576b\"], [0.6666666666666666, \"#ed7953\"], [0.7777777777777778, \"#fb9f3a\"], [0.8888888888888888, \"#fdca26\"], [1.0, \"#f0f921\"]]}, \"colorway\": [\"#636efa\", \"#EF553B\", \"#00cc96\", \"#ab63fa\", \"#FFA15A\", \"#19d3f3\", \"#FF6692\", \"#B6E880\", \"#FF97FF\", \"#FECB52\"], \"font\": {\"color\": \"#2a3f5f\"}, \"geo\": {\"bgcolor\": \"white\", \"lakecolor\": \"white\", \"landcolor\": \"#E5ECF6\", \"showlakes\": true, \"showland\": true, \"subunitcolor\": \"white\"}, \"hoverlabel\": {\"align\": \"left\"}, \"hovermode\": \"closest\", \"mapbox\": {\"style\": \"light\"}, \"paper_bgcolor\": \"white\", \"plot_bgcolor\": \"#E5ECF6\", \"polar\": {\"angularaxis\": {\"gridcolor\": \"white\", \"linecolor\": \"white\", \"ticks\": \"\"}, \"bgcolor\": \"#E5ECF6\", \"radialaxis\": {\"gridcolor\": \"white\", \"linecolor\": \"white\", \"ticks\": \"\"}}, \"scene\": {\"xaxis\": {\"backgroundcolor\": \"#E5ECF6\", \"gridcolor\": \"white\", \"gridwidth\": 2, \"linecolor\": \"white\", \"showbackground\": true, \"ticks\": \"\", \"zerolinecolor\": \"white\"}, \"yaxis\": {\"backgroundcolor\": \"#E5ECF6\", \"gridcolor\": \"white\", \"gridwidth\": 2, \"linecolor\": \"white\", \"showbackground\": true, \"ticks\": \"\", \"zerolinecolor\": \"white\"}, \"zaxis\": {\"backgroundcolor\": \"#E5ECF6\", \"gridcolor\": \"white\", \"gridwidth\": 2, \"linecolor\": \"white\", \"showbackground\": true, \"ticks\": \"\", \"zerolinecolor\": \"white\"}}, \"shapedefaults\": {\"line\": {\"color\": \"#2a3f5f\"}}, \"ternary\": {\"aaxis\": {\"gridcolor\": \"white\", \"linecolor\": \"white\", \"ticks\": \"\"}, \"baxis\": {\"gridcolor\": \"white\", \"linecolor\": \"white\", \"ticks\": \"\"}, \"bgcolor\": \"#E5ECF6\", \"caxis\": {\"gridcolor\": \"white\", \"linecolor\": \"white\", \"ticks\": \"\"}}, \"title\": {\"x\": 0.05}, \"xaxis\": {\"automargin\": true, \"gridcolor\": \"white\", \"linecolor\": \"white\", \"ticks\": \"\", \"title\": {\"standoff\": 15}, \"zerolinecolor\": \"white\", \"zerolinewidth\": 2}, \"yaxis\": {\"automargin\": true, \"gridcolor\": \"white\", \"linecolor\": \"white\", \"ticks\": \"\", \"title\": {\"standoff\": 15}, \"zerolinecolor\": \"white\", \"zerolinewidth\": 2}}}, \"xaxis\": {\"anchor\": \"y2\", \"domain\": [0.0, 1.0], \"zeroline\": false}, \"yaxis\": {\"anchor\": \"free\", \"domain\": [0.35, 1], \"position\": 0.0}, \"yaxis2\": {\"anchor\": \"x\", \"domain\": [0, 0.25], \"dtick\": 1, \"showticklabels\": false}},\n",
       "                        {\"responsive\": true}\n",
       "                    ).then(function(){\n",
       "                            \n",
       "var gd = document.getElementById('46929619-868a-4d67-a4d6-3acd6f54036e');\n",
       "var x = new MutationObserver(function (mutations, observer) {{\n",
       "        var display = window.getComputedStyle(gd).display;\n",
       "        if (!display || display === 'none') {{\n",
       "            console.log([gd, 'removed!']);\n",
       "            Plotly.purge(gd);\n",
       "            observer.disconnect();\n",
       "        }}\n",
       "}});\n",
       "\n",
       "// Listen for the removal of the full notebook cells\n",
       "var notebookContainer = gd.closest('#notebook-container');\n",
       "if (notebookContainer) {{\n",
       "    x.observe(notebookContainer, {childList: true});\n",
       "}}\n",
       "\n",
       "// Listen for the clearing of the current output cell\n",
       "var outputEl = gd.closest('.output');\n",
       "if (outputEl) {{\n",
       "    x.observe(outputEl, {childList: true});\n",
       "}}\n",
       "\n",
       "                        })\n",
       "                };\n",
       "                });\n",
       "            </script>\n",
       "        </div>"
      ]
     },
     "metadata": {},
     "output_type": "display_data"
    }
   ],
   "source": [
    "import plotly.figure_factory as ff\n",
    "x1= np.random.randn(200)-3\n",
    "x2= np.random.randn(200)\n",
    "x3= np.random.randn(200)+3\n",
    "\n",
    "hist_data=[x1,x2,x3]\n",
    "group_labels = ['x1','x2','x3']\n",
    "fig = ff.create_distplot(hist_data=hist_data,group_labels=group_labels,bin_size=[0.2,0.1,0.3])\n",
    "fig"
   ]
  },
  {
   "cell_type": "markdown",
   "metadata": {},
   "source": [
    "# Heatmap"
   ]
  },
  {
   "cell_type": "code",
   "execution_count": 9,
   "metadata": {},
   "outputs": [
    {
     "data": {
      "application/vnd.plotly.v1+json": {
       "config": {
        "plotlyServerURL": "https://plot.ly"
       },
       "data": [
        {
         "type": "heatmap",
         "x": [
          1.246694736529587,
          -2.1698776870408585,
          -1.7534694162506628,
          -0.5449222349589087,
          0.9718226901727355,
          -0.03095825063657335,
          -0.3357150728865708,
          1.3460442074647172,
          2.155239538433073,
          0.6722572844137722,
          -0.6228545031012834,
          -0.4181430340092719,
          -1.2884473797573248,
          0.10081742225405217,
          -1.6295929859763272,
          0.5518636553095008,
          2.0055740456399533,
          0.7175915797930499,
          -0.4691477201949346,
          0.5269374126317904,
          1.620533445165877,
          1.5704946352611389,
          -1.0037578915633707,
          0.5102963895823233,
          -0.1581014900701986,
          0.8065932479136867,
          0.38361395381677077,
          -2.3697214094844474,
          -0.34801308629683886,
          0.1985583628962918,
          -1.4343649671588456,
          0.5810220098659856,
          -1.5240152417270303,
          -0.7984390474170536,
          1.3413119197001346,
          -0.8837777888642685,
          0.5739669592016755,
          -1.753573717908687,
          2.0813146567651417,
          -0.30455363848725747,
          0.09532080694771912,
          0.17903679654896512,
          0.6075668643313585,
          -1.519179982986177,
          -0.005336470836663279,
          -0.6587688257813566,
          -1.68955722607827,
          0.9871222001287102,
          -0.3521729835995906,
          0.24252042561251944
         ],
         "y": [
          0.1798454187280591,
          -0.3348522723761133,
          1.9750273536307812,
          -0.04726465262900927,
          -1.5579523176766679,
          -0.40038136018331794,
          0.49973762011211026,
          0.532595109370551,
          -1.0877809352617618,
          0.9294825073447697,
          -1.7628669288710401,
          1.1441352026164182,
          -1.3193478891374055,
          -0.22624521900867614,
          1.0645686780266999,
          0.11960566888706947,
          0.8166985177135699,
          0.6186619597099322,
          1.286268613404601,
          1.0622098509137117,
          -0.4537443085364418,
          0.6329416337934651,
          -1.5265518616977465,
          -0.057904907337784896,
          0.8184847346385397,
          0.13384765424599987,
          0.4466397315170858,
          -0.21327237596579143,
          1.1290694375351427,
          -0.08041577370899264,
          -0.46545018240405345,
          0.8865174125690543,
          -1.40515992236446,
          0.501033343517345,
          -1.0424848742271386,
          1.2779268292381651,
          -0.26102725324679543,
          0.13498472081968857,
          0.4125703966441225,
          -1.9296845963141573,
          -0.6505848415568568,
          1.0435459092865536,
          0.8677650241708884,
          0.28303220539521634,
          -1.3494635714255234,
          0.5855034608585792,
          0.7133995902054457,
          0.04701721312374508,
          1.2231709505914572,
          -0.683431790130123,
          -0.5098575774999748,
          -2.4846115790858145,
          0.9198275101476635,
          0.31386196347013423,
          -1.681820325133229,
          -1.7585989999941474,
          -0.8726306273710107,
          0.7936579419803536,
          -0.3003604880886286,
          -0.8047869166603249,
          -1.006115893083496,
          -1.050911957828187,
          -1.9336783011075602,
          -1.2073958316463744,
          -1.0705780796771673,
          0.6826232364571462,
          -0.1657230531466151,
          -0.8255848430174609,
          2.3097227554061868,
          -0.6638969135466657,
          1.167102914383636,
          1.6211085577877153,
          -1.569960337657343,
          0.07396296407356806,
          -0.5175336509082241,
          -0.5989243965593357,
          0.5553768168069081,
          -0.6228704964232837,
          -0.49596904632647065,
          -0.16811489562529364,
          -0.3733992683765694,
          -1.1735702070121252,
          0.795906504847474,
          1.0485309385076005,
          0.34361858953521734,
          -0.3765526510222658,
          -0.7052107363297812,
          -0.7036200629264463,
          2.3573763650327084,
          0.937838301566644,
          -0.8401100785833383,
          0.16469782743714056,
          -0.36253502509936236,
          0.5838003761562907,
          0.5434991027893419,
          1.083609653905471,
          -0.8505564586621955,
          0.10473529863813051,
          -1.7485469849575264,
          -1.2573403004288446
         ],
         "z": [
          0.8841008365591795,
          -0.950683791405327,
          -0.840908798047855,
          -0.008278074550049355,
          0.6947610308465396,
          -1.0608267958340962,
          -3.480808828760084,
          -0.8702232421435117,
          1.2056280779528372,
          0.3431350510168737,
          1.3238748037872132,
          -1.1318161421326958,
          -1.6393962676640563,
          0.4625485526475405,
          0.2400227376850462,
          0.30555432037725844,
          0.932996642650568,
          0.42168492391225987,
          0.4056175931403788,
          0.7150070138011407,
          0.5024166321870274,
          0.8574459317174058,
          1.0085208247785817,
          1.531688801240915,
          -0.6491913249036794,
          0.48056210741074734,
          -0.3703233685972966,
          -0.8335589872792668,
          -0.6895403210803661,
          0.49495551756152545,
          0.4182525547860004,
          0.4004120292384369,
          -0.22571364756933313,
          0.003414751178410458,
          0.8177526958760498,
          -1.4893930596493061,
          0.02464209842858423,
          0.08995614812678975,
          0.7533042690776492,
          -1.350248411942825,
          1.4951337455174116,
          0.2136304244285101,
          0.26658054669493636,
          -0.40137975733222647,
          0.5380223547968438,
          0.04795405028310565,
          1.2089819441064658,
          -1.4414942480636153,
          0.17554582989050802,
          0.40851234837742617
         ]
        }
       ],
       "layout": {
        "hovermode": "closest",
        "template": {
         "data": {
          "bar": [
           {
            "error_x": {
             "color": "#2a3f5f"
            },
            "error_y": {
             "color": "#2a3f5f"
            },
            "marker": {
             "line": {
              "color": "#E5ECF6",
              "width": 0.5
             }
            },
            "type": "bar"
           }
          ],
          "barpolar": [
           {
            "marker": {
             "line": {
              "color": "#E5ECF6",
              "width": 0.5
             }
            },
            "type": "barpolar"
           }
          ],
          "carpet": [
           {
            "aaxis": {
             "endlinecolor": "#2a3f5f",
             "gridcolor": "white",
             "linecolor": "white",
             "minorgridcolor": "white",
             "startlinecolor": "#2a3f5f"
            },
            "baxis": {
             "endlinecolor": "#2a3f5f",
             "gridcolor": "white",
             "linecolor": "white",
             "minorgridcolor": "white",
             "startlinecolor": "#2a3f5f"
            },
            "type": "carpet"
           }
          ],
          "choropleth": [
           {
            "colorbar": {
             "outlinewidth": 0,
             "ticks": ""
            },
            "type": "choropleth"
           }
          ],
          "contour": [
           {
            "colorbar": {
             "outlinewidth": 0,
             "ticks": ""
            },
            "colorscale": [
             [
              0,
              "#0d0887"
             ],
             [
              0.1111111111111111,
              "#46039f"
             ],
             [
              0.2222222222222222,
              "#7201a8"
             ],
             [
              0.3333333333333333,
              "#9c179e"
             ],
             [
              0.4444444444444444,
              "#bd3786"
             ],
             [
              0.5555555555555556,
              "#d8576b"
             ],
             [
              0.6666666666666666,
              "#ed7953"
             ],
             [
              0.7777777777777778,
              "#fb9f3a"
             ],
             [
              0.8888888888888888,
              "#fdca26"
             ],
             [
              1,
              "#f0f921"
             ]
            ],
            "type": "contour"
           }
          ],
          "contourcarpet": [
           {
            "colorbar": {
             "outlinewidth": 0,
             "ticks": ""
            },
            "type": "contourcarpet"
           }
          ],
          "heatmap": [
           {
            "colorbar": {
             "outlinewidth": 0,
             "ticks": ""
            },
            "colorscale": [
             [
              0,
              "#0d0887"
             ],
             [
              0.1111111111111111,
              "#46039f"
             ],
             [
              0.2222222222222222,
              "#7201a8"
             ],
             [
              0.3333333333333333,
              "#9c179e"
             ],
             [
              0.4444444444444444,
              "#bd3786"
             ],
             [
              0.5555555555555556,
              "#d8576b"
             ],
             [
              0.6666666666666666,
              "#ed7953"
             ],
             [
              0.7777777777777778,
              "#fb9f3a"
             ],
             [
              0.8888888888888888,
              "#fdca26"
             ],
             [
              1,
              "#f0f921"
             ]
            ],
            "type": "heatmap"
           }
          ],
          "heatmapgl": [
           {
            "colorbar": {
             "outlinewidth": 0,
             "ticks": ""
            },
            "colorscale": [
             [
              0,
              "#0d0887"
             ],
             [
              0.1111111111111111,
              "#46039f"
             ],
             [
              0.2222222222222222,
              "#7201a8"
             ],
             [
              0.3333333333333333,
              "#9c179e"
             ],
             [
              0.4444444444444444,
              "#bd3786"
             ],
             [
              0.5555555555555556,
              "#d8576b"
             ],
             [
              0.6666666666666666,
              "#ed7953"
             ],
             [
              0.7777777777777778,
              "#fb9f3a"
             ],
             [
              0.8888888888888888,
              "#fdca26"
             ],
             [
              1,
              "#f0f921"
             ]
            ],
            "type": "heatmapgl"
           }
          ],
          "histogram": [
           {
            "marker": {
             "colorbar": {
              "outlinewidth": 0,
              "ticks": ""
             }
            },
            "type": "histogram"
           }
          ],
          "histogram2d": [
           {
            "colorbar": {
             "outlinewidth": 0,
             "ticks": ""
            },
            "colorscale": [
             [
              0,
              "#0d0887"
             ],
             [
              0.1111111111111111,
              "#46039f"
             ],
             [
              0.2222222222222222,
              "#7201a8"
             ],
             [
              0.3333333333333333,
              "#9c179e"
             ],
             [
              0.4444444444444444,
              "#bd3786"
             ],
             [
              0.5555555555555556,
              "#d8576b"
             ],
             [
              0.6666666666666666,
              "#ed7953"
             ],
             [
              0.7777777777777778,
              "#fb9f3a"
             ],
             [
              0.8888888888888888,
              "#fdca26"
             ],
             [
              1,
              "#f0f921"
             ]
            ],
            "type": "histogram2d"
           }
          ],
          "histogram2dcontour": [
           {
            "colorbar": {
             "outlinewidth": 0,
             "ticks": ""
            },
            "colorscale": [
             [
              0,
              "#0d0887"
             ],
             [
              0.1111111111111111,
              "#46039f"
             ],
             [
              0.2222222222222222,
              "#7201a8"
             ],
             [
              0.3333333333333333,
              "#9c179e"
             ],
             [
              0.4444444444444444,
              "#bd3786"
             ],
             [
              0.5555555555555556,
              "#d8576b"
             ],
             [
              0.6666666666666666,
              "#ed7953"
             ],
             [
              0.7777777777777778,
              "#fb9f3a"
             ],
             [
              0.8888888888888888,
              "#fdca26"
             ],
             [
              1,
              "#f0f921"
             ]
            ],
            "type": "histogram2dcontour"
           }
          ],
          "mesh3d": [
           {
            "colorbar": {
             "outlinewidth": 0,
             "ticks": ""
            },
            "type": "mesh3d"
           }
          ],
          "parcoords": [
           {
            "line": {
             "colorbar": {
              "outlinewidth": 0,
              "ticks": ""
             }
            },
            "type": "parcoords"
           }
          ],
          "pie": [
           {
            "automargin": true,
            "type": "pie"
           }
          ],
          "scatter": [
           {
            "marker": {
             "colorbar": {
              "outlinewidth": 0,
              "ticks": ""
             }
            },
            "type": "scatter"
           }
          ],
          "scatter3d": [
           {
            "line": {
             "colorbar": {
              "outlinewidth": 0,
              "ticks": ""
             }
            },
            "marker": {
             "colorbar": {
              "outlinewidth": 0,
              "ticks": ""
             }
            },
            "type": "scatter3d"
           }
          ],
          "scattercarpet": [
           {
            "marker": {
             "colorbar": {
              "outlinewidth": 0,
              "ticks": ""
             }
            },
            "type": "scattercarpet"
           }
          ],
          "scattergeo": [
           {
            "marker": {
             "colorbar": {
              "outlinewidth": 0,
              "ticks": ""
             }
            },
            "type": "scattergeo"
           }
          ],
          "scattergl": [
           {
            "marker": {
             "colorbar": {
              "outlinewidth": 0,
              "ticks": ""
             }
            },
            "type": "scattergl"
           }
          ],
          "scattermapbox": [
           {
            "marker": {
             "colorbar": {
              "outlinewidth": 0,
              "ticks": ""
             }
            },
            "type": "scattermapbox"
           }
          ],
          "scatterpolar": [
           {
            "marker": {
             "colorbar": {
              "outlinewidth": 0,
              "ticks": ""
             }
            },
            "type": "scatterpolar"
           }
          ],
          "scatterpolargl": [
           {
            "marker": {
             "colorbar": {
              "outlinewidth": 0,
              "ticks": ""
             }
            },
            "type": "scatterpolargl"
           }
          ],
          "scatterternary": [
           {
            "marker": {
             "colorbar": {
              "outlinewidth": 0,
              "ticks": ""
             }
            },
            "type": "scatterternary"
           }
          ],
          "surface": [
           {
            "colorbar": {
             "outlinewidth": 0,
             "ticks": ""
            },
            "colorscale": [
             [
              0,
              "#0d0887"
             ],
             [
              0.1111111111111111,
              "#46039f"
             ],
             [
              0.2222222222222222,
              "#7201a8"
             ],
             [
              0.3333333333333333,
              "#9c179e"
             ],
             [
              0.4444444444444444,
              "#bd3786"
             ],
             [
              0.5555555555555556,
              "#d8576b"
             ],
             [
              0.6666666666666666,
              "#ed7953"
             ],
             [
              0.7777777777777778,
              "#fb9f3a"
             ],
             [
              0.8888888888888888,
              "#fdca26"
             ],
             [
              1,
              "#f0f921"
             ]
            ],
            "type": "surface"
           }
          ],
          "table": [
           {
            "cells": {
             "fill": {
              "color": "#EBF0F8"
             },
             "line": {
              "color": "white"
             }
            },
            "header": {
             "fill": {
              "color": "#C8D4E3"
             },
             "line": {
              "color": "white"
             }
            },
            "type": "table"
           }
          ]
         },
         "layout": {
          "annotationdefaults": {
           "arrowcolor": "#2a3f5f",
           "arrowhead": 0,
           "arrowwidth": 1
          },
          "coloraxis": {
           "colorbar": {
            "outlinewidth": 0,
            "ticks": ""
           }
          },
          "colorscale": {
           "diverging": [
            [
             0,
             "#8e0152"
            ],
            [
             0.1,
             "#c51b7d"
            ],
            [
             0.2,
             "#de77ae"
            ],
            [
             0.3,
             "#f1b6da"
            ],
            [
             0.4,
             "#fde0ef"
            ],
            [
             0.5,
             "#f7f7f7"
            ],
            [
             0.6,
             "#e6f5d0"
            ],
            [
             0.7,
             "#b8e186"
            ],
            [
             0.8,
             "#7fbc41"
            ],
            [
             0.9,
             "#4d9221"
            ],
            [
             1,
             "#276419"
            ]
           ],
           "sequential": [
            [
             0,
             "#0d0887"
            ],
            [
             0.1111111111111111,
             "#46039f"
            ],
            [
             0.2222222222222222,
             "#7201a8"
            ],
            [
             0.3333333333333333,
             "#9c179e"
            ],
            [
             0.4444444444444444,
             "#bd3786"
            ],
            [
             0.5555555555555556,
             "#d8576b"
            ],
            [
             0.6666666666666666,
             "#ed7953"
            ],
            [
             0.7777777777777778,
             "#fb9f3a"
            ],
            [
             0.8888888888888888,
             "#fdca26"
            ],
            [
             1,
             "#f0f921"
            ]
           ],
           "sequentialminus": [
            [
             0,
             "#0d0887"
            ],
            [
             0.1111111111111111,
             "#46039f"
            ],
            [
             0.2222222222222222,
             "#7201a8"
            ],
            [
             0.3333333333333333,
             "#9c179e"
            ],
            [
             0.4444444444444444,
             "#bd3786"
            ],
            [
             0.5555555555555556,
             "#d8576b"
            ],
            [
             0.6666666666666666,
             "#ed7953"
            ],
            [
             0.7777777777777778,
             "#fb9f3a"
            ],
            [
             0.8888888888888888,
             "#fdca26"
            ],
            [
             1,
             "#f0f921"
            ]
           ]
          },
          "colorway": [
           "#636efa",
           "#EF553B",
           "#00cc96",
           "#ab63fa",
           "#FFA15A",
           "#19d3f3",
           "#FF6692",
           "#B6E880",
           "#FF97FF",
           "#FECB52"
          ],
          "font": {
           "color": "#2a3f5f"
          },
          "geo": {
           "bgcolor": "white",
           "lakecolor": "white",
           "landcolor": "#E5ECF6",
           "showlakes": true,
           "showland": true,
           "subunitcolor": "white"
          },
          "hoverlabel": {
           "align": "left"
          },
          "hovermode": "closest",
          "mapbox": {
           "style": "light"
          },
          "paper_bgcolor": "white",
          "plot_bgcolor": "#E5ECF6",
          "polar": {
           "angularaxis": {
            "gridcolor": "white",
            "linecolor": "white",
            "ticks": ""
           },
           "bgcolor": "#E5ECF6",
           "radialaxis": {
            "gridcolor": "white",
            "linecolor": "white",
            "ticks": ""
           }
          },
          "scene": {
           "xaxis": {
            "backgroundcolor": "#E5ECF6",
            "gridcolor": "white",
            "gridwidth": 2,
            "linecolor": "white",
            "showbackground": true,
            "ticks": "",
            "zerolinecolor": "white"
           },
           "yaxis": {
            "backgroundcolor": "#E5ECF6",
            "gridcolor": "white",
            "gridwidth": 2,
            "linecolor": "white",
            "showbackground": true,
            "ticks": "",
            "zerolinecolor": "white"
           },
           "zaxis": {
            "backgroundcolor": "#E5ECF6",
            "gridcolor": "white",
            "gridwidth": 2,
            "linecolor": "white",
            "showbackground": true,
            "ticks": "",
            "zerolinecolor": "white"
           }
          },
          "shapedefaults": {
           "line": {
            "color": "#2a3f5f"
           }
          },
          "ternary": {
           "aaxis": {
            "gridcolor": "white",
            "linecolor": "white",
            "ticks": ""
           },
           "baxis": {
            "gridcolor": "white",
            "linecolor": "white",
            "ticks": ""
           },
           "bgcolor": "#E5ECF6",
           "caxis": {
            "gridcolor": "white",
            "linecolor": "white",
            "ticks": ""
           }
          },
          "title": {
           "x": 0.05
          },
          "xaxis": {
           "automargin": true,
           "gridcolor": "white",
           "linecolor": "white",
           "ticks": "",
           "title": {
            "standoff": 15
           },
           "zerolinecolor": "white",
           "zerolinewidth": 2
          },
          "yaxis": {
           "automargin": true,
           "gridcolor": "white",
           "linecolor": "white",
           "ticks": "",
           "title": {
            "standoff": 15
           },
           "zerolinecolor": "white",
           "zerolinewidth": 2
          }
         }
        },
        "title": {
         "text": "first plot"
        },
        "xaxis": {
         "title": {
          "text": "xaxis"
         }
        },
        "yaxis": {
         "title": {
          "text": "Yaxis"
         }
        }
       }
      },
      "text/html": [
       "<div>\n",
       "        \n",
       "        \n",
       "            <div id=\"7560b743-cc2d-4ae3-91eb-5d782669659c\" class=\"plotly-graph-div\" style=\"height:525px; width:100%;\"></div>\n",
       "            <script type=\"text/javascript\">\n",
       "                require([\"plotly\"], function(Plotly) {\n",
       "                    window.PLOTLYENV=window.PLOTLYENV || {};\n",
       "                    \n",
       "                if (document.getElementById(\"7560b743-cc2d-4ae3-91eb-5d782669659c\")) {\n",
       "                    Plotly.newPlot(\n",
       "                        '7560b743-cc2d-4ae3-91eb-5d782669659c',\n",
       "                        [{\"type\": \"heatmap\", \"x\": [1.246694736529587, -2.1698776870408585, -1.7534694162506628, -0.5449222349589087, 0.9718226901727355, -0.03095825063657335, -0.3357150728865708, 1.3460442074647172, 2.155239538433073, 0.6722572844137722, -0.6228545031012834, -0.4181430340092719, -1.2884473797573248, 0.10081742225405217, -1.6295929859763272, 0.5518636553095008, 2.0055740456399533, 0.7175915797930499, -0.4691477201949346, 0.5269374126317904, 1.620533445165877, 1.5704946352611389, -1.0037578915633707, 0.5102963895823233, -0.1581014900701986, 0.8065932479136867, 0.38361395381677077, -2.3697214094844474, -0.34801308629683886, 0.1985583628962918, -1.4343649671588456, 0.5810220098659856, -1.5240152417270303, -0.7984390474170536, 1.3413119197001346, -0.8837777888642685, 0.5739669592016755, -1.753573717908687, 2.0813146567651417, -0.30455363848725747, 0.09532080694771912, 0.17903679654896512, 0.6075668643313585, -1.519179982986177, -0.005336470836663279, -0.6587688257813566, -1.68955722607827, 0.9871222001287102, -0.3521729835995906, 0.24252042561251944], \"y\": [0.1798454187280591, -0.3348522723761133, 1.9750273536307812, -0.04726465262900927, -1.5579523176766679, -0.40038136018331794, 0.49973762011211026, 0.532595109370551, -1.0877809352617618, 0.9294825073447697, -1.7628669288710401, 1.1441352026164182, -1.3193478891374055, -0.22624521900867614, 1.0645686780266999, 0.11960566888706947, 0.8166985177135699, 0.6186619597099322, 1.286268613404601, 1.0622098509137117, -0.4537443085364418, 0.6329416337934651, -1.5265518616977465, -0.057904907337784896, 0.8184847346385397, 0.13384765424599987, 0.4466397315170858, -0.21327237596579143, 1.1290694375351427, -0.08041577370899264, -0.46545018240405345, 0.8865174125690543, -1.40515992236446, 0.501033343517345, -1.0424848742271386, 1.2779268292381651, -0.26102725324679543, 0.13498472081968857, 0.4125703966441225, -1.9296845963141573, -0.6505848415568568, 1.0435459092865536, 0.8677650241708884, 0.28303220539521634, -1.3494635714255234, 0.5855034608585792, 0.7133995902054457, 0.04701721312374508, 1.2231709505914572, -0.683431790130123, -0.5098575774999748, -2.4846115790858145, 0.9198275101476635, 0.31386196347013423, -1.681820325133229, -1.7585989999941474, -0.8726306273710107, 0.7936579419803536, -0.3003604880886286, -0.8047869166603249, -1.006115893083496, -1.050911957828187, -1.9336783011075602, -1.2073958316463744, -1.0705780796771673, 0.6826232364571462, -0.1657230531466151, -0.8255848430174609, 2.3097227554061868, -0.6638969135466657, 1.167102914383636, 1.6211085577877153, -1.569960337657343, 0.07396296407356806, -0.5175336509082241, -0.5989243965593357, 0.5553768168069081, -0.6228704964232837, -0.49596904632647065, -0.16811489562529364, -0.3733992683765694, -1.1735702070121252, 0.795906504847474, 1.0485309385076005, 0.34361858953521734, -0.3765526510222658, -0.7052107363297812, -0.7036200629264463, 2.3573763650327084, 0.937838301566644, -0.8401100785833383, 0.16469782743714056, -0.36253502509936236, 0.5838003761562907, 0.5434991027893419, 1.083609653905471, -0.8505564586621955, 0.10473529863813051, -1.7485469849575264, -1.2573403004288446], \"z\": [0.8841008365591795, -0.950683791405327, -0.840908798047855, -0.008278074550049355, 0.6947610308465396, -1.0608267958340962, -3.480808828760084, -0.8702232421435117, 1.2056280779528372, 0.3431350510168737, 1.3238748037872132, -1.1318161421326958, -1.6393962676640563, 0.4625485526475405, 0.2400227376850462, 0.30555432037725844, 0.932996642650568, 0.42168492391225987, 0.4056175931403788, 0.7150070138011407, 0.5024166321870274, 0.8574459317174058, 1.0085208247785817, 1.531688801240915, -0.6491913249036794, 0.48056210741074734, -0.3703233685972966, -0.8335589872792668, -0.6895403210803661, 0.49495551756152545, 0.4182525547860004, 0.4004120292384369, -0.22571364756933313, 0.003414751178410458, 0.8177526958760498, -1.4893930596493061, 0.02464209842858423, 0.08995614812678975, 0.7533042690776492, -1.350248411942825, 1.4951337455174116, 0.2136304244285101, 0.26658054669493636, -0.40137975733222647, 0.5380223547968438, 0.04795405028310565, 1.2089819441064658, -1.4414942480636153, 0.17554582989050802, 0.40851234837742617]}],\n",
       "                        {\"hovermode\": \"closest\", \"template\": {\"data\": {\"bar\": [{\"error_x\": {\"color\": \"#2a3f5f\"}, \"error_y\": {\"color\": \"#2a3f5f\"}, \"marker\": {\"line\": {\"color\": \"#E5ECF6\", \"width\": 0.5}}, \"type\": \"bar\"}], \"barpolar\": [{\"marker\": {\"line\": {\"color\": \"#E5ECF6\", \"width\": 0.5}}, \"type\": \"barpolar\"}], \"carpet\": [{\"aaxis\": {\"endlinecolor\": \"#2a3f5f\", \"gridcolor\": \"white\", \"linecolor\": \"white\", \"minorgridcolor\": \"white\", \"startlinecolor\": \"#2a3f5f\"}, \"baxis\": {\"endlinecolor\": \"#2a3f5f\", \"gridcolor\": \"white\", \"linecolor\": \"white\", \"minorgridcolor\": \"white\", \"startlinecolor\": \"#2a3f5f\"}, \"type\": \"carpet\"}], \"choropleth\": [{\"colorbar\": {\"outlinewidth\": 0, \"ticks\": \"\"}, \"type\": \"choropleth\"}], \"contour\": [{\"colorbar\": {\"outlinewidth\": 0, \"ticks\": \"\"}, \"colorscale\": [[0.0, \"#0d0887\"], [0.1111111111111111, \"#46039f\"], [0.2222222222222222, \"#7201a8\"], [0.3333333333333333, \"#9c179e\"], [0.4444444444444444, \"#bd3786\"], [0.5555555555555556, \"#d8576b\"], [0.6666666666666666, \"#ed7953\"], [0.7777777777777778, \"#fb9f3a\"], [0.8888888888888888, \"#fdca26\"], [1.0, \"#f0f921\"]], \"type\": \"contour\"}], \"contourcarpet\": [{\"colorbar\": {\"outlinewidth\": 0, \"ticks\": \"\"}, \"type\": \"contourcarpet\"}], \"heatmap\": [{\"colorbar\": {\"outlinewidth\": 0, \"ticks\": \"\"}, \"colorscale\": [[0.0, \"#0d0887\"], [0.1111111111111111, \"#46039f\"], [0.2222222222222222, \"#7201a8\"], [0.3333333333333333, \"#9c179e\"], [0.4444444444444444, \"#bd3786\"], [0.5555555555555556, \"#d8576b\"], [0.6666666666666666, \"#ed7953\"], [0.7777777777777778, \"#fb9f3a\"], [0.8888888888888888, \"#fdca26\"], [1.0, \"#f0f921\"]], \"type\": \"heatmap\"}], \"heatmapgl\": [{\"colorbar\": {\"outlinewidth\": 0, \"ticks\": \"\"}, \"colorscale\": [[0.0, \"#0d0887\"], [0.1111111111111111, \"#46039f\"], [0.2222222222222222, \"#7201a8\"], [0.3333333333333333, \"#9c179e\"], [0.4444444444444444, \"#bd3786\"], [0.5555555555555556, \"#d8576b\"], [0.6666666666666666, \"#ed7953\"], [0.7777777777777778, \"#fb9f3a\"], [0.8888888888888888, \"#fdca26\"], [1.0, \"#f0f921\"]], \"type\": \"heatmapgl\"}], \"histogram\": [{\"marker\": {\"colorbar\": {\"outlinewidth\": 0, \"ticks\": \"\"}}, \"type\": \"histogram\"}], \"histogram2d\": [{\"colorbar\": {\"outlinewidth\": 0, \"ticks\": \"\"}, \"colorscale\": [[0.0, \"#0d0887\"], [0.1111111111111111, \"#46039f\"], [0.2222222222222222, \"#7201a8\"], [0.3333333333333333, \"#9c179e\"], [0.4444444444444444, \"#bd3786\"], [0.5555555555555556, \"#d8576b\"], [0.6666666666666666, \"#ed7953\"], [0.7777777777777778, \"#fb9f3a\"], [0.8888888888888888, \"#fdca26\"], [1.0, \"#f0f921\"]], \"type\": \"histogram2d\"}], \"histogram2dcontour\": [{\"colorbar\": {\"outlinewidth\": 0, \"ticks\": \"\"}, \"colorscale\": [[0.0, \"#0d0887\"], [0.1111111111111111, \"#46039f\"], [0.2222222222222222, \"#7201a8\"], [0.3333333333333333, \"#9c179e\"], [0.4444444444444444, \"#bd3786\"], [0.5555555555555556, \"#d8576b\"], [0.6666666666666666, \"#ed7953\"], [0.7777777777777778, \"#fb9f3a\"], [0.8888888888888888, \"#fdca26\"], [1.0, \"#f0f921\"]], \"type\": \"histogram2dcontour\"}], \"mesh3d\": [{\"colorbar\": {\"outlinewidth\": 0, \"ticks\": \"\"}, \"type\": \"mesh3d\"}], \"parcoords\": [{\"line\": {\"colorbar\": {\"outlinewidth\": 0, \"ticks\": \"\"}}, \"type\": \"parcoords\"}], \"pie\": [{\"automargin\": true, \"type\": \"pie\"}], \"scatter\": [{\"marker\": {\"colorbar\": {\"outlinewidth\": 0, \"ticks\": \"\"}}, \"type\": \"scatter\"}], \"scatter3d\": [{\"line\": {\"colorbar\": {\"outlinewidth\": 0, \"ticks\": \"\"}}, \"marker\": {\"colorbar\": {\"outlinewidth\": 0, \"ticks\": \"\"}}, \"type\": \"scatter3d\"}], \"scattercarpet\": [{\"marker\": {\"colorbar\": {\"outlinewidth\": 0, \"ticks\": \"\"}}, \"type\": \"scattercarpet\"}], \"scattergeo\": [{\"marker\": {\"colorbar\": {\"outlinewidth\": 0, \"ticks\": \"\"}}, \"type\": \"scattergeo\"}], \"scattergl\": [{\"marker\": {\"colorbar\": {\"outlinewidth\": 0, \"ticks\": \"\"}}, \"type\": \"scattergl\"}], \"scattermapbox\": [{\"marker\": {\"colorbar\": {\"outlinewidth\": 0, \"ticks\": \"\"}}, \"type\": \"scattermapbox\"}], \"scatterpolar\": [{\"marker\": {\"colorbar\": {\"outlinewidth\": 0, \"ticks\": \"\"}}, \"type\": \"scatterpolar\"}], \"scatterpolargl\": [{\"marker\": {\"colorbar\": {\"outlinewidth\": 0, \"ticks\": \"\"}}, \"type\": \"scatterpolargl\"}], \"scatterternary\": [{\"marker\": {\"colorbar\": {\"outlinewidth\": 0, \"ticks\": \"\"}}, \"type\": \"scatterternary\"}], \"surface\": [{\"colorbar\": {\"outlinewidth\": 0, \"ticks\": \"\"}, \"colorscale\": [[0.0, \"#0d0887\"], [0.1111111111111111, \"#46039f\"], [0.2222222222222222, \"#7201a8\"], [0.3333333333333333, \"#9c179e\"], [0.4444444444444444, \"#bd3786\"], [0.5555555555555556, \"#d8576b\"], [0.6666666666666666, \"#ed7953\"], [0.7777777777777778, \"#fb9f3a\"], [0.8888888888888888, \"#fdca26\"], [1.0, \"#f0f921\"]], \"type\": \"surface\"}], \"table\": [{\"cells\": {\"fill\": {\"color\": \"#EBF0F8\"}, \"line\": {\"color\": \"white\"}}, \"header\": {\"fill\": {\"color\": \"#C8D4E3\"}, \"line\": {\"color\": \"white\"}}, \"type\": \"table\"}]}, \"layout\": {\"annotationdefaults\": {\"arrowcolor\": \"#2a3f5f\", \"arrowhead\": 0, \"arrowwidth\": 1}, \"coloraxis\": {\"colorbar\": {\"outlinewidth\": 0, \"ticks\": \"\"}}, \"colorscale\": {\"diverging\": [[0, \"#8e0152\"], [0.1, \"#c51b7d\"], [0.2, \"#de77ae\"], [0.3, \"#f1b6da\"], [0.4, \"#fde0ef\"], [0.5, \"#f7f7f7\"], [0.6, \"#e6f5d0\"], [0.7, \"#b8e186\"], [0.8, \"#7fbc41\"], [0.9, \"#4d9221\"], [1, \"#276419\"]], \"sequential\": [[0.0, \"#0d0887\"], [0.1111111111111111, \"#46039f\"], [0.2222222222222222, \"#7201a8\"], [0.3333333333333333, \"#9c179e\"], [0.4444444444444444, \"#bd3786\"], [0.5555555555555556, \"#d8576b\"], [0.6666666666666666, \"#ed7953\"], [0.7777777777777778, \"#fb9f3a\"], [0.8888888888888888, \"#fdca26\"], [1.0, \"#f0f921\"]], \"sequentialminus\": [[0.0, \"#0d0887\"], [0.1111111111111111, \"#46039f\"], [0.2222222222222222, \"#7201a8\"], [0.3333333333333333, \"#9c179e\"], [0.4444444444444444, \"#bd3786\"], [0.5555555555555556, \"#d8576b\"], [0.6666666666666666, \"#ed7953\"], [0.7777777777777778, \"#fb9f3a\"], [0.8888888888888888, \"#fdca26\"], [1.0, \"#f0f921\"]]}, \"colorway\": [\"#636efa\", \"#EF553B\", \"#00cc96\", \"#ab63fa\", \"#FFA15A\", \"#19d3f3\", \"#FF6692\", \"#B6E880\", \"#FF97FF\", \"#FECB52\"], \"font\": {\"color\": \"#2a3f5f\"}, \"geo\": {\"bgcolor\": \"white\", \"lakecolor\": \"white\", \"landcolor\": \"#E5ECF6\", \"showlakes\": true, \"showland\": true, \"subunitcolor\": \"white\"}, \"hoverlabel\": {\"align\": \"left\"}, \"hovermode\": \"closest\", \"mapbox\": {\"style\": \"light\"}, \"paper_bgcolor\": \"white\", \"plot_bgcolor\": \"#E5ECF6\", \"polar\": {\"angularaxis\": {\"gridcolor\": \"white\", \"linecolor\": \"white\", \"ticks\": \"\"}, \"bgcolor\": \"#E5ECF6\", \"radialaxis\": {\"gridcolor\": \"white\", \"linecolor\": \"white\", \"ticks\": \"\"}}, \"scene\": {\"xaxis\": {\"backgroundcolor\": \"#E5ECF6\", \"gridcolor\": \"white\", \"gridwidth\": 2, \"linecolor\": \"white\", \"showbackground\": true, \"ticks\": \"\", \"zerolinecolor\": \"white\"}, \"yaxis\": {\"backgroundcolor\": \"#E5ECF6\", \"gridcolor\": \"white\", \"gridwidth\": 2, \"linecolor\": \"white\", \"showbackground\": true, \"ticks\": \"\", \"zerolinecolor\": \"white\"}, \"zaxis\": {\"backgroundcolor\": \"#E5ECF6\", \"gridcolor\": \"white\", \"gridwidth\": 2, \"linecolor\": \"white\", \"showbackground\": true, \"ticks\": \"\", \"zerolinecolor\": \"white\"}}, \"shapedefaults\": {\"line\": {\"color\": \"#2a3f5f\"}}, \"ternary\": {\"aaxis\": {\"gridcolor\": \"white\", \"linecolor\": \"white\", \"ticks\": \"\"}, \"baxis\": {\"gridcolor\": \"white\", \"linecolor\": \"white\", \"ticks\": \"\"}, \"bgcolor\": \"#E5ECF6\", \"caxis\": {\"gridcolor\": \"white\", \"linecolor\": \"white\", \"ticks\": \"\"}}, \"title\": {\"x\": 0.05}, \"xaxis\": {\"automargin\": true, \"gridcolor\": \"white\", \"linecolor\": \"white\", \"ticks\": \"\", \"title\": {\"standoff\": 15}, \"zerolinecolor\": \"white\", \"zerolinewidth\": 2}, \"yaxis\": {\"automargin\": true, \"gridcolor\": \"white\", \"linecolor\": \"white\", \"ticks\": \"\", \"title\": {\"standoff\": 15}, \"zerolinecolor\": \"white\", \"zerolinewidth\": 2}}}, \"title\": {\"text\": \"first plot\"}, \"xaxis\": {\"title\": {\"text\": \"xaxis\"}}, \"yaxis\": {\"title\": {\"text\": \"Yaxis\"}}},\n",
       "                        {\"responsive\": true}\n",
       "                    ).then(function(){\n",
       "                            \n",
       "var gd = document.getElementById('7560b743-cc2d-4ae3-91eb-5d782669659c');\n",
       "var x = new MutationObserver(function (mutations, observer) {{\n",
       "        var display = window.getComputedStyle(gd).display;\n",
       "        if (!display || display === 'none') {{\n",
       "            console.log([gd, 'removed!']);\n",
       "            Plotly.purge(gd);\n",
       "            observer.disconnect();\n",
       "        }}\n",
       "}});\n",
       "\n",
       "// Listen for the removal of the full notebook cells\n",
       "var notebookContainer = gd.closest('#notebook-container');\n",
       "if (notebookContainer) {{\n",
       "    x.observe(notebookContainer, {childList: true});\n",
       "}}\n",
       "\n",
       "// Listen for the clearing of the current output cell\n",
       "var outputEl = gd.closest('.output');\n",
       "if (outputEl) {{\n",
       "    x.observe(outputEl, {childList: true});\n",
       "}}\n",
       "\n",
       "                        })\n",
       "                };\n",
       "                });\n",
       "            </script>\n",
       "        </div>"
      ]
     },
     "metadata": {},
     "output_type": "display_data"
    }
   ],
   "source": [
    "x1 = np.random.randn(50)\n",
    "x2 = np.random.randn(100)\n",
    "x3 = np.random.randn(50)\n",
    "\n",
    "data = [go.Heatmap(x=x1,y=x2,z=x3.tolist())]\n",
    "\n",
    "fig= go.Figure(data=data,layout=layout)\n",
    "fig"
   ]
  },
  {
   "cell_type": "markdown",
   "metadata": {},
   "source": [
    "# Dashboard - 1"
   ]
  },
  {
   "cell_type": "code",
   "execution_count": null,
   "metadata": {},
   "outputs": [],
   "source": [
    "import dash\n",
    "import dash_core_components as dcc\n",
    "import dash_html_components as html\n",
    "\n",
    "app= dash.Dash()\n",
    "\n",
    "colors = {'background':'#111111','text':'#7FDBFF'}\n",
    "\n",
    "app.layout= html.Div(children=[\n",
    "                    html.H1('Hello Dash!',style={'textAlign':'center',\n",
    "                                                 'color':colors['text']}),\n",
    "                    html.Div('Dash: Web Dashboards with Python'),\n",
    "                    dcc.Graph(id='example',\n",
    "                          figure={'data':[\n",
    "                            {'x':[1,2,3],'y':[4,1,2],'type':'bar','name':'SF'},\n",
    "                            {'x':[1,2,3],'y':[2,4,5],'type':'bar','name':'NYC'}\n",
    "                            ],\n",
    "                                'layout':{\n",
    "                                'plot_bgcolor':colors['background'],\n",
    "                                'paper_bgcolor':colors['background'],\n",
    "                                'font':{'color':colors['text']},\n",
    "                                'title':'BAR PLOTS!'\n",
    "                                }})\n",
    "], style={'backgroundColor':colors['background']}\n",
    "\n",
    "\n",
    ")\n",
    "\n",
    "\n",
    "if __name__ == '__main__':\n",
    "        app.run_server()\n"
   ]
  },
  {
   "cell_type": "markdown",
   "metadata": {},
   "source": [
    "# Dashboard2 - Scatter Plot"
   ]
  },
  {
   "cell_type": "code",
   "execution_count": null,
   "metadata": {},
   "outputs": [],
   "source": [
    "import dash\n",
    "import dash_core_components as dcc\n",
    "import dash_html_components as html\n",
    "import plotly.graph_objs as go\n",
    "import numpy as np\n",
    "\n",
    "app = dash.Dash()\n",
    "\n",
    "np.random.seed(42)\n",
    "random_x= np.random.randint(1,101,100)\n",
    "random_y= np.random.randint(1,101,100)\n",
    "\n",
    "app.layout = html.Div([dcc.Graph(id='scatterplot',\n",
    "                            figure= {'data':[\n",
    "                                    go.Scatter(\n",
    "                                        x=random_x,\n",
    "                                        y=random_y,\n",
    "                                        mode='markers',\n",
    "                                        marker={\n",
    "                                                'size':12,\n",
    "                                                'color':'rgb(51,204,153)',\n",
    "                                                'symbol':'pentagon',\n",
    "                                                'line':{'width':2}\n",
    "\n",
    "\n",
    "                                        }\n",
    "\n",
    "                                    )],\n",
    "                                    'layout': go.Layout(title='My Scatterplot',\n",
    "                                                        xaxis={'title':'Some X title'})\n",
    "\n",
    "                            }\n",
    "\n",
    "\n",
    "\n",
    "\n",
    "),\n",
    "\n",
    "dcc.Graph(id='scatterplot2',\n",
    "                            figure= {'data':[\n",
    "                                    go.Scatter(\n",
    "                                        x=random_x,\n",
    "                                        y=random_y,\n",
    "                                        mode='markers',\n",
    "                                        marker={\n",
    "                                                'size':12,\n",
    "                                                'color':'rgb(51,204,153)',\n",
    "                                                'symbol':'pentagon',\n",
    "                                                'line':{'width':2}\n",
    "\n",
    "\n",
    "                                        }\n",
    "\n",
    "                                    )],\n",
    "                                    'layout': go.Layout(title='My Scatterplot',\n",
    "                                                        xaxis={'title':'Some X title'})\n",
    "\n",
    "                            }\n",
    "\n",
    "\n",
    "\n",
    "\n",
    ")\n",
    "\n",
    "\n",
    "],\n",
    "\n",
    "\n",
    "\n",
    "\n",
    "\n",
    ")\n",
    "\n",
    "if __name__ == '__main__':\n",
    "\tapp.run_server()"
   ]
  },
  {
   "cell_type": "markdown",
   "metadata": {},
   "source": [
    "# Dashboard-3 Nested Div"
   ]
  },
  {
   "cell_type": "code",
   "execution_count": null,
   "metadata": {},
   "outputs": [],
   "source": [
    "import dash\n",
    "import dash_html_components as html\n",
    "\n",
    "app = dash.Dash()\n",
    "\n",
    "app.layout = html.Div(['This is outermost div!',\n",
    "                            html.Div(['This is an inner div!'],\n",
    "                            style={'color':'red','border':'2px red solid'}),\n",
    "                            html.Div(['Another inner div'],\n",
    "                            style={'color':'blue','border':'3px blue solid'})],\n",
    "                            style={'color':'green','border':'2px green solid'})\n",
    "\n",
    "if __name__ == '__main__':\n",
    "        app.run_server()"
   ]
  },
  {
   "cell_type": "markdown",
   "metadata": {},
   "source": [
    "# Dashboard - 3 Components"
   ]
  },
  {
   "cell_type": "code",
   "execution_count": null,
   "metadata": {},
   "outputs": [],
   "source": [
    "import dash\n",
    "import dash_core_components as dcc \n",
    "import dash_html_components as html \n",
    "\n",
    "\n",
    "app = dash.Dash()\n",
    "\n",
    "app.layout = html.Div([\n",
    "\n",
    "                html.Label('Dropdown'),\n",
    "                dcc.Dropdown(options=[{'label':'New York City',\n",
    "                                        'value':'NYC'},\n",
    "                                        {'label':'San Francisco',\n",
    "                                         'value':'SF'}],\n",
    "                                         value='SF'),\n",
    "\n",
    "                html.Label('Slider'),\n",
    "                dcc.Slider(min=-10,max=10,step=0.5,value=0, marks={i: i for i in range(-10,10)}),\n",
    "\n",
    "                html.Label('Some Radio Items'),\n",
    "                dcc.RadioItems(options=[{'label':'New York City',\n",
    "                                        'value':'NYC'},\n",
    "                                        {'label':'San Francisco',\n",
    "                                         'value':'SF'}],\n",
    "                                         value='SF')\n",
    "                ])\n",
    "\n",
    "\n",
    "if __name__ == '__main__':\n",
    "        app.run_server()"
   ]
  },
  {
   "cell_type": "markdown",
   "metadata": {},
   "source": [
    "# Dashboard - Input and output"
   ]
  },
  {
   "cell_type": "code",
   "execution_count": null,
   "metadata": {},
   "outputs": [],
   "source": [
    "import dash\n",
    "import dash_core_components as dcc \n",
    "import dash_html_components as html \n",
    "from dash.dependencies import Input, Output\n",
    "\n",
    "\n",
    "app = dash.Dash()\n",
    "\n",
    "app.layout = html.Div([\n",
    "\n",
    "                        dcc.Input(id='my-id',value='Initial Text', type='text'),\n",
    "                        html.Div(id='my-div')\n",
    "\n",
    "\n",
    "])\n",
    "\n",
    "@app.callback(Output(component_id='my-div',component_property='children'),\n",
    "                [Input(component_id='my-id',component_property='value')])\n",
    "\n",
    "def update_output_div(input_value):\n",
    "        return \"You entered: {}\".format(input_value)\n",
    "\n",
    "if __name__ == '__main__':\n",
    "    app.run_server()"
   ]
  },
  {
   "cell_type": "markdown",
   "metadata": {},
   "source": [
    "# Graphs Input (Call back for Graphs)"
   ]
  },
  {
   "cell_type": "code",
   "execution_count": null,
   "metadata": {},
   "outputs": [],
   "source": [
    "import dash\n",
    "import dash_core_components as dcc\n",
    "import dash_html_components as html\n",
    "from dash.dependencies import Input, Output\n",
    "import pandas as pd\n",
    "\n",
    "df = pd.read_csv(\"MOCK_DATA1.csv\")\n",
    "\n",
    "app = dash.Dash()\n",
    "\n",
    "year_options=[]\n",
    "for year in df['year'].unique():\n",
    "        year_options.append({'label':str(year),'value':year})\n",
    "\n",
    "\n",
    "app.layout = html.Div([\n",
    "\n",
    "                        dcc.Graph(id='graph'),\n",
    "                        dcc.Dropdown(\n",
    "                                        id='year-picker',options=year_options,\n",
    "                                        value=df['year'].min())\n",
    "\n",
    "\n",
    "])\n",
    "\n",
    "\n",
    "\n",
    "\n",
    "@app.callback(Output('graph','figure'),\n",
    "                [Input('year-picker','value')])\n",
    "\n",
    "def update_figure(selected_year):\n",
    "        filtered_df = df[df['year']==selected_year]\n",
    "        traces = []\n",
    "\n",
    "        for country_name in filtered_df['country'].unique():\n",
    "                df_by_count = filtered_df[filtered_df[\"country\"]==country_name]\n",
    "                traces.append(go.Scatter(\n",
    "                        x= df_by_count['gdppercap'],\n",
    "                        y= df_by_count['lifeexp'],\n",
    "                        mode='markers',\n",
    "                        name=id_name\n",
    "                ))\n",
    "        return {'data':traces,layout:go.Layout(\n",
    "                                                title='My Plot',\n",
    "                                                xaxis={'title':'GPD Per Capita','type':'log'},\n",
    "                                                yaxis={'title':'Life Expectancy'}\n",
    "                                                )}\n",
    "\n",
    "if __name__ == '__main__':\n",
    "    app.run_server(debug=False)"
   ]
  },
  {
   "cell_type": "markdown",
   "metadata": {},
   "source": [
    "# Dashboard Input and Output with State"
   ]
  },
  {
   "cell_type": "code",
   "execution_count": null,
   "metadata": {},
   "outputs": [],
   "source": [
    "import dash\n",
    "import dash_core_components as dcc \n",
    "import dash_html_components as html \n",
    "from dash.dependencies import Input, Output,State\n",
    "\n",
    "\n",
    "app = dash.Dash()\n",
    "\n",
    "app.layout = html.Div([\n",
    "\n",
    "                        dcc.Input(id='number-in',value=1, style={'fontsize':24}),\n",
    "                        html.Button(id='submit-button',\n",
    "                                    n_clicks=0,\n",
    "                                    children='Submit Here',\n",
    "                                    style={'fontsize':24}),\n",
    "                        html.H1(id='number-out')\n",
    "\n",
    "\n",
    "])\n",
    "\n",
    "@app.callback(Output('number-out','children'),\n",
    "                [Input('submit-button','n_clicks')],\n",
    "                 [State('number-in','value')])\n",
    "\n",
    "def output(n_clicks,number):\n",
    "        return \"{} was typed in and button was pressed {} times\".format(number,n_clicks)\n",
    "\n",
    "if __name__ == '__main__':\n",
    "    app.run_server()"
   ]
  },
  {
   "cell_type": "markdown",
   "metadata": {},
   "source": [
    "# Hover over Plot "
   ]
  },
  {
   "cell_type": "code",
   "execution_count": null,
   "metadata": {},
   "outputs": [],
   "source": [
    "#######\n",
    "# This makes a 3x3 scatterplot of wheels.csv, and sends\n",
    "# the result of hover to the screen as a JSON object.\n",
    "######\n",
    "import dash\n",
    "import dash_core_components as dcc\n",
    "import dash_html_components as html\n",
    "from dash.dependencies import Input, Output\n",
    "import plotly.graph_objs as go\n",
    "import pandas as pd\n",
    "import json\n",
    "\n",
    "app = dash.Dash()\n",
    "\n",
    "df = pd.read_csv('wheels.csv')\n",
    "\n",
    "app.layout = html.Div([\n",
    "    html.Div([\n",
    "    dcc.Graph(\n",
    "        id='wheels-plot',\n",
    "        figure={\n",
    "            'data': [\n",
    "                go.Scatter(\n",
    "                    x = df['color'],\n",
    "                    y = df['wheels'],\n",
    "                    dy = 1,\n",
    "                    mode = 'markers',\n",
    "                    marker = {\n",
    "                        'size': 12,\n",
    "                        'color': 'rgb(51,204,153)',\n",
    "                        'line': {'width': 2}\n",
    "                        }\n",
    "                )\n",
    "            ],\n",
    "            'layout': go.Layout(\n",
    "                title = 'Wheels & Colors Scatterplot',\n",
    "                xaxis = {'title': 'Color'},\n",
    "                yaxis = {'title': '# of Wheels','nticks':3},\n",
    "                hovermode='closest'\n",
    "            )\n",
    "        }\n",
    "    )], style={'width':'30%', 'float':'left'}),\n",
    "\n",
    "    html.Div([\n",
    "    html.Pre(id='hover-data', style={'paddingTop':35})\n",
    "    ], style={'width':'30%'})\n",
    "])\n",
    "\n",
    "@app.callback(\n",
    "    Output('hover-data', 'children'),\n",
    "    [Input('wheels-plot', 'hoverData')])\n",
    "def callback_image(hoverData):\n",
    "    return json.dumps(hoverData, indent=2)\n",
    "\n",
    "if __name__ == '__main__':\n",
    "    app.run_server()"
   ]
  },
  {
   "cell_type": "markdown",
   "metadata": {},
   "source": [
    "# Click Data "
   ]
  },
  {
   "cell_type": "code",
   "execution_count": null,
   "metadata": {},
   "outputs": [],
   "source": [
    "#######\n",
    "# This makes a 3x3 scatterplot of wheels.csv, and sends\n",
    "# the result of hover to the screen as a JSON object.\n",
    "######\n",
    "import dash\n",
    "import dash_core_components as dcc\n",
    "import dash_html_components as html\n",
    "from dash.dependencies import Input, Output\n",
    "import plotly.graph_objs as go\n",
    "import pandas as pd\n",
    "import json\n",
    "\n",
    "app = dash.Dash()\n",
    "\n",
    "df = pd.read_csv('wheels.csv')\n",
    "\n",
    "app.layout = html.Div([\n",
    "    html.Div([\n",
    "    dcc.Graph(\n",
    "        id='wheels-plot',\n",
    "        figure={\n",
    "            'data': [\n",
    "                go.Scatter(\n",
    "                    x = df['color'],\n",
    "                    y = df['wheels'],\n",
    "                    dy = 1,\n",
    "                    mode = 'markers',\n",
    "                    marker = {\n",
    "                        'size': 12,\n",
    "                        'color': 'rgb(51,204,153)',\n",
    "                        'line': {'width': 2}\n",
    "                        }\n",
    "                )\n",
    "            ],\n",
    "            'layout': go.Layout(\n",
    "                title = 'Wheels & Colors Scatterplot',\n",
    "                xaxis = {'title': 'Color'},\n",
    "                yaxis = {'title': '# of Wheels','nticks':3},\n",
    "                hovermode='closest'\n",
    "            )\n",
    "        }\n",
    "    )], style={'width':'30%', 'float':'left'}),\n",
    "\n",
    "    html.Div([\n",
    "    html.Pre(id='hover-data', style={'paddingTop':35})\n",
    "    ], style={'width':'30%'})\n",
    "])\n",
    "\n",
    "@app.callback(\n",
    "    Output('hover-data', 'children'),\n",
    "    [Input('wheels-plot', 'clickData')])\n",
    "def callback_image(hoverData):\n",
    "    return json.dumps(hoverData, indent=2)\n",
    "\n",
    "if __name__ == '__main__':\n",
    "    app.run_server()"
   ]
  },
  {
   "cell_type": "markdown",
   "metadata": {},
   "source": [
    "# Selected Data"
   ]
  },
  {
   "cell_type": "code",
   "execution_count": null,
   "metadata": {},
   "outputs": [],
   "source": [
    "#######\n",
    "# This makes a 3x3 scatterplot of wheels.csv, and sends\n",
    "# the result of hover to the screen as a JSON object.\n",
    "######\n",
    "import dash\n",
    "import dash_core_components as dcc\n",
    "import dash_html_components as html\n",
    "from dash.dependencies import Input, Output\n",
    "import plotly.graph_objs as go\n",
    "import pandas as pd\n",
    "import json\n",
    "\n",
    "app = dash.Dash()\n",
    "\n",
    "df = pd.read_csv('wheels.csv')\n",
    "\n",
    "app.layout = html.Div([\n",
    "    html.Div([\n",
    "    dcc.Graph(\n",
    "        id='wheels-plot',\n",
    "        figure={\n",
    "            'data': [\n",
    "                go.Scatter(\n",
    "                    x = df['color'],\n",
    "                    y = df['wheels'],\n",
    "                    dy = 1,\n",
    "                    mode = 'markers',\n",
    "                    marker = {\n",
    "                        'size': 12,\n",
    "                        'color': 'rgb(51,204,153)',\n",
    "                        'line': {'width': 2}\n",
    "                        }\n",
    "                )\n",
    "            ],\n",
    "            'layout': go.Layout(\n",
    "                title = 'Wheels & Colors Scatterplot',\n",
    "                xaxis = {'title': 'Color'},\n",
    "                yaxis = {'title': '# of Wheels','nticks':3},\n",
    "                hovermode='closest'\n",
    "            )\n",
    "        }\n",
    "    )], style={'width':'30%', 'float':'left'}),\n",
    "\n",
    "    html.Div([\n",
    "    html.Pre(id='hover-data', style={'paddingTop':35})\n",
    "    ], style={'width':'30%'})\n",
    "])\n",
    "\n",
    "@app.callback(\n",
    "    Output('hover-data', 'children'),\n",
    "    [Input('wheels-plot', 'selectedData')])\n",
    "def callback_image(hoverData):\n",
    "    return json.dumps(hoverData, indent=2)\n",
    "\n",
    "if __name__ == '__main__':\n",
    "    app.run_server()"
   ]
  },
  {
   "cell_type": "markdown",
   "metadata": {},
   "source": [
    "# Updating Graphs on Interaction"
   ]
  },
  {
   "cell_type": "code",
   "execution_count": null,
   "metadata": {},
   "outputs": [],
   "source": [
    "#######\n",
    "# This shows the mpg.csv dataset as a spread out scatter plot\n",
    "# that sends hoverData to another graph via callback, and to\n",
    "# a Markdown component through a second callback.\n",
    "######\n",
    "import dash\n",
    "import dash_core_components as dcc\n",
    "import dash_html_components as html\n",
    "from dash.dependencies import Input, Output\n",
    "import plotly.graph_objs as go\n",
    "import pandas as pd\n",
    "from numpy import random\n",
    "\n",
    "app = dash.Dash()\n",
    "\n",
    "df = pd.read_csv('mpg.csv')\n",
    "\n",
    "# Add a random \"jitter\" to model_year to spread out the plot\n",
    "df['year'] = df['model_year'] + random.randint(-4,5,len(df))*0.10\n",
    "\n",
    "app.layout = html.Div([\n",
    "    html.Div([   # this Div contains our scatter plot\n",
    "    dcc.Graph(\n",
    "        id='mpg_scatter',\n",
    "        figure={\n",
    "            'data': [go.Scatter(\n",
    "                x = df['year']+1900,  # our \"jittered\" data\n",
    "                y = df['mpg'],\n",
    "                text = df['name'],\n",
    "                hoverinfo = 'text',\n",
    "                mode = 'markers'\n",
    "            )],\n",
    "            'layout': go.Layout(\n",
    "                title = 'mpg.csv dataset',\n",
    "                xaxis = {'title': 'model year'},\n",
    "                yaxis = {'title': 'miles per gallon'},\n",
    "                hovermode='closest'\n",
    "            )\n",
    "        }\n",
    "    )], style={'width':'50%','display':'inline-block'}),\n",
    "    html.Div([  # this Div contains our output graph and vehicle stats\n",
    "    dcc.Graph(\n",
    "        id='mpg_line',\n",
    "        figure={\n",
    "            'data': [go.Scatter(\n",
    "                x = [0,1],\n",
    "                y = [0,1],\n",
    "                mode = 'lines'\n",
    "            )],\n",
    "            'layout': go.Layout(\n",
    "                title = 'acceleration',\n",
    "                margin = {'l':0}\n",
    "            )\n",
    "        }\n",
    "    ),\n",
    "    dcc.Markdown(\n",
    "        id='mpg_stats'\n",
    "    )\n",
    "    ], style={'width':'20%', 'height':'50%','display':'inline-block'})\n",
    "])\n",
    "\n",
    "@app.callback(\n",
    "    Output('mpg_line', 'figure'),\n",
    "    [Input('mpg_scatter', 'hoverData')])\n",
    "def callback_graph(hoverData):\n",
    "    v_index = hoverData['points'][0]['pointIndex']\n",
    "    fig = {\n",
    "        'data': [go.Scatter(\n",
    "            x = [0,1],\n",
    "            y = [0,60/df.iloc[v_index]['acceleration']],\n",
    "            mode='lines',\n",
    "            line={'width':2*df.iloc[v_index]['cylinders']}\n",
    "        )],\n",
    "        'layout': go.Layout(\n",
    "            title = df.iloc[v_index]['name'],\n",
    "            xaxis = {'visible':False},\n",
    "            yaxis = {'visible':False, 'range':[0,60/df['acceleration'].min()]},\n",
    "            margin = {'l':0},\n",
    "            height = 300\n",
    "        )\n",
    "    }\n",
    "    return fig\n",
    "\n",
    "@app.callback(\n",
    "    Output('mpg_stats', 'children'),\n",
    "    [Input('mpg_scatter', 'hoverData')])\n",
    "def callback_stats(hoverData):\n",
    "    v_index = hoverData['points'][0]['pointIndex']\n",
    "    stats = \"\"\"\n",
    "        {} cylinders\n",
    "        {}cc displacement\n",
    "        0 to 60mph in {} seconds\n",
    "        \"\"\".format(df.iloc[v_index]['cylinders'],\n",
    "            df.iloc[v_index]['displacement'],\n",
    "            df.iloc[v_index]['acceleration'])\n",
    "    return stats\n",
    "\n",
    "if __name__ == '__main__':\n",
    "    app.run_server()"
   ]
  },
  {
   "cell_type": "markdown",
   "metadata": {},
   "source": [
    "# All Components "
   ]
  },
  {
   "cell_type": "code",
   "execution_count": null,
   "metadata": {},
   "outputs": [],
   "source": [
    "#######\n",
    "# First Milestone Project: Develop a Stock Ticker\n",
    "# dashboard that either allows the user to enter\n",
    "# a ticker symbol into an input box, or to select\n",
    "# item(s) from a dropdown list, and uses pandas_datareader\n",
    "# to look up and display stock data on a graph.\n",
    "######\n",
    "\n",
    "# EXPAND STOCK SYMBOL INPUT TO PERMIT MULTIPLE STOCK SELECTION\n",
    "import dash\n",
    "import dash_core_components as dcc\n",
    "import dash_html_components as html\n",
    "from dash.dependencies import Input, Output, State\n",
    "import pandas_datareader.data as web # requires v0.6.0 or later\n",
    "from datetime import datetime\n",
    "import pandas as pd\n",
    "\n",
    "app = dash.Dash()\n",
    "\n",
    "nsdq = pd.read_csv('NASDAQcompanylist.csv')\n",
    "nsdq.set_index('Symbol', inplace=True)\n",
    "options = []\n",
    "for tic in nsdq.index:\n",
    "    options.append({'label':'{} {}'.format(tic,nsdq.loc[tic]['Name']), 'value':tic})\n",
    "\n",
    "app.layout = html.Div([\n",
    "    html.H1('Stock Ticker Dashboard'),\n",
    "    html.Div([\n",
    "        html.H3('Select stock symbols:', style={'paddingRight':'30px'}),\n",
    "        dcc.Dropdown(\n",
    "            id='my_ticker_symbol',\n",
    "            options=options,\n",
    "            value=['TSLA'],\n",
    "            multi=True\n",
    "        )\n",
    "    ], style={'display':'inline-block', 'verticalAlign':'top', 'width':'30%'}),\n",
    "    html.Div([\n",
    "        html.H3('Select start and end dates:'),\n",
    "        dcc.DatePickerRange(\n",
    "            id='my_date_picker',\n",
    "            min_date_allowed=datetime(2015, 1, 1),\n",
    "            max_date_allowed=datetime.today(),\n",
    "            start_date=datetime(2018, 1, 1),\n",
    "            end_date=datetime.today()\n",
    "        )\n",
    "    ], style={'display':'inline-block'}),\n",
    "    html.Div([\n",
    "        html.Button(\n",
    "            id='submit-button',\n",
    "            n_clicks=0,\n",
    "            children='Submit',\n",
    "            style={'fontSize':24, 'marginLeft':'30px'}\n",
    "        ),\n",
    "    ], style={'display':'inline-block'}),\n",
    "    dcc.Graph(\n",
    "        id='my_graph',\n",
    "        figure={\n",
    "            'data': [\n",
    "                {'x': [1,2], 'y': [3,1]}\n",
    "            ]\n",
    "        }\n",
    "    )\n",
    "])\n",
    "@app.callback(\n",
    "    Output('my_graph', 'figure'),\n",
    "    [Input('submit-button', 'n_clicks')],\n",
    "    [State('my_ticker_symbol', 'value'),\n",
    "    State('my_date_picker', 'start_date'),\n",
    "    State('my_date_picker', 'end_date')])\n",
    "def update_graph(n_clicks, stock_ticker, start_date, end_date):\n",
    "    start = datetime.strptime(start_date[:10], '%Y-%m-%d')\n",
    "    end = datetime.strptime(end_date[:10], '%Y-%m-%d')\n",
    "    traces = []\n",
    "    for tic in stock_ticker:\n",
    "        df = web.DataReader(tic,'iex',start,end)\n",
    "        traces.append({'x':df.index, 'y': df.close, 'name':tic})\n",
    "    fig = {\n",
    "        'data': traces,\n",
    "        'layout': {'title':', '.join(stock_ticker)+' Closing Prices'}\n",
    "    }\n",
    "    return fig\n",
    "\n",
    "if __name__ == '__main__':\n",
    "    app.run_server()"
   ]
  },
  {
   "cell_type": "markdown",
   "metadata": {},
   "source": [
    "# Live Updating Basic "
   ]
  },
  {
   "cell_type": "code",
   "execution_count": null,
   "metadata": {},
   "outputs": [],
   "source": [
    "\n",
    "import dash\n",
    "import dash_core_components as dcc\n",
    "import dash_html_components as html\n",
    "from dash.dependencies import Input, Output, State\n",
    "import pandas_datareader.data as web # requires v0.6.0 or later\n",
    "from datetime import datetime\n",
    "import pandas as pd\n",
    "\n",
    "app = dash.Dash()\n",
    "\n",
    "app.layout = html.Div([\n",
    "    html.H1(id='live-update-text'),\n",
    "    dcc.Interval(\n",
    "        id='interval-component',\n",
    "        interval=2000, # 2000 milliseconds = 2 seconds\n",
    "        n_intervals=0\n",
    "    )\n",
    "])\n",
    "\n",
    "@app.callback(Output('live-update-text', 'children'),\n",
    "              [Input('interval-component', 'n_intervals')])\n",
    "def update_layout(n):\n",
    "    return 'Crash free for {} refreshes'.format(n)\n",
    "\n",
    "if __name__ == '__main__':\n",
    "    app.run_server()"
   ]
  },
  {
   "cell_type": "markdown",
   "metadata": {},
   "source": [
    "# Live Updating App "
   ]
  },
  {
   "cell_type": "code",
   "execution_count": null,
   "metadata": {},
   "outputs": [],
   "source": [
    "import dash\n",
    "import dash_core_components as dcc\n",
    "import dash_html_components as html\n",
    "from dash.dependencies import Input, Output\n",
    "import plotly.graph_objs as go\n",
    "import requests\n",
    "\n",
    "app = dash.Dash()\n",
    "\n",
    "app.layout = html.Div([\n",
    "    html.Div([\n",
    "        html.Iframe(src = 'https://www.flightradar24.com', height = 500, width = 1200)\n",
    "    ]),\n",
    "\n",
    "    html.Div([\n",
    "    html.Pre(\n",
    "        id='counter_text',\n",
    "        children='Active flights worldwide:'\n",
    "    ),\n",
    "    dcc.Graph(id='live-update-graph',style={'width':1200}),\n",
    "    dcc.Interval(\n",
    "        id='interval-component',\n",
    "        interval=6000, # 6000 milliseconds = 6 seconds\n",
    "        n_intervals=0\n",
    "    )])\n",
    "])\n",
    "counter_list = []\n",
    "\n",
    "@app.callback(Output('counter_text', 'children'),\n",
    "              [Input('interval-component', 'n_intervals')])\n",
    "def update_layout(n):\n",
    "    url = \"https://data-live.flightradar24.com/zones/fcgi/feed.js?faa=1\\\n",
    "           &mlat=1&flarm=1&adsb=1&gnd=1&air=1&vehicles=1&estimated=1&stats=1\"\n",
    "    # A fake header is necessary to access the site:\n",
    "    res = requests.get(url, headers={'User-Agent': 'Mozilla/5.0'})\n",
    "    data = res.json()\n",
    "    counter = 0\n",
    "    for element in data[\"stats\"][\"total\"]:\n",
    "        counter += data[\"stats\"][\"total\"][element]\n",
    "    counter_list.append(counter)\n",
    "    return 'Active flights worldwide: {}'.format(counter)\n",
    "\n",
    "@app.callback(Output('live-update-graph','figure'),\n",
    "              [Input('interval-component', 'n_intervals')])\n",
    "def update_graph(n):\n",
    "    fig = go.Figure(\n",
    "        data = [go.Scatter(\n",
    "        x = list(range(len(counter_list))),\n",
    "        y = counter_list,\n",
    "        mode='lines+markers'\n",
    "        )])\n",
    "    return fig\n",
    "\n",
    "if __name__ == '__main__':\n",
    "    app.run_server()"
   ]
  },
  {
   "cell_type": "code",
   "execution_count": null,
   "metadata": {},
   "outputs": [],
   "source": [
    "https://data-live.flightradar24.com/zones/fcgi/feed.js?faa=1&mlat=1&flarm=1&adsb=1&gnd=1&air=1&vehicles=1&estimated=1&stats=1"
   ]
  }
 ],
 "metadata": {
  "kernelspec": {
   "display_name": "Python [conda env:datascience] *",
   "language": "python",
   "name": "conda-env-datascience-py"
  },
  "language_info": {
   "codemirror_mode": {
    "name": "ipython",
    "version": 3
   },
   "file_extension": ".py",
   "mimetype": "text/x-python",
   "name": "python",
   "nbconvert_exporter": "python",
   "pygments_lexer": "ipython3",
   "version": "3.6.7"
  }
 },
 "nbformat": 4,
 "nbformat_minor": 2
}
